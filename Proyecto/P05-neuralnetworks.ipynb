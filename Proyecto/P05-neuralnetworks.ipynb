{
 "cells": [
  {
   "cell_type": "markdown",
   "metadata": {},
   "source": [
    "## Red neuronal - MultiLayer Perceptron - MLP\n",
    "\n",
    "[1](https://scikit-learn.org/stable/modules/generated/sklearn.neural_network.MLPClassifier.html#sklearn.neural_network.MLPClassifier)\n",
    "\n"
   ]
  },
  {
   "cell_type": "code",
   "execution_count": 1,
   "metadata": {},
   "outputs": [],
   "source": [
    "# Importar modulos para el tratamiento de los datos y visualizaciones\n",
    "import pandas as pd\n",
    "import numpy as np\n",
    "import seaborn as sns\n",
    "import matplotlib.pyplot as plt\n",
    "import warnings\n",
    "warnings.filterwarnings('ignore')\n"
   ]
  },
  {
   "cell_type": "code",
   "execution_count": 2,
   "metadata": {},
   "outputs": [],
   "source": [
    "# Cargar datos\n",
    "df = pd.read_csv(\"Data/robot_wall_follower/sensor_readings_4.csv\", header=None,\n",
    "                 names=[\"sd_front\", \"sd_left\", \"sd_right\", \"sd_back\", \"target\"])\n"
   ]
  },
  {
   "cell_type": "code",
   "execution_count": 3,
   "metadata": {},
   "outputs": [
    {
     "data": {
      "text/html": [
       "<div>\n",
       "<style scoped>\n",
       "    .dataframe tbody tr th:only-of-type {\n",
       "        vertical-align: middle;\n",
       "    }\n",
       "\n",
       "    .dataframe tbody tr th {\n",
       "        vertical-align: top;\n",
       "    }\n",
       "\n",
       "    .dataframe thead th {\n",
       "        text-align: right;\n",
       "    }\n",
       "</style>\n",
       "<table border=\"1\" class=\"dataframe\">\n",
       "  <thead>\n",
       "    <tr style=\"text-align: right;\">\n",
       "      <th></th>\n",
       "      <th>sd_front</th>\n",
       "      <th>sd_left</th>\n",
       "      <th>sd_right</th>\n",
       "      <th>sd_back</th>\n",
       "      <th>target</th>\n",
       "    </tr>\n",
       "  </thead>\n",
       "  <tbody>\n",
       "    <tr>\n",
       "      <th>0</th>\n",
       "      <td>1.687</td>\n",
       "      <td>0.445</td>\n",
       "      <td>2.332</td>\n",
       "      <td>0.429</td>\n",
       "      <td>Slight-Right-Turn</td>\n",
       "    </tr>\n",
       "    <tr>\n",
       "      <th>1</th>\n",
       "      <td>1.687</td>\n",
       "      <td>0.449</td>\n",
       "      <td>2.332</td>\n",
       "      <td>0.429</td>\n",
       "      <td>Slight-Right-Turn</td>\n",
       "    </tr>\n",
       "    <tr>\n",
       "      <th>2</th>\n",
       "      <td>1.687</td>\n",
       "      <td>0.449</td>\n",
       "      <td>2.334</td>\n",
       "      <td>0.429</td>\n",
       "      <td>Slight-Right-Turn</td>\n",
       "    </tr>\n",
       "    <tr>\n",
       "      <th>3</th>\n",
       "      <td>1.687</td>\n",
       "      <td>0.449</td>\n",
       "      <td>2.334</td>\n",
       "      <td>0.429</td>\n",
       "      <td>Slight-Right-Turn</td>\n",
       "    </tr>\n",
       "    <tr>\n",
       "      <th>4</th>\n",
       "      <td>1.687</td>\n",
       "      <td>0.449</td>\n",
       "      <td>2.334</td>\n",
       "      <td>0.429</td>\n",
       "      <td>Slight-Right-Turn</td>\n",
       "    </tr>\n",
       "  </tbody>\n",
       "</table>\n",
       "</div>"
      ],
      "text/plain": [
       "   sd_front  sd_left  sd_right  sd_back             target\n",
       "0     1.687    0.445     2.332    0.429  Slight-Right-Turn\n",
       "1     1.687    0.449     2.332    0.429  Slight-Right-Turn\n",
       "2     1.687    0.449     2.334    0.429  Slight-Right-Turn\n",
       "3     1.687    0.449     2.334    0.429  Slight-Right-Turn\n",
       "4     1.687    0.449     2.334    0.429  Slight-Right-Turn"
      ]
     },
     "execution_count": 3,
     "metadata": {},
     "output_type": "execute_result"
    }
   ],
   "source": [
    "df.head()"
   ]
  },
  {
   "cell_type": "code",
   "execution_count": 4,
   "metadata": {},
   "outputs": [],
   "source": [
    "# Cargar datos con variables dummy\n",
    "#df=pd.read_csv('Data/robot_wall_follower/wall_robot_01.csv')\n",
    "#df.head()\n"
   ]
  },
  {
   "cell_type": "markdown",
   "metadata": {},
   "source": [
    "# Modelo "
   ]
  },
  {
   "cell_type": "code",
   "execution_count": 5,
   "metadata": {},
   "outputs": [],
   "source": [
    "from sklearn import model_selection\n",
    "from sklearn import metrics\n",
    " #Importar modulo para la creación de MLP\n",
    "from sklearn.neural_network import MLPClassifier\n",
    "#\n",
    "from sklearn.model_selection import train_test_split\n"
   ]
  },
  {
   "cell_type": "code",
   "execution_count": 6,
   "metadata": {},
   "outputs": [],
   "source": [
    "X = df.loc[:, df.columns != 'target']  # array numpy\n",
    "y = df.target  # serie\n"
   ]
  },
  {
   "cell_type": "code",
   "execution_count": 7,
   "metadata": {},
   "outputs": [],
   "source": [
    "X_train, X_test, y_train, y_test = model_selection.train_test_split(\n",
    "    X, y, test_size=0.2, random_state=1)\n"
   ]
  },
  {
   "cell_type": "code",
   "execution_count": 8,
   "metadata": {},
   "outputs": [
    {
     "data": {
      "text/plain": [
       "[(4364, 4), (1092, 4), (4364,), (1092,)]"
      ]
     },
     "execution_count": 8,
     "metadata": {},
     "output_type": "execute_result"
    }
   ],
   "source": [
    "[X_train.shape, \n",
    "X_test.shape, \n",
    "y_train.shape, \n",
    "y_test.shape]\n"
   ]
  },
  {
   "cell_type": "code",
   "execution_count": 9,
   "metadata": {},
   "outputs": [],
   "source": [
    "mlpm = MLPClassifier(random_state=1, max_iter=300).fit(X_train, y_train)\n"
   ]
  },
  {
   "cell_type": "markdown",
   "metadata": {},
   "source": [
    "## Evaluación del modelo\n",
    "\n",
    "Solo usamos el conjunto test"
   ]
  },
  {
   "cell_type": "code",
   "execution_count": 10,
   "metadata": {},
   "outputs": [
    {
     "data": {
      "text/plain": [
       "'Move-Forward'"
      ]
     },
     "execution_count": 10,
     "metadata": {},
     "output_type": "execute_result"
    }
   ],
   "source": [
    "y_test[5249]"
   ]
  },
  {
   "cell_type": "code",
   "execution_count": 11,
   "metadata": {},
   "outputs": [
    {
     "name": "stdout",
     "output_type": "stream",
     "text": [
      "Predicted value is = ['Slight-Right-Turn']\n",
      "Actual value from test data is Slight-Right-Turn\n"
     ]
    }
   ],
   "source": [
    "print('Predicted value is =', mlpm.predict([X_test.loc[447, :]]))\n",
    "\n",
    "print('Actual value from test data is %s' %\n",
    "       (y_test[447]))\n"
   ]
  },
  {
   "cell_type": "markdown",
   "metadata": {},
   "source": [
    "## Puntuación del modelo"
   ]
  },
  {
   "cell_type": "code",
   "execution_count": 12,
   "metadata": {},
   "outputs": [
    {
     "data": {
      "text/plain": [
       "0.9871794871794872"
      ]
     },
     "execution_count": 12,
     "metadata": {},
     "output_type": "execute_result"
    }
   ],
   "source": [
    "mlpm.score(X_test, y_test)\n"
   ]
  },
  {
   "cell_type": "markdown",
   "metadata": {},
   "source": [
    "## Matriz de confusión\n",
    "\n",
    "* La matriz de confusión ayuda a visualizar el rendimiento del modelo.\n",
    "* Los elementos diagonales representan el número de puntos para los cuales la etiqueta predicha es igual a la etiqueta verdadera\n",
    "* Los elementos fuera de la diagonal son aquellos que están mal etiquetados por el clasificador.\n",
    "* Cuanto más altos sean los valores diagonales de la matriz de confusión, mejor, indicando muchos correctos\n",
    " \n",
    "Creemos una matriz de confusión usando la biblioteca de sklearn y los datos de prueba"
   ]
  },
  {
   "cell_type": "code",
   "execution_count": 13,
   "metadata": {},
   "outputs": [
    {
     "data": {
      "text/plain": [
       "array([[400,   4,   1,   4],\n",
       "       [  0, 446,   0,   0],\n",
       "       [  2,   0,  74,   0],\n",
       "       [  1,   2,   0, 158]])"
      ]
     },
     "execution_count": 13,
     "metadata": {},
     "output_type": "execute_result"
    },
    {
     "data": {
      "image/png": "[encoded data removed]",
      "text/plain": [
       "<Figure size 1440x576 with 2 Axes>"
      ]
     },
     "metadata": {
      "needs_background": "light"
     },
     "output_type": "display_data"
    }
   ],
   "source": [
    "#Creating matplotlib axes object to assign figuresize and figure title\n",
    "fig, ax = plt.subplots(figsize=(20, 8))\n",
    "ax.set_title('Confusion Matrx')\n",
    "\n",
    "disp = metrics.plot_confusion_matrix(mlpm, X_test, y_test,ax=ax)#, display_labels=y_test, ax=ax)\n",
    "disp.confusion_matrix\n"
   ]
  },
  {
   "cell_type": "markdown",
   "metadata": {},
   "source": [
    "## Informe de clasificación\n",
    "\n",
    "El informe de clasificación se utiliza para medir la calidad de la predicción del algoritmo de clasificación.\n",
    " \n",
    "* Precisión: indica cuántas clases están correctamente clasificadas\n",
    "* Recall: indica qué proporciones de positivos reales se identificaron correctamente\n",
    "* F-Score: es la media armónica entre precisión y recall\n",
    "* Soporte: es el número de ocurrencias de la clase dada en nuestro conjunto de datos\n",
    "\n",
    "> Dado que las clases son desbalanceadas la metrica que deberíamos revisar es f1, sensibilidad o precisión."
   ]
  },
  {
   "cell_type": "code",
   "execution_count": 14,
   "metadata": {},
   "outputs": [
    {
     "name": "stdout",
     "output_type": "stream",
     "text": [
      "                   precision    recall  f1-score   support\n",
      "\n",
      "     Move-Forward       0.99      0.98      0.99       409\n",
      " Sharp-Right-Turn       0.99      1.00      0.99       446\n",
      " Slight-Left-Turn       0.99      0.97      0.98        76\n",
      "Slight-Right-Turn       0.98      0.98      0.98       161\n",
      "\n",
      "         accuracy                           0.99      1092\n",
      "        macro avg       0.99      0.98      0.98      1092\n",
      "     weighted avg       0.99      0.99      0.99      1092\n",
      "\n"
     ]
    }
   ],
   "source": [
    "print(metrics.classification_report(y_test, mlpm.predict(X_test)))\n"
   ]
  },
  {
   "cell_type": "markdown",
   "metadata": {},
   "source": [
    "### ROC AUC score\n",
    "\n",
    "Considerar que para hallar ROC AUC score en multiclase, es necesario tener en cuenta que los valores predichos se deben incluir en valores de probabilidad."
   ]
  },
  {
   "cell_type": "code",
   "execution_count": 15,
   "metadata": {},
   "outputs": [],
   "source": [
    "y_pred_proba = mlpm.predict_proba(X_test)"
   ]
  },
  {
   "cell_type": "code",
   "execution_count": 16,
   "metadata": {},
   "outputs": [
    {
     "data": {
      "text/plain": [
       "0.9996034549899939"
      ]
     },
     "execution_count": 16,
     "metadata": {},
     "output_type": "execute_result"
    }
   ],
   "source": [
    "metrics.roc_auc_score(y_test, y_pred_proba, multi_class='ovr',\n",
    "                      labels=['Move-Forward', 'Sharp-Right-Turn', 'Slight-Left-Turn', 'Slight-Right-Turn'])\n",
    "\n"
   ]
  },
  {
   "cell_type": "markdown",
   "metadata": {},
   "source": [
    "El area bajo la curva indica que el modelo clasifica el 99.96 % de las instancias de forma correcta.\n"
   ]
  }
 ],
 "metadata": {
  "interpreter": {
   "hash": "31f2aee4e71d21fbe5cf8b01ff0e069b9275f58929596ceb00d14d90e3e16cd6"
  },
  "kernelspec": {
   "display_name": "Python 3.8.10 64-bit",
   "name": "python3"
  },
  "language_info": {
   "codemirror_mode": {
    "name": "ipython",
    "version": 3
   },
   "file_extension": ".py",
   "mimetype": "text/x-python",
   "name": "python",
   "nbconvert_exporter": "python",
   "pygments_lexer": "ipython3",
   "version": "3.8.10"
  },
  "orig_nbformat": 4
 },
 "nbformat": 4,
 "nbformat_minor": 2
}
