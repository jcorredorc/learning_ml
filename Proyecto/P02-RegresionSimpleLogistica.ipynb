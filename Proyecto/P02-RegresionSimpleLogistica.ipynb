{
 "cells": [
  {
   "cell_type": "markdown",
   "metadata": {},
   "source": [
    "# Regresion Logística Simple\n"
   ]
  },
  {
   "cell_type": "code",
   "execution_count": 2,
   "metadata": {},
   "outputs": [],
   "source": [
    "import pandas as pd\n",
    "import numpy as np\n",
    "#import seaborn as sns\n",
    "import matplotlib.pyplot as plt\n",
    "%matplotlib inline"
   ]
  },
  {
   "cell_type": "code",
   "execution_count": 3,
   "metadata": {},
   "outputs": [],
   "source": [
    "# Cargar datos\n",
    "df = pd.read_csv(\"Data/robot_wall_follower/wall_robot_01.csv\")"
   ]
  },
  {
   "cell_type": "code",
   "execution_count": 22,
   "metadata": {},
   "outputs": [
    {
     "data": {
      "text/html": [
       "<div>\n",
       "<style scoped>\n",
       "    .dataframe tbody tr th:only-of-type {\n",
       "        vertical-align: middle;\n",
       "    }\n",
       "\n",
       "    .dataframe tbody tr th {\n",
       "        vertical-align: top;\n",
       "    }\n",
       "\n",
       "    .dataframe thead th {\n",
       "        text-align: right;\n",
       "    }\n",
       "</style>\n",
       "<table border=\"1\" class=\"dataframe\">\n",
       "  <thead>\n",
       "    <tr style=\"text-align: right;\">\n",
       "      <th></th>\n",
       "      <th>sd_front</th>\n",
       "      <th>sd_left</th>\n",
       "      <th>sd_right</th>\n",
       "      <th>sd_back</th>\n",
       "      <th>target_Move-Forward</th>\n",
       "      <th>target_Sharp-Right-Turn</th>\n",
       "      <th>target_Slight-Right-Turn</th>\n",
       "    </tr>\n",
       "  </thead>\n",
       "  <tbody>\n",
       "    <tr>\n",
       "      <th>5105</th>\n",
       "      <td>1.565</td>\n",
       "      <td>0.758</td>\n",
       "      <td>1.612</td>\n",
       "      <td>0.692</td>\n",
       "      <td>1</td>\n",
       "      <td>0</td>\n",
       "      <td>0</td>\n",
       "    </tr>\n",
       "    <tr>\n",
       "      <th>5224</th>\n",
       "      <td>3.281</td>\n",
       "      <td>0.800</td>\n",
       "      <td>1.455</td>\n",
       "      <td>0.433</td>\n",
       "      <td>1</td>\n",
       "      <td>0</td>\n",
       "      <td>0</td>\n",
       "    </tr>\n",
       "    <tr>\n",
       "      <th>4610</th>\n",
       "      <td>0.822</td>\n",
       "      <td>0.545</td>\n",
       "      <td>2.443</td>\n",
       "      <td>5.000</td>\n",
       "      <td>0</td>\n",
       "      <td>1</td>\n",
       "      <td>0</td>\n",
       "    </tr>\n",
       "    <tr>\n",
       "      <th>4379</th>\n",
       "      <td>2.391</td>\n",
       "      <td>0.464</td>\n",
       "      <td>1.831</td>\n",
       "      <td>1.316</td>\n",
       "      <td>0</td>\n",
       "      <td>0</td>\n",
       "      <td>1</td>\n",
       "    </tr>\n",
       "    <tr>\n",
       "      <th>3654</th>\n",
       "      <td>0.895</td>\n",
       "      <td>0.785</td>\n",
       "      <td>1.325</td>\n",
       "      <td>0.845</td>\n",
       "      <td>0</td>\n",
       "      <td>1</td>\n",
       "      <td>0</td>\n",
       "    </tr>\n",
       "    <tr>\n",
       "      <th>711</th>\n",
       "      <td>2.549</td>\n",
       "      <td>0.599</td>\n",
       "      <td>1.633</td>\n",
       "      <td>0.889</td>\n",
       "      <td>1</td>\n",
       "      <td>0</td>\n",
       "      <td>0</td>\n",
       "    </tr>\n",
       "    <tr>\n",
       "      <th>189</th>\n",
       "      <td>0.865</td>\n",
       "      <td>0.488</td>\n",
       "      <td>3.207</td>\n",
       "      <td>1.347</td>\n",
       "      <td>0</td>\n",
       "      <td>1</td>\n",
       "      <td>0</td>\n",
       "    </tr>\n",
       "    <tr>\n",
       "      <th>3944</th>\n",
       "      <td>0.770</td>\n",
       "      <td>0.798</td>\n",
       "      <td>2.751</td>\n",
       "      <td>4.334</td>\n",
       "      <td>0</td>\n",
       "      <td>1</td>\n",
       "      <td>0</td>\n",
       "    </tr>\n",
       "    <tr>\n",
       "      <th>1086</th>\n",
       "      <td>0.852</td>\n",
       "      <td>0.471</td>\n",
       "      <td>1.755</td>\n",
       "      <td>1.338</td>\n",
       "      <td>0</td>\n",
       "      <td>1</td>\n",
       "      <td>0</td>\n",
       "    </tr>\n",
       "    <tr>\n",
       "      <th>3995</th>\n",
       "      <td>2.662</td>\n",
       "      <td>0.697</td>\n",
       "      <td>2.719</td>\n",
       "      <td>0.948</td>\n",
       "      <td>1</td>\n",
       "      <td>0</td>\n",
       "      <td>0</td>\n",
       "    </tr>\n",
       "  </tbody>\n",
       "</table>\n",
       "</div>"
      ],
      "text/plain": [
       "      sd_front  sd_left  sd_right  sd_back  target_Move-Forward  \\\n",
       "5105     1.565    0.758     1.612    0.692                    1   \n",
       "5224     3.281    0.800     1.455    0.433                    1   \n",
       "4610     0.822    0.545     2.443    5.000                    0   \n",
       "4379     2.391    0.464     1.831    1.316                    0   \n",
       "3654     0.895    0.785     1.325    0.845                    0   \n",
       "711      2.549    0.599     1.633    0.889                    1   \n",
       "189      0.865    0.488     3.207    1.347                    0   \n",
       "3944     0.770    0.798     2.751    4.334                    0   \n",
       "1086     0.852    0.471     1.755    1.338                    0   \n",
       "3995     2.662    0.697     2.719    0.948                    1   \n",
       "\n",
       "      target_Sharp-Right-Turn  target_Slight-Right-Turn  \n",
       "5105                        0                         0  \n",
       "5224                        0                         0  \n",
       "4610                        1                         0  \n",
       "4379                        0                         1  \n",
       "3654                        1                         0  \n",
       "711                         0                         0  \n",
       "189                         1                         0  \n",
       "3944                        1                         0  \n",
       "1086                        1                         0  \n",
       "3995                        0                         0  "
      ]
     },
     "execution_count": 22,
     "metadata": {},
     "output_type": "execute_result"
    }
   ],
   "source": [
    "df.sample(n=10,random_state=567)"
   ]
  },
  {
   "cell_type": "code",
   "execution_count": 24,
   "metadata": {},
   "outputs": [
    {
     "name": "stdout",
     "output_type": "stream",
     "text": [
      "<class 'pandas.core.frame.DataFrame'>\n",
      "RangeIndex: 5456 entries, 0 to 5455\n",
      "Data columns (total 7 columns):\n",
      " #   Column                    Non-Null Count  Dtype  \n",
      "---  ------                    --------------  -----  \n",
      " 0   sd_front                  5456 non-null   float64\n",
      " 1   sd_left                   5456 non-null   float64\n",
      " 2   sd_right                  5456 non-null   float64\n",
      " 3   sd_back                   5456 non-null   float64\n",
      " 4   target_Move-Forward       5456 non-null   int64  \n",
      " 5   target_Sharp-Right-Turn   5456 non-null   int64  \n",
      " 6   target_Slight-Right-Turn  5456 non-null   int64  \n",
      "dtypes: float64(4), int64(3)\n",
      "memory usage: 298.5 KB\n"
     ]
    }
   ],
   "source": [
    "df.info()"
   ]
  },
  {
   "cell_type": "markdown",
   "metadata": {},
   "source": [
    "Se realiza una regresión logistica simple. A partir del valor del sensor ubicado en el frente del robot `sd_front` puedo predecir si el robot se mueve hacia adelante `target_Move-Forward`"
   ]
  },
  {
   "cell_type": "code",
   "execution_count": 67,
   "metadata": {},
   "outputs": [
    {
     "data": {
      "text/html": [
       "<div>\n",
       "<style scoped>\n",
       "    .dataframe tbody tr th:only-of-type {\n",
       "        vertical-align: middle;\n",
       "    }\n",
       "\n",
       "    .dataframe tbody tr th {\n",
       "        vertical-align: top;\n",
       "    }\n",
       "\n",
       "    .dataframe thead th {\n",
       "        text-align: right;\n",
       "    }\n",
       "</style>\n",
       "<table border=\"1\" class=\"dataframe\">\n",
       "  <thead>\n",
       "    <tr style=\"text-align: right;\">\n",
       "      <th></th>\n",
       "      <th>sd_front</th>\n",
       "    </tr>\n",
       "  </thead>\n",
       "  <tbody>\n",
       "    <tr>\n",
       "      <th>0</th>\n",
       "      <td>1.687</td>\n",
       "    </tr>\n",
       "    <tr>\n",
       "      <th>1</th>\n",
       "      <td>1.687</td>\n",
       "    </tr>\n",
       "    <tr>\n",
       "      <th>2</th>\n",
       "      <td>1.687</td>\n",
       "    </tr>\n",
       "    <tr>\n",
       "      <th>3</th>\n",
       "      <td>1.687</td>\n",
       "    </tr>\n",
       "    <tr>\n",
       "      <th>4</th>\n",
       "      <td>1.687</td>\n",
       "    </tr>\n",
       "  </tbody>\n",
       "</table>\n",
       "</div>"
      ],
      "text/plain": [
       "   sd_front\n",
       "0     1.687\n",
       "1     1.687\n",
       "2     1.687\n",
       "3     1.687\n",
       "4     1.687"
      ]
     },
     "execution_count": 67,
     "metadata": {},
     "output_type": "execute_result"
    }
   ],
   "source": [
    "# Datos de entrada y entrenamiento\n",
    "input = df[['sd_front']]\n",
    "input.head()"
   ]
  },
  {
   "cell_type": "code",
   "execution_count": 64,
   "metadata": {},
   "outputs": [
    {
     "data": {
      "text/html": [
       "<div>\n",
       "<style scoped>\n",
       "    .dataframe tbody tr th:only-of-type {\n",
       "        vertical-align: middle;\n",
       "    }\n",
       "\n",
       "    .dataframe tbody tr th {\n",
       "        vertical-align: top;\n",
       "    }\n",
       "\n",
       "    .dataframe thead th {\n",
       "        text-align: right;\n",
       "    }\n",
       "</style>\n",
       "<table border=\"1\" class=\"dataframe\">\n",
       "  <thead>\n",
       "    <tr style=\"text-align: right;\">\n",
       "      <th></th>\n",
       "      <th>target_Move-Forward</th>\n",
       "    </tr>\n",
       "  </thead>\n",
       "  <tbody>\n",
       "    <tr>\n",
       "      <th>0</th>\n",
       "      <td>0</td>\n",
       "    </tr>\n",
       "    <tr>\n",
       "      <th>1</th>\n",
       "      <td>0</td>\n",
       "    </tr>\n",
       "    <tr>\n",
       "      <th>2</th>\n",
       "      <td>0</td>\n",
       "    </tr>\n",
       "    <tr>\n",
       "      <th>3</th>\n",
       "      <td>0</td>\n",
       "    </tr>\n",
       "    <tr>\n",
       "      <th>4</th>\n",
       "      <td>0</td>\n",
       "    </tr>\n",
       "  </tbody>\n",
       "</table>\n",
       "</div>"
      ],
      "text/plain": [
       "   target_Move-Forward\n",
       "0                    0\n",
       "1                    0\n",
       "2                    0\n",
       "3                    0\n",
       "4                    0"
      ]
     },
     "execution_count": 64,
     "metadata": {},
     "output_type": "execute_result"
    }
   ],
   "source": [
    "output = df['target_Move-Forward']\n",
    "output.head()"
   ]
  },
  {
   "cell_type": "code",
   "execution_count": 52,
   "metadata": {},
   "outputs": [],
   "source": [
    "from sklearn.linear_model import LogisticRegression\n",
    "#from sklearn.metrics import accuracy_score, precision_score, confusion_matrix"
   ]
  },
  {
   "cell_type": "code",
   "execution_count": 69,
   "metadata": {},
   "outputs": [],
   "source": [
    "# Crear modelo de regresión logística\n",
    "reg_log_simple = LogisticRegression()"
   ]
  },
  {
   "cell_type": "code",
   "execution_count": 71,
   "metadata": {},
   "outputs": [
    {
     "name": "stderr",
     "output_type": "stream",
     "text": [
      "/home/javier/.local/lib/python3.8/site-packages/sklearn/utils/validation.py:63: DataConversionWarning: A column-vector y was passed when a 1d array was expected. Please change the shape of y to (n_samples, ), for example using ravel().\n",
      "  return f(*args, **kwargs)\n"
     ]
    },
    {
     "data": {
      "text/plain": [
       "LogisticRegression()"
      ]
     },
     "execution_count": 71,
     "metadata": {},
     "output_type": "execute_result"
    }
   ],
   "source": [
    "# Entrenar el modelo\n",
    "reg_log_simple.fit(input, output)"
   ]
  },
  {
   "cell_type": "code",
   "execution_count": 73,
   "metadata": {},
   "outputs": [
    {
     "data": {
      "text/plain": [
       "array([[1.51386924]])"
      ]
     },
     "execution_count": 73,
     "metadata": {},
     "output_type": "execute_result"
    }
   ],
   "source": [
    "# Obener el valor de theta(1)\n",
    "reg_log_simple.coef_"
   ]
  },
  {
   "cell_type": "code",
   "execution_count": 75,
   "metadata": {},
   "outputs": [
    {
     "data": {
      "text/plain": [
       "array([-2.33604707])"
      ]
     },
     "execution_count": 75,
     "metadata": {},
     "output_type": "execute_result"
    }
   ],
   "source": [
    "# Obtener el valor de theta(0)\n",
    "reg_log_simple.intercept_"
   ]
  },
  {
   "cell_type": "markdown",
   "metadata": {},
   "source": [
    "## Modelo por Logit"
   ]
  },
  {
   "cell_type": "code",
   "execution_count": 77,
   "metadata": {},
   "outputs": [],
   "source": [
    "# Importar el modulo statsmodel para poder crear la constante que requiere el modelo Logit\n",
    "import statsmodels.api as sn"
   ]
  },
  {
   "cell_type": "code",
   "execution_count": 101,
   "metadata": {},
   "outputs": [
    {
     "name": "stderr",
     "output_type": "stream",
     "text": [
      "/home/javier/.local/lib/python3.8/site-packages/statsmodels/tsa/tsatools.py:142: FutureWarning: In a future version of pandas all arguments of concat except for the argument 'objs' will be keyword-only\n",
      "  x = pd.concat(x[::order], 1)\n"
     ]
    },
    {
     "data": {
      "text/html": [
       "<div>\n",
       "<style scoped>\n",
       "    .dataframe tbody tr th:only-of-type {\n",
       "        vertical-align: middle;\n",
       "    }\n",
       "\n",
       "    .dataframe tbody tr th {\n",
       "        vertical-align: top;\n",
       "    }\n",
       "\n",
       "    .dataframe thead th {\n",
       "        text-align: right;\n",
       "    }\n",
       "</style>\n",
       "<table border=\"1\" class=\"dataframe\">\n",
       "  <thead>\n",
       "    <tr style=\"text-align: right;\">\n",
       "      <th></th>\n",
       "      <th>const</th>\n",
       "      <th>sd_front</th>\n",
       "    </tr>\n",
       "  </thead>\n",
       "  <tbody>\n",
       "    <tr>\n",
       "      <th>0</th>\n",
       "      <td>1.0</td>\n",
       "      <td>1.687</td>\n",
       "    </tr>\n",
       "    <tr>\n",
       "      <th>1</th>\n",
       "      <td>1.0</td>\n",
       "      <td>1.687</td>\n",
       "    </tr>\n",
       "    <tr>\n",
       "      <th>2</th>\n",
       "      <td>1.0</td>\n",
       "      <td>1.687</td>\n",
       "    </tr>\n",
       "    <tr>\n",
       "      <th>3</th>\n",
       "      <td>1.0</td>\n",
       "      <td>1.687</td>\n",
       "    </tr>\n",
       "    <tr>\n",
       "      <th>4</th>\n",
       "      <td>1.0</td>\n",
       "      <td>1.687</td>\n",
       "    </tr>\n",
       "    <tr>\n",
       "      <th>...</th>\n",
       "      <td>...</td>\n",
       "      <td>...</td>\n",
       "    </tr>\n",
       "    <tr>\n",
       "      <th>5451</th>\n",
       "      <td>1.0</td>\n",
       "      <td>1.024</td>\n",
       "    </tr>\n",
       "    <tr>\n",
       "      <th>5452</th>\n",
       "      <td>1.0</td>\n",
       "      <td>0.894</td>\n",
       "    </tr>\n",
       "    <tr>\n",
       "      <th>5453</th>\n",
       "      <td>1.0</td>\n",
       "      <td>0.873</td>\n",
       "    </tr>\n",
       "    <tr>\n",
       "      <th>5454</th>\n",
       "      <td>1.0</td>\n",
       "      <td>0.967</td>\n",
       "    </tr>\n",
       "    <tr>\n",
       "      <th>5455</th>\n",
       "      <td>1.0</td>\n",
       "      <td>0.854</td>\n",
       "    </tr>\n",
       "  </tbody>\n",
       "</table>\n",
       "<p>5456 rows × 2 columns</p>\n",
       "</div>"
      ],
      "text/plain": [
       "      const  sd_front\n",
       "0       1.0     1.687\n",
       "1       1.0     1.687\n",
       "2       1.0     1.687\n",
       "3       1.0     1.687\n",
       "4       1.0     1.687\n",
       "...     ...       ...\n",
       "5451    1.0     1.024\n",
       "5452    1.0     0.894\n",
       "5453    1.0     0.873\n",
       "5454    1.0     0.967\n",
       "5455    1.0     0.854\n",
       "\n",
       "[5456 rows x 2 columns]"
      ]
     },
     "execution_count": 101,
     "metadata": {},
     "output_type": "execute_result"
    }
   ],
   "source": [
    "const_X = sn.add_constant(input)\n",
    "const_X"
   ]
  },
  {
   "cell_type": "code",
   "execution_count": 87,
   "metadata": {},
   "outputs": [],
   "source": [
    "# Importar el modulo para trabajar con variables discretas con Logit\n",
    "import statsmodels.discrete.discrete_model as sm"
   ]
  },
  {
   "cell_type": "code",
   "execution_count": 95,
   "metadata": {},
   "outputs": [
    {
     "name": "stdout",
     "output_type": "stream",
     "text": [
      "Optimization terminated successfully.\n",
      "         Current function value: 0.593892\n",
      "         Iterations 6\n"
     ]
    }
   ],
   "source": [
    "# Entrenar y ajustar el modelo a los datos de entrada\n",
    "logit = sm.Logit(output, const_X).fit()\n"
   ]
  },
  {
   "cell_type": "code",
   "execution_count": 97,
   "metadata": {},
   "outputs": [
    {
     "data": {
      "text/html": [
       "<table class=\"simpletable\">\n",
       "<caption>Logit Regression Results</caption>\n",
       "<tr>\n",
       "  <th>Dep. Variable:</th>   <td>target_Move-Forward</td> <th>  No. Observations:  </th>   <td>  5456</td>  \n",
       "</tr>\n",
       "<tr>\n",
       "  <th>Model:</th>                  <td>Logit</td>        <th>  Df Residuals:      </th>   <td>  5454</td>  \n",
       "</tr>\n",
       "<tr>\n",
       "  <th>Method:</th>                  <td>MLE</td>         <th>  Df Model:          </th>   <td>     1</td>  \n",
       "</tr>\n",
       "<tr>\n",
       "  <th>Date:</th>             <td>Wed, 08 Sep 2021</td>   <th>  Pseudo R-squ.:     </th>   <td>0.1197</td>  \n",
       "</tr>\n",
       "<tr>\n",
       "  <th>Time:</th>                 <td>18:12:50</td>       <th>  Log-Likelihood:    </th>  <td> -3240.3</td> \n",
       "</tr>\n",
       "<tr>\n",
       "  <th>converged:</th>              <td>True</td>         <th>  LL-Null:           </th>  <td> -3680.9</td> \n",
       "</tr>\n",
       "<tr>\n",
       "  <th>Covariance Type:</th>      <td>nonrobust</td>      <th>  LLR p-value:       </th> <td>1.145e-193</td>\n",
       "</tr>\n",
       "</table>\n",
       "<table class=\"simpletable\">\n",
       "<tr>\n",
       "      <td></td>        <th>coef</th>     <th>std err</th>      <th>z</th>      <th>P>|z|</th>  <th>[0.025</th>    <th>0.975]</th>  \n",
       "</tr>\n",
       "<tr>\n",
       "  <th>const</th>    <td>   -2.3428</td> <td>    0.081</td> <td>  -29.060</td> <td> 0.000</td> <td>   -2.501</td> <td>   -2.185</td>\n",
       "</tr>\n",
       "<tr>\n",
       "  <th>sd_front</th> <td>    1.5193</td> <td>    0.060</td> <td>   25.405</td> <td> 0.000</td> <td>    1.402</td> <td>    1.636</td>\n",
       "</tr>\n",
       "</table>"
      ],
      "text/plain": [
       "<class 'statsmodels.iolib.summary.Summary'>\n",
       "\"\"\"\n",
       "                            Logit Regression Results                           \n",
       "===============================================================================\n",
       "Dep. Variable:     target_Move-Forward   No. Observations:                 5456\n",
       "Model:                           Logit   Df Residuals:                     5454\n",
       "Method:                            MLE   Df Model:                            1\n",
       "Date:                 Wed, 08 Sep 2021   Pseudo R-squ.:                  0.1197\n",
       "Time:                         18:12:50   Log-Likelihood:                -3240.3\n",
       "converged:                        True   LL-Null:                       -3680.9\n",
       "Covariance Type:             nonrobust   LLR p-value:                1.145e-193\n",
       "==============================================================================\n",
       "                 coef    std err          z      P>|z|      [0.025      0.975]\n",
       "------------------------------------------------------------------------------\n",
       "const         -2.3428      0.081    -29.060      0.000      -2.501      -2.185\n",
       "sd_front       1.5193      0.060     25.405      0.000       1.402       1.636\n",
       "==============================================================================\n",
       "\"\"\""
      ]
     },
     "execution_count": 97,
     "metadata": {},
     "output_type": "execute_result"
    }
   ],
   "source": [
    "# Obtener el resumen del modelo\n",
    "logit.summary()"
   ]
  },
  {
   "cell_type": "markdown",
   "metadata": {},
   "source": [
    "## Análisis de los resultados\n",
    "\n",
    "$R^2$ : \n",
    "\n",
    "$p-value$ : "
   ]
  },
  {
   "cell_type": "code",
   "execution_count": 109,
   "metadata": {},
   "outputs": [
    {
     "data": {
      "text/plain": [
       "0.0"
      ]
     },
     "execution_count": 109,
     "metadata": {},
     "output_type": "execute_result"
    }
   ],
   "source": [
    "# Realizar una predicción de ejemplo\n",
    "np.floor(logit.predict([1, 0.989])[0])"
   ]
  },
  {
   "cell_type": "code",
   "execution_count": 114,
   "metadata": {},
   "outputs": [],
   "source": [
    "## Gráfica del modelo de regresion logística\n",
    "# Crear los puntos necesarios de la variable predicha desarrollar la gráfica\n",
    "\n",
    "grilla_X = np.linspace(\n",
    "    start=-100,  # min(df.precio),\n",
    "    stop=100,  # max(df.precio),\n",
    "    num=500\n",
    ").reshape(-1, 1)  # reshape -> una columna y determina cuantas columnas debe poner\n",
    "### ROC AUC score\n",
    "\n",
    "Considerar que para hallar ROC AUC score en multiclase, es necesario tener en cuenta que los valores predecidos se deben incluir en valores de probabilidad.\n",
    "y_pred_proba = lm.predict_proba(X_test)\n",
    "metrics.roc_auc_score(y_test, y_pred_proba, multi_class='ovr',\n",
    "                      labels=['Move-Forward', 'Sharp-Right-Turn', 'Slight-Left-Turn', 'Slight-Right-Turn'])\n",
    "\n",
    "\n",
    "El area bajo la curva me indica que el modelo clasifica el 98 % de las instancias de forma correcta.\n",
    "\n",
    "# Agregar la constante para poder desarrollar la predicción por el modelo Logit\n",
    "grilla_X = sn.add_constant(grilla_X, prepend=True)\n",
    "\n",
    "# Desarrollar la predicción\n",
    "prediccion = logit.predict(exog=grilla_X)\n"
   ]
  },
  {
   "cell_type": "code",
   "execution_count": 123,
   "metadata": {},
   "outputs": [
    {
     "data": {
      "text/plain": [
       "(500, 2)"
      ]
     },
     "execution_count": 123,
     "metadata": {},
     "output_type": "execute_result"
    }
   ],
   "source": [
    "grilla_X.shape  # El resultado es un vector de 500 x 2"
   ]
  },
  {
   "cell_type": "code",
   "execution_count": 126,
   "metadata": {},
   "outputs": [
    {
     "data": {
      "text/plain": [
       "Text(0.5, 0, 'sd_front')"
      ]
     },
     "execution_count": 126,
     "metadata": {},
     "output_type": "execute_result"
    },
    {
     "data": {
      "image/png": "[encoded data removed]",
      "text/plain": [
       "<Figure size 720x432 with 1 Axes>"
      ]
     },
     "metadata": {
      "needs_background": "light"
     },
     "output_type": "display_data"
    }
   ],
   "source": [
    "fig, ax = plt.subplots(figsize=(10, 6))\n",
    "# Nube de puntos para cuando la propiedad es vendida\n",
    "ax.scatter(\n",
    "    x=df[['sd_front']][(output == 1)].to_numpy().flatten(), y=df[['target_Move-Forward']][output == 1].to_numpy().flatten()\n",
    ")\n",
    "# to_numpy pasa array y flattern a que sea unidimensional\n",
    "\n",
    "# Nube de puntos para el caso en que la propiedad no es vendida\n",
    "ax.scatter(\n",
    "    x=df[['sd_front']][(output == 0)].to_numpy().flatten(), y=df[['target_Move-Forward']][output == 0].to_numpy().flatten()\n",
    ")\n",
    "\n",
    "# Segunda columna de la grilla\n",
    "ax.plot(grilla_X[:500, 1], prediccion, color=\"gray\")\n",
    "ax.set_title(\"Modelo regresión logística\")\n",
    "ax.set_ylabel(\"P(target_Move-Forward = 1 | 'sd_front')\")\n",
    "ax.set_xlabel(\"sd_front\")\n"
   ]
  },
  {
   "cell_type": "markdown",
   "metadata": {},
   "source": [
    "# Regresión Logistica multiple"
   ]
  },
  {
   "cell_type": "code",
   "execution_count": 4,
   "metadata": {},
   "outputs": [],
   "source": [
    "from sklearn.model_selection import train_test_split\n",
    "from sklearn.linear_model import LogisticRegression"
   ]
  },
  {
   "cell_type": "code",
   "execution_count": 5,
   "metadata": {},
   "outputs": [
    {
     "data": {
      "text/html": [
       "<div>\n",
       "<style scoped>\n",
       "    .dataframe tbody tr th:only-of-type {\n",
       "        vertical-align: middle;\n",
       "    }\n",
       "\n",
       "    .dataframe tbody tr th {\n",
       "        vertical-align: top;\n",
       "    }\n",
       "\n",
       "    .dataframe thead th {\n",
       "        text-align: right;\n",
       "    }\n",
       "</style>\n",
       "<table border=\"1\" class=\"dataframe\">\n",
       "  <thead>\n",
       "    <tr style=\"text-align: right;\">\n",
       "      <th></th>\n",
       "      <th>sd_front</th>\n",
       "      <th>sd_left</th>\n",
       "      <th>sd_right</th>\n",
       "      <th>sd_back</th>\n",
       "      <th>target_Move-Forward</th>\n",
       "      <th>target_Sharp-Right-Turn</th>\n",
       "      <th>target_Slight-Right-Turn</th>\n",
       "    </tr>\n",
       "  </thead>\n",
       "  <tbody>\n",
       "    <tr>\n",
       "      <th>0</th>\n",
       "      <td>1.687</td>\n",
       "      <td>0.445</td>\n",
       "      <td>2.332</td>\n",
       "      <td>0.429</td>\n",
       "      <td>0</td>\n",
       "      <td>0</td>\n",
       "      <td>1</td>\n",
       "    </tr>\n",
       "    <tr>\n",
       "      <th>1</th>\n",
       "      <td>1.687</td>\n",
       "      <td>0.449</td>\n",
       "      <td>2.332</td>\n",
       "      <td>0.429</td>\n",
       "      <td>0</td>\n",
       "      <td>0</td>\n",
       "      <td>1</td>\n",
       "    </tr>\n",
       "    <tr>\n",
       "      <th>2</th>\n",
       "      <td>1.687</td>\n",
       "      <td>0.449</td>\n",
       "      <td>2.334</td>\n",
       "      <td>0.429</td>\n",
       "      <td>0</td>\n",
       "      <td>0</td>\n",
       "      <td>1</td>\n",
       "    </tr>\n",
       "    <tr>\n",
       "      <th>3</th>\n",
       "      <td>1.687</td>\n",
       "      <td>0.449</td>\n",
       "      <td>2.334</td>\n",
       "      <td>0.429</td>\n",
       "      <td>0</td>\n",
       "      <td>0</td>\n",
       "      <td>1</td>\n",
       "    </tr>\n",
       "    <tr>\n",
       "      <th>4</th>\n",
       "      <td>1.687</td>\n",
       "      <td>0.449</td>\n",
       "      <td>2.334</td>\n",
       "      <td>0.429</td>\n",
       "      <td>0</td>\n",
       "      <td>0</td>\n",
       "      <td>1</td>\n",
       "    </tr>\n",
       "  </tbody>\n",
       "</table>\n",
       "</div>"
      ],
      "text/plain": [
       "   sd_front  sd_left  sd_right  sd_back  target_Move-Forward  \\\n",
       "0     1.687    0.445     2.332    0.429                    0   \n",
       "1     1.687    0.449     2.332    0.429                    0   \n",
       "2     1.687    0.449     2.334    0.429                    0   \n",
       "3     1.687    0.449     2.334    0.429                    0   \n",
       "4     1.687    0.449     2.334    0.429                    0   \n",
       "\n",
       "   target_Sharp-Right-Turn  target_Slight-Right-Turn  \n",
       "0                        0                         1  \n",
       "1                        0                         1  \n",
       "2                        0                         1  \n",
       "3                        0                         1  \n",
       "4                        0                         1  "
      ]
     },
     "execution_count": 5,
     "metadata": {},
     "output_type": "execute_result"
    }
   ],
   "source": [
    "df.head()"
   ]
  },
  {
   "cell_type": "code",
   "execution_count": 6,
   "metadata": {},
   "outputs": [],
   "source": [
    "X = df.loc[:, df.columns != 'target_Move-Forward']  # array numpy\n",
    "y = df['target_Move-Forward']  # serie"
   ]
  },
  {
   "cell_type": "code",
   "execution_count": 7,
   "metadata": {},
   "outputs": [],
   "source": [
    "# Obtener los cuatro conjuntos de datos necesarios para el modelo\n",
    "X_train, X_test, y_train, y_test = train_test_split(\n",
    "    X, y, test_size=0.2, random_state=123)"
   ]
  },
  {
   "cell_type": "code",
   "execution_count": 8,
   "metadata": {},
   "outputs": [],
   "source": [
    "# Crear el modelo aumentando las iteraciones dado que no se llega\n",
    "# a ajustar el modelo con menos iteraciones\n",
    "reg_model = LogisticRegression(max_iter=900)\n",
    "# por defecto tiene 100 como max_iter\n",
    "##por defecto usa regularización como hacer sin regularizacion?"
   ]
  },
  {
   "cell_type": "code",
   "execution_count": 9,
   "metadata": {},
   "outputs": [
    {
     "data": {
      "text/plain": [
       "LogisticRegression(max_iter=900)"
      ]
     },
     "execution_count": 9,
     "metadata": {},
     "output_type": "execute_result"
    }
   ],
   "source": [
    "# Ajustar el modelo a los datos\n",
    "reg_model.fit(X_train, y_train)"
   ]
  },
  {
   "cell_type": "code",
   "execution_count": 10,
   "metadata": {},
   "outputs": [
    {
     "data": {
      "text/plain": [
       "array([8.11295565])"
      ]
     },
     "execution_count": 10,
     "metadata": {},
     "output_type": "execute_result"
    }
   ],
   "source": [
    "# Intercepto theta(0)\n",
    "reg_model.intercept_"
   ]
  },
  {
   "cell_type": "code",
   "execution_count": 12,
   "metadata": {},
   "outputs": [
    {
     "data": {
      "text/plain": [
       "array([[ 0.54361235, -8.04057233,  0.39494619, -0.54080824, -9.47448595,\n",
       "        -9.97390688]])"
      ]
     },
     "execution_count": 12,
     "metadata": {},
     "output_type": "execute_result"
    }
   ],
   "source": [
    "# Coeficiente de las variables predictoras\n",
    "reg_model.coef_.reshape(-1, 6)"
   ]
  },
  {
   "cell_type": "code",
   "execution_count": 16,
   "metadata": {},
   "outputs": [],
   "source": [
    "# prediccion en el conjunto de test\n",
    "y_pred = reg_model.predict(X_test)"
   ]
  },
  {
   "cell_type": "code",
   "execution_count": 26,
   "metadata": {},
   "outputs": [
    {
     "data": {
      "text/plain": [
       "(array([False,  True,  True, ...,  True, False, False]),\n",
       " array([False,  True,  True, ...,  True, False, False]))"
      ]
     },
     "execution_count": 26,
     "metadata": {},
     "output_type": "execute_result"
    }
   ],
   "source": [
    "## Se hace conversion a bool\n",
    "y_pred.astype(bool), y_test.to_numpy().astype(bool)"
   ]
  },
  {
   "cell_type": "code",
   "execution_count": 27,
   "metadata": {},
   "outputs": [],
   "source": [
    "# Predicción en el conjunto de datos de entrenamiento\n",
    "y_pred_train = reg_model.predict(X_train)\n",
    "y_pred_train.astype(bool) #, y_test.to_numpy().astype(bool)\n"
   ]
  },
  {
   "cell_type": "markdown",
   "metadata": {},
   "source": [
    "## Validación\n",
    "\n",
    "ver [ref](https://www.iartificial.net/precision-recall-f1-accuracy-en-clasificacion/)"
   ]
  },
  {
   "cell_type": "code",
   "execution_count": 19,
   "metadata": {},
   "outputs": [],
   "source": [
    "from sklearn.metrics import confusion_matrix"
   ]
  },
  {
   "cell_type": "code",
   "execution_count": 20,
   "metadata": {},
   "outputs": [
    {
     "data": {
      "text/plain": [
       "array([[660,   3],\n",
       "       [  0, 429]])"
      ]
     },
     "execution_count": 20,
     "metadata": {},
     "output_type": "execute_result"
    }
   ],
   "source": [
    "confusion_matrix(y_test, y_pred)"
   ]
  },
  {
   "cell_type": "code",
   "execution_count": 21,
   "metadata": {},
   "outputs": [
    {
     "data": {
      "text/html": [
       "<div>\n",
       "<style scoped>\n",
       "    .dataframe tbody tr th:only-of-type {\n",
       "        vertical-align: middle;\n",
       "    }\n",
       "\n",
       "    .dataframe tbody tr th {\n",
       "        vertical-align: top;\n",
       "    }\n",
       "\n",
       "    .dataframe thead th {\n",
       "        text-align: right;\n",
       "    }\n",
       "</style>\n",
       "<table border=\"1\" class=\"dataframe\">\n",
       "  <thead>\n",
       "    <tr style=\"text-align: right;\">\n",
       "      <th></th>\n",
       "      <th>No Forward P</th>\n",
       "      <th>Forward P</th>\n",
       "    </tr>\n",
       "  </thead>\n",
       "  <tbody>\n",
       "    <tr>\n",
       "      <th>No Forward R</th>\n",
       "      <td>660</td>\n",
       "      <td>3</td>\n",
       "    </tr>\n",
       "    <tr>\n",
       "      <th>Forward R</th>\n",
       "      <td>0</td>\n",
       "      <td>429</td>\n",
       "    </tr>\n",
       "  </tbody>\n",
       "</table>\n",
       "</div>"
      ],
      "text/plain": [
       "              No Forward P  Forward P\n",
       "No Forward R           660          3\n",
       "Forward R                0        429"
      ]
     },
     "execution_count": 21,
     "metadata": {},
     "output_type": "execute_result"
    }
   ],
   "source": [
    "mc = pd.DataFrame(confusion_matrix(y_test, y_pred), index=[\n",
    "                  'No Forward R', 'Forward R'], columns=['No Forward P', 'Forward P'])\n",
    "mc"
   ]
  },
  {
   "cell_type": "code",
   "execution_count": 22,
   "metadata": {},
   "outputs": [
    {
     "data": {
      "image/png": "[encoded data removed]",
      "text/plain": [
       "<Figure size 432x432 with 1 Axes>"
      ]
     },
     "metadata": {
      "needs_background": "light"
     },
     "output_type": "display_data"
    }
   ],
   "source": [
    "## otra libreria para graficar la matriz de confusion y hace todo automatico\n",
    "#!pip3 install mlxtend\n",
    "from mlxtend.plotting import plot_confusion_matrix\n",
    "\n",
    "plot_confusion_matrix(conf_mat=confusion_matrix(\n",
    "    y_test, y_pred), figsize=(6, 6), show_normed=False)\n",
    "plt.tight_layout(pad=10)  # cuadra ancho de la matriz"
   ]
  },
  {
   "cell_type": "markdown",
   "metadata": {},
   "source": [
    "La matriz de confusión con datos de test presenta una diagonal principal con la mayoria de instancias clasificadas correctamente, positivos $660$ y negativos $429$. \n",
    "\n",
    "Por oto lado no hay falsos positivos, y solo 3 falsos negativos, lo cual parece ser un modelo bueno para predecir el movimiento del robot hacia adelante (`target_Move-Forward`)\n",
    "\n",
    "A continuación se calcula la matriz de confusión con los datos de entrenamiento, para propositos de ilustración."
   ]
  },
  {
   "cell_type": "code",
   "execution_count": 28,
   "metadata": {},
   "outputs": [
    {
     "data": {
      "text/plain": [
       "array([[2554,   34],\n",
       "       [   2, 1774]])"
      ]
     },
     "execution_count": 28,
     "metadata": {},
     "output_type": "execute_result"
    }
   ],
   "source": [
    "confusion_matrix(y_train, y_pred_train)"
   ]
  },
  {
   "cell_type": "markdown",
   "metadata": {},
   "source": [
    "Observese que al calcular la matriz de confusion con los datos de entrenamiento (train), aparecen $2$ casos como falsos positivos y $34$ como falsos negativos. Es decir según el resultado, el modelo se comporta mejor en el conjunto de test que en el conjunto train.\n",
    "\n",
    "> Este resultado es extraño, dado que espero mejor desempeño en el de entrenamiento. Pero puede indicar buena generalización del modelo obtenido."
   ]
  },
  {
   "cell_type": "markdown",
   "metadata": {},
   "source": [
    "## Otras métricas\n"
   ]
  },
  {
   "cell_type": "code",
   "execution_count": 42,
   "metadata": {},
   "outputs": [],
   "source": [
    "# Modulo para realizar la metricas\n",
    "from sklearn.metrics import accuracy_score, precision_score, recall_score, roc_auc_score, roc_curve, RocCurveDisplay, auc\n"
   ]
  },
  {
   "cell_type": "code",
   "execution_count": 46,
   "metadata": {},
   "outputs": [
    {
     "name": "stdout",
     "output_type": "stream",
     "text": [
      "Exactitud del modelo con datos de entrenamiento:  0.9917506874427131\n",
      "Exactitud del modelo con datos de validación:  0.9972527472527473\n"
     ]
    }
   ],
   "source": [
    "accuracy_train_ = accuracy_score(y_train, y_pred_train)\n",
    "accuracy_test = accuracy_score(y_test, y_pred)\n",
    "\n",
    "print('Exactitud del modelo con datos de entrenamiento: ', accuracy_train_)\n",
    "print('Exactitud del modelo con datos de validación: ', accuracy_test)\n"
   ]
  },
  {
   "cell_type": "markdown",
   "metadata": {},
   "source": [
    "La metrica de exactitud (Accuracy) es mejor evitarla, no funciona con clases desbalanceadas.\n",
    "\n",
    "$$accuracy = \\frac{TP + TN}{TP + TN + FP + FN}$$\n",
    "\n",
    "Donde $TP$ es true positive, $TN$ es true negative ,$FP$ es false positive y $FP$ es false positive, indica que:\n",
    "\n",
    "\n",
    "> Mejor usar en clases desbalanceadas precision, recall y F1."
   ]
  },
  {
   "cell_type": "code",
   "execution_count": 35,
   "metadata": {},
   "outputs": [
    {
     "data": {
      "text/plain": [
       "0.9930555555555556"
      ]
     },
     "execution_count": 35,
     "metadata": {},
     "output_type": "execute_result"
    }
   ],
   "source": [
    "precision_score(y_test, y_pred)"
   ]
  },
  {
   "cell_type": "markdown",
   "metadata": {},
   "source": [
    "La métrica de precisión, \n",
    "\n",
    "$$ Precision = \\frac{TP}{TP+FP} = \\frac{429}{429+3} = 0.99$$\n",
    "\n",
    "Donde $TP$ es true positive, $FP$ es false positive, indica que:\n",
    "\n",
    "> El valor de $0.99$ me indica que de todas las instancias clasificadas como movimiento hacia adelante (`target_Move-Forward`), $\\approx 100\\%$ fue clasificada de forma correcta, es decir, el movimiento del robot hacia adelante esta bien clasificado en casi el total de las instancias en el grupo de datos de test.\n",
    "\n",
    "Esta métrica es la importante en nuestro caso, ya que relaciona la proporcion de clasificaciones para variable verdadera."
   ]
  },
  {
   "cell_type": "code",
   "execution_count": 36,
   "metadata": {},
   "outputs": [
    {
     "data": {
      "text/plain": [
       "1.0"
      ]
     },
     "execution_count": 36,
     "metadata": {},
     "output_type": "execute_result"
    }
   ],
   "source": [
    "recall_score(y_test, y_pred)"
   ]
  },
  {
   "cell_type": "markdown",
   "metadata": {},
   "source": [
    "La métrica de recall (sensivility, exhaustividad)\n",
    "\n",
    "$$Recall = \\frac{TP}{TP + FN}$$\n",
    "\n",
    "Donde $FN$ es false negative, indica que:\n",
    "\n",
    "> Dado que no hay falsos negativos, el valor de recall igual a 1, me indica un modelo que clasifica todos los movimentos hacia adelante."
   ]
  },
  {
   "cell_type": "code",
   "execution_count": 39,
   "metadata": {},
   "outputs": [
    {
     "data": {
      "text/plain": [
       "0.997737556561086"
      ]
     },
     "execution_count": 39,
     "metadata": {},
     "output_type": "execute_result"
    }
   ],
   "source": [
    "roc_auc_score(y_test, y_pred)\n",
    "## Error bajo la curva, ideal es 1, me predice bien el 100% de las instancias"
   ]
  },
  {
   "cell_type": "markdown",
   "metadata": {},
   "source": [
    "El area bajo la curva me indica que el modelo clasifica el 100% de las instancias de forma correcta. "
   ]
  },
  {
   "cell_type": "code",
   "execution_count": 43,
   "metadata": {},
   "outputs": [
    {
     "data": {
      "image/png": "[encoded data removed]",
      "text/plain": [
       "<Figure size 432x288 with 1 Axes>"
      ]
     },
     "metadata": {
      "needs_background": "light"
     },
     "output_type": "display_data"
    }
   ],
   "source": [
    "fpr, tpr, thresholds = roc_curve(y_test, y_pred)\n",
    "roc_auc = auc(fpr, tpr)\n",
    "display = RocCurveDisplay(fpr=fpr, tpr=tpr, roc_auc=roc_auc,\n",
    "                                  estimator_name='example estimator')\n",
    "display.plot()\n",
    "plt.show()"
   ]
  },
  {
   "cell_type": "markdown",
   "metadata": {},
   "source": [
    "Aunque el modelo me permite determinar muy bien el movimiento hacia adelante es necesario hacer una clasificación multiclase. \n",
    "\n",
    "Una opción es crear varios modelos, iguales al presentado hasta ahora, uno para cada tipo de movimiento,\n",
    "\n",
    "| Movimiento | Instancias |\n",
    "|---------------|----------|\n",
    "|Move-Forward  |       2205|\n",
    "|Sharp-Right-Turn    | 2097|\n",
    "|Slight-Right-Turn   |  826|\n",
    "|Slight-Left-Turn    |  328|\n",
    "\n",
    "Así la predicción consistiría de 4 modelos ejecutandose en 'paralelo', sin embargo, si hay conflicto donde dos modelos clasifiquen la lectura de forma positiva, por ejemplo Move-Forward  y Sharp-Right-Turn, se clasifican al mismo tiempo, que movimiento seria el real??"
   ]
  }
 ],
 "metadata": {
  "interpreter": {
   "hash": "31f2aee4e71d21fbe5cf8b01ff0e069b9275f58929596ceb00d14d90e3e16cd6"
  },
  "kernelspec": {
   "display_name": "Python 3.8.10 64-bit",
   "name": "python3"
  },
  "language_info": {
   "codemirror_mode": {
    "name": "ipython",
    "version": 3
   },
   "file_extension": ".py",
   "mimetype": "text/x-python",
   "name": "python",
   "nbconvert_exporter": "python",
   "pygments_lexer": "ipython3",
   "version": "3.8.10"
  },
  "orig_nbformat": 4
 },
 "nbformat": 4,
 "nbformat_minor": 2
}
