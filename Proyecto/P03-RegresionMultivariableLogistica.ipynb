{
 "cells": [
  {
   "cell_type": "markdown",
   "metadata": {},
   "source": [
    "# Multiclase Logistic Regression \n",
    "<!-- ver [1](https://towardsdatascience.com/multivariate-logistic-regression-in-python-7c6255a286ec) y [2](https://www.datacamp.com/community/tutorials/understanding-logistic-regression-python) -->\n",
    "\n",
    "ver [1](https://towardsdatascience.com/multiclass-logistic-regression-from-scratch-9cc0007da372#:~:text=Multiclass%20logistic%20regression%20is%20also,really%20know%20how%20it%20works.), [2](https://www.kaggle.com/satishgunjal/multiclass-logistic-regression-using-sklearn), [3](https://scikit-learn.org/stable/modules/multiclass.html)\n",
    "\n",
    "Clases desbalanceadas [4](https://github.com/jbagnato/machine-learning/blob/master/Ejercicio_imbalanced_data.ipynb)\n",
    "\n",
    "## Clasificación multiclase\n",
    "\n",
    "Se asume que cada instancia (fila de la tabla de datos) se asigna a una una etiqueta. Por ejemplo, en nuestro caso, la lectura de los sensores del robot en un tiempo de muestreo solo puede ser asignada a un movimiento particular, e.g. hacia adelante, a la izquierda, derecha o atrás, aqui en este ejemplo hay 4 etiquetas.\n",
    "\n",
    "Todos los clasificadores en Scikit-learn estan abilitados por defecto para manejar este tipo de clasificación."
   ]
  },
  {
   "cell_type": "markdown",
   "metadata": {},
   "source": [
    "### Formato target [5](https://scikit-learn.org/stable/modules/preprocessing_targets.html#preprocessing-targets)\n",
    "\n",
    "Se pueden usar dos tipos de codificación para la columnad de clases\n",
    "\n",
    "1. Un vector columna que contiene más de dos valores discretos (clases). *Se usa este tipo en el ejercicio*\n",
    "2. **Matriz de forma binaria densa o dispersa** (Dense or sparse binary matrix of shape), una matriz con número de filas igual a los ejemplos (o instancias) y número de columnas igual al número de clases. En esta matriz se incuentra un 1 en la columna correspondiente a la clase a la que pertenece la instancia.\n"
   ]
  },
  {
   "cell_type": "markdown",
   "metadata": {},
   "source": [
    "### OneVsRestClassifier - one-vs-all\n",
    "\n",
    "Se ajusta un clasificador por cada clase."
   ]
  },
  {
   "cell_type": "code",
   "execution_count": 2,
   "metadata": {},
   "outputs": [],
   "source": [
    "import pandas as pd\n",
    "import numpy as np\n",
    "import matplotlib.pyplot as plt\n",
    "from sklearn import datasets\n",
    "from sklearn import model_selection\n",
    "from sklearn import linear_model\n",
    "from sklearn import metrics\n"
   ]
  },
  {
   "cell_type": "code",
   "execution_count": 3,
   "metadata": {},
   "outputs": [],
   "source": [
    "# Cargar datos\n",
    "df = pd.read_csv(\"Data/robot_wall_follower/sensor_readings_4.csv\", header=None,\n",
    "                 names=[\"sd_front\", \"sd_left\", \"sd_right\", \"sd_back\", \"target\"])\n"
   ]
  },
  {
   "cell_type": "code",
   "execution_count": 4,
   "metadata": {},
   "outputs": [
    {
     "data": {
      "text/html": [
       "<div>\n",
       "<style scoped>\n",
       "    .dataframe tbody tr th:only-of-type {\n",
       "        vertical-align: middle;\n",
       "    }\n",
       "\n",
       "    .dataframe tbody tr th {\n",
       "        vertical-align: top;\n",
       "    }\n",
       "\n",
       "    .dataframe thead th {\n",
       "        text-align: right;\n",
       "    }\n",
       "</style>\n",
       "<table border=\"1\" class=\"dataframe\">\n",
       "  <thead>\n",
       "    <tr style=\"text-align: right;\">\n",
       "      <th></th>\n",
       "      <th>sd_front</th>\n",
       "      <th>sd_left</th>\n",
       "      <th>sd_right</th>\n",
       "      <th>sd_back</th>\n",
       "      <th>target</th>\n",
       "    </tr>\n",
       "  </thead>\n",
       "  <tbody>\n",
       "    <tr>\n",
       "      <th>0</th>\n",
       "      <td>1.687</td>\n",
       "      <td>0.445</td>\n",
       "      <td>2.332</td>\n",
       "      <td>0.429</td>\n",
       "      <td>Slight-Right-Turn</td>\n",
       "    </tr>\n",
       "    <tr>\n",
       "      <th>1</th>\n",
       "      <td>1.687</td>\n",
       "      <td>0.449</td>\n",
       "      <td>2.332</td>\n",
       "      <td>0.429</td>\n",
       "      <td>Slight-Right-Turn</td>\n",
       "    </tr>\n",
       "    <tr>\n",
       "      <th>2</th>\n",
       "      <td>1.687</td>\n",
       "      <td>0.449</td>\n",
       "      <td>2.334</td>\n",
       "      <td>0.429</td>\n",
       "      <td>Slight-Right-Turn</td>\n",
       "    </tr>\n",
       "    <tr>\n",
       "      <th>3</th>\n",
       "      <td>1.687</td>\n",
       "      <td>0.449</td>\n",
       "      <td>2.334</td>\n",
       "      <td>0.429</td>\n",
       "      <td>Slight-Right-Turn</td>\n",
       "    </tr>\n",
       "    <tr>\n",
       "      <th>4</th>\n",
       "      <td>1.687</td>\n",
       "      <td>0.449</td>\n",
       "      <td>2.334</td>\n",
       "      <td>0.429</td>\n",
       "      <td>Slight-Right-Turn</td>\n",
       "    </tr>\n",
       "  </tbody>\n",
       "</table>\n",
       "</div>"
      ],
      "text/plain": [
       "   sd_front  sd_left  sd_right  sd_back             target\n",
       "0     1.687    0.445     2.332    0.429  Slight-Right-Turn\n",
       "1     1.687    0.449     2.332    0.429  Slight-Right-Turn\n",
       "2     1.687    0.449     2.334    0.429  Slight-Right-Turn\n",
       "3     1.687    0.449     2.334    0.429  Slight-Right-Turn\n",
       "4     1.687    0.449     2.334    0.429  Slight-Right-Turn"
      ]
     },
     "execution_count": 4,
     "metadata": {},
     "output_type": "execute_result"
    }
   ],
   "source": [
    "df.head()"
   ]
  },
  {
   "cell_type": "code",
   "execution_count": 5,
   "metadata": {},
   "outputs": [],
   "source": [
    "X = df.loc[:, df.columns != 'target']  # array numpy\n",
    "y = df.target  # serie\n"
   ]
  },
  {
   "cell_type": "code",
   "execution_count": 6,
   "metadata": {},
   "outputs": [],
   "source": [
    "X_train, X_test, y_train, y_test = model_selection.train_test_split(X, y, test_size=0.2, random_state=1)\n"
   ]
  },
  {
   "cell_type": "code",
   "execution_count": 28,
   "metadata": {},
   "outputs": [
    {
     "data": {
      "text/html": [
       "<div>\n",
       "<style scoped>\n",
       "    .dataframe tbody tr th:only-of-type {\n",
       "        vertical-align: middle;\n",
       "    }\n",
       "\n",
       "    .dataframe tbody tr th {\n",
       "        vertical-align: top;\n",
       "    }\n",
       "\n",
       "    .dataframe thead th {\n",
       "        text-align: right;\n",
       "    }\n",
       "</style>\n",
       "<table border=\"1\" class=\"dataframe\">\n",
       "  <thead>\n",
       "    <tr style=\"text-align: right;\">\n",
       "      <th></th>\n",
       "      <th>sd_front</th>\n",
       "      <th>sd_left</th>\n",
       "      <th>sd_right</th>\n",
       "      <th>sd_back</th>\n",
       "    </tr>\n",
       "  </thead>\n",
       "  <tbody>\n",
       "    <tr>\n",
       "      <th>447</th>\n",
       "      <td>1.496</td>\n",
       "      <td>0.485</td>\n",
       "      <td>1.873</td>\n",
       "      <td>1.090</td>\n",
       "    </tr>\n",
       "    <tr>\n",
       "      <th>5249</th>\n",
       "      <td>2.846</td>\n",
       "      <td>0.634</td>\n",
       "      <td>1.637</td>\n",
       "      <td>0.864</td>\n",
       "    </tr>\n",
       "    <tr>\n",
       "      <th>3079</th>\n",
       "      <td>0.593</td>\n",
       "      <td>0.778</td>\n",
       "      <td>2.898</td>\n",
       "      <td>1.890</td>\n",
       "    </tr>\n",
       "    <tr>\n",
       "      <th>5187</th>\n",
       "      <td>0.840</td>\n",
       "      <td>0.468</td>\n",
       "      <td>1.495</td>\n",
       "      <td>1.427</td>\n",
       "    </tr>\n",
       "    <tr>\n",
       "      <th>2361</th>\n",
       "      <td>0.780</td>\n",
       "      <td>0.723</td>\n",
       "      <td>1.528</td>\n",
       "      <td>0.746</td>\n",
       "    </tr>\n",
       "  </tbody>\n",
       "</table>\n",
       "</div>"
      ],
      "text/plain": [
       "      sd_front  sd_left  sd_right  sd_back\n",
       "447      1.496    0.485     1.873    1.090\n",
       "5249     2.846    0.634     1.637    0.864\n",
       "3079     0.593    0.778     2.898    1.890\n",
       "5187     0.840    0.468     1.495    1.427\n",
       "2361     0.780    0.723     1.528    0.746"
      ]
     },
     "execution_count": 28,
     "metadata": {},
     "output_type": "execute_result"
    }
   ],
   "source": [
    "X_test.head()"
   ]
  },
  {
   "cell_type": "code",
   "execution_count": 52,
   "metadata": {},
   "outputs": [
    {
     "data": {
      "text/plain": [
       "LogisticRegression(class_weight='balanced', multi_class='ovr',\n",
       "                   solver='liblinear')"
      ]
     },
     "execution_count": 52,
     "metadata": {},
     "output_type": "execute_result"
    }
   ],
   "source": [
    "lm = linear_model.LogisticRegression(multi_class='ovr', solver='liblinear',class_weight=\"balanced\")\n",
    "# warm_start=True - inicia desde el anterior modelo\n",
    "# class_weight=\"balanced\"\n",
    "lm.fit(X_train, y_train)\n"
   ]
  },
  {
   "cell_type": "code",
   "execution_count": 46,
   "metadata": {},
   "outputs": [
    {
     "data": {
      "text/plain": [
       "sd_front    2.846\n",
       "sd_left     0.634\n",
       "sd_right    1.637\n",
       "sd_back     0.864\n",
       "Name: 5249, dtype: float64"
      ]
     },
     "execution_count": 46,
     "metadata": {},
     "output_type": "execute_result"
    }
   ],
   "source": [
    "X_test.loc[5249,:]"
   ]
  },
  {
   "cell_type": "markdown",
   "metadata": {},
   "source": [
    "## Evaluación del modelo\n",
    "\n",
    "Solo usamos el conjunto test"
   ]
  },
  {
   "cell_type": "code",
   "execution_count": 47,
   "metadata": {},
   "outputs": [
    {
     "data": {
      "text/plain": [
       "'Move-Forward'"
      ]
     },
     "execution_count": 47,
     "metadata": {},
     "output_type": "execute_result"
    }
   ],
   "source": [
    "y_test[5249]"
   ]
  },
  {
   "cell_type": "code",
   "execution_count": 53,
   "metadata": {},
   "outputs": [
    {
     "name": "stdout",
     "output_type": "stream",
     "text": [
      "Predicted value is = ['Slight-Right-Turn']\n",
      "Actual value from test data is Slight-Right-Turn\n"
     ]
    }
   ],
   "source": [
    "print('Predicted value is =', lm.predict([X_test.loc[447, :]]))\n",
    "\n",
    "print('Actual value from test data is %s' %\n",
    "       (y_test[447]))\n"
   ]
  },
  {
   "cell_type": "markdown",
   "metadata": {},
   "source": [
    "## Puntuación del modelo"
   ]
  },
  {
   "cell_type": "code",
   "execution_count": 54,
   "metadata": {},
   "outputs": [
    {
     "data": {
      "text/plain": [
       "0.9194139194139194"
      ]
     },
     "execution_count": 54,
     "metadata": {},
     "output_type": "execute_result"
    }
   ],
   "source": [
    "lm.score(X_test, y_test)\n"
   ]
  },
  {
   "cell_type": "markdown",
   "metadata": {},
   "source": [
    "## Matriz de confusión\n",
    "\n",
    "* La matriz de confusión ayuda a visualizar el rendimiento del modelo.\n",
    "* Los elementos diagonales representan el número de puntos para los cuales la etiqueta predicha es igual a la etiqueta verdadera\n",
    "* Los elementos fuera de la diagonal son aquellos que están mal etiquetados por el clasificador.\n",
    "* Cuanto más altos sean los valores diagonales de la matriz de confusión, mejor, indicando muchos correctos\n",
    " \n",
    "Creemos una matriz de confusión usando la biblioteca de sklearn y los datos de prueba"
   ]
  },
  {
   "cell_type": "code",
   "execution_count": 55,
   "metadata": {},
   "outputs": [
    {
     "data": {
      "text/plain": [
       "array([[330,  56,   4,  19],\n",
       "       [  0, 443,   3,   0],\n",
       "       [  0,   3,  73,   0],\n",
       "       [  1,   2,   0, 158]])"
      ]
     },
     "execution_count": 55,
     "metadata": {},
     "output_type": "execute_result"
    },
    {
     "data": {
      "image/png": "[encoded data removed]",
      "text/plain": [
       "<Figure size 1440x576 with 2 Axes>"
      ]
     },
     "metadata": {
      "needs_background": "light"
     },
     "output_type": "display_data"
    }
   ],
   "source": [
    "#Creating matplotlib axes object to assign figuresize and figure title\n",
    "fig, ax = plt.subplots(figsize=(20, 8))\n",
    "ax.set_title('Confusion Matrx')\n",
    "\n",
    "disp = metrics.plot_confusion_matrix(lm, X_test, y_test,ax=ax)#, display_labels=y_test, ax=ax)\n",
    "disp.confusion_matrix\n"
   ]
  },
  {
   "cell_type": "markdown",
   "metadata": {},
   "source": [
    "## Informe de clasificación\n",
    "\n",
    "El informe de clasificación se utiliza para medir la calidad de la predicción del algoritmo de clasificación.\n",
    " \n",
    "* Precisión: indica cuántas clases están correctamente clasificadas\n",
    "* Recall: indica qué proporciones de positivos reales se identificaron correctamente\n",
    "* F-Score: es la media armónica entre precisión y recall\n",
    "* Soporte: es el número de ocurrencias de la clase dada en nuestro conjunto de datos\n",
    "\n",
    "> Dado que las clases son desbalanceadas la metrica que deberíamos revisar es f1, sensibilidad o precisión."
   ]
  },
  {
   "cell_type": "code",
   "execution_count": 56,
   "metadata": {},
   "outputs": [
    {
     "name": "stdout",
     "output_type": "stream",
     "text": [
      "                   precision    recall  f1-score   support\n",
      "\n",
      "     Move-Forward       1.00      0.81      0.89       409\n",
      " Sharp-Right-Turn       0.88      0.99      0.93       446\n",
      " Slight-Left-Turn       0.91      0.96      0.94        76\n",
      "Slight-Right-Turn       0.89      0.98      0.93       161\n",
      "\n",
      "         accuracy                           0.92      1092\n",
      "        macro avg       0.92      0.94      0.92      1092\n",
      "     weighted avg       0.93      0.92      0.92      1092\n",
      "\n"
     ]
    }
   ],
   "source": [
    "print(metrics.classification_report(y_test, lm.predict(X_test)))\n"
   ]
  },
  {
   "cell_type": "markdown",
   "metadata": {},
   "source": [
    "> Al ajustar el parametro en el modelo de clases balanceadas, el modelo en el conjunto de test mejoro sustancialmente!! ver [5](https://machinelearningparatodos.com/tratamiento-de-clases-desbalanceadas/),[6](https://www.aprendemachinelearning.com/clasificacion-con-datos-desbalanceados/)"
   ]
  },
  {
   "cell_type": "markdown",
   "metadata": {},
   "source": [
    "## Porhacer\n",
    "\n",
    "1. Ver si se deben normalizar los datos\n",
    "2. Ver si se debe regularizar (Por defecto aplica L2) ver [7](https://www.iartificial.net/regularizacion-lasso-l1-ridge-l2-y-elasticnet/)\n",
    "3. Ajustar los parámetros usando la libreria que se puede ajustar varios modelos de una vez\n"
   ]
  },
  {
   "cell_type": "markdown",
   "metadata": {},
   "source": [
    "## Otras alternativas (no exploradas)"
   ]
  },
  {
   "cell_type": "markdown",
   "metadata": {},
   "source": [
    "### OneVsOneClasifier\n",
    "Construye un clasificador por cada par de clases. La clase que recibe mas votos se selecciona. Si hay un empate se se seleeciona la de mayor confidencia.\n",
    "\n",
    "ESte es mas lento que el OneVsRest"
   ]
  },
  {
   "cell_type": "markdown",
   "metadata": {},
   "source": [
    "### OutputCodeClassifier\n",
    "\n",
    "Cada clase se representa com un espacio euclidiano. Y cada clase se representa con un número binario. SE genera un libro de codigo (code book) que es una matriz que localiza o codifica cada clase. Al entrenar un clasificador binario por bit en el code book se ajusta. Cuando se predice, el clasificador se usa para proyectar nuevos puntos en el espacio de la clase y la clase mas cercana al punto es la escojida.\n",
    "\n"
   ]
  },
  {
   "cell_type": "markdown",
   "metadata": {},
   "source": [
    "### Multilabel Clasification\n",
    "\n",
    "Permite clasificar en una base de datos donde una instancia puede pertencer a una clase, varias o todas, se conoce como multilabel. No aplica para nuestro ejemplo."
   ]
  }
 ],
 "metadata": {
  "interpreter": {
   "hash": "31f2aee4e71d21fbe5cf8b01ff0e069b9275f58929596ceb00d14d90e3e16cd6"
  },
  "kernelspec": {
   "display_name": "Python 3.8.10 64-bit",
   "name": "python3"
  },
  "language_info": {
   "codemirror_mode": {
    "name": "ipython",
    "version": 3
   },
   "file_extension": ".py",
   "mimetype": "text/x-python",
   "name": "python",
   "nbconvert_exporter": "python",
   "pygments_lexer": "ipython3",
   "version": "3.8.10"
  },
  "orig_nbformat": 4
 },
 "nbformat": 4,
 "nbformat_minor": 2
}
