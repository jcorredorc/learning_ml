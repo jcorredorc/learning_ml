{
 "cells": [
  {
   "cell_type": "markdown",
   "source": [
    "# Multivariable Logistic Regression \n",
    "ver [1](https://towardsdatascience.com/multivariate-logistic-regression-in-python-7c6255a286ec) y [2](https://www.datacamp.com/community/tutorials/understanding-logistic-regression-python)\n"
   ],
   "metadata": {}
  },
  {
   "cell_type": "code",
   "execution_count": null,
   "source": [],
   "outputs": [],
   "metadata": {}
  }
 ],
 "metadata": {
  "orig_nbformat": 4,
  "language_info": {
   "name": "python"
  }
 },
 "nbformat": 4,
 "nbformat_minor": 2
}