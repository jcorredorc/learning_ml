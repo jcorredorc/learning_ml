{
    "cells": [
        {
            "cell_type": "markdown",
            "source": [
                "# Bases de datos\n",
                "\n",
                "Considerando el area de interes se revisan algunas bases de datos relacionadas con robótica, control e interacción humano-robot. En esta ultima se consideran bases de datos que permitan determinar localización o reconocer actividades realizadas por los humanos.\n",
                "\n",
                "## UC Irvine Machine Learning Repository\n",
                "[Mobile Robots Data Set](https://archive.ics.uci.edu/ml/datasets/Mobile+Robots)\n",
                "\n",
                "[Servo Data Set](https://archive.ics.uci.edu/ml/datasets/Servo)\n",
                "\n",
                "[Pioneer-1 Mobile Robot Data Data Set](https://archive.ics.uci.edu/ml/datasets/Pioneer-1+Mobile+Robot+Data)\n",
                "\n",
                "[Robot Execution Failures Data Set](https://archive.ics.uci.edu/ml/datasets/Robot+Execution+Failures)\n",
                "\n",
                "[Activities of Daily Living (ADLs) Recognition Using Binary Sensors Data Set](https://archive.ics.uci.edu/ml/datasets/Activities+of+Daily+Living+%28ADLs%29+Recognition+Using+Binary+Sensors)\n",
                "\n",
                "[ElectricityLoadDiagrams20112014 Data Set](https://archive.ics.uci.edu/ml/datasets/ElectricityLoadDiagrams20112014)\n",
                "\n",
                "[Gas sensors for home activity monitoring Data Set](https://archive.ics.uci.edu/ml/datasets/Gas+sensors+for+home+activity+monitoring)\n",
                "\n",
                "[Wireless Indoor Localization Data Set](https://archive.ics.uci.edu/ml/datasets/Wireless+Indoor+Localization)\n",
                "\n",
                "[Human Activity Recognition from Continuous Ambient Sensor Data Data Set](https://archive.ics.uci.edu/ml/datasets/Human+Activity+Recognition+from+Continuous+Ambient+Sensor+Data)\n",
                "\n",
                "[Synchronous Machine Data Set Data Set](https://archive.ics.uci.edu/ml/datasets/Synchronous+Machine+Data+Set)\n",
                "\n",
                "[Activities of Daily Living (ADLs) Recognition Using Binary Sensors Data Set](https://archive.ics.uci.edu/ml/datasets/Activities+of+Daily+Living+%28ADLs%29+Recognition+Using+Binary+Sensors)\n",
                "\n",
                "## Kaggle datasets\n",
                "\n",
                "[Sensor readings from a wall-following robot](https://www.kaggle.com/uciml/wall-following-robot)\n",
                "\n",
                "[Cooperative robot collision/current dataset](https://www.kaggle.com/intema/cooperative-robot-collisioncurrent-dataset)\n",
                "\n",
                "## Amazon’s AWS datasets\n",
                "\n",
                "[Yale-CMU-Berkeley (YCB) Object and Model Set](https://registry.opendata.aws/ycb-benchmarks/)"
            ],
            "metadata": {}
        }
    ],
    "metadata": {
        "orig_nbformat": 4,
        "language_info": {
            "name": "python"
        }
    },
    "nbformat": 4,
    "nbformat_minor": 2
}