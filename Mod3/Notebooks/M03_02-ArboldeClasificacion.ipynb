{
 "cells": [
  {
   "cell_type": "markdown",
   "source": [
    "# Aprendizaje supervisado - Árboles de clasificación\n",
    "![Árbol de clasificación](images/ilustracion_arb_clasi.png)"
   ],
   "metadata": {}
  },
  {
   "cell_type": "markdown",
   "source": [
    "## Carga del conjunto de datos"
   ],
   "metadata": {}
  },
  {
   "cell_type": "code",
   "execution_count": null,
   "source": [
    "# Importar modulos para el tratamiento de los datos y visualizaciones\n",
    "import pandas as pd\n",
    "import numpy as np\n",
    "import seaborn as sns\n",
    "import matplotlib.pyplot as plt"
   ],
   "outputs": [],
   "metadata": {
    "ExecuteTime": {
     "end_time": "2021-08-10T18:01:41.774518Z",
     "start_time": "2021-08-10T18:01:29.600800Z"
    },
    "solution": "hidden",
    "solution_first": true
   }
  },
  {
   "cell_type": "code",
   "execution_count": null,
   "source": [
    "# Cargar los datos en un dataframe de Pandas\n",
    "url = 'https://raw.githubusercontent.com/JASDataCTG/Diplomado-ML/main/Modulo%203/Datasets/Movie_classificationesclas.csv'\n",
    "df = pd.read_csv(url, header=0)"
   ],
   "outputs": [],
   "metadata": {
    "ExecuteTime": {
     "end_time": "2021-08-10T18:01:42.292632Z",
     "start_time": "2021-08-10T18:01:41.781511Z"
    }
   }
  },
  {
   "cell_type": "code",
   "execution_count": null,
   "source": [
    "df.head()"
   ],
   "outputs": [],
   "metadata": {
    "ExecuteTime": {
     "end_time": "2021-08-10T18:01:42.365649Z",
     "start_time": "2021-08-10T18:01:42.339642Z"
    }
   }
  },
  {
   "cell_type": "code",
   "execution_count": null,
   "source": [
    "df.info()"
   ],
   "outputs": [],
   "metadata": {
    "ExecuteTime": {
     "end_time": "2021-08-10T18:01:42.387645Z",
     "start_time": "2021-08-10T18:01:42.377644Z"
    }
   }
  },
  {
   "cell_type": "markdown",
   "source": [
    "### Imputación de valores faltantes"
   ],
   "metadata": {}
  },
  {
   "cell_type": "code",
   "execution_count": null,
   "source": [
    "df['Tiempo realizacion'].mean()"
   ],
   "outputs": [],
   "metadata": {
    "ExecuteTime": {
     "end_time": "2021-08-10T18:01:42.405652Z",
     "start_time": "2021-08-10T18:01:42.401649Z"
    }
   }
  },
  {
   "cell_type": "code",
   "execution_count": null,
   "source": [
    "# Imputar los valores faltantes con la media de los valores existentes\n",
    "df['Tiempo realizacion'].fillna(value = df['Tiempo realizacion'].mean(), inplace = True)"
   ],
   "outputs": [],
   "metadata": {
    "ExecuteTime": {
     "end_time": "2021-08-10T18:01:42.426655Z",
     "start_time": "2021-08-10T18:01:42.422656Z"
    }
   }
  },
  {
   "cell_type": "code",
   "execution_count": null,
   "source": [
    "df.head()"
   ],
   "outputs": [],
   "metadata": {
    "ExecuteTime": {
     "end_time": "2021-08-10T18:01:42.452662Z",
     "start_time": "2021-08-10T18:01:42.440660Z"
    }
   }
  },
  {
   "cell_type": "code",
   "execution_count": null,
   "source": [
    "df.info()"
   ],
   "outputs": [],
   "metadata": {
    "ExecuteTime": {
     "end_time": "2021-08-10T18:01:42.474665Z",
     "start_time": "2021-08-10T18:01:42.465664Z"
    }
   }
  },
  {
   "cell_type": "markdown",
   "source": [
    "### Creación de variables dummy"
   ],
   "metadata": {}
  },
  {
   "cell_type": "code",
   "execution_count": null,
   "source": [
    "list(dict.fromkeys(df['Genero']))"
   ],
   "outputs": [],
   "metadata": {
    "ExecuteTime": {
     "end_time": "2021-08-10T18:01:42.492671Z",
     "start_time": "2021-08-10T18:01:42.488668Z"
    }
   }
  },
  {
   "cell_type": "code",
   "execution_count": null,
   "source": [
    "# Crear variables dummy eliminando una de ellas y el atributo que la origina\n",
    "df = pd.get_dummies(df, columns = ['Disponibilidad 3D', 'Genero'], drop_first = True)"
   ],
   "outputs": [],
   "metadata": {
    "ExecuteTime": {
     "end_time": "2021-08-10T18:01:42.517674Z",
     "start_time": "2021-08-10T18:01:42.509675Z"
    }
   }
  },
  {
   "cell_type": "code",
   "execution_count": null,
   "source": [
    "df.head()"
   ],
   "outputs": [],
   "metadata": {
    "ExecuteTime": {
     "end_time": "2021-08-10T18:01:42.544681Z",
     "start_time": "2021-08-10T18:01:42.531678Z"
    }
   }
  },
  {
   "cell_type": "markdown",
   "source": [
    "### División en la variable predicha y el vector de características"
   ],
   "metadata": {}
  },
  {
   "cell_type": "code",
   "execution_count": null,
   "source": [
    "X = df.loc[:, df.columns!= 'Gana Oscar']"
   ],
   "outputs": [],
   "metadata": {
    "ExecuteTime": {
     "end_time": "2021-08-10T18:01:42.562685Z",
     "start_time": "2021-08-10T18:01:42.558685Z"
    }
   }
  },
  {
   "cell_type": "code",
   "execution_count": null,
   "source": [
    "X.head()"
   ],
   "outputs": [],
   "metadata": {
    "ExecuteTime": {
     "end_time": "2021-08-10T18:01:42.596692Z",
     "start_time": "2021-08-10T18:01:42.584690Z"
    }
   }
  },
  {
   "cell_type": "code",
   "execution_count": null,
   "source": [
    "X.shape"
   ],
   "outputs": [],
   "metadata": {
    "ExecuteTime": {
     "end_time": "2021-08-10T18:01:48.128925Z",
     "start_time": "2021-08-10T18:01:48.125930Z"
    }
   }
  },
  {
   "cell_type": "code",
   "execution_count": null,
   "source": [
    "y = df['Gana Oscar']"
   ],
   "outputs": [],
   "metadata": {
    "ExecuteTime": {
     "end_time": "2021-08-10T18:01:49.231170Z",
     "start_time": "2021-08-10T18:01:49.229169Z"
    }
   }
  },
  {
   "cell_type": "code",
   "execution_count": null,
   "source": [
    "y.head()"
   ],
   "outputs": [],
   "metadata": {
    "ExecuteTime": {
     "end_time": "2021-08-10T18:01:50.236394Z",
     "start_time": "2021-08-10T18:01:50.231392Z"
    }
   }
  },
  {
   "cell_type": "code",
   "execution_count": null,
   "source": [
    "y.shape"
   ],
   "outputs": [],
   "metadata": {
    "ExecuteTime": {
     "end_time": "2021-08-10T18:01:51.220614Z",
     "start_time": "2021-08-10T18:01:51.217620Z"
    }
   }
  },
  {
   "cell_type": "markdown",
   "source": [
    "### Creación del conjunto de entrenamiento y validación"
   ],
   "metadata": {}
  },
  {
   "cell_type": "code",
   "execution_count": null,
   "source": [
    "# Cargar el modulo para dividir el conjunto de datos en conjunto de entrenamiento y validación\n",
    "from sklearn.model_selection import train_test_split"
   ],
   "outputs": [],
   "metadata": {
    "ExecuteTime": {
     "end_time": "2021-08-10T18:01:55.491899Z",
     "start_time": "2021-08-10T18:01:53.827192Z"
    }
   }
  },
  {
   "cell_type": "code",
   "execution_count": null,
   "source": [
    "X_train, X_test, y_train, y_test = train_test_split(X, y, test_size = 0.2, random_state = 0)"
   ],
   "outputs": [],
   "metadata": {
    "ExecuteTime": {
     "end_time": "2021-08-10T18:01:55.522907Z",
     "start_time": "2021-08-10T18:01:55.511904Z"
    }
   }
  },
  {
   "cell_type": "code",
   "execution_count": null,
   "source": [
    "X_train.head()"
   ],
   "outputs": [],
   "metadata": {
    "ExecuteTime": {
     "end_time": "2021-08-10T18:01:55.570910Z",
     "start_time": "2021-08-10T18:01:55.557917Z"
    }
   }
  },
  {
   "cell_type": "code",
   "execution_count": null,
   "source": [
    "X_train.shape"
   ],
   "outputs": [],
   "metadata": {
    "ExecuteTime": {
     "end_time": "2021-08-10T18:01:55.783957Z",
     "start_time": "2021-08-10T18:01:55.780956Z"
    }
   }
  },
  {
   "cell_type": "code",
   "execution_count": null,
   "source": [
    "X_test.shape"
   ],
   "outputs": [],
   "metadata": {
    "ExecuteTime": {
     "end_time": "2021-08-10T18:01:57.146262Z",
     "start_time": "2021-08-10T18:01:57.143261Z"
    }
   }
  },
  {
   "cell_type": "markdown",
   "source": [
    "### Entrenamiento del árbol de clasificación"
   ],
   "metadata": {}
  },
  {
   "cell_type": "code",
   "execution_count": null,
   "source": [
    "# Importar modulo para la creación de los árboles\n",
    "from sklearn import tree"
   ],
   "outputs": [],
   "metadata": {
    "ExecuteTime": {
     "end_time": "2021-08-10T18:02:00.029427Z",
     "start_time": "2021-08-10T18:01:59.021212Z"
    }
   }
  },
  {
   "cell_type": "code",
   "execution_count": null,
   "source": [
    "arbolclas = tree.DecisionTreeClassifier(max_depth = 3)"
   ],
   "outputs": [],
   "metadata": {
    "ExecuteTime": {
     "end_time": "2021-08-10T18:02:00.067436Z",
     "start_time": "2021-08-10T18:02:00.063442Z"
    }
   }
  },
  {
   "cell_type": "code",
   "execution_count": null,
   "source": [
    "arbolclas.fit(X_train, y_train)"
   ],
   "outputs": [],
   "metadata": {
    "ExecuteTime": {
     "end_time": "2021-08-10T18:02:00.129449Z",
     "start_time": "2021-08-10T18:02:00.111446Z"
    }
   }
  },
  {
   "cell_type": "markdown",
   "source": [
    "### Predicción en el conjunto de entrenamiento y validación"
   ],
   "metadata": {}
  },
  {
   "cell_type": "code",
   "execution_count": null,
   "source": [
    "y_train_pred = arbolclas.predict(X_train)\n",
    "y_test_pred = arbolclas.predict(X_test)"
   ],
   "outputs": [],
   "metadata": {
    "ExecuteTime": {
     "end_time": "2021-08-10T18:02:06.050775Z",
     "start_time": "2021-08-10T18:02:06.044766Z"
    },
    "tags": []
   }
  },
  {
   "cell_type": "code",
   "execution_count": null,
   "source": [
    "y_test_pred"
   ],
   "outputs": [],
   "metadata": {
    "ExecuteTime": {
     "end_time": "2021-08-10T18:02:07.090998Z",
     "start_time": "2021-08-10T18:02:07.086007Z"
    },
    "tags": []
   }
  },
  {
   "cell_type": "markdown",
   "source": [
    "### Métricas del modelo"
   ],
   "metadata": {}
  },
  {
   "cell_type": "code",
   "execution_count": null,
   "source": [
    "from sklearn.metrics import confusion_matrix, accuracy_score, roc_auc_score\n",
    "from mlxtend.plotting import plot_confusion_matrix"
   ],
   "outputs": [],
   "metadata": {
    "ExecuteTime": {
     "end_time": "2021-08-10T18:02:09.406520Z",
     "start_time": "2021-08-10T18:02:09.188473Z"
    }
   }
  },
  {
   "cell_type": "code",
   "execution_count": null,
   "source": [
    "confusion_matrix(y_test, y_test_pred)"
   ],
   "outputs": [],
   "metadata": {
    "ExecuteTime": {
     "end_time": "2021-08-10T18:02:10.570774Z",
     "start_time": "2021-08-10T18:02:10.565773Z"
    }
   }
  },
  {
   "cell_type": "code",
   "execution_count": null,
   "source": [
    "plot_confusion_matrix(conf_mat = confusion_matrix(y_train, y_train_pred), figsize=(6,6), show_normed=False)\n",
    "plt.tight_layout(pad = 10)"
   ],
   "outputs": [],
   "metadata": {
    "ExecuteTime": {
     "end_time": "2021-08-10T18:02:11.849065Z",
     "start_time": "2021-08-10T18:02:11.528987Z"
    }
   }
  },
  {
   "cell_type": "code",
   "execution_count": null,
   "source": [
    "plot_confusion_matrix(conf_mat = confusion_matrix(y_test, y_test_pred), figsize=(6,6), show_normed=False)\n",
    "plt.tight_layout(pad = 10)"
   ],
   "outputs": [],
   "metadata": {
    "ExecuteTime": {
     "end_time": "2021-08-10T18:02:12.529218Z",
     "start_time": "2021-08-10T18:02:12.444191Z"
    }
   }
  },
  {
   "cell_type": "code",
   "execution_count": null,
   "source": [
    "accuracy_score(y_test, y_test_pred)"
   ],
   "outputs": [],
   "metadata": {
    "ExecuteTime": {
     "end_time": "2021-08-10T18:02:14.126572Z",
     "start_time": "2021-08-10T18:02:14.122572Z"
    }
   }
  },
  {
   "cell_type": "code",
   "execution_count": null,
   "source": [
    "roc_auc_score(y_test, y_test_pred)"
   ],
   "outputs": [],
   "metadata": {
    "ExecuteTime": {
     "end_time": "2021-08-10T18:02:17.195248Z",
     "start_time": "2021-08-10T18:02:17.190246Z"
    }
   }
  },
  {
   "cell_type": "markdown",
   "source": [
    "### Gráficar árbol de regresión"
   ],
   "metadata": {}
  },
  {
   "cell_type": "code",
   "execution_count": null,
   "source": [
    "# Utilizar el software graphviz para dar formato al árbol\n",
    "datos_graf = tree.export_graphviz(arbolclas, out_file = None, feature_names = X_train.columns,\n",
    "                                  filled = True, class_names = True)"
   ],
   "outputs": [],
   "metadata": {
    "ExecuteTime": {
     "end_time": "2021-08-10T18:02:19.707807Z",
     "start_time": "2021-08-10T18:02:19.701807Z"
    }
   }
  },
  {
   "cell_type": "code",
   "execution_count": null,
   "source": [
    "# Del shell interactivo Ipython importar las funciones para crear la imagen\n",
    "from IPython.display import Image"
   ],
   "outputs": [],
   "metadata": {
    "ExecuteTime": {
     "end_time": "2021-08-10T18:02:20.497983Z",
     "start_time": "2021-08-10T18:02:20.495982Z"
    },
    "tags": []
   }
  },
  {
   "cell_type": "code",
   "execution_count": null,
   "source": [
    "# Importar modulo que genera la estructura del árbol y graficarlo de acuerdo a los datos\n",
    "import pydotplus"
   ],
   "outputs": [],
   "metadata": {
    "ExecuteTime": {
     "end_time": "2021-08-10T18:02:23.492655Z",
     "start_time": "2021-08-10T18:02:23.451649Z"
    }
   }
  },
  {
   "cell_type": "code",
   "execution_count": null,
   "source": [
    "# Crear la imagen en formato png\n",
    "graph = pydotplus.graph_from_dot_data(datos_graf)\n",
    "Image(graph.create_png())\n",
    "#graph.write_png('arboloriginalclass.png') # Si se desea guardar el árbol"
   ],
   "outputs": [],
   "metadata": {
    "ExecuteTime": {
     "end_time": "2021-08-10T18:02:24.685914Z",
     "start_time": "2021-08-10T18:02:23.993760Z"
    }
   }
  },
  {
   "cell_type": "markdown",
   "source": [
    "### Controlando el crecimiento del árbol"
   ],
   "metadata": {}
  },
  {
   "cell_type": "code",
   "execution_count": null,
   "source": [
    "arbolclas1 = tree.DecisionTreeClassifier(max_depth = 4, min_samples_leaf = 20, min_samples_split = 15)\n",
    "arbolclas1.fit(X_train, y_train)\n",
    "datos_graf = tree.export_graphviz(arbolclas1, out_file = None, feature_names = X_train.columns,\n",
    "                                  filled = True, class_names = ['No Gana', 'Gana'])\n",
    "graph1 = pydotplus.graph_from_dot_data(datos_graf)\n",
    "Image(graph1.create_png())"
   ],
   "outputs": [],
   "metadata": {
    "ExecuteTime": {
     "end_time": "2021-08-10T18:02:29.432978Z",
     "start_time": "2021-08-10T18:02:29.306943Z"
    }
   }
  },
  {
   "cell_type": "markdown",
   "source": [
    "# Métodos de ensemble\n",
    "Los métodos de Bagging, Random Forests y Boosting permiten obtener una mejora sustancial en el rendimiento predictivo de los modelos basados en árboles, son modelos del tipo caja negra que son difíciles de interpretar o imposibles de interpretar en cierto nivel. Se conocen estos como métodos de ensemble o métodos combinados. Son aplicables a otros métodos de aprendizaje estadísticos para labores de regresión o clasificación.\n",
    "\n",
    "Los algoritmos ensamblados son algoritmos formados por algoritmos más simples. Estos algoritmos simples se unen para formar un algoritmo más potente.\n",
    "\n",
    "### Baggin\n",
    "El método de bagging o bootstrap aggregation es un procedimiento utilizado para reducir la varianza de un método de aprendizaje estadístico, usado muy frecuentemente con árboles de decisión.\n",
    "\n",
    "Para árboles de regresión la aplicación del bagging consiste en crear B árboles de regresión usando los B sets de entrenamiento generados por bootstrapping, promediando finalmente las predicciones resultantes. Estos árboles pueden crecer bastante ya que apenas se aplican restricciones, además de que no son podados. De esta manera cada árbol individual tiene alta varianza y poco bias, pero promediando los B árboles se contrarresta la varianza.\n",
    "\n",
    "Para árboles de clasificación dada una observación de validación, podemos obtener la clase predicha por cada uno de los B árboles, y escoger como predicción final para dicha observación la clase más común de entre las B predicciones (predicción de cada árbol).\n",
    "![Formula Bagging](images/bagging.png)\n",
    "\n",
    "![Concepto de bootstrap](images/bootrap_concept.png)\n",
    "\n",
    "https://scikit-learn.org/stable/modules/generated/sklearn.ensemble.BaggingClassifier.html"
   ],
   "metadata": {}
  },
  {
   "cell_type": "code",
   "execution_count": null,
   "source": [
    "# Importar modulo para Bagging\n",
    "from sklearn.ensemble import BaggingClassifier"
   ],
   "outputs": [],
   "metadata": {
    "ExecuteTime": {
     "end_time": "2021-08-09T23:00:49.816127Z",
     "start_time": "2021-08-09T23:00:49.697093Z"
    }
   }
  },
  {
   "cell_type": "code",
   "execution_count": null,
   "source": [
    "clas_bag = BaggingClassifier(base_estimator = arbolclas, n_estimators = 1000, bootstrap = True, n_jobs = -1, random_state = 123)"
   ],
   "outputs": [],
   "metadata": {
    "ExecuteTime": {
     "end_time": "2021-08-09T23:00:49.837132Z",
     "start_time": "2021-08-09T23:00:49.817121Z"
    }
   }
  },
  {
   "cell_type": "code",
   "execution_count": null,
   "source": [
    "clas_bag.fit(X_train, y_train)"
   ],
   "outputs": [],
   "metadata": {
    "ExecuteTime": {
     "end_time": "2021-08-09T23:00:52.968822Z",
     "start_time": "2021-08-09T23:00:49.839126Z"
    }
   }
  },
  {
   "cell_type": "code",
   "execution_count": null,
   "source": [
    "confusion_matrix(y_test, clas_bag.predict(X_test))"
   ],
   "outputs": [],
   "metadata": {
    "ExecuteTime": {
     "end_time": "2021-08-09T23:00:53.104852Z",
     "start_time": "2021-08-09T23:00:52.969824Z"
    }
   }
  },
  {
   "cell_type": "code",
   "execution_count": null,
   "source": [
    "accuracy_score(y_test, clas_bag.predict(X_test))"
   ],
   "outputs": [],
   "metadata": {
    "ExecuteTime": {
     "end_time": "2021-08-09T23:00:53.235889Z",
     "start_time": "2021-08-09T23:00:53.105854Z"
    }
   }
  },
  {
   "cell_type": "markdown",
   "source": [
    "### Random Forest\n",
    "Todos los árboles generados por Bagging usarán un predictor muy influyente en la primera ramificación, por lo que serán similares unos a otros, y las predicciones entre ellos estarán altamente correlacionadas, por lo tanto, la aplicación de Bagging promediando valores correlacionados no consigue una reducción sustancial de la varianza con respecto a un solo árbol.\n",
    "\n",
    "El método de Random Forests proporciona una mejora a los árboles combinados por Bagging en cuanto a que los descorrelaciona, teniendo en cuenta solo un subgrupo de predictores en cada división. Se construyen un número de árboles de decisión a partir de pseudo-muestras generadas por bootstrapping. Esta vez, se escogen de entre todos los $p$ predictores una muestra aleatoria de m predictores como candidatos antes de cada división, generalmente $m=\\sqrt{p}$ (si $m=p$, bagging y random forests darían resultados equivalentes).\n",
    "\n",
    "![RF1](images/rf1.png)\n",
    "![RF2](images/rf2.png)\n",
    "![RF3](images/rf3.png)\n",
    "![RF4](images/rf4.png)\n",
    "\n",
    "https://scikit-learn.org/stable/modules/generated/sklearn.ensemble.RandomForestClassifier.html?highlight=randomforestclassifier#sklearn.ensemble.RandomForestClassifier"
   ],
   "metadata": {}
  },
  {
   "cell_type": "code",
   "execution_count": null,
   "source": [
    "from sklearn.ensemble import RandomForestClassifier"
   ],
   "outputs": [],
   "metadata": {
    "ExecuteTime": {
     "end_time": "2021-08-09T23:00:53.240884Z",
     "start_time": "2021-08-09T23:00:53.236882Z"
    }
   }
  },
  {
   "cell_type": "code",
   "execution_count": null,
   "source": [
    "clas_rf = RandomForestClassifier(n_estimators = 1000, n_jobs = -1, random_state = 123)"
   ],
   "outputs": [],
   "metadata": {
    "ExecuteTime": {
     "end_time": "2021-08-09T23:00:53.244884Z",
     "start_time": "2021-08-09T23:00:53.241883Z"
    }
   }
  },
  {
   "cell_type": "code",
   "execution_count": null,
   "source": [
    "clas_rf.fit(X_train, y_train)"
   ],
   "outputs": [],
   "metadata": {
    "ExecuteTime": {
     "end_time": "2021-08-09T23:00:54.398141Z",
     "start_time": "2021-08-09T23:00:53.245884Z"
    }
   }
  },
  {
   "cell_type": "code",
   "execution_count": null,
   "source": [
    "confusion_matrix(y_test, clas_rf.predict(X_test))"
   ],
   "outputs": [],
   "metadata": {
    "ExecuteTime": {
     "end_time": "2021-08-09T23:00:54.508163Z",
     "start_time": "2021-08-09T23:00:54.399141Z"
    }
   }
  },
  {
   "cell_type": "code",
   "execution_count": null,
   "source": [
    "accuracy_score(y_test, clas_rf.predict(X_test))"
   ],
   "outputs": [],
   "metadata": {
    "ExecuteTime": {
     "end_time": "2021-08-09T23:00:54.616191Z",
     "start_time": "2021-08-09T23:00:54.509165Z"
    }
   }
  },
  {
   "cell_type": "markdown",
   "source": [
    "#### Grid Search\n",
    "https://scikit-learn.org/stable/modules/generated/sklearn.model_selection.GridSearchCV.html?highlight=gridsearchcv#sklearn.model_selection.GridSearchCV"
   ],
   "metadata": {}
  },
  {
   "cell_type": "code",
   "execution_count": null,
   "source": [
    "# Importar GridSearch para la prueba y elección de mejores estimaciones\n",
    "from sklearn.model_selection import GridSearchCV"
   ],
   "outputs": [],
   "metadata": {
    "ExecuteTime": {
     "end_time": "2021-08-09T23:00:54.621190Z",
     "start_time": "2021-08-09T23:00:54.617189Z"
    }
   }
  },
  {
   "cell_type": "code",
   "execution_count": null,
   "source": [
    "parametros = {'max_features' : [4, 5, 6, 7, 8, 9, 10], 'min_samples_split' : [2, 3, 10]}"
   ],
   "outputs": [],
   "metadata": {
    "ExecuteTime": {
     "end_time": "2021-08-09T23:00:54.626192Z",
     "start_time": "2021-08-09T23:00:54.622191Z"
    }
   }
  },
  {
   "cell_type": "code",
   "execution_count": null,
   "source": [
    "pru_param = GridSearchCV(clas_rf, parametros, n_jobs = -1, cv = 10, scoring = 'accuracy')"
   ],
   "outputs": [],
   "metadata": {
    "ExecuteTime": {
     "end_time": "2021-08-09T23:00:54.631192Z",
     "start_time": "2021-08-09T23:00:54.628193Z"
    }
   }
  },
  {
   "cell_type": "code",
   "execution_count": null,
   "source": [
    "pru_param.fit(X_train, y_train)"
   ],
   "outputs": [],
   "metadata": {
    "ExecuteTime": {
     "end_time": "2021-08-09T23:01:51.723900Z",
     "start_time": "2021-08-09T23:00:54.633193Z"
    }
   }
  },
  {
   "cell_type": "code",
   "execution_count": null,
   "source": [
    "pru_param.best_params_"
   ],
   "outputs": [],
   "metadata": {
    "ExecuteTime": {
     "end_time": "2021-08-09T23:01:51.728902Z",
     "start_time": "2021-08-09T23:01:51.724900Z"
    }
   }
  },
  {
   "cell_type": "code",
   "execution_count": null,
   "source": [
    "best_rf = pru_param.best_estimator_"
   ],
   "outputs": [],
   "metadata": {
    "ExecuteTime": {
     "end_time": "2021-08-09T23:01:51.733901Z",
     "start_time": "2021-08-09T23:01:51.730903Z"
    }
   }
  },
  {
   "cell_type": "code",
   "execution_count": null,
   "source": [
    "confusion_matrix(y_test, best_rf.predict(X_test))"
   ],
   "outputs": [],
   "metadata": {
    "ExecuteTime": {
     "end_time": "2021-08-09T23:01:51.846927Z",
     "start_time": "2021-08-09T23:01:51.734903Z"
    }
   }
  },
  {
   "cell_type": "code",
   "execution_count": null,
   "source": [
    "accuracy_score(y_test, best_rf.predict(X_test))"
   ],
   "outputs": [],
   "metadata": {
    "ExecuteTime": {
     "end_time": "2021-08-09T23:01:51.961954Z",
     "start_time": "2021-08-09T23:01:51.847928Z"
    }
   }
  },
  {
   "cell_type": "markdown",
   "source": [
    "### Boosting\n",
    "Boosting funciona de manera parecida al bagging en cuanto a que combina un gran número de árboles, a excepción de que los árboles se construyen de manera secuencial: cada árbol se genera usando información, concretamente los residuos, de árboles previamente generados, en lugar de utilizar la variable respuesta (por ello suelen ser suficientes árboles más pequeños, en lugar de un gran árbol que pueda sobreajustarse a los datos). Otra diferencia es que boosting no utiliza remuestreo por bootstrapping, sino que cada árbol se genera utilizando una versión modificada del set de datos original.\n",
    "\n",
    "Tres de los algoritmos de boosting más empleados son AdaBoost, Gradient Boosting y Stochastic Gradient Boosting. Todos ellos se caracterizan por tener una cantidad considerable de hiperparámetros, cuyo valor óptimo se tiene que identificar mediante validación cruzada. Tres de los más importantes son:\n",
    "\n",
    "* El número de weak learners o número de iteraciones: a diferencia del bagging y random forest, el boosting puede sufrir overfitting si este valor es excesivamente alto. Para evitarlo, se emplea un término de regularización conocido como learning rate.\n",
    "\n",
    "* Learning rate: controla la influencia que tiene cada weak learner en el conjunto del ensemble, es decir, el ritmo al que aprende el modelo. Suelen recomendarse valores de 0.001 o 0.01, aunque la elección correcta puede variar dependiendo del problema. Cuanto menor sea su valor, más árboles se necesitan para alcanzar buenos resultados pero menor es el riesgo de overfitting.\n",
    "\n",
    "* Si los weak learners son árboles, el tamaño máximo permitido de cada árbol. Suelen emplearse valores pequeños, entre 1 y 10.\n",
    "\n",
    "Estos métodos de Boosting tienen a disminuir el error con la desventaja de que el modelo resultante se sobreajuste a los datos de entrenamiento, esto lo logran disminuyendo el sesgo y la varianza:\n",
    "\n",
    "$Error total=sesgo+varianza+\\epsilon$\n",
    "\n",
    "https://scikit-learn.org/stable/modules/generated/sklearn.ensemble.GradientBoostingClassifier.html?highlight=gradientboostingclassifier#sklearn.ensemble.GradientBoostingClassifier"
   ],
   "metadata": {}
  },
  {
   "cell_type": "code",
   "execution_count": null,
   "source": [
    "from sklearn.ensemble import GradientBoostingClassifier"
   ],
   "outputs": [],
   "metadata": {
    "ExecuteTime": {
     "end_time": "2021-08-09T23:01:51.966953Z",
     "start_time": "2021-08-09T23:01:51.962953Z"
    }
   }
  },
  {
   "cell_type": "code",
   "execution_count": null,
   "source": [
    "clas_bo = GradientBoostingClassifier()\n",
    "clas_bo.fit(X_train, y_train)"
   ],
   "outputs": [],
   "metadata": {
    "ExecuteTime": {
     "end_time": "2021-08-09T23:01:52.133998Z",
     "start_time": "2021-08-09T23:01:51.967955Z"
    }
   }
  },
  {
   "cell_type": "code",
   "execution_count": null,
   "source": [
    "accuracy_score(y_test, clas_bo.predict(X_test))"
   ],
   "outputs": [],
   "metadata": {
    "ExecuteTime": {
     "end_time": "2021-08-09T23:01:52.149998Z",
     "start_time": "2021-08-09T23:01:52.134998Z"
    }
   }
  },
  {
   "cell_type": "code",
   "execution_count": null,
   "source": [
    "clas_bo2 = GradientBoostingClassifier(learning_rate = 0.02, n_estimators = 1000, max_depth = 1)\n",
    "clas_bo2.fit(X_train, y_train)"
   ],
   "outputs": [],
   "metadata": {
    "ExecuteTime": {
     "end_time": "2021-08-09T23:01:52.717129Z",
     "start_time": "2021-08-09T23:01:52.151003Z"
    }
   }
  },
  {
   "cell_type": "code",
   "execution_count": null,
   "source": [
    "accuracy_score(y_test, clas_bo.predict(X_test))"
   ],
   "outputs": [],
   "metadata": {
    "ExecuteTime": {
     "end_time": "2021-08-09T23:01:52.725129Z",
     "start_time": "2021-08-09T23:01:52.718128Z"
    }
   }
  },
  {
   "cell_type": "markdown",
   "source": [
    "#### Ada Boost\n",
    "Adaboost (Adaptive Boosting), aplicado sobretodo a problemas de clasificación, es un algoritmo iterativo que se basa en combinar múltiples weak learners, en un único strong learner a través de una combinación lineal ponderada.\n",
    "\n",
    "https://scikit-learn.org/stable/modules/generated/sklearn.ensemble.AdaBoostClassifier.html?highlight=adaboostclassifier#sklearn.ensemble.AdaBoostClassifier"
   ],
   "metadata": {}
  },
  {
   "cell_type": "code",
   "execution_count": null,
   "source": [
    "from sklearn.ensemble import AdaBoostClassifier"
   ],
   "outputs": [],
   "metadata": {
    "ExecuteTime": {
     "end_time": "2021-08-09T23:01:52.729130Z",
     "start_time": "2021-08-09T23:01:52.726131Z"
    }
   }
  },
  {
   "cell_type": "code",
   "execution_count": null,
   "source": [
    "clas_ab = AdaBoostClassifier(learning_rate = 0.02, n_estimators = 5000)"
   ],
   "outputs": [],
   "metadata": {
    "ExecuteTime": {
     "end_time": "2021-08-09T23:01:52.733131Z",
     "start_time": "2021-08-09T23:01:52.730123Z"
    }
   }
  },
  {
   "cell_type": "code",
   "execution_count": null,
   "source": [
    "clas_ab.fit(X_train, y_train)"
   ],
   "outputs": [],
   "metadata": {
    "ExecuteTime": {
     "end_time": "2021-08-09T23:01:58.658451Z",
     "start_time": "2021-08-09T23:01:52.734125Z"
    }
   }
  },
  {
   "cell_type": "code",
   "execution_count": null,
   "source": [
    "accuracy_score(y_test, clas_ab.predict(X_test))"
   ],
   "outputs": [],
   "metadata": {
    "ExecuteTime": {
     "end_time": "2021-08-09T23:01:59.079543Z",
     "start_time": "2021-08-09T23:01:58.659445Z"
    }
   }
  },
  {
   "cell_type": "code",
   "execution_count": null,
   "source": [
    "clas_ab2 = AdaBoostClassifier(learning_rate = 0.02, n_estimators = 500)"
   ],
   "outputs": [],
   "metadata": {
    "ExecuteTime": {
     "end_time": "2021-08-09T23:01:59.084538Z",
     "start_time": "2021-08-09T23:01:59.080543Z"
    }
   }
  },
  {
   "cell_type": "code",
   "execution_count": null,
   "source": [
    "clas_ab2.fit(X_train, y_train)"
   ],
   "outputs": [],
   "metadata": {
    "ExecuteTime": {
     "end_time": "2021-08-09T23:01:59.749693Z",
     "start_time": "2021-08-09T23:01:59.085546Z"
    }
   }
  },
  {
   "cell_type": "code",
   "execution_count": null,
   "source": [
    "accuracy_score(y_test, clas_ab2.predict(X_test))"
   ],
   "outputs": [],
   "metadata": {
    "ExecuteTime": {
     "end_time": "2021-08-09T23:01:59.799707Z",
     "start_time": "2021-08-09T23:01:59.750693Z"
    }
   }
  },
  {
   "cell_type": "markdown",
   "source": [
    "#### XG Boost\n",
    "Gradient Boosting no asigna un peso independiente a cada observación de entrenamiento, sino que hace uso de una función de coste $L(yi,f(x))$ cuyo gradiente o derivada parcial de la función de coste se pretende minimizar. Esto se lleva a cabo en un proceso iterativo. El gradiente se utiliza para encontrar la dirección en la que cambiar los parámetros de los weak learners para reducir el error de predicción en las siguientes iteraciones. Concretamente, las predicciones del weak learner m intentan acercarse al gradiente negativo de la función de coste.\n",
    "\n",
    "![Gradiente](images/grad1.png)\n",
    "\n",
    "https://xgboost.readthedocs.io/en/latest/parameter.html"
   ],
   "metadata": {}
  },
  {
   "cell_type": "code",
   "execution_count": null,
   "source": [
    "import xgboost as xgb"
   ],
   "outputs": [],
   "metadata": {
    "ExecuteTime": {
     "end_time": "2021-08-09T23:02:00.478855Z",
     "start_time": "2021-08-09T23:01:59.800696Z"
    }
   }
  },
  {
   "cell_type": "code",
   "execution_count": null,
   "source": [
    "clas_xgb = xgb.XGBClassifier(max_depth = 5, n_estimators = 10000, learning_rate = 0.3, n_jobs = -1)"
   ],
   "outputs": [],
   "metadata": {
    "ExecuteTime": {
     "end_time": "2021-08-09T23:02:00.483857Z",
     "start_time": "2021-08-09T23:02:00.479848Z"
    }
   }
  },
  {
   "cell_type": "code",
   "execution_count": null,
   "source": [
    "clas_xgb.fit(X_train, y_train)"
   ],
   "outputs": [],
   "metadata": {
    "ExecuteTime": {
     "end_time": "2021-08-09T23:02:03.168453Z",
     "start_time": "2021-08-09T23:02:00.484857Z"
    }
   }
  },
  {
   "cell_type": "code",
   "execution_count": null,
   "source": [
    "accuracy_score(y_test, clas_xgb.predict(X_test))"
   ],
   "outputs": [],
   "metadata": {
    "ExecuteTime": {
     "end_time": "2021-08-09T23:02:03.180447Z",
     "start_time": "2021-08-09T23:02:03.169455Z"
    }
   }
  },
  {
   "cell_type": "code",
   "execution_count": null,
   "source": [
    "xgb.plot_importance(clas_xgb)"
   ],
   "outputs": [],
   "metadata": {
    "ExecuteTime": {
     "end_time": "2021-08-09T23:02:03.688568Z",
     "start_time": "2021-08-09T23:02:03.181447Z"
    }
   }
  },
  {
   "cell_type": "code",
   "execution_count": null,
   "source": [
    "clas_xgb2 = xgb.XGBClassifier(n_estimators = 500, learning_rate = 0.1, n_jobs = -1, random_state = 123)"
   ],
   "outputs": [],
   "metadata": {
    "ExecuteTime": {
     "end_time": "2021-08-09T23:02:03.693570Z",
     "start_time": "2021-08-09T23:02:03.689570Z"
    }
   }
  },
  {
   "cell_type": "code",
   "execution_count": null,
   "source": [
    "parametros2 = {'max_depth': range(3, 10, 2),\n",
    "               'gamma' : [0.1, 0.2, 0.3],\n",
    "               'sub_sample' : [0.8, 0.9],\n",
    "              'colsample_bytree' : [0.8, 0.9],\n",
    "              'reg_alpha' : [1e-2, 0.1, 1]}"
   ],
   "outputs": [],
   "metadata": {
    "ExecuteTime": {
     "end_time": "2021-08-09T23:02:03.698566Z",
     "start_time": "2021-08-09T23:02:03.694571Z"
    }
   }
  },
  {
   "cell_type": "code",
   "execution_count": null,
   "source": [
    "pru_param2 = GridSearchCV(clas_xgb2, parametros2, n_jobs = -1, cv = 10, scoring = 'accuracy')"
   ],
   "outputs": [],
   "metadata": {
    "ExecuteTime": {
     "end_time": "2021-08-09T23:02:03.703566Z",
     "start_time": "2021-08-09T23:02:03.700565Z"
    }
   }
  },
  {
   "cell_type": "code",
   "execution_count": null,
   "source": [
    "pru_param2.fit(X_train, y_train)"
   ],
   "outputs": [],
   "metadata": {
    "ExecuteTime": {
     "end_time": "2021-08-09T23:04:24.357870Z",
     "start_time": "2021-08-09T23:02:03.704568Z"
    }
   }
  },
  {
   "cell_type": "code",
   "execution_count": null,
   "source": [
    "best_xgb = pru_param2.best_estimator_"
   ],
   "outputs": [],
   "metadata": {
    "ExecuteTime": {
     "end_time": "2021-08-09T23:04:24.363872Z",
     "start_time": "2021-08-09T23:04:24.358870Z"
    }
   }
  },
  {
   "cell_type": "code",
   "execution_count": null,
   "source": [
    "accuracy_score(y_test, best_xgb.predict(X_test))"
   ],
   "outputs": [],
   "metadata": {
    "ExecuteTime": {
     "end_time": "2021-08-09T23:04:24.373874Z",
     "start_time": "2021-08-09T23:04:24.365873Z"
    }
   }
  },
  {
   "cell_type": "code",
   "execution_count": null,
   "source": [
    "pru_param2.best_params_"
   ],
   "outputs": [],
   "metadata": {
    "ExecuteTime": {
     "end_time": "2021-08-09T23:04:24.380877Z",
     "start_time": "2021-08-09T23:04:24.375875Z"
    }
   }
  }
 ],
 "metadata": {
  "kernelspec": {
   "display_name": "Python 3",
   "language": "python",
   "name": "python3"
  },
  "language_info": {
   "codemirror_mode": {
    "name": "ipython",
    "version": 3
   },
   "file_extension": ".py",
   "mimetype": "text/x-python",
   "name": "python",
   "nbconvert_exporter": "python",
   "pygments_lexer": "ipython3",
   "version": "3.9.5"
  },
  "nbTranslate": {
   "displayLangs": [
    "*"
   ],
   "hotkey": "alt-t",
   "langInMainMenu": true,
   "sourceLang": "en",
   "targetLang": "fr",
   "useGoogleTranslate": true
  },
  "toc": {
   "base_numbering": 1,
   "nav_menu": {},
   "number_sections": true,
   "sideBar": true,
   "skip_h1_title": false,
   "title_cell": "Table of Contents",
   "title_sidebar": "Contents",
   "toc_cell": false,
   "toc_position": {},
   "toc_section_display": true,
   "toc_window_display": true
  },
  "varInspector": {
   "cols": {
    "lenName": 16,
    "lenType": 16,
    "lenVar": 40
   },
   "kernels_config": {
    "python": {
     "delete_cmd_postfix": "",
     "delete_cmd_prefix": "del ",
     "library": "var_list.py",
     "varRefreshCmd": "print(var_dic_list())"
    },
    "r": {
     "delete_cmd_postfix": ") ",
     "delete_cmd_prefix": "rm(",
     "library": "var_list.r",
     "varRefreshCmd": "cat(var_dic_list()) "
    }
   },
   "position": {
    "height": "731px",
    "left": "1603px",
    "right": "20px",
    "top": "120px",
    "width": "297px"
   },
   "types_to_exclude": [
    "module",
    "function",
    "builtin_function_or_method",
    "instance",
    "_Feature"
   ],
   "window_display": true
  }
 },
 "nbformat": 4,
 "nbformat_minor": 5
}