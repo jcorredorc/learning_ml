{
 "cells": [
  {
   "cell_type": "markdown",
   "source": [
    "# Aprendizaje supervisado - Árboles de clasificación\n",
    "![Árbol de clasificación](ilustracion_arb_clasi.png)"
   ],
   "metadata": {}
  },
  {
   "cell_type": "markdown",
   "source": [
    "## Carga del conjunto de datos"
   ],
   "metadata": {}
  },
  {
   "cell_type": "code",
   "execution_count": 1,
   "source": [
    "# Importar modulos para el tratamiento de los datos y visualizaciones\n",
    "import pandas as pd\n",
    "import numpy as np\n",
    "import seaborn as sns\n",
    "import matplotlib.pyplot as plt"
   ],
   "outputs": [],
   "metadata": {
    "ExecuteTime": {
     "end_time": "2021-08-10T18:01:41.774518Z",
     "start_time": "2021-08-10T18:01:29.600800Z"
    },
    "solution": "hidden",
    "solution_first": true
   }
  },
  {
   "cell_type": "code",
   "execution_count": 2,
   "source": [
    "# Cargar los datos en un dataframe de Pandas\n",
    "url = 'https://raw.githubusercontent.com/JASDataCTG/Diplomado-ML/main/Modulo%203/Datasets/Movie_classificationesclas.csv'\n",
    "df = pd.read_csv(url, header=0)"
   ],
   "outputs": [],
   "metadata": {
    "ExecuteTime": {
     "end_time": "2021-08-10T18:01:42.292632Z",
     "start_time": "2021-08-10T18:01:41.781511Z"
    }
   }
  },
  {
   "cell_type": "code",
   "execution_count": 3,
   "source": [
    "df.head()"
   ],
   "outputs": [
    {
     "output_type": "execute_result",
     "data": {
      "text/plain": [
       "   Costo de marketing  Costo de produccion  Multiplex cubiertos  Ganancias  \\\n",
       "0             20.1264                59.62                0.462  36524.125   \n",
       "1             20.5462                69.14                0.531  35668.655   \n",
       "2             20.5458                69.14                0.531  39912.675   \n",
       "3             20.6474                59.36                0.542  38873.890   \n",
       "4             21.3810                59.36                0.542  39701.585   \n",
       "\n",
       "   Duracion  Rating actor principal  Rating actriz principal  Rating director  \\\n",
       "0     138.7                   7.825                    8.095            7.910   \n",
       "1     152.4                   7.505                    7.650            7.440   \n",
       "2     134.6                   7.485                    7.570            7.495   \n",
       "3     119.3                   6.895                    7.035            6.920   \n",
       "4     127.7                   6.920                    7.070            6.815   \n",
       "\n",
       "   Rating productor  Rating criticos  Visualizaciones trailers  \\\n",
       "0             7.995             7.94                    527367   \n",
       "1             7.470             7.44                    494055   \n",
       "2             7.515             7.44                    547051   \n",
       "3             7.020             8.26                    516279   \n",
       "4             7.070             8.26                    531448   \n",
       "\n",
       "  Disponibilidad 3D  Tiempo realizacion  Hashtags Twitter   Genero  \\\n",
       "0                SI              109.60           223.840   Terror   \n",
       "1                NO              146.64           243.456    Drama   \n",
       "2                NO              147.88          2022.400  Comedia   \n",
       "3                SI              185.36           225.344    Drama   \n",
       "4                NO              176.48           225.792    Drama   \n",
       "\n",
       "   Promedio edad actores  Numero multiplex  Coleccion  Gana Oscar  \n",
       "0                     23               494      48000           1  \n",
       "1                     42               462      43200           0  \n",
       "2                     38               458      69400           1  \n",
       "3                     45               472      66800           1  \n",
       "4                     55               395      72400           1  "
      ],
      "text/html": [
       "<div>\n",
       "<style scoped>\n",
       "    .dataframe tbody tr th:only-of-type {\n",
       "        vertical-align: middle;\n",
       "    }\n",
       "\n",
       "    .dataframe tbody tr th {\n",
       "        vertical-align: top;\n",
       "    }\n",
       "\n",
       "    .dataframe thead th {\n",
       "        text-align: right;\n",
       "    }\n",
       "</style>\n",
       "<table border=\"1\" class=\"dataframe\">\n",
       "  <thead>\n",
       "    <tr style=\"text-align: right;\">\n",
       "      <th></th>\n",
       "      <th>Costo de marketing</th>\n",
       "      <th>Costo de produccion</th>\n",
       "      <th>Multiplex cubiertos</th>\n",
       "      <th>Ganancias</th>\n",
       "      <th>Duracion</th>\n",
       "      <th>Rating actor principal</th>\n",
       "      <th>Rating actriz principal</th>\n",
       "      <th>Rating director</th>\n",
       "      <th>Rating productor</th>\n",
       "      <th>Rating criticos</th>\n",
       "      <th>Visualizaciones trailers</th>\n",
       "      <th>Disponibilidad 3D</th>\n",
       "      <th>Tiempo realizacion</th>\n",
       "      <th>Hashtags Twitter</th>\n",
       "      <th>Genero</th>\n",
       "      <th>Promedio edad actores</th>\n",
       "      <th>Numero multiplex</th>\n",
       "      <th>Coleccion</th>\n",
       "      <th>Gana Oscar</th>\n",
       "    </tr>\n",
       "  </thead>\n",
       "  <tbody>\n",
       "    <tr>\n",
       "      <th>0</th>\n",
       "      <td>20.1264</td>\n",
       "      <td>59.62</td>\n",
       "      <td>0.462</td>\n",
       "      <td>36524.125</td>\n",
       "      <td>138.7</td>\n",
       "      <td>7.825</td>\n",
       "      <td>8.095</td>\n",
       "      <td>7.910</td>\n",
       "      <td>7.995</td>\n",
       "      <td>7.94</td>\n",
       "      <td>527367</td>\n",
       "      <td>SI</td>\n",
       "      <td>109.60</td>\n",
       "      <td>223.840</td>\n",
       "      <td>Terror</td>\n",
       "      <td>23</td>\n",
       "      <td>494</td>\n",
       "      <td>48000</td>\n",
       "      <td>1</td>\n",
       "    </tr>\n",
       "    <tr>\n",
       "      <th>1</th>\n",
       "      <td>20.5462</td>\n",
       "      <td>69.14</td>\n",
       "      <td>0.531</td>\n",
       "      <td>35668.655</td>\n",
       "      <td>152.4</td>\n",
       "      <td>7.505</td>\n",
       "      <td>7.650</td>\n",
       "      <td>7.440</td>\n",
       "      <td>7.470</td>\n",
       "      <td>7.44</td>\n",
       "      <td>494055</td>\n",
       "      <td>NO</td>\n",
       "      <td>146.64</td>\n",
       "      <td>243.456</td>\n",
       "      <td>Drama</td>\n",
       "      <td>42</td>\n",
       "      <td>462</td>\n",
       "      <td>43200</td>\n",
       "      <td>0</td>\n",
       "    </tr>\n",
       "    <tr>\n",
       "      <th>2</th>\n",
       "      <td>20.5458</td>\n",
       "      <td>69.14</td>\n",
       "      <td>0.531</td>\n",
       "      <td>39912.675</td>\n",
       "      <td>134.6</td>\n",
       "      <td>7.485</td>\n",
       "      <td>7.570</td>\n",
       "      <td>7.495</td>\n",
       "      <td>7.515</td>\n",
       "      <td>7.44</td>\n",
       "      <td>547051</td>\n",
       "      <td>NO</td>\n",
       "      <td>147.88</td>\n",
       "      <td>2022.400</td>\n",
       "      <td>Comedia</td>\n",
       "      <td>38</td>\n",
       "      <td>458</td>\n",
       "      <td>69400</td>\n",
       "      <td>1</td>\n",
       "    </tr>\n",
       "    <tr>\n",
       "      <th>3</th>\n",
       "      <td>20.6474</td>\n",
       "      <td>59.36</td>\n",
       "      <td>0.542</td>\n",
       "      <td>38873.890</td>\n",
       "      <td>119.3</td>\n",
       "      <td>6.895</td>\n",
       "      <td>7.035</td>\n",
       "      <td>6.920</td>\n",
       "      <td>7.020</td>\n",
       "      <td>8.26</td>\n",
       "      <td>516279</td>\n",
       "      <td>SI</td>\n",
       "      <td>185.36</td>\n",
       "      <td>225.344</td>\n",
       "      <td>Drama</td>\n",
       "      <td>45</td>\n",
       "      <td>472</td>\n",
       "      <td>66800</td>\n",
       "      <td>1</td>\n",
       "    </tr>\n",
       "    <tr>\n",
       "      <th>4</th>\n",
       "      <td>21.3810</td>\n",
       "      <td>59.36</td>\n",
       "      <td>0.542</td>\n",
       "      <td>39701.585</td>\n",
       "      <td>127.7</td>\n",
       "      <td>6.920</td>\n",
       "      <td>7.070</td>\n",
       "      <td>6.815</td>\n",
       "      <td>7.070</td>\n",
       "      <td>8.26</td>\n",
       "      <td>531448</td>\n",
       "      <td>NO</td>\n",
       "      <td>176.48</td>\n",
       "      <td>225.792</td>\n",
       "      <td>Drama</td>\n",
       "      <td>55</td>\n",
       "      <td>395</td>\n",
       "      <td>72400</td>\n",
       "      <td>1</td>\n",
       "    </tr>\n",
       "  </tbody>\n",
       "</table>\n",
       "</div>"
      ]
     },
     "metadata": {},
     "execution_count": 3
    }
   ],
   "metadata": {
    "ExecuteTime": {
     "end_time": "2021-08-10T18:01:42.365649Z",
     "start_time": "2021-08-10T18:01:42.339642Z"
    }
   }
  },
  {
   "cell_type": "code",
   "execution_count": 4,
   "source": [
    "df.info()"
   ],
   "outputs": [
    {
     "output_type": "stream",
     "name": "stdout",
     "text": [
      "<class 'pandas.core.frame.DataFrame'>\n",
      "RangeIndex: 506 entries, 0 to 505\n",
      "Data columns (total 19 columns):\n",
      " #   Column                    Non-Null Count  Dtype  \n",
      "---  ------                    --------------  -----  \n",
      " 0   Costo de marketing        506 non-null    float64\n",
      " 1   Costo de produccion       506 non-null    float64\n",
      " 2   Multiplex cubiertos       506 non-null    float64\n",
      " 3   Ganancias                 506 non-null    float64\n",
      " 4   Duracion                  506 non-null    float64\n",
      " 5   Rating actor principal    506 non-null    float64\n",
      " 6   Rating actriz principal   506 non-null    float64\n",
      " 7   Rating director           506 non-null    float64\n",
      " 8   Rating productor          506 non-null    float64\n",
      " 9   Rating criticos           506 non-null    float64\n",
      " 10  Visualizaciones trailers  506 non-null    int64  \n",
      " 11  Disponibilidad 3D         506 non-null    object \n",
      " 12  Tiempo realizacion        494 non-null    float64\n",
      " 13  Hashtags Twitter          506 non-null    float64\n",
      " 14  Genero                    506 non-null    object \n",
      " 15  Promedio edad actores     506 non-null    int64  \n",
      " 16  Numero multiplex          506 non-null    int64  \n",
      " 17  Coleccion                 506 non-null    int64  \n",
      " 18  Gana Oscar                506 non-null    int64  \n",
      "dtypes: float64(12), int64(5), object(2)\n",
      "memory usage: 75.2+ KB\n"
     ]
    }
   ],
   "metadata": {
    "ExecuteTime": {
     "end_time": "2021-08-10T18:01:42.387645Z",
     "start_time": "2021-08-10T18:01:42.377644Z"
    }
   }
  },
  {
   "cell_type": "markdown",
   "source": [
    "### Imputación de valores faltantes"
   ],
   "metadata": {}
  },
  {
   "cell_type": "code",
   "execution_count": 5,
   "source": [
    "df['Tiempo realizacion'].mean()"
   ],
   "outputs": [
    {
     "output_type": "execute_result",
     "data": {
      "text/plain": [
       "157.3914979757085"
      ]
     },
     "metadata": {},
     "execution_count": 5
    }
   ],
   "metadata": {
    "ExecuteTime": {
     "end_time": "2021-08-10T18:01:42.405652Z",
     "start_time": "2021-08-10T18:01:42.401649Z"
    }
   }
  },
  {
   "cell_type": "code",
   "execution_count": 6,
   "source": [
    "# Imputar los valores faltantes con la media de los valores existentes\n",
    "df['Tiempo realizacion'].fillna(value = df['Tiempo realizacion'].mean(), inplace = True)"
   ],
   "outputs": [],
   "metadata": {
    "ExecuteTime": {
     "end_time": "2021-08-10T18:01:42.426655Z",
     "start_time": "2021-08-10T18:01:42.422656Z"
    }
   }
  },
  {
   "cell_type": "code",
   "execution_count": 7,
   "source": [
    "df.head()"
   ],
   "outputs": [
    {
     "output_type": "execute_result",
     "data": {
      "text/plain": [
       "   Costo de marketing  Costo de produccion  Multiplex cubiertos  Ganancias  \\\n",
       "0             20.1264                59.62                0.462  36524.125   \n",
       "1             20.5462                69.14                0.531  35668.655   \n",
       "2             20.5458                69.14                0.531  39912.675   \n",
       "3             20.6474                59.36                0.542  38873.890   \n",
       "4             21.3810                59.36                0.542  39701.585   \n",
       "\n",
       "   Duracion  Rating actor principal  Rating actriz principal  Rating director  \\\n",
       "0     138.7                   7.825                    8.095            7.910   \n",
       "1     152.4                   7.505                    7.650            7.440   \n",
       "2     134.6                   7.485                    7.570            7.495   \n",
       "3     119.3                   6.895                    7.035            6.920   \n",
       "4     127.7                   6.920                    7.070            6.815   \n",
       "\n",
       "   Rating productor  Rating criticos  Visualizaciones trailers  \\\n",
       "0             7.995             7.94                    527367   \n",
       "1             7.470             7.44                    494055   \n",
       "2             7.515             7.44                    547051   \n",
       "3             7.020             8.26                    516279   \n",
       "4             7.070             8.26                    531448   \n",
       "\n",
       "  Disponibilidad 3D  Tiempo realizacion  Hashtags Twitter   Genero  \\\n",
       "0                SI              109.60           223.840   Terror   \n",
       "1                NO              146.64           243.456    Drama   \n",
       "2                NO              147.88          2022.400  Comedia   \n",
       "3                SI              185.36           225.344    Drama   \n",
       "4                NO              176.48           225.792    Drama   \n",
       "\n",
       "   Promedio edad actores  Numero multiplex  Coleccion  Gana Oscar  \n",
       "0                     23               494      48000           1  \n",
       "1                     42               462      43200           0  \n",
       "2                     38               458      69400           1  \n",
       "3                     45               472      66800           1  \n",
       "4                     55               395      72400           1  "
      ],
      "text/html": [
       "<div>\n",
       "<style scoped>\n",
       "    .dataframe tbody tr th:only-of-type {\n",
       "        vertical-align: middle;\n",
       "    }\n",
       "\n",
       "    .dataframe tbody tr th {\n",
       "        vertical-align: top;\n",
       "    }\n",
       "\n",
       "    .dataframe thead th {\n",
       "        text-align: right;\n",
       "    }\n",
       "</style>\n",
       "<table border=\"1\" class=\"dataframe\">\n",
       "  <thead>\n",
       "    <tr style=\"text-align: right;\">\n",
       "      <th></th>\n",
       "      <th>Costo de marketing</th>\n",
       "      <th>Costo de produccion</th>\n",
       "      <th>Multiplex cubiertos</th>\n",
       "      <th>Ganancias</th>\n",
       "      <th>Duracion</th>\n",
       "      <th>Rating actor principal</th>\n",
       "      <th>Rating actriz principal</th>\n",
       "      <th>Rating director</th>\n",
       "      <th>Rating productor</th>\n",
       "      <th>Rating criticos</th>\n",
       "      <th>Visualizaciones trailers</th>\n",
       "      <th>Disponibilidad 3D</th>\n",
       "      <th>Tiempo realizacion</th>\n",
       "      <th>Hashtags Twitter</th>\n",
       "      <th>Genero</th>\n",
       "      <th>Promedio edad actores</th>\n",
       "      <th>Numero multiplex</th>\n",
       "      <th>Coleccion</th>\n",
       "      <th>Gana Oscar</th>\n",
       "    </tr>\n",
       "  </thead>\n",
       "  <tbody>\n",
       "    <tr>\n",
       "      <th>0</th>\n",
       "      <td>20.1264</td>\n",
       "      <td>59.62</td>\n",
       "      <td>0.462</td>\n",
       "      <td>36524.125</td>\n",
       "      <td>138.7</td>\n",
       "      <td>7.825</td>\n",
       "      <td>8.095</td>\n",
       "      <td>7.910</td>\n",
       "      <td>7.995</td>\n",
       "      <td>7.94</td>\n",
       "      <td>527367</td>\n",
       "      <td>SI</td>\n",
       "      <td>109.60</td>\n",
       "      <td>223.840</td>\n",
       "      <td>Terror</td>\n",
       "      <td>23</td>\n",
       "      <td>494</td>\n",
       "      <td>48000</td>\n",
       "      <td>1</td>\n",
       "    </tr>\n",
       "    <tr>\n",
       "      <th>1</th>\n",
       "      <td>20.5462</td>\n",
       "      <td>69.14</td>\n",
       "      <td>0.531</td>\n",
       "      <td>35668.655</td>\n",
       "      <td>152.4</td>\n",
       "      <td>7.505</td>\n",
       "      <td>7.650</td>\n",
       "      <td>7.440</td>\n",
       "      <td>7.470</td>\n",
       "      <td>7.44</td>\n",
       "      <td>494055</td>\n",
       "      <td>NO</td>\n",
       "      <td>146.64</td>\n",
       "      <td>243.456</td>\n",
       "      <td>Drama</td>\n",
       "      <td>42</td>\n",
       "      <td>462</td>\n",
       "      <td>43200</td>\n",
       "      <td>0</td>\n",
       "    </tr>\n",
       "    <tr>\n",
       "      <th>2</th>\n",
       "      <td>20.5458</td>\n",
       "      <td>69.14</td>\n",
       "      <td>0.531</td>\n",
       "      <td>39912.675</td>\n",
       "      <td>134.6</td>\n",
       "      <td>7.485</td>\n",
       "      <td>7.570</td>\n",
       "      <td>7.495</td>\n",
       "      <td>7.515</td>\n",
       "      <td>7.44</td>\n",
       "      <td>547051</td>\n",
       "      <td>NO</td>\n",
       "      <td>147.88</td>\n",
       "      <td>2022.400</td>\n",
       "      <td>Comedia</td>\n",
       "      <td>38</td>\n",
       "      <td>458</td>\n",
       "      <td>69400</td>\n",
       "      <td>1</td>\n",
       "    </tr>\n",
       "    <tr>\n",
       "      <th>3</th>\n",
       "      <td>20.6474</td>\n",
       "      <td>59.36</td>\n",
       "      <td>0.542</td>\n",
       "      <td>38873.890</td>\n",
       "      <td>119.3</td>\n",
       "      <td>6.895</td>\n",
       "      <td>7.035</td>\n",
       "      <td>6.920</td>\n",
       "      <td>7.020</td>\n",
       "      <td>8.26</td>\n",
       "      <td>516279</td>\n",
       "      <td>SI</td>\n",
       "      <td>185.36</td>\n",
       "      <td>225.344</td>\n",
       "      <td>Drama</td>\n",
       "      <td>45</td>\n",
       "      <td>472</td>\n",
       "      <td>66800</td>\n",
       "      <td>1</td>\n",
       "    </tr>\n",
       "    <tr>\n",
       "      <th>4</th>\n",
       "      <td>21.3810</td>\n",
       "      <td>59.36</td>\n",
       "      <td>0.542</td>\n",
       "      <td>39701.585</td>\n",
       "      <td>127.7</td>\n",
       "      <td>6.920</td>\n",
       "      <td>7.070</td>\n",
       "      <td>6.815</td>\n",
       "      <td>7.070</td>\n",
       "      <td>8.26</td>\n",
       "      <td>531448</td>\n",
       "      <td>NO</td>\n",
       "      <td>176.48</td>\n",
       "      <td>225.792</td>\n",
       "      <td>Drama</td>\n",
       "      <td>55</td>\n",
       "      <td>395</td>\n",
       "      <td>72400</td>\n",
       "      <td>1</td>\n",
       "    </tr>\n",
       "  </tbody>\n",
       "</table>\n",
       "</div>"
      ]
     },
     "metadata": {},
     "execution_count": 7
    }
   ],
   "metadata": {
    "ExecuteTime": {
     "end_time": "2021-08-10T18:01:42.452662Z",
     "start_time": "2021-08-10T18:01:42.440660Z"
    }
   }
  },
  {
   "cell_type": "code",
   "execution_count": 8,
   "source": [
    "df.info()"
   ],
   "outputs": [
    {
     "output_type": "stream",
     "name": "stdout",
     "text": [
      "<class 'pandas.core.frame.DataFrame'>\n",
      "RangeIndex: 506 entries, 0 to 505\n",
      "Data columns (total 19 columns):\n",
      " #   Column                    Non-Null Count  Dtype  \n",
      "---  ------                    --------------  -----  \n",
      " 0   Costo de marketing        506 non-null    float64\n",
      " 1   Costo de produccion       506 non-null    float64\n",
      " 2   Multiplex cubiertos       506 non-null    float64\n",
      " 3   Ganancias                 506 non-null    float64\n",
      " 4   Duracion                  506 non-null    float64\n",
      " 5   Rating actor principal    506 non-null    float64\n",
      " 6   Rating actriz principal   506 non-null    float64\n",
      " 7   Rating director           506 non-null    float64\n",
      " 8   Rating productor          506 non-null    float64\n",
      " 9   Rating criticos           506 non-null    float64\n",
      " 10  Visualizaciones trailers  506 non-null    int64  \n",
      " 11  Disponibilidad 3D         506 non-null    object \n",
      " 12  Tiempo realizacion        506 non-null    float64\n",
      " 13  Hashtags Twitter          506 non-null    float64\n",
      " 14  Genero                    506 non-null    object \n",
      " 15  Promedio edad actores     506 non-null    int64  \n",
      " 16  Numero multiplex          506 non-null    int64  \n",
      " 17  Coleccion                 506 non-null    int64  \n",
      " 18  Gana Oscar                506 non-null    int64  \n",
      "dtypes: float64(12), int64(5), object(2)\n",
      "memory usage: 75.2+ KB\n"
     ]
    }
   ],
   "metadata": {
    "ExecuteTime": {
     "end_time": "2021-08-10T18:01:42.474665Z",
     "start_time": "2021-08-10T18:01:42.465664Z"
    }
   }
  },
  {
   "cell_type": "markdown",
   "source": [
    "### Creación de variables dummy"
   ],
   "metadata": {}
  },
  {
   "cell_type": "code",
   "execution_count": 9,
   "source": [
    "list(dict.fromkeys(df['Genero']))"
   ],
   "outputs": [
    {
     "output_type": "execute_result",
     "data": {
      "text/plain": [
       "['Terror', 'Drama', 'Comedia', 'Accion']"
      ]
     },
     "metadata": {},
     "execution_count": 9
    }
   ],
   "metadata": {
    "ExecuteTime": {
     "end_time": "2021-08-10T18:01:42.492671Z",
     "start_time": "2021-08-10T18:01:42.488668Z"
    }
   }
  },
  {
   "cell_type": "code",
   "execution_count": 10,
   "source": [
    "# Crear variables dummy eliminando una de ellas y el atributo que la origina\n",
    "df = pd.get_dummies(df, columns = ['Disponibilidad 3D', 'Genero'], drop_first = True)"
   ],
   "outputs": [],
   "metadata": {
    "ExecuteTime": {
     "end_time": "2021-08-10T18:01:42.517674Z",
     "start_time": "2021-08-10T18:01:42.509675Z"
    }
   }
  },
  {
   "cell_type": "code",
   "execution_count": 11,
   "source": [
    "df.head()"
   ],
   "outputs": [
    {
     "output_type": "execute_result",
     "data": {
      "text/plain": [
       "   Costo de marketing  Costo de produccion  Multiplex cubiertos  Ganancias  \\\n",
       "0             20.1264                59.62                0.462  36524.125   \n",
       "1             20.5462                69.14                0.531  35668.655   \n",
       "2             20.5458                69.14                0.531  39912.675   \n",
       "3             20.6474                59.36                0.542  38873.890   \n",
       "4             21.3810                59.36                0.542  39701.585   \n",
       "\n",
       "   Duracion  Rating actor principal  Rating actriz principal  Rating director  \\\n",
       "0     138.7                   7.825                    8.095            7.910   \n",
       "1     152.4                   7.505                    7.650            7.440   \n",
       "2     134.6                   7.485                    7.570            7.495   \n",
       "3     119.3                   6.895                    7.035            6.920   \n",
       "4     127.7                   6.920                    7.070            6.815   \n",
       "\n",
       "   Rating productor  Rating criticos  ...  Tiempo realizacion  \\\n",
       "0             7.995             7.94  ...              109.60   \n",
       "1             7.470             7.44  ...              146.64   \n",
       "2             7.515             7.44  ...              147.88   \n",
       "3             7.020             8.26  ...              185.36   \n",
       "4             7.070             8.26  ...              176.48   \n",
       "\n",
       "   Hashtags Twitter  Promedio edad actores  Numero multiplex  Coleccion  \\\n",
       "0           223.840                     23               494      48000   \n",
       "1           243.456                     42               462      43200   \n",
       "2          2022.400                     38               458      69400   \n",
       "3           225.344                     45               472      66800   \n",
       "4           225.792                     55               395      72400   \n",
       "\n",
       "   Gana Oscar  Disponibilidad 3D_SI  Genero_Comedia  Genero_Drama  \\\n",
       "0           1                     1               0             0   \n",
       "1           0                     0               0             1   \n",
       "2           1                     0               1             0   \n",
       "3           1                     1               0             1   \n",
       "4           1                     0               0             1   \n",
       "\n",
       "   Genero_Terror  \n",
       "0              1  \n",
       "1              0  \n",
       "2              0  \n",
       "3              0  \n",
       "4              0  \n",
       "\n",
       "[5 rows x 21 columns]"
      ],
      "text/html": [
       "<div>\n",
       "<style scoped>\n",
       "    .dataframe tbody tr th:only-of-type {\n",
       "        vertical-align: middle;\n",
       "    }\n",
       "\n",
       "    .dataframe tbody tr th {\n",
       "        vertical-align: top;\n",
       "    }\n",
       "\n",
       "    .dataframe thead th {\n",
       "        text-align: right;\n",
       "    }\n",
       "</style>\n",
       "<table border=\"1\" class=\"dataframe\">\n",
       "  <thead>\n",
       "    <tr style=\"text-align: right;\">\n",
       "      <th></th>\n",
       "      <th>Costo de marketing</th>\n",
       "      <th>Costo de produccion</th>\n",
       "      <th>Multiplex cubiertos</th>\n",
       "      <th>Ganancias</th>\n",
       "      <th>Duracion</th>\n",
       "      <th>Rating actor principal</th>\n",
       "      <th>Rating actriz principal</th>\n",
       "      <th>Rating director</th>\n",
       "      <th>Rating productor</th>\n",
       "      <th>Rating criticos</th>\n",
       "      <th>...</th>\n",
       "      <th>Tiempo realizacion</th>\n",
       "      <th>Hashtags Twitter</th>\n",
       "      <th>Promedio edad actores</th>\n",
       "      <th>Numero multiplex</th>\n",
       "      <th>Coleccion</th>\n",
       "      <th>Gana Oscar</th>\n",
       "      <th>Disponibilidad 3D_SI</th>\n",
       "      <th>Genero_Comedia</th>\n",
       "      <th>Genero_Drama</th>\n",
       "      <th>Genero_Terror</th>\n",
       "    </tr>\n",
       "  </thead>\n",
       "  <tbody>\n",
       "    <tr>\n",
       "      <th>0</th>\n",
       "      <td>20.1264</td>\n",
       "      <td>59.62</td>\n",
       "      <td>0.462</td>\n",
       "      <td>36524.125</td>\n",
       "      <td>138.7</td>\n",
       "      <td>7.825</td>\n",
       "      <td>8.095</td>\n",
       "      <td>7.910</td>\n",
       "      <td>7.995</td>\n",
       "      <td>7.94</td>\n",
       "      <td>...</td>\n",
       "      <td>109.60</td>\n",
       "      <td>223.840</td>\n",
       "      <td>23</td>\n",
       "      <td>494</td>\n",
       "      <td>48000</td>\n",
       "      <td>1</td>\n",
       "      <td>1</td>\n",
       "      <td>0</td>\n",
       "      <td>0</td>\n",
       "      <td>1</td>\n",
       "    </tr>\n",
       "    <tr>\n",
       "      <th>1</th>\n",
       "      <td>20.5462</td>\n",
       "      <td>69.14</td>\n",
       "      <td>0.531</td>\n",
       "      <td>35668.655</td>\n",
       "      <td>152.4</td>\n",
       "      <td>7.505</td>\n",
       "      <td>7.650</td>\n",
       "      <td>7.440</td>\n",
       "      <td>7.470</td>\n",
       "      <td>7.44</td>\n",
       "      <td>...</td>\n",
       "      <td>146.64</td>\n",
       "      <td>243.456</td>\n",
       "      <td>42</td>\n",
       "      <td>462</td>\n",
       "      <td>43200</td>\n",
       "      <td>0</td>\n",
       "      <td>0</td>\n",
       "      <td>0</td>\n",
       "      <td>1</td>\n",
       "      <td>0</td>\n",
       "    </tr>\n",
       "    <tr>\n",
       "      <th>2</th>\n",
       "      <td>20.5458</td>\n",
       "      <td>69.14</td>\n",
       "      <td>0.531</td>\n",
       "      <td>39912.675</td>\n",
       "      <td>134.6</td>\n",
       "      <td>7.485</td>\n",
       "      <td>7.570</td>\n",
       "      <td>7.495</td>\n",
       "      <td>7.515</td>\n",
       "      <td>7.44</td>\n",
       "      <td>...</td>\n",
       "      <td>147.88</td>\n",
       "      <td>2022.400</td>\n",
       "      <td>38</td>\n",
       "      <td>458</td>\n",
       "      <td>69400</td>\n",
       "      <td>1</td>\n",
       "      <td>0</td>\n",
       "      <td>1</td>\n",
       "      <td>0</td>\n",
       "      <td>0</td>\n",
       "    </tr>\n",
       "    <tr>\n",
       "      <th>3</th>\n",
       "      <td>20.6474</td>\n",
       "      <td>59.36</td>\n",
       "      <td>0.542</td>\n",
       "      <td>38873.890</td>\n",
       "      <td>119.3</td>\n",
       "      <td>6.895</td>\n",
       "      <td>7.035</td>\n",
       "      <td>6.920</td>\n",
       "      <td>7.020</td>\n",
       "      <td>8.26</td>\n",
       "      <td>...</td>\n",
       "      <td>185.36</td>\n",
       "      <td>225.344</td>\n",
       "      <td>45</td>\n",
       "      <td>472</td>\n",
       "      <td>66800</td>\n",
       "      <td>1</td>\n",
       "      <td>1</td>\n",
       "      <td>0</td>\n",
       "      <td>1</td>\n",
       "      <td>0</td>\n",
       "    </tr>\n",
       "    <tr>\n",
       "      <th>4</th>\n",
       "      <td>21.3810</td>\n",
       "      <td>59.36</td>\n",
       "      <td>0.542</td>\n",
       "      <td>39701.585</td>\n",
       "      <td>127.7</td>\n",
       "      <td>6.920</td>\n",
       "      <td>7.070</td>\n",
       "      <td>6.815</td>\n",
       "      <td>7.070</td>\n",
       "      <td>8.26</td>\n",
       "      <td>...</td>\n",
       "      <td>176.48</td>\n",
       "      <td>225.792</td>\n",
       "      <td>55</td>\n",
       "      <td>395</td>\n",
       "      <td>72400</td>\n",
       "      <td>1</td>\n",
       "      <td>0</td>\n",
       "      <td>0</td>\n",
       "      <td>1</td>\n",
       "      <td>0</td>\n",
       "    </tr>\n",
       "  </tbody>\n",
       "</table>\n",
       "<p>5 rows × 21 columns</p>\n",
       "</div>"
      ]
     },
     "metadata": {},
     "execution_count": 11
    }
   ],
   "metadata": {
    "ExecuteTime": {
     "end_time": "2021-08-10T18:01:42.544681Z",
     "start_time": "2021-08-10T18:01:42.531678Z"
    }
   }
  },
  {
   "cell_type": "markdown",
   "source": [
    "### División en la variable predicha y el vector de características"
   ],
   "metadata": {}
  },
  {
   "cell_type": "code",
   "execution_count": 12,
   "source": [
    "X = df.loc[:, df.columns!= 'Gana Oscar']"
   ],
   "outputs": [],
   "metadata": {
    "ExecuteTime": {
     "end_time": "2021-08-10T18:01:42.562685Z",
     "start_time": "2021-08-10T18:01:42.558685Z"
    }
   }
  },
  {
   "cell_type": "code",
   "execution_count": 13,
   "source": [
    "X.head()"
   ],
   "outputs": [
    {
     "output_type": "execute_result",
     "data": {
      "text/plain": [
       "   Costo de marketing  Costo de produccion  Multiplex cubiertos  Ganancias  \\\n",
       "0             20.1264                59.62                0.462  36524.125   \n",
       "1             20.5462                69.14                0.531  35668.655   \n",
       "2             20.5458                69.14                0.531  39912.675   \n",
       "3             20.6474                59.36                0.542  38873.890   \n",
       "4             21.3810                59.36                0.542  39701.585   \n",
       "\n",
       "   Duracion  Rating actor principal  Rating actriz principal  Rating director  \\\n",
       "0     138.7                   7.825                    8.095            7.910   \n",
       "1     152.4                   7.505                    7.650            7.440   \n",
       "2     134.6                   7.485                    7.570            7.495   \n",
       "3     119.3                   6.895                    7.035            6.920   \n",
       "4     127.7                   6.920                    7.070            6.815   \n",
       "\n",
       "   Rating productor  Rating criticos  Visualizaciones trailers  \\\n",
       "0             7.995             7.94                    527367   \n",
       "1             7.470             7.44                    494055   \n",
       "2             7.515             7.44                    547051   \n",
       "3             7.020             8.26                    516279   \n",
       "4             7.070             8.26                    531448   \n",
       "\n",
       "   Tiempo realizacion  Hashtags Twitter  Promedio edad actores  \\\n",
       "0              109.60           223.840                     23   \n",
       "1              146.64           243.456                     42   \n",
       "2              147.88          2022.400                     38   \n",
       "3              185.36           225.344                     45   \n",
       "4              176.48           225.792                     55   \n",
       "\n",
       "   Numero multiplex  Coleccion  Disponibilidad 3D_SI  Genero_Comedia  \\\n",
       "0               494      48000                     1               0   \n",
       "1               462      43200                     0               0   \n",
       "2               458      69400                     0               1   \n",
       "3               472      66800                     1               0   \n",
       "4               395      72400                     0               0   \n",
       "\n",
       "   Genero_Drama  Genero_Terror  \n",
       "0             0              1  \n",
       "1             1              0  \n",
       "2             0              0  \n",
       "3             1              0  \n",
       "4             1              0  "
      ],
      "text/html": [
       "<div>\n",
       "<style scoped>\n",
       "    .dataframe tbody tr th:only-of-type {\n",
       "        vertical-align: middle;\n",
       "    }\n",
       "\n",
       "    .dataframe tbody tr th {\n",
       "        vertical-align: top;\n",
       "    }\n",
       "\n",
       "    .dataframe thead th {\n",
       "        text-align: right;\n",
       "    }\n",
       "</style>\n",
       "<table border=\"1\" class=\"dataframe\">\n",
       "  <thead>\n",
       "    <tr style=\"text-align: right;\">\n",
       "      <th></th>\n",
       "      <th>Costo de marketing</th>\n",
       "      <th>Costo de produccion</th>\n",
       "      <th>Multiplex cubiertos</th>\n",
       "      <th>Ganancias</th>\n",
       "      <th>Duracion</th>\n",
       "      <th>Rating actor principal</th>\n",
       "      <th>Rating actriz principal</th>\n",
       "      <th>Rating director</th>\n",
       "      <th>Rating productor</th>\n",
       "      <th>Rating criticos</th>\n",
       "      <th>Visualizaciones trailers</th>\n",
       "      <th>Tiempo realizacion</th>\n",
       "      <th>Hashtags Twitter</th>\n",
       "      <th>Promedio edad actores</th>\n",
       "      <th>Numero multiplex</th>\n",
       "      <th>Coleccion</th>\n",
       "      <th>Disponibilidad 3D_SI</th>\n",
       "      <th>Genero_Comedia</th>\n",
       "      <th>Genero_Drama</th>\n",
       "      <th>Genero_Terror</th>\n",
       "    </tr>\n",
       "  </thead>\n",
       "  <tbody>\n",
       "    <tr>\n",
       "      <th>0</th>\n",
       "      <td>20.1264</td>\n",
       "      <td>59.62</td>\n",
       "      <td>0.462</td>\n",
       "      <td>36524.125</td>\n",
       "      <td>138.7</td>\n",
       "      <td>7.825</td>\n",
       "      <td>8.095</td>\n",
       "      <td>7.910</td>\n",
       "      <td>7.995</td>\n",
       "      <td>7.94</td>\n",
       "      <td>527367</td>\n",
       "      <td>109.60</td>\n",
       "      <td>223.840</td>\n",
       "      <td>23</td>\n",
       "      <td>494</td>\n",
       "      <td>48000</td>\n",
       "      <td>1</td>\n",
       "      <td>0</td>\n",
       "      <td>0</td>\n",
       "      <td>1</td>\n",
       "    </tr>\n",
       "    <tr>\n",
       "      <th>1</th>\n",
       "      <td>20.5462</td>\n",
       "      <td>69.14</td>\n",
       "      <td>0.531</td>\n",
       "      <td>35668.655</td>\n",
       "      <td>152.4</td>\n",
       "      <td>7.505</td>\n",
       "      <td>7.650</td>\n",
       "      <td>7.440</td>\n",
       "      <td>7.470</td>\n",
       "      <td>7.44</td>\n",
       "      <td>494055</td>\n",
       "      <td>146.64</td>\n",
       "      <td>243.456</td>\n",
       "      <td>42</td>\n",
       "      <td>462</td>\n",
       "      <td>43200</td>\n",
       "      <td>0</td>\n",
       "      <td>0</td>\n",
       "      <td>1</td>\n",
       "      <td>0</td>\n",
       "    </tr>\n",
       "    <tr>\n",
       "      <th>2</th>\n",
       "      <td>20.5458</td>\n",
       "      <td>69.14</td>\n",
       "      <td>0.531</td>\n",
       "      <td>39912.675</td>\n",
       "      <td>134.6</td>\n",
       "      <td>7.485</td>\n",
       "      <td>7.570</td>\n",
       "      <td>7.495</td>\n",
       "      <td>7.515</td>\n",
       "      <td>7.44</td>\n",
       "      <td>547051</td>\n",
       "      <td>147.88</td>\n",
       "      <td>2022.400</td>\n",
       "      <td>38</td>\n",
       "      <td>458</td>\n",
       "      <td>69400</td>\n",
       "      <td>0</td>\n",
       "      <td>1</td>\n",
       "      <td>0</td>\n",
       "      <td>0</td>\n",
       "    </tr>\n",
       "    <tr>\n",
       "      <th>3</th>\n",
       "      <td>20.6474</td>\n",
       "      <td>59.36</td>\n",
       "      <td>0.542</td>\n",
       "      <td>38873.890</td>\n",
       "      <td>119.3</td>\n",
       "      <td>6.895</td>\n",
       "      <td>7.035</td>\n",
       "      <td>6.920</td>\n",
       "      <td>7.020</td>\n",
       "      <td>8.26</td>\n",
       "      <td>516279</td>\n",
       "      <td>185.36</td>\n",
       "      <td>225.344</td>\n",
       "      <td>45</td>\n",
       "      <td>472</td>\n",
       "      <td>66800</td>\n",
       "      <td>1</td>\n",
       "      <td>0</td>\n",
       "      <td>1</td>\n",
       "      <td>0</td>\n",
       "    </tr>\n",
       "    <tr>\n",
       "      <th>4</th>\n",
       "      <td>21.3810</td>\n",
       "      <td>59.36</td>\n",
       "      <td>0.542</td>\n",
       "      <td>39701.585</td>\n",
       "      <td>127.7</td>\n",
       "      <td>6.920</td>\n",
       "      <td>7.070</td>\n",
       "      <td>6.815</td>\n",
       "      <td>7.070</td>\n",
       "      <td>8.26</td>\n",
       "      <td>531448</td>\n",
       "      <td>176.48</td>\n",
       "      <td>225.792</td>\n",
       "      <td>55</td>\n",
       "      <td>395</td>\n",
       "      <td>72400</td>\n",
       "      <td>0</td>\n",
       "      <td>0</td>\n",
       "      <td>1</td>\n",
       "      <td>0</td>\n",
       "    </tr>\n",
       "  </tbody>\n",
       "</table>\n",
       "</div>"
      ]
     },
     "metadata": {},
     "execution_count": 13
    }
   ],
   "metadata": {
    "ExecuteTime": {
     "end_time": "2021-08-10T18:01:42.596692Z",
     "start_time": "2021-08-10T18:01:42.584690Z"
    }
   }
  },
  {
   "cell_type": "code",
   "execution_count": 14,
   "source": [
    "X.shape"
   ],
   "outputs": [
    {
     "output_type": "execute_result",
     "data": {
      "text/plain": [
       "(506, 20)"
      ]
     },
     "metadata": {},
     "execution_count": 14
    }
   ],
   "metadata": {
    "ExecuteTime": {
     "end_time": "2021-08-10T18:01:48.128925Z",
     "start_time": "2021-08-10T18:01:48.125930Z"
    }
   }
  },
  {
   "cell_type": "code",
   "execution_count": 15,
   "source": [
    "y = df['Gana Oscar']"
   ],
   "outputs": [],
   "metadata": {
    "ExecuteTime": {
     "end_time": "2021-08-10T18:01:49.231170Z",
     "start_time": "2021-08-10T18:01:49.229169Z"
    }
   }
  },
  {
   "cell_type": "code",
   "execution_count": 16,
   "source": [
    "y.head()"
   ],
   "outputs": [
    {
     "output_type": "execute_result",
     "data": {
      "text/plain": [
       "0    1\n",
       "1    0\n",
       "2    1\n",
       "3    1\n",
       "4    1\n",
       "Name: Gana Oscar, dtype: int64"
      ]
     },
     "metadata": {},
     "execution_count": 16
    }
   ],
   "metadata": {
    "ExecuteTime": {
     "end_time": "2021-08-10T18:01:50.236394Z",
     "start_time": "2021-08-10T18:01:50.231392Z"
    }
   }
  },
  {
   "cell_type": "code",
   "execution_count": 17,
   "source": [
    "y.shape"
   ],
   "outputs": [
    {
     "output_type": "execute_result",
     "data": {
      "text/plain": [
       "(506,)"
      ]
     },
     "metadata": {},
     "execution_count": 17
    }
   ],
   "metadata": {
    "ExecuteTime": {
     "end_time": "2021-08-10T18:01:51.220614Z",
     "start_time": "2021-08-10T18:01:51.217620Z"
    }
   }
  },
  {
   "cell_type": "markdown",
   "source": [
    "### Creación del conjunto de entrenamiento y validación"
   ],
   "metadata": {}
  },
  {
   "cell_type": "code",
   "execution_count": 18,
   "source": [
    "# Cargar el modulo para dividir el conjunto de datos en conjunto de entrenamiento y validación\n",
    "from sklearn.model_selection import train_test_split"
   ],
   "outputs": [],
   "metadata": {
    "ExecuteTime": {
     "end_time": "2021-08-10T18:01:55.491899Z",
     "start_time": "2021-08-10T18:01:53.827192Z"
    }
   }
  },
  {
   "cell_type": "code",
   "execution_count": 19,
   "source": [
    "X_train, X_test, y_train, y_test = train_test_split(X, y, test_size = 0.2, random_state = 0)"
   ],
   "outputs": [],
   "metadata": {
    "ExecuteTime": {
     "end_time": "2021-08-10T18:01:55.522907Z",
     "start_time": "2021-08-10T18:01:55.511904Z"
    }
   }
  },
  {
   "cell_type": "code",
   "execution_count": 20,
   "source": [
    "X_train.head()"
   ],
   "outputs": [
    {
     "output_type": "execute_result",
     "data": {
      "text/plain": [
       "     Costo de marketing  Costo de produccion  Multiplex cubiertos  Ganancias  \\\n",
       "220             27.1618                67.40                0.493  38612.805   \n",
       "71              23.1752                76.62                0.587  33113.355   \n",
       "240             22.2658                64.86                0.572  38312.835   \n",
       "6               21.7658                70.74                0.476  33396.660   \n",
       "417            538.8120                91.20                0.321  29463.720   \n",
       "\n",
       "     Duracion  Rating actor principal  Rating actriz principal  \\\n",
       "220     162.0                   8.485                    8.640   \n",
       "71       91.0                   7.280                    7.400   \n",
       "240     127.8                   6.755                    6.935   \n",
       "6       140.1                   7.065                    7.265   \n",
       "417     162.6                   9.135                    9.305   \n",
       "\n",
       "     Rating director  Rating productor  Rating criticos  \\\n",
       "220            8.485             8.670             8.52   \n",
       "71             7.290             7.455             8.16   \n",
       "240            6.800             6.840             8.68   \n",
       "6              7.150             7.400             8.96   \n",
       "417            9.095             9.165             6.96   \n",
       "\n",
       "     Visualizaciones trailers  Tiempo realizacion  Hashtags Twitter  \\\n",
       "220                    480270              174.68           224.272   \n",
       "71                     491978              200.68           263.472   \n",
       "240                    470107              204.80           224.320   \n",
       "6                      459241              139.16           243.664   \n",
       "417                    302776              172.16           301.664   \n",
       "\n",
       "     Promedio edad actores  Numero multiplex  Coleccion  Disponibilidad 3D_SI  \\\n",
       "220                     23               536      53400                     0   \n",
       "71                      46               400      43400                     0   \n",
       "240                     24               387      54000                     1   \n",
       "6                       41               522      45800                     1   \n",
       "417                     60               589      20800                     1   \n",
       "\n",
       "     Genero_Comedia  Genero_Drama  Genero_Terror  \n",
       "220               0             0              1  \n",
       "71                0             0              0  \n",
       "240               1             0              0  \n",
       "6                 0             0              1  \n",
       "417               0             0              0  "
      ],
      "text/html": [
       "<div>\n",
       "<style scoped>\n",
       "    .dataframe tbody tr th:only-of-type {\n",
       "        vertical-align: middle;\n",
       "    }\n",
       "\n",
       "    .dataframe tbody tr th {\n",
       "        vertical-align: top;\n",
       "    }\n",
       "\n",
       "    .dataframe thead th {\n",
       "        text-align: right;\n",
       "    }\n",
       "</style>\n",
       "<table border=\"1\" class=\"dataframe\">\n",
       "  <thead>\n",
       "    <tr style=\"text-align: right;\">\n",
       "      <th></th>\n",
       "      <th>Costo de marketing</th>\n",
       "      <th>Costo de produccion</th>\n",
       "      <th>Multiplex cubiertos</th>\n",
       "      <th>Ganancias</th>\n",
       "      <th>Duracion</th>\n",
       "      <th>Rating actor principal</th>\n",
       "      <th>Rating actriz principal</th>\n",
       "      <th>Rating director</th>\n",
       "      <th>Rating productor</th>\n",
       "      <th>Rating criticos</th>\n",
       "      <th>Visualizaciones trailers</th>\n",
       "      <th>Tiempo realizacion</th>\n",
       "      <th>Hashtags Twitter</th>\n",
       "      <th>Promedio edad actores</th>\n",
       "      <th>Numero multiplex</th>\n",
       "      <th>Coleccion</th>\n",
       "      <th>Disponibilidad 3D_SI</th>\n",
       "      <th>Genero_Comedia</th>\n",
       "      <th>Genero_Drama</th>\n",
       "      <th>Genero_Terror</th>\n",
       "    </tr>\n",
       "  </thead>\n",
       "  <tbody>\n",
       "    <tr>\n",
       "      <th>220</th>\n",
       "      <td>27.1618</td>\n",
       "      <td>67.40</td>\n",
       "      <td>0.493</td>\n",
       "      <td>38612.805</td>\n",
       "      <td>162.0</td>\n",
       "      <td>8.485</td>\n",
       "      <td>8.640</td>\n",
       "      <td>8.485</td>\n",
       "      <td>8.670</td>\n",
       "      <td>8.52</td>\n",
       "      <td>480270</td>\n",
       "      <td>174.68</td>\n",
       "      <td>224.272</td>\n",
       "      <td>23</td>\n",
       "      <td>536</td>\n",
       "      <td>53400</td>\n",
       "      <td>0</td>\n",
       "      <td>0</td>\n",
       "      <td>0</td>\n",
       "      <td>1</td>\n",
       "    </tr>\n",
       "    <tr>\n",
       "      <th>71</th>\n",
       "      <td>23.1752</td>\n",
       "      <td>76.62</td>\n",
       "      <td>0.587</td>\n",
       "      <td>33113.355</td>\n",
       "      <td>91.0</td>\n",
       "      <td>7.280</td>\n",
       "      <td>7.400</td>\n",
       "      <td>7.290</td>\n",
       "      <td>7.455</td>\n",
       "      <td>8.16</td>\n",
       "      <td>491978</td>\n",
       "      <td>200.68</td>\n",
       "      <td>263.472</td>\n",
       "      <td>46</td>\n",
       "      <td>400</td>\n",
       "      <td>43400</td>\n",
       "      <td>0</td>\n",
       "      <td>0</td>\n",
       "      <td>0</td>\n",
       "      <td>0</td>\n",
       "    </tr>\n",
       "    <tr>\n",
       "      <th>240</th>\n",
       "      <td>22.2658</td>\n",
       "      <td>64.86</td>\n",
       "      <td>0.572</td>\n",
       "      <td>38312.835</td>\n",
       "      <td>127.8</td>\n",
       "      <td>6.755</td>\n",
       "      <td>6.935</td>\n",
       "      <td>6.800</td>\n",
       "      <td>6.840</td>\n",
       "      <td>8.68</td>\n",
       "      <td>470107</td>\n",
       "      <td>204.80</td>\n",
       "      <td>224.320</td>\n",
       "      <td>24</td>\n",
       "      <td>387</td>\n",
       "      <td>54000</td>\n",
       "      <td>1</td>\n",
       "      <td>1</td>\n",
       "      <td>0</td>\n",
       "      <td>0</td>\n",
       "    </tr>\n",
       "    <tr>\n",
       "      <th>6</th>\n",
       "      <td>21.7658</td>\n",
       "      <td>70.74</td>\n",
       "      <td>0.476</td>\n",
       "      <td>33396.660</td>\n",
       "      <td>140.1</td>\n",
       "      <td>7.065</td>\n",
       "      <td>7.265</td>\n",
       "      <td>7.150</td>\n",
       "      <td>7.400</td>\n",
       "      <td>8.96</td>\n",
       "      <td>459241</td>\n",
       "      <td>139.16</td>\n",
       "      <td>243.664</td>\n",
       "      <td>41</td>\n",
       "      <td>522</td>\n",
       "      <td>45800</td>\n",
       "      <td>1</td>\n",
       "      <td>0</td>\n",
       "      <td>0</td>\n",
       "      <td>1</td>\n",
       "    </tr>\n",
       "    <tr>\n",
       "      <th>417</th>\n",
       "      <td>538.8120</td>\n",
       "      <td>91.20</td>\n",
       "      <td>0.321</td>\n",
       "      <td>29463.720</td>\n",
       "      <td>162.6</td>\n",
       "      <td>9.135</td>\n",
       "      <td>9.305</td>\n",
       "      <td>9.095</td>\n",
       "      <td>9.165</td>\n",
       "      <td>6.96</td>\n",
       "      <td>302776</td>\n",
       "      <td>172.16</td>\n",
       "      <td>301.664</td>\n",
       "      <td>60</td>\n",
       "      <td>589</td>\n",
       "      <td>20800</td>\n",
       "      <td>1</td>\n",
       "      <td>0</td>\n",
       "      <td>0</td>\n",
       "      <td>0</td>\n",
       "    </tr>\n",
       "  </tbody>\n",
       "</table>\n",
       "</div>"
      ]
     },
     "metadata": {},
     "execution_count": 20
    }
   ],
   "metadata": {
    "ExecuteTime": {
     "end_time": "2021-08-10T18:01:55.570910Z",
     "start_time": "2021-08-10T18:01:55.557917Z"
    }
   }
  },
  {
   "cell_type": "code",
   "execution_count": 21,
   "source": [
    "X_train.shape"
   ],
   "outputs": [
    {
     "output_type": "execute_result",
     "data": {
      "text/plain": [
       "(404, 20)"
      ]
     },
     "metadata": {},
     "execution_count": 21
    }
   ],
   "metadata": {
    "ExecuteTime": {
     "end_time": "2021-08-10T18:01:55.783957Z",
     "start_time": "2021-08-10T18:01:55.780956Z"
    }
   }
  },
  {
   "cell_type": "code",
   "execution_count": 22,
   "source": [
    "X_test.shape"
   ],
   "outputs": [
    {
     "output_type": "execute_result",
     "data": {
      "text/plain": [
       "(102, 20)"
      ]
     },
     "metadata": {},
     "execution_count": 22
    }
   ],
   "metadata": {
    "ExecuteTime": {
     "end_time": "2021-08-10T18:01:57.146262Z",
     "start_time": "2021-08-10T18:01:57.143261Z"
    }
   }
  },
  {
   "cell_type": "markdown",
   "source": [
    "### Entrenamiento del árbol de clasificación"
   ],
   "metadata": {}
  },
  {
   "cell_type": "code",
   "execution_count": 23,
   "source": [
    "# Importar modulo para la creación de los árboles\n",
    "from sklearn import tree"
   ],
   "outputs": [],
   "metadata": {
    "ExecuteTime": {
     "end_time": "2021-08-10T18:02:00.029427Z",
     "start_time": "2021-08-10T18:01:59.021212Z"
    }
   }
  },
  {
   "cell_type": "code",
   "execution_count": 24,
   "source": [
    "arbolclas = tree.DecisionTreeClassifier(max_depth = 3)"
   ],
   "outputs": [],
   "metadata": {
    "ExecuteTime": {
     "end_time": "2021-08-10T18:02:00.067436Z",
     "start_time": "2021-08-10T18:02:00.063442Z"
    }
   }
  },
  {
   "cell_type": "code",
   "execution_count": 25,
   "source": [
    "arbolclas.fit(X_train, y_train)"
   ],
   "outputs": [
    {
     "output_type": "execute_result",
     "data": {
      "text/plain": [
       "DecisionTreeClassifier(max_depth=3)"
      ]
     },
     "metadata": {},
     "execution_count": 25
    }
   ],
   "metadata": {
    "ExecuteTime": {
     "end_time": "2021-08-10T18:02:00.129449Z",
     "start_time": "2021-08-10T18:02:00.111446Z"
    }
   }
  },
  {
   "cell_type": "markdown",
   "source": [
    "### Predicción en el conjunto de entrenamiento y validación"
   ],
   "metadata": {}
  },
  {
   "cell_type": "code",
   "execution_count": 26,
   "source": [
    "y_train_pred = arbolclas.predict(X_train)\n",
    "y_test_pred = arbolclas.predict(X_test)"
   ],
   "outputs": [],
   "metadata": {
    "ExecuteTime": {
     "end_time": "2021-08-10T18:02:06.050775Z",
     "start_time": "2021-08-10T18:02:06.044766Z"
    },
    "tags": []
   }
  },
  {
   "cell_type": "code",
   "execution_count": 27,
   "source": [
    "y_test_pred"
   ],
   "outputs": [
    {
     "output_type": "execute_result",
     "data": {
      "text/plain": [
       "array([0, 1, 0, 1, 0, 0, 0, 0, 1, 0, 0, 0, 0, 1, 1, 0, 0, 1, 0, 0, 0, 0,\n",
       "       0, 0, 0, 1, 0, 0, 1, 0, 0, 0, 0, 0, 0, 0, 0, 1, 0, 0, 0, 0, 0, 1,\n",
       "       0, 0, 0, 0, 1, 0, 0, 0, 0, 1, 0, 0, 0, 1, 0, 0, 1, 0, 1, 0, 0, 0,\n",
       "       0, 0, 0, 0, 0, 0, 0, 0, 0, 1, 1, 0, 0, 0, 0, 0, 0, 1, 1, 0, 0, 0,\n",
       "       0, 0, 0, 0, 1, 0, 0, 0, 1, 1, 0, 0, 0, 0], dtype=int64)"
      ]
     },
     "metadata": {},
     "execution_count": 27
    }
   ],
   "metadata": {
    "ExecuteTime": {
     "end_time": "2021-08-10T18:02:07.090998Z",
     "start_time": "2021-08-10T18:02:07.086007Z"
    },
    "tags": []
   }
  },
  {
   "cell_type": "markdown",
   "source": [
    "### Métricas del modelo"
   ],
   "metadata": {}
  },
  {
   "cell_type": "code",
   "execution_count": 28,
   "source": [
    "from sklearn.metrics import confusion_matrix, accuracy_score, roc_auc_score\n",
    "from mlxtend.plotting import plot_confusion_matrix"
   ],
   "outputs": [],
   "metadata": {
    "ExecuteTime": {
     "end_time": "2021-08-10T18:02:09.406520Z",
     "start_time": "2021-08-10T18:02:09.188473Z"
    }
   }
  },
  {
   "cell_type": "code",
   "execution_count": 29,
   "source": [
    "confusion_matrix(y_test, y_test_pred)"
   ],
   "outputs": [
    {
     "output_type": "execute_result",
     "data": {
      "text/plain": [
       "array([[39,  5],\n",
       "       [41, 17]], dtype=int64)"
      ]
     },
     "metadata": {},
     "execution_count": 29
    }
   ],
   "metadata": {
    "ExecuteTime": {
     "end_time": "2021-08-10T18:02:10.570774Z",
     "start_time": "2021-08-10T18:02:10.565773Z"
    }
   }
  },
  {
   "cell_type": "code",
   "execution_count": 30,
   "source": [
    "plot_confusion_matrix(conf_mat = confusion_matrix(y_train, y_train_pred), figsize=(6,6), show_normed=False)\n",
    "plt.tight_layout(pad = 10)"
   ],
   "outputs": [
    {
     "output_type": "display_data",
     "data": {
      "text/plain": [
       "<Figure size 432x432 with 1 Axes>"
      ],
      "image/png": "[encoded data removed]"
     },
     "metadata": {
      "needs_background": "light"
     }
    }
   ],
   "metadata": {
    "ExecuteTime": {
     "end_time": "2021-08-10T18:02:11.849065Z",
     "start_time": "2021-08-10T18:02:11.528987Z"
    }
   }
  },
  {
   "cell_type": "code",
   "execution_count": 31,
   "source": [
    "plot_confusion_matrix(conf_mat = confusion_matrix(y_test, y_test_pred), figsize=(6,6), show_normed=False)\n",
    "plt.tight_layout(pad = 10)"
   ],
   "outputs": [
    {
     "output_type": "display_data",
     "data": {
      "text/plain": [
       "<Figure size 432x432 with 1 Axes>"
      ],
      "image/png": "[encoded data removed]"
     },
     "metadata": {
      "needs_background": "light"
     }
    }
   ],
   "metadata": {
    "ExecuteTime": {
     "end_time": "2021-08-10T18:02:12.529218Z",
     "start_time": "2021-08-10T18:02:12.444191Z"
    }
   }
  },
  {
   "cell_type": "code",
   "execution_count": 32,
   "source": [
    "accuracy_score(y_test, y_test_pred)"
   ],
   "outputs": [
    {
     "output_type": "execute_result",
     "data": {
      "text/plain": [
       "0.5490196078431373"
      ]
     },
     "metadata": {},
     "execution_count": 32
    }
   ],
   "metadata": {
    "ExecuteTime": {
     "end_time": "2021-08-10T18:02:14.126572Z",
     "start_time": "2021-08-10T18:02:14.122572Z"
    }
   }
  },
  {
   "cell_type": "code",
   "execution_count": 33,
   "source": [
    "roc_auc_score(y_test, y_test_pred)"
   ],
   "outputs": [
    {
     "output_type": "execute_result",
     "data": {
      "text/plain": [
       "0.5897335423197492"
      ]
     },
     "metadata": {},
     "execution_count": 33
    }
   ],
   "metadata": {
    "ExecuteTime": {
     "end_time": "2021-08-10T18:02:17.195248Z",
     "start_time": "2021-08-10T18:02:17.190246Z"
    }
   }
  },
  {
   "cell_type": "markdown",
   "source": [
    "### Gráficar árbol de regresión"
   ],
   "metadata": {}
  },
  {
   "cell_type": "code",
   "execution_count": 34,
   "source": [
    "# Utilizar el software graphviz para dar formato al árbol\n",
    "datos_graf = tree.export_graphviz(arbolclas, out_file = None, feature_names = X_train.columns,\n",
    "                                  filled = True, class_names = True)"
   ],
   "outputs": [],
   "metadata": {
    "ExecuteTime": {
     "end_time": "2021-08-10T18:02:19.707807Z",
     "start_time": "2021-08-10T18:02:19.701807Z"
    }
   }
  },
  {
   "cell_type": "code",
   "execution_count": 35,
   "source": [
    "# Del shell interactivo Ipython importar las funciones para crear la imagen\n",
    "from IPython.display import Image"
   ],
   "outputs": [],
   "metadata": {
    "ExecuteTime": {
     "end_time": "2021-08-10T18:02:20.497983Z",
     "start_time": "2021-08-10T18:02:20.495982Z"
    },
    "tags": []
   }
  },
  {
   "cell_type": "code",
   "execution_count": 36,
   "source": [
    "# Importar modulo que genera la estructura del árbol y graficarlo de acuerdo a los datos\n",
    "import pydotplus"
   ],
   "outputs": [],
   "metadata": {
    "ExecuteTime": {
     "end_time": "2021-08-10T18:02:23.492655Z",
     "start_time": "2021-08-10T18:02:23.451649Z"
    }
   }
  },
  {
   "cell_type": "code",
   "execution_count": 37,
   "source": [
    "# Crear la imagen en formato png\n",
    "graph = pydotplus.graph_from_dot_data(datos_graf)\n",
    "Image(graph.create_png())\n",
    "#graph.write_png('arboloriginalclass.png') # Si se desea guardar el árbol"
   ],
   "outputs": [
    {
     "output_type": "execute_result",
     "data": {
      "text/plain": [
       "<IPython.core.display.Image object>"
      ],
      "image/png": "[encoded data removed]"
     },
     "metadata": {},
     "execution_count": 37
    }
   ],
   "metadata": {
    "ExecuteTime": {
     "end_time": "2021-08-10T18:02:24.685914Z",
     "start_time": "2021-08-10T18:02:23.993760Z"
    }
   }
  },
  {
   "cell_type": "markdown",
   "source": [
    "### Controlando el crecimiento del árbol"
   ],
   "metadata": {}
  },
  {
   "cell_type": "code",
   "execution_count": 38,
   "source": [
    "arbolclas1 = tree.DecisionTreeClassifier(max_depth = 4, min_samples_leaf = 20, min_samples_split = 15)\n",
    "arbolclas1.fit(X_train, y_train)\n",
    "datos_graf = tree.export_graphviz(arbolclas1, out_file = None, feature_names = X_train.columns,\n",
    "                                  filled = True, class_names = ['No Gana', 'Gana'])\n",
    "graph1 = pydotplus.graph_from_dot_data(datos_graf)\n",
    "Image(graph1.create_png())"
   ],
   "outputs": [
    {
     "output_type": "execute_result",
     "data": {
      "text/plain": [
       "<IPython.core.display.Image object>"
      ],
      "image/png": "[encoded data removed]"
     },
     "metadata": {},
     "execution_count": 38
    }
   ],
   "metadata": {
    "ExecuteTime": {
     "end_time": "2021-08-10T18:02:29.432978Z",
     "start_time": "2021-08-10T18:02:29.306943Z"
    }
   }
  },
  {
   "cell_type": "markdown",
   "source": [
    "# Métodos de ensemble\n",
    "Los métodos de Bagging, Random Forests y Boosting permiten obtener una mejora sustancial en el rendimiento predictivo de los modelos basados en árboles, son modelos del tipo caja negra que son difíciles de interpretar o imposibles de interpretar en cierto nivel. Se conocen estos como métodos de ensemble o métodos combinados. Son aplicables a otros métodos de aprendizaje estadísticos para labores de regresión o clasificación.\n",
    "\n",
    "Los algoritmos ensamblados son algoritmos formados por algoritmos más simples. Estos algoritmos simples se unen para formar un algoritmo más potente.\n",
    "\n",
    "### Baggin\n",
    "El método de bagging o bootstrap aggregation es un procedimiento utilizado para reducir la varianza de un método de aprendizaje estadístico, usado muy frecuentemente con árboles de decisión.\n",
    "\n",
    "Para árboles de regresión la aplicación del bagging consiste en crear B árboles de regresión usando los B sets de entrenamiento generados por bootstrapping, promediando finalmente las predicciones resultantes. Estos árboles pueden crecer bastante ya que apenas se aplican restricciones, además de que no son podados. De esta manera cada árbol individual tiene alta varianza y poco bias, pero promediando los B árboles se contrarresta la varianza.\n",
    "\n",
    "Para árboles de clasificación dada una observación de validación, podemos obtener la clase predicha por cada uno de los B árboles, y escoger como predicción final para dicha observación la clase más común de entre las B predicciones (predicción de cada árbol).\n",
    "![Formula Bagging](bagging.png)\n",
    "\n",
    "![Concepto de bootstrap](bootrap_concept.png)\n",
    "\n",
    "https://scikit-learn.org/stable/modules/generated/sklearn.ensemble.BaggingClassifier.html"
   ],
   "metadata": {}
  },
  {
   "cell_type": "code",
   "execution_count": null,
   "source": [
    "# Importar modulo para Bagging\n",
    "from sklearn.ensemble import BaggingClassifier"
   ],
   "outputs": [],
   "metadata": {
    "ExecuteTime": {
     "end_time": "2021-08-09T23:00:49.816127Z",
     "start_time": "2021-08-09T23:00:49.697093Z"
    }
   }
  },
  {
   "cell_type": "code",
   "execution_count": null,
   "source": [
    "clas_bag = BaggingClassifier(base_estimator = arbolclas, n_estimators = 1000, bootstrap = True, n_jobs = -1, random_state = 123)"
   ],
   "outputs": [],
   "metadata": {
    "ExecuteTime": {
     "end_time": "2021-08-09T23:00:49.837132Z",
     "start_time": "2021-08-09T23:00:49.817121Z"
    }
   }
  },
  {
   "cell_type": "code",
   "execution_count": null,
   "source": [
    "clas_bag.fit(X_train, y_train)"
   ],
   "outputs": [],
   "metadata": {
    "ExecuteTime": {
     "end_time": "2021-08-09T23:00:52.968822Z",
     "start_time": "2021-08-09T23:00:49.839126Z"
    }
   }
  },
  {
   "cell_type": "code",
   "execution_count": null,
   "source": [
    "confusion_matrix(y_test, clas_bag.predict(X_test))"
   ],
   "outputs": [],
   "metadata": {
    "ExecuteTime": {
     "end_time": "2021-08-09T23:00:53.104852Z",
     "start_time": "2021-08-09T23:00:52.969824Z"
    }
   }
  },
  {
   "cell_type": "code",
   "execution_count": null,
   "source": [
    "accuracy_score(y_test, clas_bag.predict(X_test))"
   ],
   "outputs": [],
   "metadata": {
    "ExecuteTime": {
     "end_time": "2021-08-09T23:00:53.235889Z",
     "start_time": "2021-08-09T23:00:53.105854Z"
    }
   }
  },
  {
   "cell_type": "markdown",
   "source": [
    "### Random Forest\n",
    "Todos los árboles generados por Bagging usarán un predictor muy influyente en la primera ramificación, por lo que serán similares unos a otros, y las predicciones entre ellos estarán altamente correlacionadas, por lo tanto, la aplicación de Bagging promediando valores correlacionados no consigue una reducción sustancial de la varianza con respecto a un solo árbol.\n",
    "\n",
    "El método de Random Forests proporciona una mejora a los árboles combinados por Bagging en cuanto a que los descorrelaciona, teniendo en cuenta solo un subgrupo de predictores en cada división. Se construyen un número de árboles de decisión a partir de pseudo-muestras generadas por bootstrapping. Esta vez, se escogen de entre todos los $p$ predictores una muestra aleatoria de m predictores como candidatos antes de cada división, generalmente $m=\\sqrt{p}$ (si $m=p$, bagging y random forests darían resultados equivalentes).\n",
    "\n",
    "![RF1](rf1.png)\n",
    "![RF2](rf2.png)\n",
    "![RF3](rf3.png)\n",
    "![RF4](rf4.png)\n",
    "\n",
    "https://scikit-learn.org/stable/modules/generated/sklearn.ensemble.RandomForestClassifier.html?highlight=randomforestclassifier#sklearn.ensemble.RandomForestClassifier"
   ],
   "metadata": {}
  },
  {
   "cell_type": "code",
   "execution_count": null,
   "source": [
    "from sklearn.ensemble import RandomForestClassifier"
   ],
   "outputs": [],
   "metadata": {
    "ExecuteTime": {
     "end_time": "2021-08-09T23:00:53.240884Z",
     "start_time": "2021-08-09T23:00:53.236882Z"
    }
   }
  },
  {
   "cell_type": "code",
   "execution_count": null,
   "source": [
    "clas_rf = RandomForestClassifier(n_estimators = 1000, n_jobs = -1, random_state = 123)"
   ],
   "outputs": [],
   "metadata": {
    "ExecuteTime": {
     "end_time": "2021-08-09T23:00:53.244884Z",
     "start_time": "2021-08-09T23:00:53.241883Z"
    }
   }
  },
  {
   "cell_type": "code",
   "execution_count": null,
   "source": [
    "clas_rf.fit(X_train, y_train)"
   ],
   "outputs": [],
   "metadata": {
    "ExecuteTime": {
     "end_time": "2021-08-09T23:00:54.398141Z",
     "start_time": "2021-08-09T23:00:53.245884Z"
    }
   }
  },
  {
   "cell_type": "code",
   "execution_count": null,
   "source": [
    "confusion_matrix(y_test, clas_rf.predict(X_test))"
   ],
   "outputs": [],
   "metadata": {
    "ExecuteTime": {
     "end_time": "2021-08-09T23:00:54.508163Z",
     "start_time": "2021-08-09T23:00:54.399141Z"
    }
   }
  },
  {
   "cell_type": "code",
   "execution_count": null,
   "source": [
    "accuracy_score(y_test, clas_rf.predict(X_test))"
   ],
   "outputs": [],
   "metadata": {
    "ExecuteTime": {
     "end_time": "2021-08-09T23:00:54.616191Z",
     "start_time": "2021-08-09T23:00:54.509165Z"
    }
   }
  },
  {
   "cell_type": "markdown",
   "source": [
    "#### Grid Search\n",
    "https://scikit-learn.org/stable/modules/generated/sklearn.model_selection.GridSearchCV.html?highlight=gridsearchcv#sklearn.model_selection.GridSearchCV"
   ],
   "metadata": {}
  },
  {
   "cell_type": "code",
   "execution_count": null,
   "source": [
    "# Importar GridSearch para la prueba y elección de mejores estimaciones\n",
    "from sklearn.model_selection import GridSearchCV"
   ],
   "outputs": [],
   "metadata": {
    "ExecuteTime": {
     "end_time": "2021-08-09T23:00:54.621190Z",
     "start_time": "2021-08-09T23:00:54.617189Z"
    }
   }
  },
  {
   "cell_type": "code",
   "execution_count": null,
   "source": [
    "parametros = {'max_features' : [4, 5, 6, 7, 8, 9, 10], 'min_samples_split' : [2, 3, 10]}"
   ],
   "outputs": [],
   "metadata": {
    "ExecuteTime": {
     "end_time": "2021-08-09T23:00:54.626192Z",
     "start_time": "2021-08-09T23:00:54.622191Z"
    }
   }
  },
  {
   "cell_type": "code",
   "execution_count": null,
   "source": [
    "pru_param = GridSearchCV(clas_rf, parametros, n_jobs = -1, cv = 10, scoring = 'accuracy')"
   ],
   "outputs": [],
   "metadata": {
    "ExecuteTime": {
     "end_time": "2021-08-09T23:00:54.631192Z",
     "start_time": "2021-08-09T23:00:54.628193Z"
    }
   }
  },
  {
   "cell_type": "code",
   "execution_count": null,
   "source": [
    "pru_param.fit(X_train, y_train)"
   ],
   "outputs": [],
   "metadata": {
    "ExecuteTime": {
     "end_time": "2021-08-09T23:01:51.723900Z",
     "start_time": "2021-08-09T23:00:54.633193Z"
    }
   }
  },
  {
   "cell_type": "code",
   "execution_count": null,
   "source": [
    "pru_param.best_params_"
   ],
   "outputs": [],
   "metadata": {
    "ExecuteTime": {
     "end_time": "2021-08-09T23:01:51.728902Z",
     "start_time": "2021-08-09T23:01:51.724900Z"
    }
   }
  },
  {
   "cell_type": "code",
   "execution_count": null,
   "source": [
    "best_rf = pru_param.best_estimator_"
   ],
   "outputs": [],
   "metadata": {
    "ExecuteTime": {
     "end_time": "2021-08-09T23:01:51.733901Z",
     "start_time": "2021-08-09T23:01:51.730903Z"
    }
   }
  },
  {
   "cell_type": "code",
   "execution_count": null,
   "source": [
    "confusion_matrix(y_test, best_rf.predict(X_test))"
   ],
   "outputs": [],
   "metadata": {
    "ExecuteTime": {
     "end_time": "2021-08-09T23:01:51.846927Z",
     "start_time": "2021-08-09T23:01:51.734903Z"
    }
   }
  },
  {
   "cell_type": "code",
   "execution_count": null,
   "source": [
    "accuracy_score(y_test, best_rf.predict(X_test))"
   ],
   "outputs": [],
   "metadata": {
    "ExecuteTime": {
     "end_time": "2021-08-09T23:01:51.961954Z",
     "start_time": "2021-08-09T23:01:51.847928Z"
    }
   }
  },
  {
   "cell_type": "markdown",
   "source": [
    "### Boosting\n",
    "Boosting funciona de manera parecida al bagging en cuanto a que combina un gran número de árboles, a excepción de que los árboles se construyen de manera secuencial: cada árbol se genera usando información, concretamente los residuos, de árboles previamente generados, en lugar de utilizar la variable respuesta (por ello suelen ser suficientes árboles más pequeños, en lugar de un gran árbol que pueda sobreajustarse a los datos). Otra diferencia es que boosting no utiliza remuestreo por bootstrapping, sino que cada árbol se genera utilizando una versión modificada del set de datos original.\n",
    "\n",
    "Tres de los algoritmos de boosting más empleados son AdaBoost, Gradient Boosting y Stochastic Gradient Boosting. Todos ellos se caracterizan por tener una cantidad considerable de hiperparámetros, cuyo valor óptimo se tiene que identificar mediante validación cruzada. Tres de los más importantes son:\n",
    "\n",
    "* El número de weak learners o número de iteraciones: a diferencia del bagging y random forest, el boosting puede sufrir overfitting si este valor es excesivamente alto. Para evitarlo, se emplea un término de regularización conocido como learning rate.\n",
    "\n",
    "* Learning rate: controla la influencia que tiene cada weak learner en el conjunto del ensemble, es decir, el ritmo al que aprende el modelo. Suelen recomendarse valores de 0.001 o 0.01, aunque la elección correcta puede variar dependiendo del problema. Cuanto menor sea su valor, más árboles se necesitan para alcanzar buenos resultados pero menor es el riesgo de overfitting.\n",
    "\n",
    "* Si los weak learners son árboles, el tamaño máximo permitido de cada árbol. Suelen emplearse valores pequeños, entre 1 y 10.\n",
    "\n",
    "Estos métodos de Boosting tienen a disminuir el error con la desventaja de que el modelo resultante se sobreajuste a los datos de entrenamiento, esto lo logran disminuyendo el sesgo y la varianza:\n",
    "\n",
    "$Error total=sesgo+varianza+\\epsilon$\n",
    "\n",
    "https://scikit-learn.org/stable/modules/generated/sklearn.ensemble.GradientBoostingClassifier.html?highlight=gradientboostingclassifier#sklearn.ensemble.GradientBoostingClassifier"
   ],
   "metadata": {}
  },
  {
   "cell_type": "code",
   "execution_count": null,
   "source": [
    "from sklearn.ensemble import GradientBoostingClassifier"
   ],
   "outputs": [],
   "metadata": {
    "ExecuteTime": {
     "end_time": "2021-08-09T23:01:51.966953Z",
     "start_time": "2021-08-09T23:01:51.962953Z"
    }
   }
  },
  {
   "cell_type": "code",
   "execution_count": null,
   "source": [
    "clas_bo = GradientBoostingClassifier()\n",
    "clas_bo.fit(X_train, y_train)"
   ],
   "outputs": [],
   "metadata": {
    "ExecuteTime": {
     "end_time": "2021-08-09T23:01:52.133998Z",
     "start_time": "2021-08-09T23:01:51.967955Z"
    }
   }
  },
  {
   "cell_type": "code",
   "execution_count": null,
   "source": [
    "accuracy_score(y_test, clas_bo.predict(X_test))"
   ],
   "outputs": [],
   "metadata": {
    "ExecuteTime": {
     "end_time": "2021-08-09T23:01:52.149998Z",
     "start_time": "2021-08-09T23:01:52.134998Z"
    }
   }
  },
  {
   "cell_type": "code",
   "execution_count": null,
   "source": [
    "clas_bo2 = GradientBoostingClassifier(learning_rate = 0.02, n_estimators = 1000, max_depth = 1)\n",
    "clas_bo2.fit(X_train, y_train)"
   ],
   "outputs": [],
   "metadata": {
    "ExecuteTime": {
     "end_time": "2021-08-09T23:01:52.717129Z",
     "start_time": "2021-08-09T23:01:52.151003Z"
    }
   }
  },
  {
   "cell_type": "code",
   "execution_count": null,
   "source": [
    "accuracy_score(y_test, clas_bo.predict(X_test))"
   ],
   "outputs": [],
   "metadata": {
    "ExecuteTime": {
     "end_time": "2021-08-09T23:01:52.725129Z",
     "start_time": "2021-08-09T23:01:52.718128Z"
    }
   }
  },
  {
   "cell_type": "markdown",
   "source": [
    "#### Ada Boost\n",
    "Adaboost (Adaptive Boosting), aplicado sobretodo a problemas de clasificación, es un algoritmo iterativo que se basa en combinar múltiples weak learners, en un único strong learner a través de una combinación lineal ponderada.\n",
    "\n",
    "https://scikit-learn.org/stable/modules/generated/sklearn.ensemble.AdaBoostClassifier.html?highlight=adaboostclassifier#sklearn.ensemble.AdaBoostClassifier"
   ],
   "metadata": {}
  },
  {
   "cell_type": "code",
   "execution_count": null,
   "source": [
    "from sklearn.ensemble import AdaBoostClassifier"
   ],
   "outputs": [],
   "metadata": {
    "ExecuteTime": {
     "end_time": "2021-08-09T23:01:52.729130Z",
     "start_time": "2021-08-09T23:01:52.726131Z"
    }
   }
  },
  {
   "cell_type": "code",
   "execution_count": null,
   "source": [
    "clas_ab = AdaBoostClassifier(learning_rate = 0.02, n_estimators = 5000)"
   ],
   "outputs": [],
   "metadata": {
    "ExecuteTime": {
     "end_time": "2021-08-09T23:01:52.733131Z",
     "start_time": "2021-08-09T23:01:52.730123Z"
    }
   }
  },
  {
   "cell_type": "code",
   "execution_count": null,
   "source": [
    "clas_ab.fit(X_train, y_train)"
   ],
   "outputs": [],
   "metadata": {
    "ExecuteTime": {
     "end_time": "2021-08-09T23:01:58.658451Z",
     "start_time": "2021-08-09T23:01:52.734125Z"
    }
   }
  },
  {
   "cell_type": "code",
   "execution_count": null,
   "source": [
    "accuracy_score(y_test, clas_ab.predict(X_test))"
   ],
   "outputs": [],
   "metadata": {
    "ExecuteTime": {
     "end_time": "2021-08-09T23:01:59.079543Z",
     "start_time": "2021-08-09T23:01:58.659445Z"
    }
   }
  },
  {
   "cell_type": "code",
   "execution_count": null,
   "source": [
    "clas_ab2 = AdaBoostClassifier(learning_rate = 0.02, n_estimators = 500)"
   ],
   "outputs": [],
   "metadata": {
    "ExecuteTime": {
     "end_time": "2021-08-09T23:01:59.084538Z",
     "start_time": "2021-08-09T23:01:59.080543Z"
    }
   }
  },
  {
   "cell_type": "code",
   "execution_count": null,
   "source": [
    "clas_ab2.fit(X_train, y_train)"
   ],
   "outputs": [],
   "metadata": {
    "ExecuteTime": {
     "end_time": "2021-08-09T23:01:59.749693Z",
     "start_time": "2021-08-09T23:01:59.085546Z"
    }
   }
  },
  {
   "cell_type": "code",
   "execution_count": null,
   "source": [
    "accuracy_score(y_test, clas_ab2.predict(X_test))"
   ],
   "outputs": [],
   "metadata": {
    "ExecuteTime": {
     "end_time": "2021-08-09T23:01:59.799707Z",
     "start_time": "2021-08-09T23:01:59.750693Z"
    }
   }
  },
  {
   "cell_type": "markdown",
   "source": [
    "#### XG Boost\n",
    "Gradient Boosting no asigna un peso independiente a cada observación de entrenamiento, sino que hace uso de una función de coste $L(yi,f(x))$ cuyo gradiente o derivada parcial de la función de coste se pretende minimizar. Esto se lleva a cabo en un proceso iterativo. El gradiente se utiliza para encontrar la dirección en la que cambiar los parámetros de los weak learners para reducir el error de predicción en las siguientes iteraciones. Concretamente, las predicciones del weak learner m intentan acercarse al gradiente negativo de la función de coste.\n",
    "\n",
    "![Gradiente](grad1.png)\n",
    "\n",
    "https://xgboost.readthedocs.io/en/latest/parameter.html"
   ],
   "metadata": {}
  },
  {
   "cell_type": "code",
   "execution_count": null,
   "source": [
    "import xgboost as xgb"
   ],
   "outputs": [],
   "metadata": {
    "ExecuteTime": {
     "end_time": "2021-08-09T23:02:00.478855Z",
     "start_time": "2021-08-09T23:01:59.800696Z"
    }
   }
  },
  {
   "cell_type": "code",
   "execution_count": null,
   "source": [
    "clas_xgb = xgb.XGBClassifier(max_depth = 5, n_estimators = 10000, learning_rate = 0.3, n_jobs = -1)"
   ],
   "outputs": [],
   "metadata": {
    "ExecuteTime": {
     "end_time": "2021-08-09T23:02:00.483857Z",
     "start_time": "2021-08-09T23:02:00.479848Z"
    }
   }
  },
  {
   "cell_type": "code",
   "execution_count": null,
   "source": [
    "clas_xgb.fit(X_train, y_train)"
   ],
   "outputs": [],
   "metadata": {
    "ExecuteTime": {
     "end_time": "2021-08-09T23:02:03.168453Z",
     "start_time": "2021-08-09T23:02:00.484857Z"
    }
   }
  },
  {
   "cell_type": "code",
   "execution_count": null,
   "source": [
    "accuracy_score(y_test, clas_xgb.predict(X_test))"
   ],
   "outputs": [],
   "metadata": {
    "ExecuteTime": {
     "end_time": "2021-08-09T23:02:03.180447Z",
     "start_time": "2021-08-09T23:02:03.169455Z"
    }
   }
  },
  {
   "cell_type": "code",
   "execution_count": null,
   "source": [
    "xgb.plot_importance(clas_xgb)"
   ],
   "outputs": [],
   "metadata": {
    "ExecuteTime": {
     "end_time": "2021-08-09T23:02:03.688568Z",
     "start_time": "2021-08-09T23:02:03.181447Z"
    }
   }
  },
  {
   "cell_type": "code",
   "execution_count": null,
   "source": [
    "clas_xgb2 = xgb.XGBClassifier(n_estimators = 500, learning_rate = 0.1, n_jobs = -1, random_state = 123)"
   ],
   "outputs": [],
   "metadata": {
    "ExecuteTime": {
     "end_time": "2021-08-09T23:02:03.693570Z",
     "start_time": "2021-08-09T23:02:03.689570Z"
    }
   }
  },
  {
   "cell_type": "code",
   "execution_count": null,
   "source": [
    "parametros2 = {'max_depth': range(3, 10, 2),\n",
    "               'gamma' : [0.1, 0.2, 0.3],\n",
    "               'sub_sample' : [0.8, 0.9],\n",
    "              'colsample_bytree' : [0.8, 0.9],\n",
    "              'reg_alpha' : [1e-2, 0.1, 1]}"
   ],
   "outputs": [],
   "metadata": {
    "ExecuteTime": {
     "end_time": "2021-08-09T23:02:03.698566Z",
     "start_time": "2021-08-09T23:02:03.694571Z"
    }
   }
  },
  {
   "cell_type": "code",
   "execution_count": null,
   "source": [
    "pru_param2 = GridSearchCV(clas_xgb2, parametros2, n_jobs = -1, cv = 10, scoring = 'accuracy')"
   ],
   "outputs": [],
   "metadata": {
    "ExecuteTime": {
     "end_time": "2021-08-09T23:02:03.703566Z",
     "start_time": "2021-08-09T23:02:03.700565Z"
    }
   }
  },
  {
   "cell_type": "code",
   "execution_count": null,
   "source": [
    "pru_param2.fit(X_train, y_train)"
   ],
   "outputs": [],
   "metadata": {
    "ExecuteTime": {
     "end_time": "2021-08-09T23:04:24.357870Z",
     "start_time": "2021-08-09T23:02:03.704568Z"
    }
   }
  },
  {
   "cell_type": "code",
   "execution_count": null,
   "source": [
    "best_xgb = pru_param2.best_estimator_"
   ],
   "outputs": [],
   "metadata": {
    "ExecuteTime": {
     "end_time": "2021-08-09T23:04:24.363872Z",
     "start_time": "2021-08-09T23:04:24.358870Z"
    }
   }
  },
  {
   "cell_type": "code",
   "execution_count": null,
   "source": [
    "accuracy_score(y_test, best_xgb.predict(X_test))"
   ],
   "outputs": [],
   "metadata": {
    "ExecuteTime": {
     "end_time": "2021-08-09T23:04:24.373874Z",
     "start_time": "2021-08-09T23:04:24.365873Z"
    }
   }
  },
  {
   "cell_type": "code",
   "execution_count": null,
   "source": [
    "pru_param2.best_params_"
   ],
   "outputs": [],
   "metadata": {
    "ExecuteTime": {
     "end_time": "2021-08-09T23:04:24.380877Z",
     "start_time": "2021-08-09T23:04:24.375875Z"
    }
   }
  }
 ],
 "metadata": {
  "kernelspec": {
   "display_name": "Python 3",
   "language": "python",
   "name": "python3"
  },
  "language_info": {
   "codemirror_mode": {
    "name": "ipython",
    "version": 3
   },
   "file_extension": ".py",
   "mimetype": "text/x-python",
   "name": "python",
   "nbconvert_exporter": "python",
   "pygments_lexer": "ipython3",
   "version": "3.9.5"
  },
  "nbTranslate": {
   "displayLangs": [
    "*"
   ],
   "hotkey": "alt-t",
   "langInMainMenu": true,
   "sourceLang": "en",
   "targetLang": "fr",
   "useGoogleTranslate": true
  },
  "toc": {
   "base_numbering": 1,
   "nav_menu": {},
   "number_sections": true,
   "sideBar": true,
   "skip_h1_title": false,
   "title_cell": "Table of Contents",
   "title_sidebar": "Contents",
   "toc_cell": false,
   "toc_position": {},
   "toc_section_display": true,
   "toc_window_display": true
  },
  "varInspector": {
   "cols": {
    "lenName": 16,
    "lenType": 16,
    "lenVar": 40
   },
   "kernels_config": {
    "python": {
     "delete_cmd_postfix": "",
     "delete_cmd_prefix": "del ",
     "library": "var_list.py",
     "varRefreshCmd": "print(var_dic_list())"
    },
    "r": {
     "delete_cmd_postfix": ") ",
     "delete_cmd_prefix": "rm(",
     "library": "var_list.r",
     "varRefreshCmd": "cat(var_dic_list()) "
    }
   },
   "position": {
    "height": "731px",
    "left": "1603px",
    "right": "20px",
    "top": "120px",
    "width": "297px"
   },
   "types_to_exclude": [
    "module",
    "function",
    "builtin_function_or_method",
    "instance",
    "_Feature"
   ],
   "window_display": true
  }
 },
 "nbformat": 4,
 "nbformat_minor": 5
}