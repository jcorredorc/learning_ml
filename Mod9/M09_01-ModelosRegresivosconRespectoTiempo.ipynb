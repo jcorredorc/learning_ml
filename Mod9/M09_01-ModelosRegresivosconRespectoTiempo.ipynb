{
 "cells": [
  {
   "cell_type": "markdown",
   "metadata": {},
   "source": [
    "# Forecasting con modelos de regresión lineal\n",
    "## Carga de los datos"
   ]
  },
  {
   "cell_type": "code",
   "execution_count": 2,
   "metadata": {
    "ExecuteTime": {
     "end_time": "2021-09-13T18:13:45.338432Z",
     "start_time": "2021-09-13T18:13:33.491164Z"
    },
    "id": "dQNZ4uixx6fO"
   },
   "outputs": [],
   "source": [
    "# Modulos para el tratamiento de los datos\n",
    "import numpy as np\n",
    "import pandas as pd\n",
    "\n",
    "# Modulos para las visualizaciones\n",
    "import matplotlib.pyplot as plt\n",
    "import seaborn as sns"
   ]
  },
  {
   "cell_type": "code",
   "execution_count": 3,
   "metadata": {
    "ExecuteTime": {
     "end_time": "2021-09-13T18:13:45.477850Z",
     "start_time": "2021-09-13T18:13:45.340832Z"
    },
    "colab": {
     "base_uri": "https://localhost:8080/",
     "height": 194
    },
    "executionInfo": {
     "elapsed": 2555,
     "status": "ok",
     "timestamp": 1608264385628,
     "user": {
      "displayName": "freeai time",
      "photoUrl": "https://lh3.googleusercontent.com/a-/AOh14GgxvlF_Oni7ZMdvrndxf2178ORhoNGeclnb7GQ6=s64",
      "userId": "11272871337215191422"
     },
     "user_tz": -330
    },
    "id": "7kgkZFhdyH96",
    "outputId": "9d6ac7e2-a170-4394-d35e-2912943be961"
   },
   "outputs": [
    {
     "data": {
      "text/html": [
       "<div>\n",
       "<style scoped>\n",
       "    .dataframe tbody tr th:only-of-type {\n",
       "        vertical-align: middle;\n",
       "    }\n",
       "\n",
       "    .dataframe tbody tr th {\n",
       "        vertical-align: top;\n",
       "    }\n",
       "\n",
       "    .dataframe thead th {\n",
       "        text-align: right;\n",
       "    }\n",
       "</style>\n",
       "<table border=\"1\" class=\"dataframe\">\n",
       "  <thead>\n",
       "    <tr style=\"text-align: right;\">\n",
       "      <th></th>\n",
       "      <th>Fecha</th>\n",
       "      <th>Ventas</th>\n",
       "    </tr>\n",
       "  </thead>\n",
       "  <tbody>\n",
       "    <tr>\n",
       "      <th>0</th>\n",
       "      <td>2001-01-01</td>\n",
       "      <td>139.7</td>\n",
       "    </tr>\n",
       "    <tr>\n",
       "      <th>1</th>\n",
       "      <td>2001-02-01</td>\n",
       "      <td>114.3</td>\n",
       "    </tr>\n",
       "    <tr>\n",
       "      <th>2</th>\n",
       "      <td>2001-03-01</td>\n",
       "      <td>101.6</td>\n",
       "    </tr>\n",
       "    <tr>\n",
       "      <th>3</th>\n",
       "      <td>2001-04-01</td>\n",
       "      <td>152.4</td>\n",
       "    </tr>\n",
       "    <tr>\n",
       "      <th>4</th>\n",
       "      <td>2001-05-01</td>\n",
       "      <td>215.9</td>\n",
       "    </tr>\n",
       "  </tbody>\n",
       "</table>\n",
       "</div>"
      ],
      "text/plain": [
       "        Fecha  Ventas\n",
       "0  2001-01-01   139.7\n",
       "1  2001-02-01   114.3\n",
       "2  2001-03-01   101.6\n",
       "3  2001-04-01   152.4\n",
       "4  2001-05-01   215.9"
      ]
     },
     "execution_count": 3,
     "metadata": {},
     "output_type": "execute_result"
    }
   ],
   "source": [
    "df = pd.read_csv('Data/sales_data.csv')\n",
    "df.head()"
   ]
  },
  {
   "cell_type": "code",
   "execution_count": 4,
   "metadata": {
    "ExecuteTime": {
     "end_time": "2021-09-13T18:13:45.493846Z",
     "start_time": "2021-09-13T18:13:45.479845Z"
    },
    "colab": {
     "base_uri": "https://localhost:8080/"
    },
    "executionInfo": {
     "elapsed": 2531,
     "status": "ok",
     "timestamp": 1608264385630,
     "user": {
      "displayName": "freeai time",
      "photoUrl": "https://lh3.googleusercontent.com/a-/AOh14GgxvlF_Oni7ZMdvrndxf2178ORhoNGeclnb7GQ6=s64",
      "userId": "11272871337215191422"
     },
     "user_tz": -330
    },
    "id": "eOOfsRfayQUE",
    "outputId": "fb2ee235-c5b2-4f73-e357-93a44e98380d"
   },
   "outputs": [
    {
     "name": "stdout",
     "output_type": "stream",
     "text": [
      "<class 'pandas.core.frame.DataFrame'>\n",
      "RangeIndex: 72 entries, 0 to 71\n",
      "Data columns (total 2 columns):\n",
      " #   Column  Non-Null Count  Dtype  \n",
      "---  ------  --------------  -----  \n",
      " 0   Fecha   72 non-null     object \n",
      " 1   Ventas  72 non-null     float64\n",
      "dtypes: float64(1), object(1)\n",
      "memory usage: 1.2+ KB\n"
     ]
    }
   ],
   "source": [
    "df.info()"
   ]
  },
  {
   "cell_type": "markdown",
   "metadata": {
    "id": "CpkJb3dhy5ZT"
   },
   "source": [
    "## Preproceso de los datos"
   ]
  },
  {
   "cell_type": "code",
   "execution_count": 5,
   "metadata": {
    "ExecuteTime": {
     "end_time": "2021-09-13T18:13:45.509851Z",
     "start_time": "2021-09-13T18:13:45.495848Z"
    },
    "id": "dr7DSXmvyRhx"
   },
   "outputs": [],
   "source": [
    "# Con el método datetime se convierte el atributo 'Fecha' a tipo fecha\n",
    "df['Fecha'] = pd.to_datetime(df['Fecha'])"
   ]
  },
  {
   "cell_type": "code",
   "execution_count": 6,
   "metadata": {
    "ExecuteTime": {
     "end_time": "2021-09-13T18:13:45.525853Z",
     "start_time": "2021-09-13T18:13:45.510851Z"
    },
    "colab": {
     "base_uri": "https://localhost:8080/"
    },
    "executionInfo": {
     "elapsed": 1282,
     "status": "ok",
     "timestamp": 1608264387157,
     "user": {
      "displayName": "freeai time",
      "photoUrl": "https://lh3.googleusercontent.com/a-/AOh14GgxvlF_Oni7ZMdvrndxf2178ORhoNGeclnb7GQ6=s64",
      "userId": "11272871337215191422"
     },
     "user_tz": -330
    },
    "id": "uO_Pt0j-zBw0",
    "outputId": "82336123-141e-4e40-8897-40f71caba05f"
   },
   "outputs": [
    {
     "data": {
      "text/plain": [
       "Fecha     datetime64[ns]\n",
       "Ventas           float64\n",
       "dtype: object"
      ]
     },
     "execution_count": 6,
     "metadata": {},
     "output_type": "execute_result"
    }
   ],
   "source": [
    "# Verificar que la conversión fue realizda\n",
    "df.dtypes"
   ]
  },
  {
   "cell_type": "code",
   "execution_count": 7,
   "metadata": {
    "ExecuteTime": {
     "end_time": "2021-09-13T18:13:45.541857Z",
     "start_time": "2021-09-13T18:13:45.527856Z"
    },
    "id": "E-ezDc9hzCon"
   },
   "outputs": [],
   "source": [
    "# Crear un atributo 'tiempo' que enumere los meses correspondientes a la fecha\n",
    "df['tiempo'] = np.arange(1,73,1)"
   ]
  },
  {
   "cell_type": "code",
   "execution_count": 8,
   "metadata": {
    "ExecuteTime": {
     "end_time": "2021-09-13T18:13:45.557861Z",
     "start_time": "2021-09-13T18:13:45.542858Z"
    },
    "colab": {
     "base_uri": "https://localhost:8080/",
     "height": 194
    },
    "executionInfo": {
     "elapsed": 1376,
     "status": "ok",
     "timestamp": 1608264387852,
     "user": {
      "displayName": "freeai time",
      "photoUrl": "https://lh3.googleusercontent.com/a-/AOh14GgxvlF_Oni7ZMdvrndxf2178ORhoNGeclnb7GQ6=s64",
      "userId": "11272871337215191422"
     },
     "user_tz": -330
    },
    "id": "k7RxZBJpzU0z",
    "outputId": "697ab0bf-10f7-4a7f-ee0a-fc85c1da4728"
   },
   "outputs": [
    {
     "data": {
      "text/html": [
       "<div>\n",
       "<style scoped>\n",
       "    .dataframe tbody tr th:only-of-type {\n",
       "        vertical-align: middle;\n",
       "    }\n",
       "\n",
       "    .dataframe tbody tr th {\n",
       "        vertical-align: top;\n",
       "    }\n",
       "\n",
       "    .dataframe thead th {\n",
       "        text-align: right;\n",
       "    }\n",
       "</style>\n",
       "<table border=\"1\" class=\"dataframe\">\n",
       "  <thead>\n",
       "    <tr style=\"text-align: right;\">\n",
       "      <th></th>\n",
       "      <th>Fecha</th>\n",
       "      <th>Ventas</th>\n",
       "      <th>tiempo</th>\n",
       "    </tr>\n",
       "  </thead>\n",
       "  <tbody>\n",
       "    <tr>\n",
       "      <th>0</th>\n",
       "      <td>2001-01-01</td>\n",
       "      <td>139.7</td>\n",
       "      <td>1</td>\n",
       "    </tr>\n",
       "    <tr>\n",
       "      <th>1</th>\n",
       "      <td>2001-02-01</td>\n",
       "      <td>114.3</td>\n",
       "      <td>2</td>\n",
       "    </tr>\n",
       "    <tr>\n",
       "      <th>2</th>\n",
       "      <td>2001-03-01</td>\n",
       "      <td>101.6</td>\n",
       "      <td>3</td>\n",
       "    </tr>\n",
       "    <tr>\n",
       "      <th>3</th>\n",
       "      <td>2001-04-01</td>\n",
       "      <td>152.4</td>\n",
       "      <td>4</td>\n",
       "    </tr>\n",
       "    <tr>\n",
       "      <th>4</th>\n",
       "      <td>2001-05-01</td>\n",
       "      <td>215.9</td>\n",
       "      <td>5</td>\n",
       "    </tr>\n",
       "  </tbody>\n",
       "</table>\n",
       "</div>"
      ],
      "text/plain": [
       "       Fecha  Ventas  tiempo\n",
       "0 2001-01-01   139.7       1\n",
       "1 2001-02-01   114.3       2\n",
       "2 2001-03-01   101.6       3\n",
       "3 2001-04-01   152.4       4\n",
       "4 2001-05-01   215.9       5"
      ]
     },
     "execution_count": 8,
     "metadata": {},
     "output_type": "execute_result"
    }
   ],
   "source": [
    "df.head()"
   ]
  },
  {
   "cell_type": "code",
   "execution_count": 9,
   "metadata": {
    "ExecuteTime": {
     "end_time": "2021-09-13T18:13:45.589867Z",
     "start_time": "2021-09-13T18:13:45.558862Z"
    },
    "id": "UKO5ToxQzg5c"
   },
   "outputs": [],
   "source": [
    "# Crear el atributo 'mes' haciendo uso del método datetime (dt.month_name())\n",
    "df['mes'] = df['Fecha'].dt.month_name(locale='es')"
   ]
  },
  {
   "cell_type": "code",
   "execution_count": 10,
   "metadata": {
    "ExecuteTime": {
     "end_time": "2021-09-13T18:13:45.605871Z",
     "start_time": "2021-09-13T18:13:45.591870Z"
    },
    "colab": {
     "base_uri": "https://localhost:8080/",
     "height": 487
    },
    "executionInfo": {
     "elapsed": 1188,
     "status": "ok",
     "timestamp": 1608264387859,
     "user": {
      "displayName": "freeai time",
      "photoUrl": "https://lh3.googleusercontent.com/a-/AOh14GgxvlF_Oni7ZMdvrndxf2178ORhoNGeclnb7GQ6=s64",
      "userId": "11272871337215191422"
     },
     "user_tz": -330
    },
    "id": "v2vnU88ZzvMs",
    "outputId": "910da0f9-9ee2-4c31-b93a-40fd3b590255"
   },
   "outputs": [
    {
     "data": {
      "text/html": [
       "<div>\n",
       "<style scoped>\n",
       "    .dataframe tbody tr th:only-of-type {\n",
       "        vertical-align: middle;\n",
       "    }\n",
       "\n",
       "    .dataframe tbody tr th {\n",
       "        vertical-align: top;\n",
       "    }\n",
       "\n",
       "    .dataframe thead th {\n",
       "        text-align: right;\n",
       "    }\n",
       "</style>\n",
       "<table border=\"1\" class=\"dataframe\">\n",
       "  <thead>\n",
       "    <tr style=\"text-align: right;\">\n",
       "      <th></th>\n",
       "      <th>Fecha</th>\n",
       "      <th>Ventas</th>\n",
       "      <th>tiempo</th>\n",
       "      <th>mes</th>\n",
       "    </tr>\n",
       "  </thead>\n",
       "  <tbody>\n",
       "    <tr>\n",
       "      <th>0</th>\n",
       "      <td>2001-01-01</td>\n",
       "      <td>139.7</td>\n",
       "      <td>1</td>\n",
       "      <td>Enero</td>\n",
       "    </tr>\n",
       "    <tr>\n",
       "      <th>1</th>\n",
       "      <td>2001-02-01</td>\n",
       "      <td>114.3</td>\n",
       "      <td>2</td>\n",
       "      <td>Febrero</td>\n",
       "    </tr>\n",
       "    <tr>\n",
       "      <th>2</th>\n",
       "      <td>2001-03-01</td>\n",
       "      <td>101.6</td>\n",
       "      <td>3</td>\n",
       "      <td>Marzo</td>\n",
       "    </tr>\n",
       "    <tr>\n",
       "      <th>3</th>\n",
       "      <td>2001-04-01</td>\n",
       "      <td>152.4</td>\n",
       "      <td>4</td>\n",
       "      <td>Abril</td>\n",
       "    </tr>\n",
       "    <tr>\n",
       "      <th>4</th>\n",
       "      <td>2001-05-01</td>\n",
       "      <td>215.9</td>\n",
       "      <td>5</td>\n",
       "      <td>Mayo</td>\n",
       "    </tr>\n",
       "    <tr>\n",
       "      <th>5</th>\n",
       "      <td>2001-06-01</td>\n",
       "      <td>228.6</td>\n",
       "      <td>6</td>\n",
       "      <td>Junio</td>\n",
       "    </tr>\n",
       "    <tr>\n",
       "      <th>6</th>\n",
       "      <td>2001-07-01</td>\n",
       "      <td>215.9</td>\n",
       "      <td>7</td>\n",
       "      <td>Julio</td>\n",
       "    </tr>\n",
       "    <tr>\n",
       "      <th>7</th>\n",
       "      <td>2001-08-01</td>\n",
       "      <td>190.5</td>\n",
       "      <td>8</td>\n",
       "      <td>Agosto</td>\n",
       "    </tr>\n",
       "    <tr>\n",
       "      <th>8</th>\n",
       "      <td>2001-09-01</td>\n",
       "      <td>177.8</td>\n",
       "      <td>9</td>\n",
       "      <td>Septiembre</td>\n",
       "    </tr>\n",
       "    <tr>\n",
       "      <th>9</th>\n",
       "      <td>2001-10-01</td>\n",
       "      <td>139.7</td>\n",
       "      <td>10</td>\n",
       "      <td>Octubre</td>\n",
       "    </tr>\n",
       "    <tr>\n",
       "      <th>10</th>\n",
       "      <td>2001-11-01</td>\n",
       "      <td>139.7</td>\n",
       "      <td>11</td>\n",
       "      <td>Noviembre</td>\n",
       "    </tr>\n",
       "    <tr>\n",
       "      <th>11</th>\n",
       "      <td>2001-12-01</td>\n",
       "      <td>152.4</td>\n",
       "      <td>12</td>\n",
       "      <td>Diciembre</td>\n",
       "    </tr>\n",
       "    <tr>\n",
       "      <th>12</th>\n",
       "      <td>2002-01-01</td>\n",
       "      <td>165.1</td>\n",
       "      <td>13</td>\n",
       "      <td>Enero</td>\n",
       "    </tr>\n",
       "    <tr>\n",
       "      <th>13</th>\n",
       "      <td>2002-02-01</td>\n",
       "      <td>177.8</td>\n",
       "      <td>14</td>\n",
       "      <td>Febrero</td>\n",
       "    </tr>\n",
       "    <tr>\n",
       "      <th>14</th>\n",
       "      <td>2002-03-01</td>\n",
       "      <td>177.8</td>\n",
       "      <td>15</td>\n",
       "      <td>Marzo</td>\n",
       "    </tr>\n",
       "  </tbody>\n",
       "</table>\n",
       "</div>"
      ],
      "text/plain": [
       "        Fecha  Ventas  tiempo         mes\n",
       "0  2001-01-01   139.7       1       Enero\n",
       "1  2001-02-01   114.3       2     Febrero\n",
       "2  2001-03-01   101.6       3       Marzo\n",
       "3  2001-04-01   152.4       4       Abril\n",
       "4  2001-05-01   215.9       5        Mayo\n",
       "5  2001-06-01   228.6       6       Junio\n",
       "6  2001-07-01   215.9       7       Julio\n",
       "7  2001-08-01   190.5       8      Agosto\n",
       "8  2001-09-01   177.8       9  Septiembre\n",
       "9  2001-10-01   139.7      10     Octubre\n",
       "10 2001-11-01   139.7      11   Noviembre\n",
       "11 2001-12-01   152.4      12   Diciembre\n",
       "12 2002-01-01   165.1      13       Enero\n",
       "13 2002-02-01   177.8      14     Febrero\n",
       "14 2002-03-01   177.8      15       Marzo"
      ]
     },
     "execution_count": 10,
     "metadata": {},
     "output_type": "execute_result"
    }
   ],
   "source": [
    "df.head(15)"
   ]
  },
  {
   "cell_type": "markdown",
   "metadata": {
    "id": "19KbcFN811TK"
   },
   "source": [
    "### Dividir los datos en  un conjunto de entrenamiento y otro de prueba"
   ]
  },
  {
   "cell_type": "code",
   "execution_count": 11,
   "metadata": {
    "ExecuteTime": {
     "end_time": "2021-09-13T18:13:45.621877Z",
     "start_time": "2021-09-13T18:13:45.607875Z"
    },
    "id": "2jnMzLYZzwWz"
   },
   "outputs": [],
   "source": [
    "# Usar los promeros 48 meses como datos de entrenamiento (4 años) y\n",
    "# los demás como datos de  validación (2 años)\n",
    "df_train = df.head(48)\n",
    "df_test = df.loc[48:]"
   ]
  },
  {
   "cell_type": "code",
   "execution_count": 12,
   "metadata": {
    "ExecuteTime": {
     "end_time": "2021-09-13T18:13:45.637878Z",
     "start_time": "2021-09-13T18:13:45.622876Z"
    },
    "colab": {
     "base_uri": "https://localhost:8080/",
     "height": 194
    },
    "executionInfo": {
     "elapsed": 1747,
     "status": "ok",
     "timestamp": 1608264388704,
     "user": {
      "displayName": "freeai time",
      "photoUrl": "https://lh3.googleusercontent.com/a-/AOh14GgxvlF_Oni7ZMdvrndxf2178ORhoNGeclnb7GQ6=s64",
      "userId": "11272871337215191422"
     },
     "user_tz": -330
    },
    "id": "Yo5Mni4P1UIQ",
    "outputId": "17109f96-f9e7-47f2-8c82-fac5b38af641"
   },
   "outputs": [
    {
     "data": {
      "text/html": [
       "<div>\n",
       "<style scoped>\n",
       "    .dataframe tbody tr th:only-of-type {\n",
       "        vertical-align: middle;\n",
       "    }\n",
       "\n",
       "    .dataframe tbody tr th {\n",
       "        vertical-align: top;\n",
       "    }\n",
       "\n",
       "    .dataframe thead th {\n",
       "        text-align: right;\n",
       "    }\n",
       "</style>\n",
       "<table border=\"1\" class=\"dataframe\">\n",
       "  <thead>\n",
       "    <tr style=\"text-align: right;\">\n",
       "      <th></th>\n",
       "      <th>Fecha</th>\n",
       "      <th>Ventas</th>\n",
       "      <th>tiempo</th>\n",
       "      <th>mes</th>\n",
       "    </tr>\n",
       "  </thead>\n",
       "  <tbody>\n",
       "    <tr>\n",
       "      <th>43</th>\n",
       "      <td>2004-08-01</td>\n",
       "      <td>431.8</td>\n",
       "      <td>44</td>\n",
       "      <td>Agosto</td>\n",
       "    </tr>\n",
       "    <tr>\n",
       "      <th>44</th>\n",
       "      <td>2004-09-01</td>\n",
       "      <td>330.2</td>\n",
       "      <td>45</td>\n",
       "      <td>Septiembre</td>\n",
       "    </tr>\n",
       "    <tr>\n",
       "      <th>45</th>\n",
       "      <td>2004-10-01</td>\n",
       "      <td>330.2</td>\n",
       "      <td>46</td>\n",
       "      <td>Octubre</td>\n",
       "    </tr>\n",
       "    <tr>\n",
       "      <th>46</th>\n",
       "      <td>2004-11-01</td>\n",
       "      <td>304.8</td>\n",
       "      <td>47</td>\n",
       "      <td>Noviembre</td>\n",
       "    </tr>\n",
       "    <tr>\n",
       "      <th>47</th>\n",
       "      <td>2004-12-01</td>\n",
       "      <td>292.1</td>\n",
       "      <td>48</td>\n",
       "      <td>Diciembre</td>\n",
       "    </tr>\n",
       "  </tbody>\n",
       "</table>\n",
       "</div>"
      ],
      "text/plain": [
       "        Fecha  Ventas  tiempo         mes\n",
       "43 2004-08-01   431.8      44      Agosto\n",
       "44 2004-09-01   330.2      45  Septiembre\n",
       "45 2004-10-01   330.2      46     Octubre\n",
       "46 2004-11-01   304.8      47   Noviembre\n",
       "47 2004-12-01   292.1      48   Diciembre"
      ]
     },
     "execution_count": 12,
     "metadata": {},
     "output_type": "execute_result"
    }
   ],
   "source": [
    "df_train.tail()"
   ]
  },
  {
   "cell_type": "code",
   "execution_count": 13,
   "metadata": {
    "ExecuteTime": {
     "end_time": "2021-09-13T18:13:45.653882Z",
     "start_time": "2021-09-13T18:13:45.638880Z"
    },
    "colab": {
     "base_uri": "https://localhost:8080/",
     "height": 194
    },
    "executionInfo": {
     "elapsed": 1649,
     "status": "ok",
     "timestamp": 1608264388708,
     "user": {
      "displayName": "freeai time",
      "photoUrl": "https://lh3.googleusercontent.com/a-/AOh14GgxvlF_Oni7ZMdvrndxf2178ORhoNGeclnb7GQ6=s64",
      "userId": "11272871337215191422"
     },
     "user_tz": -330
    },
    "id": "8RRIqld11sxC",
    "outputId": "c27d574f-606e-47c2-e3a4-74a3c9c27639"
   },
   "outputs": [
    {
     "data": {
      "text/html": [
       "<div>\n",
       "<style scoped>\n",
       "    .dataframe tbody tr th:only-of-type {\n",
       "        vertical-align: middle;\n",
       "    }\n",
       "\n",
       "    .dataframe tbody tr th {\n",
       "        vertical-align: top;\n",
       "    }\n",
       "\n",
       "    .dataframe thead th {\n",
       "        text-align: right;\n",
       "    }\n",
       "</style>\n",
       "<table border=\"1\" class=\"dataframe\">\n",
       "  <thead>\n",
       "    <tr style=\"text-align: right;\">\n",
       "      <th></th>\n",
       "      <th>Fecha</th>\n",
       "      <th>Ventas</th>\n",
       "      <th>tiempo</th>\n",
       "      <th>mes</th>\n",
       "    </tr>\n",
       "  </thead>\n",
       "  <tbody>\n",
       "    <tr>\n",
       "      <th>48</th>\n",
       "      <td>2005-01-01</td>\n",
       "      <td>266.7</td>\n",
       "      <td>49</td>\n",
       "      <td>Enero</td>\n",
       "    </tr>\n",
       "    <tr>\n",
       "      <th>49</th>\n",
       "      <td>2005-02-01</td>\n",
       "      <td>317.5</td>\n",
       "      <td>50</td>\n",
       "      <td>Febrero</td>\n",
       "    </tr>\n",
       "    <tr>\n",
       "      <th>50</th>\n",
       "      <td>2005-03-01</td>\n",
       "      <td>368.3</td>\n",
       "      <td>51</td>\n",
       "      <td>Marzo</td>\n",
       "    </tr>\n",
       "    <tr>\n",
       "      <th>51</th>\n",
       "      <td>2005-04-01</td>\n",
       "      <td>431.8</td>\n",
       "      <td>52</td>\n",
       "      <td>Abril</td>\n",
       "    </tr>\n",
       "    <tr>\n",
       "      <th>52</th>\n",
       "      <td>2005-05-01</td>\n",
       "      <td>457.2</td>\n",
       "      <td>53</td>\n",
       "      <td>Mayo</td>\n",
       "    </tr>\n",
       "  </tbody>\n",
       "</table>\n",
       "</div>"
      ],
      "text/plain": [
       "        Fecha  Ventas  tiempo      mes\n",
       "48 2005-01-01   266.7      49    Enero\n",
       "49 2005-02-01   317.5      50  Febrero\n",
       "50 2005-03-01   368.3      51    Marzo\n",
       "51 2005-04-01   431.8      52    Abril\n",
       "52 2005-05-01   457.2      53     Mayo"
      ]
     },
     "execution_count": 13,
     "metadata": {},
     "output_type": "execute_result"
    }
   ],
   "source": [
    "df_test.head()"
   ]
  },
  {
   "cell_type": "code",
   "execution_count": 14,
   "metadata": {
    "ExecuteTime": {
     "end_time": "2021-09-13T18:13:45.669886Z",
     "start_time": "2021-09-13T18:13:45.654883Z"
    },
    "colab": {
     "base_uri": "https://localhost:8080/"
    },
    "executionInfo": {
     "elapsed": 1310,
     "status": "ok",
     "timestamp": 1608264388715,
     "user": {
      "displayName": "freeai time",
      "photoUrl": "https://lh3.googleusercontent.com/a-/AOh14GgxvlF_Oni7ZMdvrndxf2178ORhoNGeclnb7GQ6=s64",
      "userId": "11272871337215191422"
     },
     "user_tz": -330
    },
    "id": "TZt6QE5a1xJ7",
    "outputId": "f504ccaf-c7fe-4e93-e54b-fb8343028e35"
   },
   "outputs": [
    {
     "data": {
      "text/plain": [
       "(48, 1)"
      ]
     },
     "execution_count": 14,
     "metadata": {},
     "output_type": "execute_result"
    }
   ],
   "source": [
    "# Determinar los valores de X del conjunto de entrenamiento\n",
    "X_train = df_train[['tiempo']].values\n",
    "X_train.shape"
   ]
  },
  {
   "cell_type": "code",
   "execution_count": 15,
   "metadata": {
    "ExecuteTime": {
     "end_time": "2021-09-13T18:13:45.685889Z",
     "start_time": "2021-09-13T18:13:45.670887Z"
    },
    "colab": {
     "base_uri": "https://localhost:8080/"
    },
    "executionInfo": {
     "elapsed": 1008,
     "status": "ok",
     "timestamp": 1608264388717,
     "user": {
      "displayName": "freeai time",
      "photoUrl": "https://lh3.googleusercontent.com/a-/AOh14GgxvlF_Oni7ZMdvrndxf2178ORhoNGeclnb7GQ6=s64",
      "userId": "11272871337215191422"
     },
     "user_tz": -330
    },
    "id": "HKhlufDm1-26",
    "outputId": "2e4dcf53-3a28-4e59-eabe-0369fe2501e3"
   },
   "outputs": [
    {
     "data": {
      "text/plain": [
       "(48,)"
      ]
     },
     "execution_count": 15,
     "metadata": {},
     "output_type": "execute_result"
    }
   ],
   "source": [
    "# Determinar el valor del eje y del conjunto de entrenamiento\n",
    "y_train = df_train['Ventas'].values\n",
    "y_train.shape"
   ]
  },
  {
   "cell_type": "code",
   "execution_count": 16,
   "metadata": {
    "ExecuteTime": {
     "end_time": "2021-09-13T18:13:45.701894Z",
     "start_time": "2021-09-13T18:13:45.686891Z"
    },
    "id": "IbuiSR5R2wUc"
   },
   "outputs": [
    {
     "name": "stdout",
     "output_type": "stream",
     "text": [
      "[[49]\n",
      " [50]\n",
      " [51]\n",
      " [52]\n",
      " [53]\n",
      " [54]\n",
      " [55]\n",
      " [56]\n",
      " [57]\n",
      " [58]\n",
      " [59]\n",
      " [60]\n",
      " [61]\n",
      " [62]\n",
      " [63]\n",
      " [64]\n",
      " [65]\n",
      " [66]\n",
      " [67]\n",
      " [68]\n",
      " [69]\n",
      " [70]\n",
      " [71]\n",
      " [72]] \n",
      "\n",
      " [266.7 317.5 368.3 431.8 457.2 571.5 546.1 482.6 431.8 406.4 393.7 406.4\n",
      " 431.8 457.2 457.2 482.6 533.4 622.3 660.4 520.7 508.  482.6 457.2 431.8]\n"
     ]
    }
   ],
   "source": [
    "# Realizar lo mismo con el conjunto de prueba o validación\n",
    "X_test = df_test[['tiempo']].values\n",
    "y_test = df_test['Ventas'].values\n",
    "print(X_test, '\\n\\n', y_test)"
   ]
  },
  {
   "cell_type": "markdown",
   "metadata": {
    "id": "4pAiszXC2SEk"
   },
   "source": [
    "## Modelo de regresión lineal\n",
    "El modelo de regresión lineal no trabaja con atributos de tipo fecha, para poder utilizarlo se crea con antelación la variable tiempo que enumera el los meses del atributo fecha."
   ]
  },
  {
   "cell_type": "code",
   "execution_count": 17,
   "metadata": {
    "ExecuteTime": {
     "end_time": "2021-09-13T18:13:48.172335Z",
     "start_time": "2021-09-13T18:13:45.702895Z"
    },
    "id": "L2N6evmz2LZE"
   },
   "outputs": [],
   "source": [
    "# Importar el modulo sklearn y el modelo LinearRegression\n",
    "from sklearn.linear_model import LinearRegression"
   ]
  },
  {
   "cell_type": "code",
   "execution_count": 18,
   "metadata": {
    "ExecuteTime": {
     "end_time": "2021-09-13T18:13:48.266991Z",
     "start_time": "2021-09-13T18:13:48.173451Z"
    },
    "colab": {
     "base_uri": "https://localhost:8080/"
    },
    "executionInfo": {
     "elapsed": 1501,
     "status": "ok",
     "timestamp": 1608264390426,
     "user": {
      "displayName": "freeai time",
      "photoUrl": "https://lh3.googleusercontent.com/a-/AOh14GgxvlF_Oni7ZMdvrndxf2178ORhoNGeclnb7GQ6=s64",
      "userId": "11272871337215191422"
     },
     "user_tz": -330
    },
    "id": "HOEzJUsg2bTT",
    "outputId": "49efed9b-910f-4659-b170-a6a5f9e28eca"
   },
   "outputs": [
    {
     "data": {
      "text/plain": [
       "LinearRegression()"
      ]
     },
     "execution_count": 18,
     "metadata": {},
     "output_type": "execute_result"
    }
   ],
   "source": [
    "# Crear un objeto LinearRegression y ajustarlo a los datos de entrenamiento\n",
    "model_trend = LinearRegression()\n",
    "model_trend.fit(X_train,y_train)"
   ]
  },
  {
   "cell_type": "code",
   "execution_count": 19,
   "metadata": {
    "ExecuteTime": {
     "end_time": "2021-09-13T18:13:48.282995Z",
     "start_time": "2021-09-13T18:13:48.267992Z"
    },
    "id": "7BxC0DRS2hNs"
   },
   "outputs": [],
   "source": [
    "# Predecir las ventas en el conjunto de entrenamiento\n",
    "y_train_pred = model_trend.predict(X_train)"
   ]
  },
  {
   "cell_type": "code",
   "execution_count": 20,
   "metadata": {
    "ExecuteTime": {
     "end_time": "2021-09-13T18:13:48.298998Z",
     "start_time": "2021-09-13T18:13:48.283997Z"
    },
    "id": "N2MZf7B335fe"
   },
   "outputs": [],
   "source": [
    "# Predecir las ventas en el conjunto de test (Forecasting)\n",
    "y_test_pred = model_trend.predict(X_test)"
   ]
  },
  {
   "cell_type": "markdown",
   "metadata": {
    "id": "KVHJsgS75VGF"
   },
   "source": [
    "Calcular el intervalo de confianza (IC) de las predicción al 95%, asumiendo una distribución normal de los datos el valor tipificado de 'z'para este intervalo es de 1.96.\n",
    "\n",
    "$ IC=\\mu \\pm ME$, siendo ME el margen de error\n",
    "\n",
    "$ME=z*SDE$, siendo SDE la desviación estándar del error"
   ]
  },
  {
   "cell_type": "code",
   "execution_count": 21,
   "metadata": {
    "ExecuteTime": {
     "end_time": "2021-09-13T18:13:48.315012Z",
     "start_time": "2021-09-13T18:13:48.301005Z"
    },
    "id": "OnpaRBk45INS"
   },
   "outputs": [],
   "source": [
    "# Intervalo de confianza\n",
    "error = y_train - y_train_pred\n",
    "sde = error.std()\n",
    "ME = 1.96 * sde"
   ]
  },
  {
   "cell_type": "code",
   "execution_count": 22,
   "metadata": {
    "ExecuteTime": {
     "end_time": "2021-09-13T18:13:48.738134Z",
     "start_time": "2021-09-13T18:13:48.316013Z"
    },
    "colab": {
     "base_uri": "https://localhost:8080/",
     "height": 483
    },
    "executionInfo": {
     "elapsed": 3057,
     "status": "ok",
     "timestamp": 1608264394458,
     "user": {
      "displayName": "freeai time",
      "photoUrl": "https://lh3.googleusercontent.com/a-/AOh14GgxvlF_Oni7ZMdvrndxf2178ORhoNGeclnb7GQ6=s64",
      "userId": "11272871337215191422"
     },
     "user_tz": -330
    },
    "id": "dEBcrJyN2rhd",
    "outputId": "6f6cd6ed-aedf-4bfe-c7a1-ac99e6da2626",
    "scrolled": true
   },
   "outputs": [
    {
     "data": {
      "image/png": "[encoded data removed]",
      "text/plain": [
       "<Figure size 1080x576 with 1 Axes>"
      ]
     },
     "metadata": {
      "needs_background": "light"
     },
     "output_type": "display_data"
    }
   ],
   "source": [
    "# Visualizar el modelo\n",
    "\n",
    "# Tamaño de la figura\n",
    "plt.figure(figsize=(15,8))\n",
    "\n",
    "# Serie de tiempo datos entrenamiento\n",
    "plt.plot(df_train['Fecha'],y_train,'go:')\n",
    "\n",
    "# Linea de tendencia datos entrenamiento (modelo de predicción lineal)\n",
    "plt.plot(df_train['Fecha'],y_train_pred,'g')\n",
    "\n",
    "# Serie de tiempo datos de validación\n",
    "plt.plot(df_test['Fecha'],y_test,'o:',color='red')\n",
    "\n",
    "# Línea de tendencia datos de validación (modelo de predicción lienal)\n",
    "plt.plot(df_test['Fecha'],y_test_pred,'b',color='red')\n",
    "\n",
    "# Calcular límites superiores e inferiores del margen de error\n",
    "superior = y_test_pred + ME\n",
    "inferior = y_test_pred - ME\n",
    "\n",
    "# Graficar el error medio en los datos de validación\n",
    "plt.fill_between(df_test['Fecha'],(superior),(inferior),alpha=0.1,color='darkblue')\n",
    "\n",
    "# Formatear el gráfico\n",
    "plt.legend(['Serie de tiempo datos de entrenamiento','Tendencia datos entrenamiento','Serie de tiempo datos validación','Tendencia datos validación','95% Intervalo de confianza'])\n",
    "plt.show()"
   ]
  },
  {
   "cell_type": "code",
   "execution_count": 23,
   "metadata": {
    "ExecuteTime": {
     "end_time": "2021-09-13T18:13:48.754141Z",
     "start_time": "2021-09-13T18:13:48.740143Z"
    }
   },
   "outputs": [
    {
     "data": {
      "text/html": [
       "<div>\n",
       "<style scoped>\n",
       "    .dataframe tbody tr th:only-of-type {\n",
       "        vertical-align: middle;\n",
       "    }\n",
       "\n",
       "    .dataframe tbody tr th {\n",
       "        vertical-align: top;\n",
       "    }\n",
       "\n",
       "    .dataframe thead th {\n",
       "        text-align: right;\n",
       "    }\n",
       "</style>\n",
       "<table border=\"1\" class=\"dataframe\">\n",
       "  <thead>\n",
       "    <tr style=\"text-align: right;\">\n",
       "      <th></th>\n",
       "      <th>Fecha</th>\n",
       "      <th>Ventas</th>\n",
       "      <th>tiempo</th>\n",
       "      <th>mes</th>\n",
       "    </tr>\n",
       "  </thead>\n",
       "  <tbody>\n",
       "    <tr>\n",
       "      <th>48</th>\n",
       "      <td>2005-01-01</td>\n",
       "      <td>266.7</td>\n",
       "      <td>49</td>\n",
       "      <td>Enero</td>\n",
       "    </tr>\n",
       "    <tr>\n",
       "      <th>49</th>\n",
       "      <td>2005-02-01</td>\n",
       "      <td>317.5</td>\n",
       "      <td>50</td>\n",
       "      <td>Febrero</td>\n",
       "    </tr>\n",
       "    <tr>\n",
       "      <th>50</th>\n",
       "      <td>2005-03-01</td>\n",
       "      <td>368.3</td>\n",
       "      <td>51</td>\n",
       "      <td>Marzo</td>\n",
       "    </tr>\n",
       "    <tr>\n",
       "      <th>51</th>\n",
       "      <td>2005-04-01</td>\n",
       "      <td>431.8</td>\n",
       "      <td>52</td>\n",
       "      <td>Abril</td>\n",
       "    </tr>\n",
       "    <tr>\n",
       "      <th>52</th>\n",
       "      <td>2005-05-01</td>\n",
       "      <td>457.2</td>\n",
       "      <td>53</td>\n",
       "      <td>Mayo</td>\n",
       "    </tr>\n",
       "    <tr>\n",
       "      <th>53</th>\n",
       "      <td>2005-06-01</td>\n",
       "      <td>571.5</td>\n",
       "      <td>54</td>\n",
       "      <td>Junio</td>\n",
       "    </tr>\n",
       "    <tr>\n",
       "      <th>54</th>\n",
       "      <td>2005-07-01</td>\n",
       "      <td>546.1</td>\n",
       "      <td>55</td>\n",
       "      <td>Julio</td>\n",
       "    </tr>\n",
       "    <tr>\n",
       "      <th>55</th>\n",
       "      <td>2005-08-01</td>\n",
       "      <td>482.6</td>\n",
       "      <td>56</td>\n",
       "      <td>Agosto</td>\n",
       "    </tr>\n",
       "    <tr>\n",
       "      <th>56</th>\n",
       "      <td>2005-09-01</td>\n",
       "      <td>431.8</td>\n",
       "      <td>57</td>\n",
       "      <td>Septiembre</td>\n",
       "    </tr>\n",
       "    <tr>\n",
       "      <th>57</th>\n",
       "      <td>2005-10-01</td>\n",
       "      <td>406.4</td>\n",
       "      <td>58</td>\n",
       "      <td>Octubre</td>\n",
       "    </tr>\n",
       "    <tr>\n",
       "      <th>58</th>\n",
       "      <td>2005-11-01</td>\n",
       "      <td>393.7</td>\n",
       "      <td>59</td>\n",
       "      <td>Noviembre</td>\n",
       "    </tr>\n",
       "    <tr>\n",
       "      <th>59</th>\n",
       "      <td>2005-12-01</td>\n",
       "      <td>406.4</td>\n",
       "      <td>60</td>\n",
       "      <td>Diciembre</td>\n",
       "    </tr>\n",
       "    <tr>\n",
       "      <th>60</th>\n",
       "      <td>2006-01-01</td>\n",
       "      <td>431.8</td>\n",
       "      <td>61</td>\n",
       "      <td>Enero</td>\n",
       "    </tr>\n",
       "    <tr>\n",
       "      <th>61</th>\n",
       "      <td>2006-02-01</td>\n",
       "      <td>457.2</td>\n",
       "      <td>62</td>\n",
       "      <td>Febrero</td>\n",
       "    </tr>\n",
       "    <tr>\n",
       "      <th>62</th>\n",
       "      <td>2006-03-01</td>\n",
       "      <td>457.2</td>\n",
       "      <td>63</td>\n",
       "      <td>Marzo</td>\n",
       "    </tr>\n",
       "    <tr>\n",
       "      <th>63</th>\n",
       "      <td>2006-04-01</td>\n",
       "      <td>482.6</td>\n",
       "      <td>64</td>\n",
       "      <td>Abril</td>\n",
       "    </tr>\n",
       "    <tr>\n",
       "      <th>64</th>\n",
       "      <td>2006-05-01</td>\n",
       "      <td>533.4</td>\n",
       "      <td>65</td>\n",
       "      <td>Mayo</td>\n",
       "    </tr>\n",
       "    <tr>\n",
       "      <th>65</th>\n",
       "      <td>2006-06-01</td>\n",
       "      <td>622.3</td>\n",
       "      <td>66</td>\n",
       "      <td>Junio</td>\n",
       "    </tr>\n",
       "    <tr>\n",
       "      <th>66</th>\n",
       "      <td>2006-07-01</td>\n",
       "      <td>660.4</td>\n",
       "      <td>67</td>\n",
       "      <td>Julio</td>\n",
       "    </tr>\n",
       "    <tr>\n",
       "      <th>67</th>\n",
       "      <td>2006-08-01</td>\n",
       "      <td>520.7</td>\n",
       "      <td>68</td>\n",
       "      <td>Agosto</td>\n",
       "    </tr>\n",
       "    <tr>\n",
       "      <th>68</th>\n",
       "      <td>2006-09-01</td>\n",
       "      <td>508.0</td>\n",
       "      <td>69</td>\n",
       "      <td>Septiembre</td>\n",
       "    </tr>\n",
       "    <tr>\n",
       "      <th>69</th>\n",
       "      <td>2006-10-01</td>\n",
       "      <td>482.6</td>\n",
       "      <td>70</td>\n",
       "      <td>Octubre</td>\n",
       "    </tr>\n",
       "    <tr>\n",
       "      <th>70</th>\n",
       "      <td>2006-11-01</td>\n",
       "      <td>457.2</td>\n",
       "      <td>71</td>\n",
       "      <td>Noviembre</td>\n",
       "    </tr>\n",
       "    <tr>\n",
       "      <th>71</th>\n",
       "      <td>2006-12-01</td>\n",
       "      <td>431.8</td>\n",
       "      <td>72</td>\n",
       "      <td>Diciembre</td>\n",
       "    </tr>\n",
       "  </tbody>\n",
       "</table>\n",
       "</div>"
      ],
      "text/plain": [
       "        Fecha  Ventas  tiempo         mes\n",
       "48 2005-01-01   266.7      49       Enero\n",
       "49 2005-02-01   317.5      50     Febrero\n",
       "50 2005-03-01   368.3      51       Marzo\n",
       "51 2005-04-01   431.8      52       Abril\n",
       "52 2005-05-01   457.2      53        Mayo\n",
       "53 2005-06-01   571.5      54       Junio\n",
       "54 2005-07-01   546.1      55       Julio\n",
       "55 2005-08-01   482.6      56      Agosto\n",
       "56 2005-09-01   431.8      57  Septiembre\n",
       "57 2005-10-01   406.4      58     Octubre\n",
       "58 2005-11-01   393.7      59   Noviembre\n",
       "59 2005-12-01   406.4      60   Diciembre\n",
       "60 2006-01-01   431.8      61       Enero\n",
       "61 2006-02-01   457.2      62     Febrero\n",
       "62 2006-03-01   457.2      63       Marzo\n",
       "63 2006-04-01   482.6      64       Abril\n",
       "64 2006-05-01   533.4      65        Mayo\n",
       "65 2006-06-01   622.3      66       Junio\n",
       "66 2006-07-01   660.4      67       Julio\n",
       "67 2006-08-01   520.7      68      Agosto\n",
       "68 2006-09-01   508.0      69  Septiembre\n",
       "69 2006-10-01   482.6      70     Octubre\n",
       "70 2006-11-01   457.2      71   Noviembre\n",
       "71 2006-12-01   431.8      72   Diciembre"
      ]
     },
     "execution_count": 23,
     "metadata": {},
     "output_type": "execute_result"
    }
   ],
   "source": [
    "df_test"
   ]
  },
  {
   "cell_type": "code",
   "execution_count": 24,
   "metadata": {
    "ExecuteTime": {
     "end_time": "2021-09-13T18:13:48.770150Z",
     "start_time": "2021-09-13T18:13:48.755140Z"
    },
    "id": "HpzYSQ015CBq"
   },
   "outputs": [],
   "source": [
    "# Hallar la predicción para la fecha 2006/01/01 usando el conjunto de entrenamiento\n",
    "media_predicciones = model_trend.predict(np.array([[61]]))"
   ]
  },
  {
   "cell_type": "code",
   "execution_count": 25,
   "metadata": {
    "ExecuteTime": {
     "end_time": "2021-09-13T18:13:48.786156Z",
     "start_time": "2021-09-13T18:13:48.771152Z"
    },
    "colab": {
     "base_uri": "https://localhost:8080/"
    },
    "executionInfo": {
     "elapsed": 2878,
     "status": "ok",
     "timestamp": 1608264394464,
     "user": {
      "displayName": "freeai time",
      "photoUrl": "https://lh3.googleusercontent.com/a-/AOh14GgxvlF_Oni7ZMdvrndxf2178ORhoNGeclnb7GQ6=s64",
      "userId": "11272871337215191422"
     },
     "user_tz": -330
    },
    "id": "qSb1R0Wl68p9",
    "outputId": "0ac6fb53-1c38-4cf9-8649-544b55f47ac9"
   },
   "outputs": [
    {
     "name": "stdout",
     "output_type": "stream",
     "text": [
      "[403.28613765]\n",
      "(array([291.67694148]), array([514.89533381]))\n"
     ]
    }
   ],
   "source": [
    "print(media_predicciones)\n",
    "print((media_predicciones - ME , media_predicciones + ME))"
   ]
  },
  {
   "cell_type": "markdown",
   "metadata": {
    "id": "So-iNcXIBLme"
   },
   "source": [
    "## Modelo aditivo para forecasting\n",
    "Es un modelo de datos en el cual los efectos de factores individuales son diferenciados y agregados de manera conjunta para modelar los datos."
   ]
  },
  {
   "cell_type": "code",
   "execution_count": 26,
   "metadata": {
    "ExecuteTime": {
     "end_time": "2021-09-13T18:13:48.802153Z",
     "start_time": "2021-09-13T18:13:48.787156Z"
    },
    "colab": {
     "base_uri": "https://localhost:8080/",
     "height": 198
    },
    "executionInfo": {
     "elapsed": 1586,
     "status": "ok",
     "timestamp": 1608264394466,
     "user": {
      "displayName": "freeai time",
      "photoUrl": "https://lh3.googleusercontent.com/a-/AOh14GgxvlF_Oni7ZMdvrndxf2178ORhoNGeclnb7GQ6=s64",
      "userId": "11272871337215191422"
     },
     "user_tz": -330
    },
    "id": "LGaRCaYp7br9",
    "outputId": "a12dfd2a-21c7-4123-cf59-6056fa99f909"
   },
   "outputs": [
    {
     "data": {
      "text/html": [
       "<div>\n",
       "<style scoped>\n",
       "    .dataframe tbody tr th:only-of-type {\n",
       "        vertical-align: middle;\n",
       "    }\n",
       "\n",
       "    .dataframe tbody tr th {\n",
       "        vertical-align: top;\n",
       "    }\n",
       "\n",
       "    .dataframe thead th {\n",
       "        text-align: right;\n",
       "    }\n",
       "</style>\n",
       "<table border=\"1\" class=\"dataframe\">\n",
       "  <thead>\n",
       "    <tr style=\"text-align: right;\">\n",
       "      <th></th>\n",
       "      <th>Fecha</th>\n",
       "      <th>Ventas</th>\n",
       "      <th>tiempo</th>\n",
       "      <th>mes</th>\n",
       "    </tr>\n",
       "  </thead>\n",
       "  <tbody>\n",
       "    <tr>\n",
       "      <th>0</th>\n",
       "      <td>2001-01-01</td>\n",
       "      <td>139.7</td>\n",
       "      <td>1</td>\n",
       "      <td>Enero</td>\n",
       "    </tr>\n",
       "    <tr>\n",
       "      <th>1</th>\n",
       "      <td>2001-02-01</td>\n",
       "      <td>114.3</td>\n",
       "      <td>2</td>\n",
       "      <td>Febrero</td>\n",
       "    </tr>\n",
       "    <tr>\n",
       "      <th>2</th>\n",
       "      <td>2001-03-01</td>\n",
       "      <td>101.6</td>\n",
       "      <td>3</td>\n",
       "      <td>Marzo</td>\n",
       "    </tr>\n",
       "    <tr>\n",
       "      <th>3</th>\n",
       "      <td>2001-04-01</td>\n",
       "      <td>152.4</td>\n",
       "      <td>4</td>\n",
       "      <td>Abril</td>\n",
       "    </tr>\n",
       "    <tr>\n",
       "      <th>4</th>\n",
       "      <td>2001-05-01</td>\n",
       "      <td>215.9</td>\n",
       "      <td>5</td>\n",
       "      <td>Mayo</td>\n",
       "    </tr>\n",
       "  </tbody>\n",
       "</table>\n",
       "</div>"
      ],
      "text/plain": [
       "       Fecha  Ventas  tiempo      mes\n",
       "0 2001-01-01   139.7       1    Enero\n",
       "1 2001-02-01   114.3       2  Febrero\n",
       "2 2001-03-01   101.6       3    Marzo\n",
       "3 2001-04-01   152.4       4    Abril\n",
       "4 2001-05-01   215.9       5     Mayo"
      ]
     },
     "execution_count": 26,
     "metadata": {},
     "output_type": "execute_result"
    }
   ],
   "source": [
    "df_train.head()"
   ]
  },
  {
   "cell_type": "code",
   "execution_count": 27,
   "metadata": {
    "ExecuteTime": {
     "end_time": "2021-09-13T18:13:48.818165Z",
     "start_time": "2021-09-13T18:13:48.803151Z"
    },
    "colab": {
     "base_uri": "https://localhost:8080/",
     "height": 34
    },
    "executionInfo": {
     "elapsed": 1465,
     "status": "ok",
     "timestamp": 1608264394469,
     "user": {
      "displayName": "freeai time",
      "photoUrl": "https://lh3.googleusercontent.com/a-/AOh14GgxvlF_Oni7ZMdvrndxf2178ORhoNGeclnb7GQ6=s64",
      "userId": "11272871337215191422"
     },
     "user_tz": -330
    },
    "id": "wt0TBSyhCeum",
    "outputId": "dc7685d2-fe5e-4f76-b3e4-2cdf63ddf9b3"
   },
   "outputs": [
    {
     "data": {
      "text/plain": [
       "'Enero'"
      ]
     },
     "execution_count": 27,
     "metadata": {},
     "output_type": "execute_result"
    }
   ],
   "source": [
    "df_train['mes'][0]"
   ]
  },
  {
   "cell_type": "code",
   "execution_count": 28,
   "metadata": {
    "ExecuteTime": {
     "end_time": "2021-09-13T18:13:49.706636Z",
     "start_time": "2021-09-13T18:13:48.822163Z"
    },
    "colab": {
     "base_uri": "https://localhost:8080/",
     "height": 552
    },
    "executionInfo": {
     "elapsed": 2660,
     "status": "ok",
     "timestamp": 1608264396822,
     "user": {
      "displayName": "freeai time",
      "photoUrl": "https://lh3.googleusercontent.com/a-/AOh14GgxvlF_Oni7ZMdvrndxf2178ORhoNGeclnb7GQ6=s64",
      "userId": "11272871337215191422"
     },
     "user_tz": -330
    },
    "id": "PD4pHsWABPmO",
    "outputId": "110b0147-ae61-49d1-b41d-6d34c7a4e4fe"
   },
   "outputs": [
    {
     "name": "stderr",
     "output_type": "stream",
     "text": [
      "d:\\jasdata\\python39\\lib\\site-packages\\seaborn\\_decorators.py:36: FutureWarning: Pass the following variables as keyword args: x, y. From version 0.12, the only valid positional argument will be `data`, and passing other arguments without an explicit keyword will result in an error or misinterpretation.\n",
      "  warnings.warn(\n"
     ]
    },
    {
     "data": {
      "image/png": "[encoded data removed]",
      "text/plain": [
       "<Figure size 1080x576 with 1 Axes>"
      ]
     },
     "metadata": {
      "needs_background": "light"
     },
     "output_type": "display_data"
    }
   ],
   "source": [
    "plt.figure(figsize=(15,8))\n",
    "\n",
    "# Dibujar la serie de tiempo\n",
    "plt.plot(df_train['Fecha'],df_train['Ventas'],'r:')\n",
    "\n",
    "# Representar los puntos de cada mes con su respectiva vente\n",
    "sns.scatterplot('Fecha','Ventas',data=df_train,s=200,hue='mes',palette='Set1')\n",
    "\n",
    "# Mostrar sobre cada punto el mes correspondiente\n",
    "for i in range(len(df_train)):\n",
    "  plt.text(df_train['Fecha'][i],df_train['Ventas'][i],df_train['mes'][i])"
   ]
  },
  {
   "cell_type": "markdown",
   "metadata": {
    "id": "ZLtuZBCeC2bf"
   },
   "source": [
    "La estacionalidad es de 12 meses, se deben crear $n-1$ variables dummy, o sea 11 variables dummy."
   ]
  },
  {
   "cell_type": "markdown",
   "metadata": {},
   "source": [
    "### Preproceso de los datos para el modelo"
   ]
  },
  {
   "cell_type": "code",
   "execution_count": 29,
   "metadata": {
    "ExecuteTime": {
     "end_time": "2021-09-13T18:13:49.722639Z",
     "start_time": "2021-09-13T18:13:49.708628Z"
    },
    "id": "bjdSmpeKBd51"
   },
   "outputs": [],
   "source": [
    "# Crear las variables dummy, se elimina la primera que se crea\n",
    "dummy = pd.get_dummies(df_train['mes'],drop_first=True)\n",
    "\n",
    "# Crear una copia de los datos de entrenamiento\n",
    "df_train1 = df_train.copy()\n",
    "\n",
    "# Concatenar la copia anterior con las variables dummy\n",
    "df_train1 = pd.concat((df_train1,dummy),axis=1)"
   ]
  },
  {
   "cell_type": "code",
   "execution_count": 30,
   "metadata": {
    "ExecuteTime": {
     "end_time": "2021-09-13T18:13:49.738643Z",
     "start_time": "2021-09-13T18:13:49.723638Z"
    },
    "colab": {
     "base_uri": "https://localhost:8080/",
     "height": 198
    },
    "executionInfo": {
     "elapsed": 1831,
     "status": "ok",
     "timestamp": 1608264397369,
     "user": {
      "displayName": "freeai time",
      "photoUrl": "https://lh3.googleusercontent.com/a-/AOh14GgxvlF_Oni7ZMdvrndxf2178ORhoNGeclnb7GQ6=s64",
      "userId": "11272871337215191422"
     },
     "user_tz": -330
    },
    "id": "h6UWcvBVC9kG",
    "outputId": "f954c8d8-a18f-4fb2-db35-b335300e46f9"
   },
   "outputs": [
    {
     "data": {
      "text/html": [
       "<div>\n",
       "<style scoped>\n",
       "    .dataframe tbody tr th:only-of-type {\n",
       "        vertical-align: middle;\n",
       "    }\n",
       "\n",
       "    .dataframe tbody tr th {\n",
       "        vertical-align: top;\n",
       "    }\n",
       "\n",
       "    .dataframe thead th {\n",
       "        text-align: right;\n",
       "    }\n",
       "</style>\n",
       "<table border=\"1\" class=\"dataframe\">\n",
       "  <thead>\n",
       "    <tr style=\"text-align: right;\">\n",
       "      <th></th>\n",
       "      <th>Fecha</th>\n",
       "      <th>Ventas</th>\n",
       "      <th>tiempo</th>\n",
       "      <th>mes</th>\n",
       "      <th>Agosto</th>\n",
       "      <th>Diciembre</th>\n",
       "      <th>Enero</th>\n",
       "      <th>Febrero</th>\n",
       "      <th>Julio</th>\n",
       "      <th>Junio</th>\n",
       "      <th>Marzo</th>\n",
       "      <th>Mayo</th>\n",
       "      <th>Noviembre</th>\n",
       "      <th>Octubre</th>\n",
       "      <th>Septiembre</th>\n",
       "    </tr>\n",
       "  </thead>\n",
       "  <tbody>\n",
       "    <tr>\n",
       "      <th>0</th>\n",
       "      <td>2001-01-01</td>\n",
       "      <td>139.7</td>\n",
       "      <td>1</td>\n",
       "      <td>Enero</td>\n",
       "      <td>0</td>\n",
       "      <td>0</td>\n",
       "      <td>1</td>\n",
       "      <td>0</td>\n",
       "      <td>0</td>\n",
       "      <td>0</td>\n",
       "      <td>0</td>\n",
       "      <td>0</td>\n",
       "      <td>0</td>\n",
       "      <td>0</td>\n",
       "      <td>0</td>\n",
       "    </tr>\n",
       "    <tr>\n",
       "      <th>1</th>\n",
       "      <td>2001-02-01</td>\n",
       "      <td>114.3</td>\n",
       "      <td>2</td>\n",
       "      <td>Febrero</td>\n",
       "      <td>0</td>\n",
       "      <td>0</td>\n",
       "      <td>0</td>\n",
       "      <td>1</td>\n",
       "      <td>0</td>\n",
       "      <td>0</td>\n",
       "      <td>0</td>\n",
       "      <td>0</td>\n",
       "      <td>0</td>\n",
       "      <td>0</td>\n",
       "      <td>0</td>\n",
       "    </tr>\n",
       "    <tr>\n",
       "      <th>2</th>\n",
       "      <td>2001-03-01</td>\n",
       "      <td>101.6</td>\n",
       "      <td>3</td>\n",
       "      <td>Marzo</td>\n",
       "      <td>0</td>\n",
       "      <td>0</td>\n",
       "      <td>0</td>\n",
       "      <td>0</td>\n",
       "      <td>0</td>\n",
       "      <td>0</td>\n",
       "      <td>1</td>\n",
       "      <td>0</td>\n",
       "      <td>0</td>\n",
       "      <td>0</td>\n",
       "      <td>0</td>\n",
       "    </tr>\n",
       "    <tr>\n",
       "      <th>3</th>\n",
       "      <td>2001-04-01</td>\n",
       "      <td>152.4</td>\n",
       "      <td>4</td>\n",
       "      <td>Abril</td>\n",
       "      <td>0</td>\n",
       "      <td>0</td>\n",
       "      <td>0</td>\n",
       "      <td>0</td>\n",
       "      <td>0</td>\n",
       "      <td>0</td>\n",
       "      <td>0</td>\n",
       "      <td>0</td>\n",
       "      <td>0</td>\n",
       "      <td>0</td>\n",
       "      <td>0</td>\n",
       "    </tr>\n",
       "    <tr>\n",
       "      <th>4</th>\n",
       "      <td>2001-05-01</td>\n",
       "      <td>215.9</td>\n",
       "      <td>5</td>\n",
       "      <td>Mayo</td>\n",
       "      <td>0</td>\n",
       "      <td>0</td>\n",
       "      <td>0</td>\n",
       "      <td>0</td>\n",
       "      <td>0</td>\n",
       "      <td>0</td>\n",
       "      <td>0</td>\n",
       "      <td>1</td>\n",
       "      <td>0</td>\n",
       "      <td>0</td>\n",
       "      <td>0</td>\n",
       "    </tr>\n",
       "  </tbody>\n",
       "</table>\n",
       "</div>"
      ],
      "text/plain": [
       "       Fecha  Ventas  tiempo      mes  Agosto  Diciembre  Enero  Febrero  \\\n",
       "0 2001-01-01   139.7       1    Enero       0          0      1        0   \n",
       "1 2001-02-01   114.3       2  Febrero       0          0      0        1   \n",
       "2 2001-03-01   101.6       3    Marzo       0          0      0        0   \n",
       "3 2001-04-01   152.4       4    Abril       0          0      0        0   \n",
       "4 2001-05-01   215.9       5     Mayo       0          0      0        0   \n",
       "\n",
       "   Julio  Junio  Marzo  Mayo  Noviembre  Octubre  Septiembre  \n",
       "0      0      0      0     0          0        0           0  \n",
       "1      0      0      0     0          0        0           0  \n",
       "2      0      0      1     0          0        0           0  \n",
       "3      0      0      0     0          0        0           0  \n",
       "4      0      0      0     1          0        0           0  "
      ]
     },
     "execution_count": 30,
     "metadata": {},
     "output_type": "execute_result"
    }
   ],
   "source": [
    "df_train1.head()"
   ]
  },
  {
   "cell_type": "code",
   "execution_count": 31,
   "metadata": {
    "ExecuteTime": {
     "end_time": "2021-09-13T18:13:49.754646Z",
     "start_time": "2021-09-13T18:13:49.739635Z"
    },
    "id": "SWxlRQqcDek_"
   },
   "outputs": [],
   "source": [
    "# Hacer lo mismo con el conjunto de validación\n",
    "dummy = pd.get_dummies(df_test['mes'],drop_first=True)\n",
    "df_test1 = df_test.copy()\n",
    "df_test1 = pd.concat((df_test1,dummy),axis=1)"
   ]
  },
  {
   "cell_type": "code",
   "execution_count": 32,
   "metadata": {
    "ExecuteTime": {
     "end_time": "2021-09-13T18:13:49.770649Z",
     "start_time": "2021-09-13T18:13:49.755647Z"
    },
    "colab": {
     "base_uri": "https://localhost:8080/",
     "height": 770
    },
    "executionInfo": {
     "elapsed": 1001,
     "status": "ok",
     "timestamp": 1608264397376,
     "user": {
      "displayName": "freeai time",
      "photoUrl": "https://lh3.googleusercontent.com/a-/AOh14GgxvlF_Oni7ZMdvrndxf2178ORhoNGeclnb7GQ6=s64",
      "userId": "11272871337215191422"
     },
     "user_tz": -330
    },
    "id": "ptW4t3eGDpnJ",
    "outputId": "ca557049-ac0a-428d-c68c-d65b8e4200de"
   },
   "outputs": [
    {
     "data": {
      "text/html": [
       "<div>\n",
       "<style scoped>\n",
       "    .dataframe tbody tr th:only-of-type {\n",
       "        vertical-align: middle;\n",
       "    }\n",
       "\n",
       "    .dataframe tbody tr th {\n",
       "        vertical-align: top;\n",
       "    }\n",
       "\n",
       "    .dataframe thead th {\n",
       "        text-align: right;\n",
       "    }\n",
       "</style>\n",
       "<table border=\"1\" class=\"dataframe\">\n",
       "  <thead>\n",
       "    <tr style=\"text-align: right;\">\n",
       "      <th></th>\n",
       "      <th>Fecha</th>\n",
       "      <th>Ventas</th>\n",
       "      <th>tiempo</th>\n",
       "      <th>mes</th>\n",
       "      <th>Agosto</th>\n",
       "      <th>Diciembre</th>\n",
       "      <th>Enero</th>\n",
       "      <th>Febrero</th>\n",
       "      <th>Julio</th>\n",
       "      <th>Junio</th>\n",
       "      <th>Marzo</th>\n",
       "      <th>Mayo</th>\n",
       "      <th>Noviembre</th>\n",
       "      <th>Octubre</th>\n",
       "      <th>Septiembre</th>\n",
       "    </tr>\n",
       "  </thead>\n",
       "  <tbody>\n",
       "    <tr>\n",
       "      <th>48</th>\n",
       "      <td>2005-01-01</td>\n",
       "      <td>266.7</td>\n",
       "      <td>49</td>\n",
       "      <td>Enero</td>\n",
       "      <td>0</td>\n",
       "      <td>0</td>\n",
       "      <td>1</td>\n",
       "      <td>0</td>\n",
       "      <td>0</td>\n",
       "      <td>0</td>\n",
       "      <td>0</td>\n",
       "      <td>0</td>\n",
       "      <td>0</td>\n",
       "      <td>0</td>\n",
       "      <td>0</td>\n",
       "    </tr>\n",
       "    <tr>\n",
       "      <th>49</th>\n",
       "      <td>2005-02-01</td>\n",
       "      <td>317.5</td>\n",
       "      <td>50</td>\n",
       "      <td>Febrero</td>\n",
       "      <td>0</td>\n",
       "      <td>0</td>\n",
       "      <td>0</td>\n",
       "      <td>1</td>\n",
       "      <td>0</td>\n",
       "      <td>0</td>\n",
       "      <td>0</td>\n",
       "      <td>0</td>\n",
       "      <td>0</td>\n",
       "      <td>0</td>\n",
       "      <td>0</td>\n",
       "    </tr>\n",
       "    <tr>\n",
       "      <th>50</th>\n",
       "      <td>2005-03-01</td>\n",
       "      <td>368.3</td>\n",
       "      <td>51</td>\n",
       "      <td>Marzo</td>\n",
       "      <td>0</td>\n",
       "      <td>0</td>\n",
       "      <td>0</td>\n",
       "      <td>0</td>\n",
       "      <td>0</td>\n",
       "      <td>0</td>\n",
       "      <td>1</td>\n",
       "      <td>0</td>\n",
       "      <td>0</td>\n",
       "      <td>0</td>\n",
       "      <td>0</td>\n",
       "    </tr>\n",
       "    <tr>\n",
       "      <th>51</th>\n",
       "      <td>2005-04-01</td>\n",
       "      <td>431.8</td>\n",
       "      <td>52</td>\n",
       "      <td>Abril</td>\n",
       "      <td>0</td>\n",
       "      <td>0</td>\n",
       "      <td>0</td>\n",
       "      <td>0</td>\n",
       "      <td>0</td>\n",
       "      <td>0</td>\n",
       "      <td>0</td>\n",
       "      <td>0</td>\n",
       "      <td>0</td>\n",
       "      <td>0</td>\n",
       "      <td>0</td>\n",
       "    </tr>\n",
       "    <tr>\n",
       "      <th>52</th>\n",
       "      <td>2005-05-01</td>\n",
       "      <td>457.2</td>\n",
       "      <td>53</td>\n",
       "      <td>Mayo</td>\n",
       "      <td>0</td>\n",
       "      <td>0</td>\n",
       "      <td>0</td>\n",
       "      <td>0</td>\n",
       "      <td>0</td>\n",
       "      <td>0</td>\n",
       "      <td>0</td>\n",
       "      <td>1</td>\n",
       "      <td>0</td>\n",
       "      <td>0</td>\n",
       "      <td>0</td>\n",
       "    </tr>\n",
       "    <tr>\n",
       "      <th>53</th>\n",
       "      <td>2005-06-01</td>\n",
       "      <td>571.5</td>\n",
       "      <td>54</td>\n",
       "      <td>Junio</td>\n",
       "      <td>0</td>\n",
       "      <td>0</td>\n",
       "      <td>0</td>\n",
       "      <td>0</td>\n",
       "      <td>0</td>\n",
       "      <td>1</td>\n",
       "      <td>0</td>\n",
       "      <td>0</td>\n",
       "      <td>0</td>\n",
       "      <td>0</td>\n",
       "      <td>0</td>\n",
       "    </tr>\n",
       "    <tr>\n",
       "      <th>54</th>\n",
       "      <td>2005-07-01</td>\n",
       "      <td>546.1</td>\n",
       "      <td>55</td>\n",
       "      <td>Julio</td>\n",
       "      <td>0</td>\n",
       "      <td>0</td>\n",
       "      <td>0</td>\n",
       "      <td>0</td>\n",
       "      <td>1</td>\n",
       "      <td>0</td>\n",
       "      <td>0</td>\n",
       "      <td>0</td>\n",
       "      <td>0</td>\n",
       "      <td>0</td>\n",
       "      <td>0</td>\n",
       "    </tr>\n",
       "    <tr>\n",
       "      <th>55</th>\n",
       "      <td>2005-08-01</td>\n",
       "      <td>482.6</td>\n",
       "      <td>56</td>\n",
       "      <td>Agosto</td>\n",
       "      <td>1</td>\n",
       "      <td>0</td>\n",
       "      <td>0</td>\n",
       "      <td>0</td>\n",
       "      <td>0</td>\n",
       "      <td>0</td>\n",
       "      <td>0</td>\n",
       "      <td>0</td>\n",
       "      <td>0</td>\n",
       "      <td>0</td>\n",
       "      <td>0</td>\n",
       "    </tr>\n",
       "    <tr>\n",
       "      <th>56</th>\n",
       "      <td>2005-09-01</td>\n",
       "      <td>431.8</td>\n",
       "      <td>57</td>\n",
       "      <td>Septiembre</td>\n",
       "      <td>0</td>\n",
       "      <td>0</td>\n",
       "      <td>0</td>\n",
       "      <td>0</td>\n",
       "      <td>0</td>\n",
       "      <td>0</td>\n",
       "      <td>0</td>\n",
       "      <td>0</td>\n",
       "      <td>0</td>\n",
       "      <td>0</td>\n",
       "      <td>1</td>\n",
       "    </tr>\n",
       "    <tr>\n",
       "      <th>57</th>\n",
       "      <td>2005-10-01</td>\n",
       "      <td>406.4</td>\n",
       "      <td>58</td>\n",
       "      <td>Octubre</td>\n",
       "      <td>0</td>\n",
       "      <td>0</td>\n",
       "      <td>0</td>\n",
       "      <td>0</td>\n",
       "      <td>0</td>\n",
       "      <td>0</td>\n",
       "      <td>0</td>\n",
       "      <td>0</td>\n",
       "      <td>0</td>\n",
       "      <td>1</td>\n",
       "      <td>0</td>\n",
       "    </tr>\n",
       "    <tr>\n",
       "      <th>58</th>\n",
       "      <td>2005-11-01</td>\n",
       "      <td>393.7</td>\n",
       "      <td>59</td>\n",
       "      <td>Noviembre</td>\n",
       "      <td>0</td>\n",
       "      <td>0</td>\n",
       "      <td>0</td>\n",
       "      <td>0</td>\n",
       "      <td>0</td>\n",
       "      <td>0</td>\n",
       "      <td>0</td>\n",
       "      <td>0</td>\n",
       "      <td>1</td>\n",
       "      <td>0</td>\n",
       "      <td>0</td>\n",
       "    </tr>\n",
       "    <tr>\n",
       "      <th>59</th>\n",
       "      <td>2005-12-01</td>\n",
       "      <td>406.4</td>\n",
       "      <td>60</td>\n",
       "      <td>Diciembre</td>\n",
       "      <td>0</td>\n",
       "      <td>1</td>\n",
       "      <td>0</td>\n",
       "      <td>0</td>\n",
       "      <td>0</td>\n",
       "      <td>0</td>\n",
       "      <td>0</td>\n",
       "      <td>0</td>\n",
       "      <td>0</td>\n",
       "      <td>0</td>\n",
       "      <td>0</td>\n",
       "    </tr>\n",
       "    <tr>\n",
       "      <th>60</th>\n",
       "      <td>2006-01-01</td>\n",
       "      <td>431.8</td>\n",
       "      <td>61</td>\n",
       "      <td>Enero</td>\n",
       "      <td>0</td>\n",
       "      <td>0</td>\n",
       "      <td>1</td>\n",
       "      <td>0</td>\n",
       "      <td>0</td>\n",
       "      <td>0</td>\n",
       "      <td>0</td>\n",
       "      <td>0</td>\n",
       "      <td>0</td>\n",
       "      <td>0</td>\n",
       "      <td>0</td>\n",
       "    </tr>\n",
       "    <tr>\n",
       "      <th>61</th>\n",
       "      <td>2006-02-01</td>\n",
       "      <td>457.2</td>\n",
       "      <td>62</td>\n",
       "      <td>Febrero</td>\n",
       "      <td>0</td>\n",
       "      <td>0</td>\n",
       "      <td>0</td>\n",
       "      <td>1</td>\n",
       "      <td>0</td>\n",
       "      <td>0</td>\n",
       "      <td>0</td>\n",
       "      <td>0</td>\n",
       "      <td>0</td>\n",
       "      <td>0</td>\n",
       "      <td>0</td>\n",
       "    </tr>\n",
       "    <tr>\n",
       "      <th>62</th>\n",
       "      <td>2006-03-01</td>\n",
       "      <td>457.2</td>\n",
       "      <td>63</td>\n",
       "      <td>Marzo</td>\n",
       "      <td>0</td>\n",
       "      <td>0</td>\n",
       "      <td>0</td>\n",
       "      <td>0</td>\n",
       "      <td>0</td>\n",
       "      <td>0</td>\n",
       "      <td>1</td>\n",
       "      <td>0</td>\n",
       "      <td>0</td>\n",
       "      <td>0</td>\n",
       "      <td>0</td>\n",
       "    </tr>\n",
       "    <tr>\n",
       "      <th>63</th>\n",
       "      <td>2006-04-01</td>\n",
       "      <td>482.6</td>\n",
       "      <td>64</td>\n",
       "      <td>Abril</td>\n",
       "      <td>0</td>\n",
       "      <td>0</td>\n",
       "      <td>0</td>\n",
       "      <td>0</td>\n",
       "      <td>0</td>\n",
       "      <td>0</td>\n",
       "      <td>0</td>\n",
       "      <td>0</td>\n",
       "      <td>0</td>\n",
       "      <td>0</td>\n",
       "      <td>0</td>\n",
       "    </tr>\n",
       "    <tr>\n",
       "      <th>64</th>\n",
       "      <td>2006-05-01</td>\n",
       "      <td>533.4</td>\n",
       "      <td>65</td>\n",
       "      <td>Mayo</td>\n",
       "      <td>0</td>\n",
       "      <td>0</td>\n",
       "      <td>0</td>\n",
       "      <td>0</td>\n",
       "      <td>0</td>\n",
       "      <td>0</td>\n",
       "      <td>0</td>\n",
       "      <td>1</td>\n",
       "      <td>0</td>\n",
       "      <td>0</td>\n",
       "      <td>0</td>\n",
       "    </tr>\n",
       "    <tr>\n",
       "      <th>65</th>\n",
       "      <td>2006-06-01</td>\n",
       "      <td>622.3</td>\n",
       "      <td>66</td>\n",
       "      <td>Junio</td>\n",
       "      <td>0</td>\n",
       "      <td>0</td>\n",
       "      <td>0</td>\n",
       "      <td>0</td>\n",
       "      <td>0</td>\n",
       "      <td>1</td>\n",
       "      <td>0</td>\n",
       "      <td>0</td>\n",
       "      <td>0</td>\n",
       "      <td>0</td>\n",
       "      <td>0</td>\n",
       "    </tr>\n",
       "    <tr>\n",
       "      <th>66</th>\n",
       "      <td>2006-07-01</td>\n",
       "      <td>660.4</td>\n",
       "      <td>67</td>\n",
       "      <td>Julio</td>\n",
       "      <td>0</td>\n",
       "      <td>0</td>\n",
       "      <td>0</td>\n",
       "      <td>0</td>\n",
       "      <td>1</td>\n",
       "      <td>0</td>\n",
       "      <td>0</td>\n",
       "      <td>0</td>\n",
       "      <td>0</td>\n",
       "      <td>0</td>\n",
       "      <td>0</td>\n",
       "    </tr>\n",
       "    <tr>\n",
       "      <th>67</th>\n",
       "      <td>2006-08-01</td>\n",
       "      <td>520.7</td>\n",
       "      <td>68</td>\n",
       "      <td>Agosto</td>\n",
       "      <td>1</td>\n",
       "      <td>0</td>\n",
       "      <td>0</td>\n",
       "      <td>0</td>\n",
       "      <td>0</td>\n",
       "      <td>0</td>\n",
       "      <td>0</td>\n",
       "      <td>0</td>\n",
       "      <td>0</td>\n",
       "      <td>0</td>\n",
       "      <td>0</td>\n",
       "    </tr>\n",
       "    <tr>\n",
       "      <th>68</th>\n",
       "      <td>2006-09-01</td>\n",
       "      <td>508.0</td>\n",
       "      <td>69</td>\n",
       "      <td>Septiembre</td>\n",
       "      <td>0</td>\n",
       "      <td>0</td>\n",
       "      <td>0</td>\n",
       "      <td>0</td>\n",
       "      <td>0</td>\n",
       "      <td>0</td>\n",
       "      <td>0</td>\n",
       "      <td>0</td>\n",
       "      <td>0</td>\n",
       "      <td>0</td>\n",
       "      <td>1</td>\n",
       "    </tr>\n",
       "    <tr>\n",
       "      <th>69</th>\n",
       "      <td>2006-10-01</td>\n",
       "      <td>482.6</td>\n",
       "      <td>70</td>\n",
       "      <td>Octubre</td>\n",
       "      <td>0</td>\n",
       "      <td>0</td>\n",
       "      <td>0</td>\n",
       "      <td>0</td>\n",
       "      <td>0</td>\n",
       "      <td>0</td>\n",
       "      <td>0</td>\n",
       "      <td>0</td>\n",
       "      <td>0</td>\n",
       "      <td>1</td>\n",
       "      <td>0</td>\n",
       "    </tr>\n",
       "    <tr>\n",
       "      <th>70</th>\n",
       "      <td>2006-11-01</td>\n",
       "      <td>457.2</td>\n",
       "      <td>71</td>\n",
       "      <td>Noviembre</td>\n",
       "      <td>0</td>\n",
       "      <td>0</td>\n",
       "      <td>0</td>\n",
       "      <td>0</td>\n",
       "      <td>0</td>\n",
       "      <td>0</td>\n",
       "      <td>0</td>\n",
       "      <td>0</td>\n",
       "      <td>1</td>\n",
       "      <td>0</td>\n",
       "      <td>0</td>\n",
       "    </tr>\n",
       "    <tr>\n",
       "      <th>71</th>\n",
       "      <td>2006-12-01</td>\n",
       "      <td>431.8</td>\n",
       "      <td>72</td>\n",
       "      <td>Diciembre</td>\n",
       "      <td>0</td>\n",
       "      <td>1</td>\n",
       "      <td>0</td>\n",
       "      <td>0</td>\n",
       "      <td>0</td>\n",
       "      <td>0</td>\n",
       "      <td>0</td>\n",
       "      <td>0</td>\n",
       "      <td>0</td>\n",
       "      <td>0</td>\n",
       "      <td>0</td>\n",
       "    </tr>\n",
       "  </tbody>\n",
       "</table>\n",
       "</div>"
      ],
      "text/plain": [
       "        Fecha  Ventas  tiempo         mes  Agosto  Diciembre  Enero  Febrero  \\\n",
       "48 2005-01-01   266.7      49       Enero       0          0      1        0   \n",
       "49 2005-02-01   317.5      50     Febrero       0          0      0        1   \n",
       "50 2005-03-01   368.3      51       Marzo       0          0      0        0   \n",
       "51 2005-04-01   431.8      52       Abril       0          0      0        0   \n",
       "52 2005-05-01   457.2      53        Mayo       0          0      0        0   \n",
       "53 2005-06-01   571.5      54       Junio       0          0      0        0   \n",
       "54 2005-07-01   546.1      55       Julio       0          0      0        0   \n",
       "55 2005-08-01   482.6      56      Agosto       1          0      0        0   \n",
       "56 2005-09-01   431.8      57  Septiembre       0          0      0        0   \n",
       "57 2005-10-01   406.4      58     Octubre       0          0      0        0   \n",
       "58 2005-11-01   393.7      59   Noviembre       0          0      0        0   \n",
       "59 2005-12-01   406.4      60   Diciembre       0          1      0        0   \n",
       "60 2006-01-01   431.8      61       Enero       0          0      1        0   \n",
       "61 2006-02-01   457.2      62     Febrero       0          0      0        1   \n",
       "62 2006-03-01   457.2      63       Marzo       0          0      0        0   \n",
       "63 2006-04-01   482.6      64       Abril       0          0      0        0   \n",
       "64 2006-05-01   533.4      65        Mayo       0          0      0        0   \n",
       "65 2006-06-01   622.3      66       Junio       0          0      0        0   \n",
       "66 2006-07-01   660.4      67       Julio       0          0      0        0   \n",
       "67 2006-08-01   520.7      68      Agosto       1          0      0        0   \n",
       "68 2006-09-01   508.0      69  Septiembre       0          0      0        0   \n",
       "69 2006-10-01   482.6      70     Octubre       0          0      0        0   \n",
       "70 2006-11-01   457.2      71   Noviembre       0          0      0        0   \n",
       "71 2006-12-01   431.8      72   Diciembre       0          1      0        0   \n",
       "\n",
       "    Julio  Junio  Marzo  Mayo  Noviembre  Octubre  Septiembre  \n",
       "48      0      0      0     0          0        0           0  \n",
       "49      0      0      0     0          0        0           0  \n",
       "50      0      0      1     0          0        0           0  \n",
       "51      0      0      0     0          0        0           0  \n",
       "52      0      0      0     1          0        0           0  \n",
       "53      0      1      0     0          0        0           0  \n",
       "54      1      0      0     0          0        0           0  \n",
       "55      0      0      0     0          0        0           0  \n",
       "56      0      0      0     0          0        0           1  \n",
       "57      0      0      0     0          0        1           0  \n",
       "58      0      0      0     0          1        0           0  \n",
       "59      0      0      0     0          0        0           0  \n",
       "60      0      0      0     0          0        0           0  \n",
       "61      0      0      0     0          0        0           0  \n",
       "62      0      0      1     0          0        0           0  \n",
       "63      0      0      0     0          0        0           0  \n",
       "64      0      0      0     1          0        0           0  \n",
       "65      0      1      0     0          0        0           0  \n",
       "66      1      0      0     0          0        0           0  \n",
       "67      0      0      0     0          0        0           0  \n",
       "68      0      0      0     0          0        0           1  \n",
       "69      0      0      0     0          0        1           0  \n",
       "70      0      0      0     0          1        0           0  \n",
       "71      0      0      0     0          0        0           0  "
      ]
     },
     "execution_count": 32,
     "metadata": {},
     "output_type": "execute_result"
    }
   ],
   "source": [
    "df_test1"
   ]
  },
  {
   "cell_type": "code",
   "execution_count": 33,
   "metadata": {
    "ExecuteTime": {
     "end_time": "2021-09-13T18:13:49.786652Z",
     "start_time": "2021-09-13T18:13:49.771643Z"
    },
    "id": "EcCJNjf6Dq-H"
   },
   "outputs": [],
   "source": [
    "# Crear los conjuntos de entrenamiento y validación\n",
    "# Crear una lista que contenga los atributos que van a hacer parte de estos conjuntos\n",
    "cols = [\n",
    "    'tiempo', 'Agosto', 'Diciembre', 'Febrero', 'Enero', 'Julio', 'Junio',\n",
    "    'Marzo', 'Mayo', 'Noviembre', 'Octubre', 'Septiembre'\n",
    "]\n",
    "\n",
    "# Crear los diferentes conjuntos de entrenamiento y validación\n",
    "X_train_ad = df_train1[cols].values\n",
    "X_test_ad = df_test1[cols].values\n",
    "y_train_ad = df_train1['Ventas'].values\n",
    "y_test_ad = df_test1['Ventas'].values"
   ]
  },
  {
   "cell_type": "code",
   "execution_count": 34,
   "metadata": {
    "ExecuteTime": {
     "end_time": "2021-09-13T18:13:49.802657Z",
     "start_time": "2021-09-13T18:13:49.787646Z"
    },
    "colab": {
     "base_uri": "https://localhost:8080/"
    },
    "executionInfo": {
     "elapsed": 1129,
     "status": "ok",
     "timestamp": 1608264398785,
     "user": {
      "displayName": "freeai time",
      "photoUrl": "https://lh3.googleusercontent.com/a-/AOh14GgxvlF_Oni7ZMdvrndxf2178ORhoNGeclnb7GQ6=s64",
      "userId": "11272871337215191422"
     },
     "user_tz": -330
    },
    "id": "g_CsA3YoESRw",
    "outputId": "a3d1adc0-9ece-4f1a-b6d1-0f305639c654"
   },
   "outputs": [
    {
     "data": {
      "text/plain": [
       "((48, 12), (24, 12), (48,), (24,))"
      ]
     },
     "execution_count": 34,
     "metadata": {},
     "output_type": "execute_result"
    }
   ],
   "source": [
    "# Ver la cantidad de filas y columnas de los conjuntos de datos\n",
    "X_train_ad.shape, X_test_ad.shape, y_train_ad.shape, y_test_ad.shape"
   ]
  },
  {
   "cell_type": "markdown",
   "metadata": {
    "id": "6ew0LOUAE5SS"
   },
   "source": [
    "### Entrenamiento y validación del método aditivo"
   ]
  },
  {
   "cell_type": "code",
   "execution_count": 35,
   "metadata": {
    "ExecuteTime": {
     "end_time": "2021-09-13T18:13:49.818659Z",
     "start_time": "2021-09-13T18:13:49.803650Z"
    },
    "id": "kg9IlKofETo2"
   },
   "outputs": [],
   "source": [
    "# Cargar los módulos y métodos\n",
    "from sklearn.linear_model import LinearRegression"
   ]
  },
  {
   "cell_type": "code",
   "execution_count": 39,
   "metadata": {
    "ExecuteTime": {
     "end_time": "2021-09-13T18:42:04.723356Z",
     "start_time": "2021-09-13T18:42:04.681759Z"
    },
    "colab": {
     "base_uri": "https://localhost:8080/"
    },
    "executionInfo": {
     "elapsed": 973,
     "status": "ok",
     "timestamp": 1608264401611,
     "user": {
      "displayName": "freeai time",
      "photoUrl": "https://lh3.googleusercontent.com/a-/AOh14GgxvlF_Oni7ZMdvrndxf2178ORhoNGeclnb7GQ6=s64",
      "userId": "11272871337215191422"
     },
     "user_tz": -330
    },
    "id": "bLGDtx7VFAlw",
    "outputId": "634d2195-2df4-4d7e-d671-0bc6f7cacbe7"
   },
   "outputs": [
    {
     "data": {
      "text/plain": [
       "LinearRegression()"
      ]
     },
     "execution_count": 39,
     "metadata": {},
     "output_type": "execute_result"
    }
   ],
   "source": [
    "# Crear un objeto modelo y ajustarlo a los datos\n",
    "model_ad = LinearRegression()\n",
    "model_ad.fit(X_train_ad,y_train_ad)"
   ]
  },
  {
   "cell_type": "code",
   "execution_count": 40,
   "metadata": {
    "ExecuteTime": {
     "end_time": "2021-09-13T18:42:09.596584Z",
     "start_time": "2021-09-13T18:42:09.591582Z"
    },
    "id": "pRjgQhavFHIW"
   },
   "outputs": [],
   "source": [
    "# Desarrollar las predicciones en el conjunto de entrenamiento\n",
    "y_train_pred_ad = model_ad.predict(X_train_ad)\n",
    "\n",
    "# Desarrollar las predicciones en el conjunto de validación\n",
    "y_test_pred_ad = model_ad.predict(X_test_ad)"
   ]
  },
  {
   "cell_type": "code",
   "execution_count": 41,
   "metadata": {
    "ExecuteTime": {
     "end_time": "2021-09-13T18:42:12.546460Z",
     "start_time": "2021-09-13T18:42:12.529465Z"
    },
    "id": "4kSq_pylFhBK"
   },
   "outputs": [],
   "source": [
    "# Hacer de nuevo el cálculo del margen de error\n",
    "error = y_train_ad - y_train_pred_ad\n",
    "sde = error.std()\n",
    "ME = 1.96 * sde"
   ]
  },
  {
   "cell_type": "code",
   "execution_count": 42,
   "metadata": {
    "ExecuteTime": {
     "end_time": "2021-09-13T18:42:16.640281Z",
     "start_time": "2021-09-13T18:42:16.440237Z"
    },
    "colab": {
     "base_uri": "https://localhost:8080/",
     "height": 483
    },
    "executionInfo": {
     "elapsed": 1115,
     "status": "ok",
     "timestamp": 1608264402979,
     "user": {
      "displayName": "freeai time",
      "photoUrl": "https://lh3.googleusercontent.com/a-/AOh14GgxvlF_Oni7ZMdvrndxf2178ORhoNGeclnb7GQ6=s64",
      "userId": "11272871337215191422"
     },
     "user_tz": -330
    },
    "id": "NpAm3imfF2OZ",
    "outputId": "eb805633-696d-4a57-d634-180faeabc93e"
   },
   "outputs": [
    {
     "data": {
      "image/png": "[encoded data removed]",
      "text/plain": [
       "<Figure size 1080x576 with 1 Axes>"
      ]
     },
     "metadata": {
      "needs_background": "light"
     },
     "output_type": "display_data"
    }
   ],
   "source": [
    "# Visualizar los datos\n",
    "plt.figure(figsize=(15, 8))\n",
    "\n",
    "# Serie de tiempo datos de entrenamiento\n",
    "plt.plot(df_train1['Fecha'], y_train_ad, 'go:')\n",
    "\n",
    "# Predicción datos de entrenamiento\n",
    "plt.plot(df_train1['Fecha'], y_train_pred_ad, 'g')\n",
    "\n",
    "# Datos de validación\n",
    "plt.plot(df_test1['Fecha'], y_test_ad, 'o:', color='red')\n",
    "\n",
    "# Predicción datos de validación\n",
    "plt.plot(df_test1['Fecha'], y_test_pred_ad, 'r', color='red')\n",
    "\n",
    "# margin of error\n",
    "superior = y_test_pred_ad + ME\n",
    "inferior = y_test_pred_ad - ME\n",
    "plt.fill_between(df_test1['Fecha'], (superior), (inferior),\n",
    "                 alpha=0.1,\n",
    "                 color='darkblue')\n",
    "\n",
    "plt.legend([\n",
    "    'Serie de tiempo datos de entrenamiento',\n",
    "    'Predicción datos de entrenamiento', 'Serie de tiempo datos de validación',\n",
    "    'Predicción datos de validación', '95% Intervalo de confianza'\n",
    "])\n",
    "plt.show()"
   ]
  },
  {
   "cell_type": "markdown",
   "metadata": {
    "id": "NS2Y_I9_JmeE"
   },
   "source": [
    "## Modelo multiplicativo para forecasting\n",
    "Este modelo presupone que a medida que se incrementan los datos, también se incrementa el patrón estacional. La mayoría de las gráficas de series muestran este patrón. En este modelo, la tendencia y los componentes de estación se multiplican y luego se suman al componente de error.\n",
    "\n",
    "Para construir un modelo multiplicativo se deben seguir los siguientes pasos:\n",
    "\n",
    "1. Crear un modelo de regresión lineal en función del tiempo que indicara la tendencia $(T)$ de los datos $\\hat{y}=\\theta_0+\\theta_{1}tiempo$.\n",
    "2. A través de la predicción de la tendencia $(T)$, observe la estacionalidad $(S)$ y la irregularidad $(I)$ $(TSI)$.\n",
    "3. Calcular la desviación y el efecto de la estacionalidad para cada predicción $SI=\\frac{TSI}{T}$.\n",
    "4. Usar el promedio de la estacionalidad para desarrollar las predicciones futuras."
   ]
  },
  {
   "cell_type": "code",
   "execution_count": 37,
   "metadata": {
    "ExecuteTime": {
     "end_time": "2021-09-13T18:13:54.455837Z",
     "start_time": "2021-09-13T18:13:54.435826Z"
    },
    "colab": {
     "base_uri": "https://localhost:8080/",
     "height": 198
    },
    "executionInfo": {
     "elapsed": 930,
     "status": "ok",
     "timestamp": 1608266690437,
     "user": {
      "displayName": "freeai time",
      "photoUrl": "https://lh3.googleusercontent.com/a-/AOh14GgxvlF_Oni7ZMdvrndxf2178ORhoNGeclnb7GQ6=s64",
      "userId": "11272871337215191422"
     },
     "user_tz": -330
    },
    "id": "4mEcX7a3EjYj",
    "outputId": "977ef534-716e-44a5-f7c9-4e84a16f31a2",
    "scrolled": true
   },
   "outputs": [
    {
     "data": {
      "text/html": [
       "<div>\n",
       "<style scoped>\n",
       "    .dataframe tbody tr th:only-of-type {\n",
       "        vertical-align: middle;\n",
       "    }\n",
       "\n",
       "    .dataframe tbody tr th {\n",
       "        vertical-align: top;\n",
       "    }\n",
       "\n",
       "    .dataframe thead th {\n",
       "        text-align: right;\n",
       "    }\n",
       "</style>\n",
       "<table border=\"1\" class=\"dataframe\">\n",
       "  <thead>\n",
       "    <tr style=\"text-align: right;\">\n",
       "      <th></th>\n",
       "      <th>Fecha</th>\n",
       "      <th>Ventas</th>\n",
       "      <th>tiempo</th>\n",
       "      <th>mes</th>\n",
       "    </tr>\n",
       "  </thead>\n",
       "  <tbody>\n",
       "    <tr>\n",
       "      <th>43</th>\n",
       "      <td>2004-08-01</td>\n",
       "      <td>431.8</td>\n",
       "      <td>44</td>\n",
       "      <td>Agosto</td>\n",
       "    </tr>\n",
       "    <tr>\n",
       "      <th>44</th>\n",
       "      <td>2004-09-01</td>\n",
       "      <td>330.2</td>\n",
       "      <td>45</td>\n",
       "      <td>Septiembre</td>\n",
       "    </tr>\n",
       "    <tr>\n",
       "      <th>45</th>\n",
       "      <td>2004-10-01</td>\n",
       "      <td>330.2</td>\n",
       "      <td>46</td>\n",
       "      <td>Octubre</td>\n",
       "    </tr>\n",
       "    <tr>\n",
       "      <th>46</th>\n",
       "      <td>2004-11-01</td>\n",
       "      <td>304.8</td>\n",
       "      <td>47</td>\n",
       "      <td>Noviembre</td>\n",
       "    </tr>\n",
       "    <tr>\n",
       "      <th>47</th>\n",
       "      <td>2004-12-01</td>\n",
       "      <td>292.1</td>\n",
       "      <td>48</td>\n",
       "      <td>Diciembre</td>\n",
       "    </tr>\n",
       "  </tbody>\n",
       "</table>\n",
       "</div>"
      ],
      "text/plain": [
       "        Fecha  Ventas  tiempo         mes\n",
       "43 2004-08-01   431.8      44      Agosto\n",
       "44 2004-09-01   330.2      45  Septiembre\n",
       "45 2004-10-01   330.2      46     Octubre\n",
       "46 2004-11-01   304.8      47   Noviembre\n",
       "47 2004-12-01   292.1      48   Diciembre"
      ]
     },
     "execution_count": 37,
     "metadata": {},
     "output_type": "execute_result"
    }
   ],
   "source": [
    "df_train.tail()"
   ]
  },
  {
   "cell_type": "code",
   "execution_count": 43,
   "metadata": {
    "ExecuteTime": {
     "end_time": "2021-09-13T18:42:40.169234Z",
     "start_time": "2021-09-13T18:42:40.156228Z"
    },
    "colab": {
     "base_uri": "https://localhost:8080/",
     "height": 198
    },
    "executionInfo": {
     "elapsed": 1301,
     "status": "ok",
     "timestamp": 1608266690817,
     "user": {
      "displayName": "freeai time",
      "photoUrl": "https://lh3.googleusercontent.com/a-/AOh14GgxvlF_Oni7ZMdvrndxf2178ORhoNGeclnb7GQ6=s64",
      "userId": "11272871337215191422"
     },
     "user_tz": -330
    },
    "id": "z7W85FuPKfzG",
    "outputId": "d4b19b14-2f65-43e2-dd4c-9fb9b0981251"
   },
   "outputs": [
    {
     "data": {
      "text/html": [
       "<div>\n",
       "<style scoped>\n",
       "    .dataframe tbody tr th:only-of-type {\n",
       "        vertical-align: middle;\n",
       "    }\n",
       "\n",
       "    .dataframe tbody tr th {\n",
       "        vertical-align: top;\n",
       "    }\n",
       "\n",
       "    .dataframe thead th {\n",
       "        text-align: right;\n",
       "    }\n",
       "</style>\n",
       "<table border=\"1\" class=\"dataframe\">\n",
       "  <thead>\n",
       "    <tr style=\"text-align: right;\">\n",
       "      <th></th>\n",
       "      <th>Fecha</th>\n",
       "      <th>Ventas</th>\n",
       "      <th>tiempo</th>\n",
       "      <th>mes</th>\n",
       "    </tr>\n",
       "  </thead>\n",
       "  <tbody>\n",
       "    <tr>\n",
       "      <th>48</th>\n",
       "      <td>2005-01-01</td>\n",
       "      <td>266.7</td>\n",
       "      <td>49</td>\n",
       "      <td>Enero</td>\n",
       "    </tr>\n",
       "    <tr>\n",
       "      <th>49</th>\n",
       "      <td>2005-02-01</td>\n",
       "      <td>317.5</td>\n",
       "      <td>50</td>\n",
       "      <td>Febrero</td>\n",
       "    </tr>\n",
       "    <tr>\n",
       "      <th>50</th>\n",
       "      <td>2005-03-01</td>\n",
       "      <td>368.3</td>\n",
       "      <td>51</td>\n",
       "      <td>Marzo</td>\n",
       "    </tr>\n",
       "    <tr>\n",
       "      <th>51</th>\n",
       "      <td>2005-04-01</td>\n",
       "      <td>431.8</td>\n",
       "      <td>52</td>\n",
       "      <td>Abril</td>\n",
       "    </tr>\n",
       "    <tr>\n",
       "      <th>52</th>\n",
       "      <td>2005-05-01</td>\n",
       "      <td>457.2</td>\n",
       "      <td>53</td>\n",
       "      <td>Mayo</td>\n",
       "    </tr>\n",
       "  </tbody>\n",
       "</table>\n",
       "</div>"
      ],
      "text/plain": [
       "        Fecha  Ventas  tiempo      mes\n",
       "48 2005-01-01   266.7      49    Enero\n",
       "49 2005-02-01   317.5      50  Febrero\n",
       "50 2005-03-01   368.3      51    Marzo\n",
       "51 2005-04-01   431.8      52    Abril\n",
       "52 2005-05-01   457.2      53     Mayo"
      ]
     },
     "execution_count": 43,
     "metadata": {},
     "output_type": "execute_result"
    }
   ],
   "source": [
    "df_test.head()"
   ]
  },
  {
   "cell_type": "markdown",
   "metadata": {
    "id": "mphi6yMCKsaB"
   },
   "source": [
    "### Paso 1: Modelo de regresión lineal: tiempo vs Ventas"
   ]
  },
  {
   "cell_type": "code",
   "execution_count": 44,
   "metadata": {
    "ExecuteTime": {
     "end_time": "2021-09-13T18:44:33.829827Z",
     "start_time": "2021-09-13T18:44:33.818824Z"
    },
    "id": "ulxlAujZK15c"
   },
   "outputs": [],
   "source": [
    "# Crear copias de los conjuntos de entrenamiento y validación\n",
    "df_train2 = df_train.copy()\n",
    "df_test2 = df_test.copy()"
   ]
  },
  {
   "cell_type": "code",
   "execution_count": 45,
   "metadata": {
    "ExecuteTime": {
     "end_time": "2021-09-13T18:49:31.131621Z",
     "start_time": "2021-09-13T18:49:31.120624Z"
    },
    "colab": {
     "base_uri": "https://localhost:8080/"
    },
    "executionInfo": {
     "elapsed": 622,
     "status": "ok",
     "timestamp": 1608266846714,
     "user": {
      "displayName": "freeai time",
      "photoUrl": "https://lh3.googleusercontent.com/a-/AOh14GgxvlF_Oni7ZMdvrndxf2178ORhoNGeclnb7GQ6=s64",
      "userId": "11272871337215191422"
     },
     "user_tz": -330
    },
    "id": "ZNuopQnlKisw",
    "outputId": "9ce460c5-ba28-4e64-ae97-a605844245d1"
   },
   "outputs": [
    {
     "data": {
      "text/plain": [
       "((48, 1), (48,))"
      ]
     },
     "execution_count": 45,
     "metadata": {},
     "output_type": "execute_result"
    }
   ],
   "source": [
    "# Crear el conjunto de datos de entrenamiento\n",
    "X_train_m = df_train2[['tiempo']].values\n",
    "y_train_m = df_train2['Ventas'].values\n",
    "\n",
    "X_train_m.shape, y_train_m.shape"
   ]
  },
  {
   "cell_type": "code",
   "execution_count": 46,
   "metadata": {
    "ExecuteTime": {
     "end_time": "2021-09-13T18:50:40.900417Z",
     "start_time": "2021-09-13T18:50:40.880404Z"
    },
    "colab": {
     "base_uri": "https://localhost:8080/"
    },
    "executionInfo": {
     "elapsed": 1364,
     "status": "ok",
     "timestamp": 1608266883856,
     "user": {
      "displayName": "freeai time",
      "photoUrl": "https://lh3.googleusercontent.com/a-/AOh14GgxvlF_Oni7ZMdvrndxf2178ORhoNGeclnb7GQ6=s64",
      "userId": "11272871337215191422"
     },
     "user_tz": -330
    },
    "id": "D_KNz9epLIwB",
    "outputId": "9c913edc-c66b-4e58-8429-72f31de80af6"
   },
   "outputs": [
    {
     "data": {
      "text/plain": [
       "((24, 1), (24,))"
      ]
     },
     "execution_count": 46,
     "metadata": {},
     "output_type": "execute_result"
    }
   ],
   "source": [
    "# Crear el conjunto de datos de validación\n",
    "X_test_m = df_test2[['tiempo']].values\n",
    "y_test_m = df_test2['Ventas'].values\n",
    "\n",
    "X_test_m.shape, y_test_m.shape"
   ]
  },
  {
   "cell_type": "code",
   "execution_count": 47,
   "metadata": {
    "ExecuteTime": {
     "end_time": "2021-09-13T18:52:32.882153Z",
     "start_time": "2021-09-13T18:52:32.866161Z"
    },
    "colab": {
     "base_uri": "https://localhost:8080/"
    },
    "executionInfo": {
     "elapsed": 1171,
     "status": "ok",
     "timestamp": 1608266954008,
     "user": {
      "displayName": "freeai time",
      "photoUrl": "https://lh3.googleusercontent.com/a-/AOh14GgxvlF_Oni7ZMdvrndxf2178ORhoNGeclnb7GQ6=s64",
      "userId": "11272871337215191422"
     },
     "user_tz": -330
    },
    "id": "iiiU_MQ6LR1p",
    "outputId": "07993bd6-afa6-4e61-b86d-df2a3bb3a93f"
   },
   "outputs": [
    {
     "data": {
      "text/plain": [
       "LinearRegression()"
      ]
     },
     "execution_count": 47,
     "metadata": {},
     "output_type": "execute_result"
    }
   ],
   "source": [
    "# Carga el modulo correspondiente, crear y ajustar el modelo de regresión\n",
    "from sklearn.linear_model import LinearRegression\n",
    "model_tend_m = LinearRegression()\n",
    "model_tend_m.fit(X_train_m,y_train_m)"
   ]
  },
  {
   "cell_type": "markdown",
   "metadata": {
    "id": "DcISH20DMHuI"
   },
   "source": [
    "### Paso 2: Tomar la tendencia $(T)$ y los ejemplos verdaderos $(TSI)$"
   ]
  },
  {
   "cell_type": "code",
   "execution_count": 49,
   "metadata": {
    "ExecuteTime": {
     "end_time": "2021-09-13T18:54:42.067527Z",
     "start_time": "2021-09-13T18:54:42.055525Z"
    },
    "id": "hb9HsxjMLtfp"
   },
   "outputs": [],
   "source": [
    "# Realizar las predicciones con el conjunto de entrenamiento\n",
    "y_train_pred_m = model_tend_m.predict(X_train_m)"
   ]
  },
  {
   "cell_type": "code",
   "execution_count": 50,
   "metadata": {
    "ExecuteTime": {
     "end_time": "2021-09-13T18:57:07.367914Z",
     "start_time": "2021-09-13T18:57:07.347905Z"
    },
    "colab": {
     "base_uri": "https://localhost:8080/",
     "height": 198
    },
    "executionInfo": {
     "elapsed": 1034,
     "status": "ok",
     "timestamp": 1608267080650,
     "user": {
      "displayName": "freeai time",
      "photoUrl": "https://lh3.googleusercontent.com/a-/AOh14GgxvlF_Oni7ZMdvrndxf2178ORhoNGeclnb7GQ6=s64",
      "userId": "11272871337215191422"
     },
     "user_tz": -330
    },
    "id": "ydsCTwUZLh8S",
    "outputId": "56c96f3f-d183-4cfd-bc29-6aa83de2295c"
   },
   "outputs": [
    {
     "data": {
      "text/html": [
       "<div>\n",
       "<style scoped>\n",
       "    .dataframe tbody tr th:only-of-type {\n",
       "        vertical-align: middle;\n",
       "    }\n",
       "\n",
       "    .dataframe tbody tr th {\n",
       "        vertical-align: top;\n",
       "    }\n",
       "\n",
       "    .dataframe thead th {\n",
       "        text-align: right;\n",
       "    }\n",
       "</style>\n",
       "<table border=\"1\" class=\"dataframe\">\n",
       "  <thead>\n",
       "    <tr style=\"text-align: right;\">\n",
       "      <th></th>\n",
       "      <th>Fecha</th>\n",
       "      <th>Ventas</th>\n",
       "      <th>tiempo</th>\n",
       "      <th>mes</th>\n",
       "      <th>predicted_T</th>\n",
       "    </tr>\n",
       "  </thead>\n",
       "  <tbody>\n",
       "    <tr>\n",
       "      <th>0</th>\n",
       "      <td>2001-01-01</td>\n",
       "      <td>139.7</td>\n",
       "      <td>1</td>\n",
       "      <td>Enero</td>\n",
       "      <td>138.671939</td>\n",
       "    </tr>\n",
       "    <tr>\n",
       "      <th>1</th>\n",
       "      <td>2001-02-01</td>\n",
       "      <td>114.3</td>\n",
       "      <td>2</td>\n",
       "      <td>Febrero</td>\n",
       "      <td>143.082175</td>\n",
       "    </tr>\n",
       "    <tr>\n",
       "      <th>2</th>\n",
       "      <td>2001-03-01</td>\n",
       "      <td>101.6</td>\n",
       "      <td>3</td>\n",
       "      <td>Marzo</td>\n",
       "      <td>147.492412</td>\n",
       "    </tr>\n",
       "    <tr>\n",
       "      <th>3</th>\n",
       "      <td>2001-04-01</td>\n",
       "      <td>152.4</td>\n",
       "      <td>4</td>\n",
       "      <td>Abril</td>\n",
       "      <td>151.902649</td>\n",
       "    </tr>\n",
       "    <tr>\n",
       "      <th>4</th>\n",
       "      <td>2001-05-01</td>\n",
       "      <td>215.9</td>\n",
       "      <td>5</td>\n",
       "      <td>Mayo</td>\n",
       "      <td>156.312885</td>\n",
       "    </tr>\n",
       "  </tbody>\n",
       "</table>\n",
       "</div>"
      ],
      "text/plain": [
       "       Fecha  Ventas  tiempo      mes  predicted_T\n",
       "0 2001-01-01   139.7       1    Enero   138.671939\n",
       "1 2001-02-01   114.3       2  Febrero   143.082175\n",
       "2 2001-03-01   101.6       3    Marzo   147.492412\n",
       "3 2001-04-01   152.4       4    Abril   151.902649\n",
       "4 2001-05-01   215.9       5     Mayo   156.312885"
      ]
     },
     "execution_count": 50,
     "metadata": {},
     "output_type": "execute_result"
    }
   ],
   "source": [
    "# Agregar al dataframe la columna de las predicciones\n",
    "df_train2['predicted_T'] = y_train_pred_m\n",
    "df_train2.head()"
   ]
  },
  {
   "cell_type": "markdown",
   "metadata": {
    "id": "n5oM9iH1MP2S"
   },
   "source": [
    "### Paso 3: Calcular la desviación de los ejemplos verdaderos $(TSI)$\n",
    "\n",
    "SI = $\\frac{TSI}{ T}$"
   ]
  },
  {
   "cell_type": "code",
   "execution_count": 51,
   "metadata": {
    "ExecuteTime": {
     "end_time": "2021-09-13T19:00:18.907462Z",
     "start_time": "2021-09-13T19:00:18.892362Z"
    },
    "colab": {
     "base_uri": "https://localhost:8080/",
     "height": 649
    },
    "executionInfo": {
     "elapsed": 1168,
     "status": "ok",
     "timestamp": 1608267236442,
     "user": {
      "displayName": "freeai time",
      "photoUrl": "https://lh3.googleusercontent.com/a-/AOh14GgxvlF_Oni7ZMdvrndxf2178ORhoNGeclnb7GQ6=s64",
      "userId": "11272871337215191422"
     },
     "user_tz": -330
    },
    "id": "ineTEtJELpI5",
    "outputId": "71d09e87-58ca-4d55-ed56-f5a1a49333d1"
   },
   "outputs": [
    {
     "data": {
      "text/html": [
       "<div>\n",
       "<style scoped>\n",
       "    .dataframe tbody tr th:only-of-type {\n",
       "        vertical-align: middle;\n",
       "    }\n",
       "\n",
       "    .dataframe tbody tr th {\n",
       "        vertical-align: top;\n",
       "    }\n",
       "\n",
       "    .dataframe thead th {\n",
       "        text-align: right;\n",
       "    }\n",
       "</style>\n",
       "<table border=\"1\" class=\"dataframe\">\n",
       "  <thead>\n",
       "    <tr style=\"text-align: right;\">\n",
       "      <th></th>\n",
       "      <th>Fecha</th>\n",
       "      <th>Ventas</th>\n",
       "      <th>tiempo</th>\n",
       "      <th>mes</th>\n",
       "      <th>predicted_T</th>\n",
       "      <th>SI</th>\n",
       "    </tr>\n",
       "  </thead>\n",
       "  <tbody>\n",
       "    <tr>\n",
       "      <th>0</th>\n",
       "      <td>2001-01-01</td>\n",
       "      <td>139.7</td>\n",
       "      <td>1</td>\n",
       "      <td>Enero</td>\n",
       "      <td>138.671939</td>\n",
       "      <td>1.007414</td>\n",
       "    </tr>\n",
       "    <tr>\n",
       "      <th>1</th>\n",
       "      <td>2001-02-01</td>\n",
       "      <td>114.3</td>\n",
       "      <td>2</td>\n",
       "      <td>Febrero</td>\n",
       "      <td>143.082175</td>\n",
       "      <td>0.798842</td>\n",
       "    </tr>\n",
       "    <tr>\n",
       "      <th>2</th>\n",
       "      <td>2001-03-01</td>\n",
       "      <td>101.6</td>\n",
       "      <td>3</td>\n",
       "      <td>Marzo</td>\n",
       "      <td>147.492412</td>\n",
       "      <td>0.688849</td>\n",
       "    </tr>\n",
       "    <tr>\n",
       "      <th>3</th>\n",
       "      <td>2001-04-01</td>\n",
       "      <td>152.4</td>\n",
       "      <td>4</td>\n",
       "      <td>Abril</td>\n",
       "      <td>151.902649</td>\n",
       "      <td>1.003274</td>\n",
       "    </tr>\n",
       "    <tr>\n",
       "      <th>4</th>\n",
       "      <td>2001-05-01</td>\n",
       "      <td>215.9</td>\n",
       "      <td>5</td>\n",
       "      <td>Mayo</td>\n",
       "      <td>156.312885</td>\n",
       "      <td>1.381204</td>\n",
       "    </tr>\n",
       "    <tr>\n",
       "      <th>5</th>\n",
       "      <td>2001-06-01</td>\n",
       "      <td>228.6</td>\n",
       "      <td>6</td>\n",
       "      <td>Junio</td>\n",
       "      <td>160.723122</td>\n",
       "      <td>1.422322</td>\n",
       "    </tr>\n",
       "    <tr>\n",
       "      <th>6</th>\n",
       "      <td>2001-07-01</td>\n",
       "      <td>215.9</td>\n",
       "      <td>7</td>\n",
       "      <td>Julio</td>\n",
       "      <td>165.133359</td>\n",
       "      <td>1.307428</td>\n",
       "    </tr>\n",
       "    <tr>\n",
       "      <th>7</th>\n",
       "      <td>2001-08-01</td>\n",
       "      <td>190.5</td>\n",
       "      <td>8</td>\n",
       "      <td>Agosto</td>\n",
       "      <td>169.543595</td>\n",
       "      <td>1.123605</td>\n",
       "    </tr>\n",
       "    <tr>\n",
       "      <th>8</th>\n",
       "      <td>2001-09-01</td>\n",
       "      <td>177.8</td>\n",
       "      <td>9</td>\n",
       "      <td>Septiembre</td>\n",
       "      <td>173.953832</td>\n",
       "      <td>1.022110</td>\n",
       "    </tr>\n",
       "    <tr>\n",
       "      <th>9</th>\n",
       "      <td>2001-10-01</td>\n",
       "      <td>139.7</td>\n",
       "      <td>10</td>\n",
       "      <td>Octubre</td>\n",
       "      <td>178.364069</td>\n",
       "      <td>0.783229</td>\n",
       "    </tr>\n",
       "    <tr>\n",
       "      <th>10</th>\n",
       "      <td>2001-11-01</td>\n",
       "      <td>139.7</td>\n",
       "      <td>11</td>\n",
       "      <td>Noviembre</td>\n",
       "      <td>182.774305</td>\n",
       "      <td>0.764331</td>\n",
       "    </tr>\n",
       "    <tr>\n",
       "      <th>11</th>\n",
       "      <td>2001-12-01</td>\n",
       "      <td>152.4</td>\n",
       "      <td>12</td>\n",
       "      <td>Diciembre</td>\n",
       "      <td>187.184542</td>\n",
       "      <td>0.814170</td>\n",
       "    </tr>\n",
       "    <tr>\n",
       "      <th>12</th>\n",
       "      <td>2002-01-01</td>\n",
       "      <td>165.1</td>\n",
       "      <td>13</td>\n",
       "      <td>Enero</td>\n",
       "      <td>191.594779</td>\n",
       "      <td>0.861715</td>\n",
       "    </tr>\n",
       "    <tr>\n",
       "      <th>13</th>\n",
       "      <td>2002-02-01</td>\n",
       "      <td>177.8</td>\n",
       "      <td>14</td>\n",
       "      <td>Febrero</td>\n",
       "      <td>196.005015</td>\n",
       "      <td>0.907120</td>\n",
       "    </tr>\n",
       "    <tr>\n",
       "      <th>14</th>\n",
       "      <td>2002-03-01</td>\n",
       "      <td>177.8</td>\n",
       "      <td>15</td>\n",
       "      <td>Marzo</td>\n",
       "      <td>200.415252</td>\n",
       "      <td>0.887158</td>\n",
       "    </tr>\n",
       "    <tr>\n",
       "      <th>15</th>\n",
       "      <td>2002-04-01</td>\n",
       "      <td>203.2</td>\n",
       "      <td>16</td>\n",
       "      <td>Abril</td>\n",
       "      <td>204.825488</td>\n",
       "      <td>0.992064</td>\n",
       "    </tr>\n",
       "    <tr>\n",
       "      <th>16</th>\n",
       "      <td>2002-05-01</td>\n",
       "      <td>241.3</td>\n",
       "      <td>17</td>\n",
       "      <td>Mayo</td>\n",
       "      <td>209.235725</td>\n",
       "      <td>1.153245</td>\n",
       "    </tr>\n",
       "    <tr>\n",
       "      <th>17</th>\n",
       "      <td>2002-06-01</td>\n",
       "      <td>279.1</td>\n",
       "      <td>18</td>\n",
       "      <td>Junio</td>\n",
       "      <td>213.645962</td>\n",
       "      <td>1.306367</td>\n",
       "    </tr>\n",
       "    <tr>\n",
       "      <th>18</th>\n",
       "      <td>2002-07-01</td>\n",
       "      <td>292.1</td>\n",
       "      <td>19</td>\n",
       "      <td>Julio</td>\n",
       "      <td>218.056198</td>\n",
       "      <td>1.339563</td>\n",
       "    </tr>\n",
       "    <tr>\n",
       "      <th>19</th>\n",
       "      <td>2002-08-01</td>\n",
       "      <td>317.5</td>\n",
       "      <td>20</td>\n",
       "      <td>Agosto</td>\n",
       "      <td>222.466435</td>\n",
       "      <td>1.427182</td>\n",
       "    </tr>\n",
       "  </tbody>\n",
       "</table>\n",
       "</div>"
      ],
      "text/plain": [
       "        Fecha  Ventas  tiempo         mes  predicted_T        SI\n",
       "0  2001-01-01   139.7       1       Enero   138.671939  1.007414\n",
       "1  2001-02-01   114.3       2     Febrero   143.082175  0.798842\n",
       "2  2001-03-01   101.6       3       Marzo   147.492412  0.688849\n",
       "3  2001-04-01   152.4       4       Abril   151.902649  1.003274\n",
       "4  2001-05-01   215.9       5        Mayo   156.312885  1.381204\n",
       "5  2001-06-01   228.6       6       Junio   160.723122  1.422322\n",
       "6  2001-07-01   215.9       7       Julio   165.133359  1.307428\n",
       "7  2001-08-01   190.5       8      Agosto   169.543595  1.123605\n",
       "8  2001-09-01   177.8       9  Septiembre   173.953832  1.022110\n",
       "9  2001-10-01   139.7      10     Octubre   178.364069  0.783229\n",
       "10 2001-11-01   139.7      11   Noviembre   182.774305  0.764331\n",
       "11 2001-12-01   152.4      12   Diciembre   187.184542  0.814170\n",
       "12 2002-01-01   165.1      13       Enero   191.594779  0.861715\n",
       "13 2002-02-01   177.8      14     Febrero   196.005015  0.907120\n",
       "14 2002-03-01   177.8      15       Marzo   200.415252  0.887158\n",
       "15 2002-04-01   203.2      16       Abril   204.825488  0.992064\n",
       "16 2002-05-01   241.3      17        Mayo   209.235725  1.153245\n",
       "17 2002-06-01   279.1      18       Junio   213.645962  1.306367\n",
       "18 2002-07-01   292.1      19       Julio   218.056198  1.339563\n",
       "19 2002-08-01   317.5      20      Agosto   222.466435  1.427182"
      ]
     },
     "execution_count": 51,
     "metadata": {},
     "output_type": "execute_result"
    }
   ],
   "source": [
    "# Crear una columna con el valor del cálculo de las desviaciones\n",
    "df_train2['SI'] = df_train2['Ventas'] / df_train2['predicted_T']\n",
    "df_train2.head(20)"
   ]
  },
  {
   "cell_type": "markdown",
   "metadata": {
    "id": "mk72ZOxZMsiL"
   },
   "source": [
    "### Paso 4: Promediar las desviaciones de la estacionalidad"
   ]
  },
  {
   "cell_type": "code",
   "execution_count": 52,
   "metadata": {
    "ExecuteTime": {
     "end_time": "2021-09-13T19:02:39.503823Z",
     "start_time": "2021-09-13T19:02:39.468690Z"
    },
    "colab": {
     "base_uri": "https://localhost:8080/",
     "height": 439
    },
    "executionInfo": {
     "elapsed": 938,
     "status": "ok",
     "timestamp": 1608267448935,
     "user": {
      "displayName": "freeai time",
      "photoUrl": "https://lh3.googleusercontent.com/a-/AOh14GgxvlF_Oni7ZMdvrndxf2178ORhoNGeclnb7GQ6=s64",
      "userId": "11272871337215191422"
     },
     "user_tz": -330
    },
    "id": "NT8EFCn-MlRK",
    "outputId": "1883da4b-2674-4a24-b517-3c161b0d17de"
   },
   "outputs": [
    {
     "data": {
      "text/html": [
       "<div>\n",
       "<style scoped>\n",
       "    .dataframe tbody tr th:only-of-type {\n",
       "        vertical-align: middle;\n",
       "    }\n",
       "\n",
       "    .dataframe tbody tr th {\n",
       "        vertical-align: top;\n",
       "    }\n",
       "\n",
       "    .dataframe thead th {\n",
       "        text-align: right;\n",
       "    }\n",
       "</style>\n",
       "<table border=\"1\" class=\"dataframe\">\n",
       "  <thead>\n",
       "    <tr style=\"text-align: right;\">\n",
       "      <th></th>\n",
       "      <th>factor de corrección</th>\n",
       "    </tr>\n",
       "    <tr>\n",
       "      <th>mes</th>\n",
       "      <th></th>\n",
       "    </tr>\n",
       "  </thead>\n",
       "  <tbody>\n",
       "    <tr>\n",
       "      <th>Abril</th>\n",
       "      <td>1.045770</td>\n",
       "    </tr>\n",
       "    <tr>\n",
       "      <th>Agosto</th>\n",
       "      <td>1.289315</td>\n",
       "    </tr>\n",
       "    <tr>\n",
       "      <th>Diciembre</th>\n",
       "      <td>0.773112</td>\n",
       "    </tr>\n",
       "    <tr>\n",
       "      <th>Enero</th>\n",
       "      <td>0.841208</td>\n",
       "    </tr>\n",
       "    <tr>\n",
       "      <th>Febrero</th>\n",
       "      <td>0.840934</td>\n",
       "    </tr>\n",
       "    <tr>\n",
       "      <th>Julio</th>\n",
       "      <td>1.344616</td>\n",
       "    </tr>\n",
       "    <tr>\n",
       "      <th>Junio</th>\n",
       "      <td>1.309853</td>\n",
       "    </tr>\n",
       "    <tr>\n",
       "      <th>Marzo</th>\n",
       "      <td>0.804644</td>\n",
       "    </tr>\n",
       "    <tr>\n",
       "      <th>Mayo</th>\n",
       "      <td>1.218536</td>\n",
       "    </tr>\n",
       "    <tr>\n",
       "      <th>Noviembre</th>\n",
       "      <td>0.776317</td>\n",
       "    </tr>\n",
       "    <tr>\n",
       "      <th>Octubre</th>\n",
       "      <td>0.822765</td>\n",
       "    </tr>\n",
       "    <tr>\n",
       "      <th>Septiembre</th>\n",
       "      <td>0.943143</td>\n",
       "    </tr>\n",
       "  </tbody>\n",
       "</table>\n",
       "</div>"
      ],
      "text/plain": [
       "            factor de corrección\n",
       "mes                             \n",
       "Abril                   1.045770\n",
       "Agosto                  1.289315\n",
       "Diciembre               0.773112\n",
       "Enero                   0.841208\n",
       "Febrero                 0.840934\n",
       "Julio                   1.344616\n",
       "Junio                   1.309853\n",
       "Marzo                   0.804644\n",
       "Mayo                    1.218536\n",
       "Noviembre               0.776317\n",
       "Octubre                 0.822765\n",
       "Septiembre              0.943143"
      ]
     },
     "execution_count": 52,
     "metadata": {},
     "output_type": "execute_result"
    }
   ],
   "source": [
    "# Hallar el promedio por mes de los factores de corrección\n",
    "desv_est = df_train2[['mes','SI']].groupby(by='mes').mean().rename(columns={'SI':'factor de corrección'})\n",
    "desv_est"
   ]
  },
  {
   "cell_type": "markdown",
   "metadata": {
    "id": "As7LT_YwNNmE"
   },
   "source": [
    "### Paso 5: Calcular los valores ajustados en el conjunto de entrenamiento"
   ]
  },
  {
   "cell_type": "code",
   "execution_count": 53,
   "metadata": {
    "ExecuteTime": {
     "end_time": "2021-09-13T19:07:37.015893Z",
     "start_time": "2021-09-13T19:07:36.963425Z"
    },
    "id": "x-7cOsCCNDT4"
   },
   "outputs": [],
   "source": [
    "# Unir los conjuntos de datos en base al campo 'mes'\n",
    "df_train2 = df_train2.merge(desv_est, on='mes')"
   ]
  },
  {
   "cell_type": "code",
   "execution_count": 54,
   "metadata": {
    "ExecuteTime": {
     "end_time": "2021-09-13T19:07:39.655323Z",
     "start_time": "2021-09-13T19:07:39.640322Z"
    },
    "colab": {
     "base_uri": "https://localhost:8080/",
     "height": 198
    },
    "executionInfo": {
     "elapsed": 1034,
     "status": "ok",
     "timestamp": 1608267493740,
     "user": {
      "displayName": "freeai time",
      "photoUrl": "https://lh3.googleusercontent.com/a-/AOh14GgxvlF_Oni7ZMdvrndxf2178ORhoNGeclnb7GQ6=s64",
      "userId": "11272871337215191422"
     },
     "user_tz": -330
    },
    "id": "v9EtnvBDNTya",
    "outputId": "756d6ecc-8f5a-4cd0-aab8-920aa7ac60ce"
   },
   "outputs": [
    {
     "data": {
      "text/html": [
       "<div>\n",
       "<style scoped>\n",
       "    .dataframe tbody tr th:only-of-type {\n",
       "        vertical-align: middle;\n",
       "    }\n",
       "\n",
       "    .dataframe tbody tr th {\n",
       "        vertical-align: top;\n",
       "    }\n",
       "\n",
       "    .dataframe thead th {\n",
       "        text-align: right;\n",
       "    }\n",
       "</style>\n",
       "<table border=\"1\" class=\"dataframe\">\n",
       "  <thead>\n",
       "    <tr style=\"text-align: right;\">\n",
       "      <th></th>\n",
       "      <th>Fecha</th>\n",
       "      <th>Ventas</th>\n",
       "      <th>tiempo</th>\n",
       "      <th>mes</th>\n",
       "      <th>predicted_T</th>\n",
       "      <th>SI</th>\n",
       "      <th>factor de corrección</th>\n",
       "    </tr>\n",
       "  </thead>\n",
       "  <tbody>\n",
       "    <tr>\n",
       "      <th>0</th>\n",
       "      <td>2001-01-01</td>\n",
       "      <td>139.7</td>\n",
       "      <td>1</td>\n",
       "      <td>Enero</td>\n",
       "      <td>138.671939</td>\n",
       "      <td>1.007414</td>\n",
       "      <td>0.841208</td>\n",
       "    </tr>\n",
       "    <tr>\n",
       "      <th>1</th>\n",
       "      <td>2002-01-01</td>\n",
       "      <td>165.1</td>\n",
       "      <td>13</td>\n",
       "      <td>Enero</td>\n",
       "      <td>191.594779</td>\n",
       "      <td>0.861715</td>\n",
       "      <td>0.841208</td>\n",
       "    </tr>\n",
       "    <tr>\n",
       "      <th>2</th>\n",
       "      <td>2003-01-01</td>\n",
       "      <td>177.8</td>\n",
       "      <td>25</td>\n",
       "      <td>Enero</td>\n",
       "      <td>244.517618</td>\n",
       "      <td>0.727146</td>\n",
       "      <td>0.841208</td>\n",
       "    </tr>\n",
       "    <tr>\n",
       "      <th>3</th>\n",
       "      <td>2004-01-01</td>\n",
       "      <td>228.6</td>\n",
       "      <td>37</td>\n",
       "      <td>Enero</td>\n",
       "      <td>297.440458</td>\n",
       "      <td>0.768557</td>\n",
       "      <td>0.841208</td>\n",
       "    </tr>\n",
       "    <tr>\n",
       "      <th>4</th>\n",
       "      <td>2001-02-01</td>\n",
       "      <td>114.3</td>\n",
       "      <td>2</td>\n",
       "      <td>Febrero</td>\n",
       "      <td>143.082175</td>\n",
       "      <td>0.798842</td>\n",
       "      <td>0.840934</td>\n",
       "    </tr>\n",
       "  </tbody>\n",
       "</table>\n",
       "</div>"
      ],
      "text/plain": [
       "       Fecha  Ventas  tiempo      mes  predicted_T        SI  \\\n",
       "0 2001-01-01   139.7       1    Enero   138.671939  1.007414   \n",
       "1 2002-01-01   165.1      13    Enero   191.594779  0.861715   \n",
       "2 2003-01-01   177.8      25    Enero   244.517618  0.727146   \n",
       "3 2004-01-01   228.6      37    Enero   297.440458  0.768557   \n",
       "4 2001-02-01   114.3       2  Febrero   143.082175  0.798842   \n",
       "\n",
       "   factor de corrección  \n",
       "0              0.841208  \n",
       "1              0.841208  \n",
       "2              0.841208  \n",
       "3              0.841208  \n",
       "4              0.840934  "
      ]
     },
     "execution_count": 54,
     "metadata": {},
     "output_type": "execute_result"
    }
   ],
   "source": [
    "df_train2.head()"
   ]
  },
  {
   "cell_type": "code",
   "execution_count": 55,
   "metadata": {
    "ExecuteTime": {
     "end_time": "2021-09-13T19:09:24.846341Z",
     "start_time": "2021-09-13T19:09:24.837341Z"
    },
    "id": "Adj781whNmlq"
   },
   "outputs": [],
   "source": [
    "# Crear una columna con los valores ajustados\n",
    "df_train2['Val_ajustados'] = df_train2['predicted_T'] * df_train2['factor de corrección']"
   ]
  },
  {
   "cell_type": "code",
   "execution_count": 56,
   "metadata": {
    "ExecuteTime": {
     "end_time": "2021-09-13T19:09:28.901358Z",
     "start_time": "2021-09-13T19:09:28.883355Z"
    },
    "colab": {
     "base_uri": "https://localhost:8080/",
     "height": 198
    },
    "executionInfo": {
     "elapsed": 1016,
     "status": "ok",
     "timestamp": 1608267554273,
     "user": {
      "displayName": "freeai time",
      "photoUrl": "https://lh3.googleusercontent.com/a-/AOh14GgxvlF_Oni7ZMdvrndxf2178ORhoNGeclnb7GQ6=s64",
      "userId": "11272871337215191422"
     },
     "user_tz": -330
    },
    "id": "dEKIkkejN0NJ",
    "outputId": "c98b0505-e75f-4868-9a25-4b1e9e904a20"
   },
   "outputs": [
    {
     "data": {
      "text/html": [
       "<div>\n",
       "<style scoped>\n",
       "    .dataframe tbody tr th:only-of-type {\n",
       "        vertical-align: middle;\n",
       "    }\n",
       "\n",
       "    .dataframe tbody tr th {\n",
       "        vertical-align: top;\n",
       "    }\n",
       "\n",
       "    .dataframe thead th {\n",
       "        text-align: right;\n",
       "    }\n",
       "</style>\n",
       "<table border=\"1\" class=\"dataframe\">\n",
       "  <thead>\n",
       "    <tr style=\"text-align: right;\">\n",
       "      <th></th>\n",
       "      <th>Fecha</th>\n",
       "      <th>Ventas</th>\n",
       "      <th>tiempo</th>\n",
       "      <th>mes</th>\n",
       "      <th>predicted_T</th>\n",
       "      <th>SI</th>\n",
       "      <th>factor de corrección</th>\n",
       "      <th>Val_ajustados</th>\n",
       "    </tr>\n",
       "  </thead>\n",
       "  <tbody>\n",
       "    <tr>\n",
       "      <th>0</th>\n",
       "      <td>2001-01-01</td>\n",
       "      <td>139.7</td>\n",
       "      <td>1</td>\n",
       "      <td>Enero</td>\n",
       "      <td>138.671939</td>\n",
       "      <td>1.007414</td>\n",
       "      <td>0.841208</td>\n",
       "      <td>116.651919</td>\n",
       "    </tr>\n",
       "    <tr>\n",
       "      <th>1</th>\n",
       "      <td>2002-01-01</td>\n",
       "      <td>165.1</td>\n",
       "      <td>13</td>\n",
       "      <td>Enero</td>\n",
       "      <td>191.594779</td>\n",
       "      <td>0.861715</td>\n",
       "      <td>0.841208</td>\n",
       "      <td>161.171026</td>\n",
       "    </tr>\n",
       "    <tr>\n",
       "      <th>2</th>\n",
       "      <td>2003-01-01</td>\n",
       "      <td>177.8</td>\n",
       "      <td>25</td>\n",
       "      <td>Enero</td>\n",
       "      <td>244.517618</td>\n",
       "      <td>0.727146</td>\n",
       "      <td>0.841208</td>\n",
       "      <td>205.690132</td>\n",
       "    </tr>\n",
       "    <tr>\n",
       "      <th>3</th>\n",
       "      <td>2004-01-01</td>\n",
       "      <td>228.6</td>\n",
       "      <td>37</td>\n",
       "      <td>Enero</td>\n",
       "      <td>297.440458</td>\n",
       "      <td>0.768557</td>\n",
       "      <td>0.841208</td>\n",
       "      <td>250.209239</td>\n",
       "    </tr>\n",
       "    <tr>\n",
       "      <th>4</th>\n",
       "      <td>2001-02-01</td>\n",
       "      <td>114.3</td>\n",
       "      <td>2</td>\n",
       "      <td>Febrero</td>\n",
       "      <td>143.082175</td>\n",
       "      <td>0.798842</td>\n",
       "      <td>0.840934</td>\n",
       "      <td>120.322726</td>\n",
       "    </tr>\n",
       "  </tbody>\n",
       "</table>\n",
       "</div>"
      ],
      "text/plain": [
       "       Fecha  Ventas  tiempo      mes  predicted_T        SI  \\\n",
       "0 2001-01-01   139.7       1    Enero   138.671939  1.007414   \n",
       "1 2002-01-01   165.1      13    Enero   191.594779  0.861715   \n",
       "2 2003-01-01   177.8      25    Enero   244.517618  0.727146   \n",
       "3 2004-01-01   228.6      37    Enero   297.440458  0.768557   \n",
       "4 2001-02-01   114.3       2  Febrero   143.082175  0.798842   \n",
       "\n",
       "   factor de corrección  Val_ajustados  \n",
       "0              0.841208     116.651919  \n",
       "1              0.841208     161.171026  \n",
       "2              0.841208     205.690132  \n",
       "3              0.841208     250.209239  \n",
       "4              0.840934     120.322726  "
      ]
     },
     "execution_count": 56,
     "metadata": {},
     "output_type": "execute_result"
    }
   ],
   "source": [
    "df_train2.head()"
   ]
  },
  {
   "cell_type": "markdown",
   "metadata": {
    "id": "L24Br5OJODFp"
   },
   "source": [
    "**Predicciones (Forecasting)**"
   ]
  },
  {
   "cell_type": "code",
   "execution_count": 58,
   "metadata": {
    "ExecuteTime": {
     "end_time": "2021-09-13T19:16:40.688826Z",
     "start_time": "2021-09-13T19:16:40.675823Z"
    },
    "colab": {
     "base_uri": "https://localhost:8080/",
     "height": 198
    },
    "executionInfo": {
     "elapsed": 1461,
     "status": "ok",
     "timestamp": 1608267714464,
     "user": {
      "displayName": "freeai time",
      "photoUrl": "https://lh3.googleusercontent.com/a-/AOh14GgxvlF_Oni7ZMdvrndxf2178ORhoNGeclnb7GQ6=s64",
      "userId": "11272871337215191422"
     },
     "user_tz": -330
    },
    "id": "C5vNRZBGN1bD",
    "outputId": "ead3dc4c-4dc2-4f4d-ff37-a2537d4f2e45"
   },
   "outputs": [
    {
     "data": {
      "text/html": [
       "<div>\n",
       "<style scoped>\n",
       "    .dataframe tbody tr th:only-of-type {\n",
       "        vertical-align: middle;\n",
       "    }\n",
       "\n",
       "    .dataframe tbody tr th {\n",
       "        vertical-align: top;\n",
       "    }\n",
       "\n",
       "    .dataframe thead th {\n",
       "        text-align: right;\n",
       "    }\n",
       "</style>\n",
       "<table border=\"1\" class=\"dataframe\">\n",
       "  <thead>\n",
       "    <tr style=\"text-align: right;\">\n",
       "      <th></th>\n",
       "      <th>Fecha</th>\n",
       "      <th>Ventas</th>\n",
       "      <th>tiempo</th>\n",
       "      <th>mes</th>\n",
       "      <th>Tendencia datos test</th>\n",
       "    </tr>\n",
       "  </thead>\n",
       "  <tbody>\n",
       "    <tr>\n",
       "      <th>48</th>\n",
       "      <td>2005-01-01</td>\n",
       "      <td>266.7</td>\n",
       "      <td>49</td>\n",
       "      <td>Enero</td>\n",
       "      <td>350.363298</td>\n",
       "    </tr>\n",
       "    <tr>\n",
       "      <th>49</th>\n",
       "      <td>2005-02-01</td>\n",
       "      <td>317.5</td>\n",
       "      <td>50</td>\n",
       "      <td>Febrero</td>\n",
       "      <td>354.773535</td>\n",
       "    </tr>\n",
       "    <tr>\n",
       "      <th>50</th>\n",
       "      <td>2005-03-01</td>\n",
       "      <td>368.3</td>\n",
       "      <td>51</td>\n",
       "      <td>Marzo</td>\n",
       "      <td>359.183771</td>\n",
       "    </tr>\n",
       "    <tr>\n",
       "      <th>51</th>\n",
       "      <td>2005-04-01</td>\n",
       "      <td>431.8</td>\n",
       "      <td>52</td>\n",
       "      <td>Abril</td>\n",
       "      <td>363.594008</td>\n",
       "    </tr>\n",
       "    <tr>\n",
       "      <th>52</th>\n",
       "      <td>2005-05-01</td>\n",
       "      <td>457.2</td>\n",
       "      <td>53</td>\n",
       "      <td>Mayo</td>\n",
       "      <td>368.004244</td>\n",
       "    </tr>\n",
       "  </tbody>\n",
       "</table>\n",
       "</div>"
      ],
      "text/plain": [
       "        Fecha  Ventas  tiempo      mes  Tendencia datos test\n",
       "48 2005-01-01   266.7      49    Enero            350.363298\n",
       "49 2005-02-01   317.5      50  Febrero            354.773535\n",
       "50 2005-03-01   368.3      51    Marzo            359.183771\n",
       "51 2005-04-01   431.8      52    Abril            363.594008\n",
       "52 2005-05-01   457.2      53     Mayo            368.004244"
      ]
     },
     "execution_count": 58,
     "metadata": {},
     "output_type": "execute_result"
    }
   ],
   "source": [
    "# Realizar las predicciones en el conjunto de validación y crear una columna nueva\n",
    "pred_test = model_tend_m.predict(X_test_m)\n",
    "df_test2['Tendencia datos test']= pred_test \n",
    "df_test2.head()"
   ]
  },
  {
   "cell_type": "code",
   "execution_count": 59,
   "metadata": {
    "ExecuteTime": {
     "end_time": "2021-09-13T19:18:56.670656Z",
     "start_time": "2021-09-13T19:18:56.657655Z"
    },
    "colab": {
     "base_uri": "https://localhost:8080/",
     "height": 198
    },
    "executionInfo": {
     "elapsed": 1112,
     "status": "ok",
     "timestamp": 1608267773494,
     "user": {
      "displayName": "freeai time",
      "photoUrl": "https://lh3.googleusercontent.com/a-/AOh14GgxvlF_Oni7ZMdvrndxf2178ORhoNGeclnb7GQ6=s64",
      "userId": "11272871337215191422"
     },
     "user_tz": -330
    },
    "id": "G-Rr1OFnOaQC",
    "outputId": "6ad89ecf-dafa-4b60-ae69-a4e8ee33f316",
    "scrolled": true
   },
   "outputs": [
    {
     "data": {
      "text/html": [
       "<div>\n",
       "<style scoped>\n",
       "    .dataframe tbody tr th:only-of-type {\n",
       "        vertical-align: middle;\n",
       "    }\n",
       "\n",
       "    .dataframe tbody tr th {\n",
       "        vertical-align: top;\n",
       "    }\n",
       "\n",
       "    .dataframe thead th {\n",
       "        text-align: right;\n",
       "    }\n",
       "</style>\n",
       "<table border=\"1\" class=\"dataframe\">\n",
       "  <thead>\n",
       "    <tr style=\"text-align: right;\">\n",
       "      <th></th>\n",
       "      <th>Fecha</th>\n",
       "      <th>Ventas</th>\n",
       "      <th>tiempo</th>\n",
       "      <th>mes</th>\n",
       "      <th>Tendencia datos test</th>\n",
       "      <th>factor de corrección</th>\n",
       "    </tr>\n",
       "  </thead>\n",
       "  <tbody>\n",
       "    <tr>\n",
       "      <th>0</th>\n",
       "      <td>2005-01-01</td>\n",
       "      <td>266.7</td>\n",
       "      <td>49</td>\n",
       "      <td>Enero</td>\n",
       "      <td>350.363298</td>\n",
       "      <td>0.841208</td>\n",
       "    </tr>\n",
       "    <tr>\n",
       "      <th>1</th>\n",
       "      <td>2006-01-01</td>\n",
       "      <td>431.8</td>\n",
       "      <td>61</td>\n",
       "      <td>Enero</td>\n",
       "      <td>403.286138</td>\n",
       "      <td>0.841208</td>\n",
       "    </tr>\n",
       "    <tr>\n",
       "      <th>2</th>\n",
       "      <td>2005-02-01</td>\n",
       "      <td>317.5</td>\n",
       "      <td>50</td>\n",
       "      <td>Febrero</td>\n",
       "      <td>354.773535</td>\n",
       "      <td>0.840934</td>\n",
       "    </tr>\n",
       "    <tr>\n",
       "      <th>3</th>\n",
       "      <td>2006-02-01</td>\n",
       "      <td>457.2</td>\n",
       "      <td>62</td>\n",
       "      <td>Febrero</td>\n",
       "      <td>407.696374</td>\n",
       "      <td>0.840934</td>\n",
       "    </tr>\n",
       "    <tr>\n",
       "      <th>4</th>\n",
       "      <td>2005-03-01</td>\n",
       "      <td>368.3</td>\n",
       "      <td>51</td>\n",
       "      <td>Marzo</td>\n",
       "      <td>359.183771</td>\n",
       "      <td>0.804644</td>\n",
       "    </tr>\n",
       "  </tbody>\n",
       "</table>\n",
       "</div>"
      ],
      "text/plain": [
       "       Fecha  Ventas  tiempo      mes  Tendencia datos test  \\\n",
       "0 2005-01-01   266.7      49    Enero            350.363298   \n",
       "1 2006-01-01   431.8      61    Enero            403.286138   \n",
       "2 2005-02-01   317.5      50  Febrero            354.773535   \n",
       "3 2006-02-01   457.2      62  Febrero            407.696374   \n",
       "4 2005-03-01   368.3      51    Marzo            359.183771   \n",
       "\n",
       "   factor de corrección  \n",
       "0              0.841208  \n",
       "1              0.841208  \n",
       "2              0.840934  \n",
       "3              0.840934  \n",
       "4              0.804644  "
      ]
     },
     "execution_count": 59,
     "metadata": {},
     "output_type": "execute_result"
    }
   ],
   "source": [
    "# Combinar con el dataframes en base al campo 'mes'\n",
    "df_test2 = pd.merge(df_test2,desv_est,on='mes')\n",
    "df_test2.head()"
   ]
  },
  {
   "cell_type": "code",
   "execution_count": 60,
   "metadata": {
    "ExecuteTime": {
     "end_time": "2021-09-13T19:20:01.169716Z",
     "start_time": "2021-09-13T19:20:01.153714Z"
    },
    "colab": {
     "base_uri": "https://localhost:8080/",
     "height": 198
    },
    "executionInfo": {
     "elapsed": 1014,
     "status": "ok",
     "timestamp": 1608267809525,
     "user": {
      "displayName": "freeai time",
      "photoUrl": "https://lh3.googleusercontent.com/a-/AOh14GgxvlF_Oni7ZMdvrndxf2178ORhoNGeclnb7GQ6=s64",
      "userId": "11272871337215191422"
     },
     "user_tz": -330
    },
    "id": "NdpTAHnxOq-N",
    "outputId": "484447a1-c844-48bc-8d4d-ab0aeba72250"
   },
   "outputs": [
    {
     "data": {
      "text/html": [
       "<div>\n",
       "<style scoped>\n",
       "    .dataframe tbody tr th:only-of-type {\n",
       "        vertical-align: middle;\n",
       "    }\n",
       "\n",
       "    .dataframe tbody tr th {\n",
       "        vertical-align: top;\n",
       "    }\n",
       "\n",
       "    .dataframe thead th {\n",
       "        text-align: right;\n",
       "    }\n",
       "</style>\n",
       "<table border=\"1\" class=\"dataframe\">\n",
       "  <thead>\n",
       "    <tr style=\"text-align: right;\">\n",
       "      <th></th>\n",
       "      <th>Fecha</th>\n",
       "      <th>Ventas</th>\n",
       "      <th>tiempo</th>\n",
       "      <th>mes</th>\n",
       "      <th>Tendencia datos test</th>\n",
       "      <th>factor de corrección</th>\n",
       "      <th>Pred mult</th>\n",
       "    </tr>\n",
       "  </thead>\n",
       "  <tbody>\n",
       "    <tr>\n",
       "      <th>0</th>\n",
       "      <td>2005-01-01</td>\n",
       "      <td>266.7</td>\n",
       "      <td>49</td>\n",
       "      <td>Enero</td>\n",
       "      <td>350.363298</td>\n",
       "      <td>0.841208</td>\n",
       "      <td>294.728346</td>\n",
       "    </tr>\n",
       "    <tr>\n",
       "      <th>1</th>\n",
       "      <td>2006-01-01</td>\n",
       "      <td>431.8</td>\n",
       "      <td>61</td>\n",
       "      <td>Enero</td>\n",
       "      <td>403.286138</td>\n",
       "      <td>0.841208</td>\n",
       "      <td>339.247452</td>\n",
       "    </tr>\n",
       "    <tr>\n",
       "      <th>2</th>\n",
       "      <td>2005-02-01</td>\n",
       "      <td>317.5</td>\n",
       "      <td>50</td>\n",
       "      <td>Febrero</td>\n",
       "      <td>354.773535</td>\n",
       "      <td>0.840934</td>\n",
       "      <td>298.341276</td>\n",
       "    </tr>\n",
       "    <tr>\n",
       "      <th>3</th>\n",
       "      <td>2006-02-01</td>\n",
       "      <td>457.2</td>\n",
       "      <td>62</td>\n",
       "      <td>Febrero</td>\n",
       "      <td>407.696374</td>\n",
       "      <td>0.840934</td>\n",
       "      <td>342.845914</td>\n",
       "    </tr>\n",
       "    <tr>\n",
       "      <th>4</th>\n",
       "      <td>2005-03-01</td>\n",
       "      <td>368.3</td>\n",
       "      <td>51</td>\n",
       "      <td>Marzo</td>\n",
       "      <td>359.183771</td>\n",
       "      <td>0.804644</td>\n",
       "      <td>289.015154</td>\n",
       "    </tr>\n",
       "  </tbody>\n",
       "</table>\n",
       "</div>"
      ],
      "text/plain": [
       "       Fecha  Ventas  tiempo      mes  Tendencia datos test  \\\n",
       "0 2005-01-01   266.7      49    Enero            350.363298   \n",
       "1 2006-01-01   431.8      61    Enero            403.286138   \n",
       "2 2005-02-01   317.5      50  Febrero            354.773535   \n",
       "3 2006-02-01   457.2      62  Febrero            407.696374   \n",
       "4 2005-03-01   368.3      51    Marzo            359.183771   \n",
       "\n",
       "   factor de corrección   Pred mult  \n",
       "0              0.841208  294.728346  \n",
       "1              0.841208  339.247452  \n",
       "2              0.840934  298.341276  \n",
       "3              0.840934  342.845914  \n",
       "4              0.804644  289.015154  "
      ]
     },
     "execution_count": 60,
     "metadata": {},
     "output_type": "execute_result"
    }
   ],
   "source": [
    "# Crear una nueva columna con la multiplicación de los campos de tendencia y factor de corrección\n",
    "df_test2['Pred mult'] = df_test2['Tendencia datos test'] * df_test2['factor de corrección']\n",
    "df_test2.head()"
   ]
  },
  {
   "cell_type": "code",
   "execution_count": 71,
   "metadata": {
    "ExecuteTime": {
     "end_time": "2021-09-13T20:01:49.200201Z",
     "start_time": "2021-09-13T20:01:49.186213Z"
    },
    "colab": {
     "base_uri": "https://localhost:8080/"
    },
    "executionInfo": {
     "elapsed": 1635,
     "status": "ok",
     "timestamp": 1608267923408,
     "user": {
      "displayName": "freeai time",
      "photoUrl": "https://lh3.googleusercontent.com/a-/AOh14GgxvlF_Oni7ZMdvrndxf2178ORhoNGeclnb7GQ6=s64",
      "userId": "11272871337215191422"
     },
     "user_tz": -330
    },
    "id": "p1Svsr4YOz3B",
    "outputId": "ee5ea282-e038-4819-ce7f-50e68a51a15b"
   },
   "outputs": [
    {
     "name": "stdout",
     "output_type": "stream",
     "text": [
      "36.42544715050407\n"
     ]
    }
   ],
   "source": [
    "# Calcular el margen de error para usarlo en la gráfica\n",
    "error = df_train2['Ventas'] - df_train2['Val_ajustados']\n",
    "SE = error.std()\n",
    "ME = 1.96*SE\n",
    "print(ME)"
   ]
  },
  {
   "cell_type": "code",
   "execution_count": 72,
   "metadata": {
    "ExecuteTime": {
     "end_time": "2021-09-13T20:01:50.695251Z",
     "start_time": "2021-09-13T20:01:50.680248Z"
    },
    "id": "P8LefLnMP_Fb"
   },
   "outputs": [],
   "source": [
    "# Ordenar por fecha los datos de entrenamiento y validación\n",
    "df_train2.sort_values(by='Fecha',inplace=True)\n",
    "df_test2.sort_values(by='Fecha',inplace=True)"
   ]
  },
  {
   "cell_type": "code",
   "execution_count": 73,
   "metadata": {
    "ExecuteTime": {
     "end_time": "2021-09-13T20:01:52.201076Z",
     "start_time": "2021-09-13T20:01:52.023037Z"
    },
    "colab": {
     "base_uri": "https://localhost:8080/",
     "height": 483
    },
    "executionInfo": {
     "elapsed": 1301,
     "status": "ok",
     "timestamp": 1608268205409,
     "user": {
      "displayName": "freeai time",
      "photoUrl": "https://lh3.googleusercontent.com/a-/AOh14GgxvlF_Oni7ZMdvrndxf2178ORhoNGeclnb7GQ6=s64",
      "userId": "11272871337215191422"
     },
     "user_tz": -330
    },
    "id": "N7WYzHhoO8t5",
    "outputId": "8141944d-a533-43bd-e47f-35e03e905ee2"
   },
   "outputs": [
    {
     "data": {
      "image/png": "[encoded data removed]",
      "text/plain": [
       "<Figure size 1080x576 with 1 Axes>"
      ]
     },
     "metadata": {
      "needs_background": "light"
     },
     "output_type": "display_data"
    }
   ],
   "source": [
    "# Visualizar los datos\n",
    "plt.figure(figsize=(15, 8))\n",
    "\n",
    "# Serie de tiempo datos de entrenamiento\n",
    "plt.plot(df_train2['Fecha'], df_train2['Ventas'], 'go:')\n",
    "\n",
    "# Predicción datos de entrenamiento\n",
    "plt.plot(df_train2['Fecha'], df_train2['Val_ajustados'], 'g')\n",
    "\n",
    "# Serie de tiempo datos de validación\n",
    "plt.plot(df_test2['Fecha'], df_test2['Ventas'], 'o:', color='red')\n",
    "\n",
    "# Predicción datos de validación\n",
    "plt.plot(df_test2['Fecha'], df_test2['Pred mult'], 'b', color='red')\n",
    "\n",
    "# 95% Intervalo de confianza\n",
    "superio = df_test2['Pred mult'] + ME\n",
    "inferior = df_test2['Pred mult'] - ME\n",
    "plt.fill_between(df_test1['Fecha'],(superior),(inferior),alpha=0.3,color='black')\n",
    "\n",
    "plt.legend([\n",
    "    'Serie de tiempo datos de entrenamiento',\n",
    "    'Predicción datos de entrenamiento', 'Serie de tiempo datos de validación',\n",
    "    'Predicción datos de validación', '95% Intervalo de confianza'\n",
    "])\n",
    "plt.show()\n"
   ]
  },
  {
   "cell_type": "markdown",
   "metadata": {},
   "source": [
    "magnitud del patron estacional, aumental al aumentar los valores de los datos, entocnes el mejor seria el multiplicativo.\n",
    "\n",
    "aditivo, cuando no hay esa dependencia."
   ]
  },
  {
   "cell_type": "markdown",
   "metadata": {
    "id": "Lfgl1Z8jP4vE"
   },
   "source": [
    "## ¿Qué modelo elegir?\n",
    "Elija el modelo multiplicativo cuando la magnitud del patrón estacional en los datos depende de la magnitud de los datos. En otras palabras, la magnitud del patrón estacional aumenta a medida que los valores de los datos se incrementan y disminuye a medida que los valores de los datos decrecen.\n",
    "\n",
    "Elija el modelo aditivo cuando la magnitud del patrón estacional en los datos no dependa de la magnitud de los datos. En otras palabras, la magnitud del patrón de estación no cambia cuando la serie sube o baja.\n",
    "\n",
    "Si el patrón de los datos no es muy obvio y usted tiene dificultad para elegir entre los procedimientos aditivo y multiplicativo, pruebe y elija el que ofrezca las mediciones de exactitud más pequeñas."
   ]
  }
 ],
 "metadata": {
  "colab": {
   "authorship_tag": "ABX9TyPO3xpdY2Lmu7qp1qDhP9LF",
   "name": "Regression with Time.ipynb",
   "provenance": []
  },
  "kernelspec": {
   "display_name": "Python 3",
   "language": "python",
   "name": "python3"
  },
  "language_info": {
   "codemirror_mode": {
    "name": "ipython",
    "version": 3
   },
   "file_extension": ".py",
   "mimetype": "text/x-python",
   "name": "python",
   "nbconvert_exporter": "python",
   "pygments_lexer": "ipython3",
   "version": "3.9.5"
  },
  "nbTranslate": {
   "displayLangs": [
    "*"
   ],
   "hotkey": "alt-t",
   "langInMainMenu": true,
   "sourceLang": "en",
   "targetLang": "fr",
   "useGoogleTranslate": true
  },
  "toc": {
   "base_numbering": 1,
   "nav_menu": {},
   "number_sections": true,
   "sideBar": true,
   "skip_h1_title": false,
   "title_cell": "Table of Contents",
   "title_sidebar": "Contents",
   "toc_cell": false,
   "toc_position": {
    "height": "calc(100% - 180px)",
    "left": "10px",
    "top": "150px",
    "width": "253.725px"
   },
   "toc_section_display": true,
   "toc_window_display": true
  },
  "varInspector": {
   "cols": {
    "lenName": 16,
    "lenType": 16,
    "lenVar": 40
   },
   "kernels_config": {
    "python": {
     "delete_cmd_postfix": "",
     "delete_cmd_prefix": "del ",
     "library": "var_list.py",
     "varRefreshCmd": "print(var_dic_list())"
    },
    "r": {
     "delete_cmd_postfix": ") ",
     "delete_cmd_prefix": "rm(",
     "library": "var_list.r",
     "varRefreshCmd": "cat(var_dic_list()) "
    }
   },
   "types_to_exclude": [
    "module",
    "function",
    "builtin_function_or_method",
    "instance",
    "_Feature"
   ],
   "window_display": false
  }
 },
 "nbformat": 4,
 "nbformat_minor": 1
}
