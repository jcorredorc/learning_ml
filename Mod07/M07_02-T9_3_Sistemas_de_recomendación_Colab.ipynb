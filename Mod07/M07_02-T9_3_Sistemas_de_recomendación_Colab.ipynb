{
  "nbformat": 4,
  "nbformat_minor": 0,
  "metadata": {
    "kernelspec": {
      "display_name": "Python 3",
      "language": "python",
      "name": "python3"
    },
    "language_info": {
      "codemirror_mode": {
        "name": "ipython",
        "version": 3
      },
      "file_extension": ".py",
      "mimetype": "text/x-python",
      "name": "python",
      "nbconvert_exporter": "python",
      "pygments_lexer": "ipython3",
      "version": "3.8.5"
    },
    "colab": {
      "name": "T9 - 3 - Sistemas de recomendación-Colab.ipynb",
      "provenance": []
    }
  },
  "cells": [
    {
      "cell_type": "markdown",
      "metadata": {
        "id": "7X58QnLR0Kxy"
      },
      "source": [
        "<a href=\"https://colab.research.google.com/github/joanby/python-ml-course/blob/master/notebooks/T9%20-%203%20-%20Sistemas%20de%20recomendación-Colab.ipynb\" target=\"_parent\"><img src=\"https://colab.research.google.com/assets/colab-badge.svg\" alt=\"Open In Colab\"/></a>"
      ]
    },
    {
      "cell_type": "markdown",
      "metadata": {
        "id": "m2MXe-NK0Kx7"
      },
      "source": [
        "# Clonamos el repositorio para obtener los dataSet"
      ]
    },
    {
      "cell_type": "code",
      "metadata": {
        "colab": {
          "base_uri": "https://localhost:8080/"
        },
        "id": "mSSJX6tF0Kx9",
        "outputId": "f358c066-628e-4de9-d9f5-6ab7829bec97"
      },
      "source": [
        "!git clone https://github.com/joanby/python-ml-course.git"
      ],
      "execution_count": null,
      "outputs": [
        {
          "output_type": "stream",
          "name": "stdout",
          "text": [
            "fatal: destination path 'python-ml-course' already exists and is not an empty directory.\n"
          ]
        }
      ]
    },
    {
      "cell_type": "markdown",
      "metadata": {
        "id": "5rWHsA6D0Kx_"
      },
      "source": [
        "# Damos acceso a nuestro Drive"
      ]
    },
    {
      "cell_type": "code",
      "metadata": {
        "colab": {
          "base_uri": "https://localhost:8080/"
        },
        "id": "1Sbj_j2L0KyA",
        "outputId": "f2bc9437-bb14-4ffd-969f-494fd83e7876"
      },
      "source": [
        "from google.colab import drive\n",
        "drive.mount('/content/drive')\n",
        "# Test it\n",
        "!ls '/content/drive/My Drive' "
      ],
      "execution_count": 1,
      "outputs": [
        {
          "output_type": "stream",
          "name": "stdout",
          "text": [
            "Mounted at /content/drive\n",
            " 20160616_SIOS_V1601_R1\n",
            "'2. Pandas'\n",
            "'4. AWS'\n",
            "'7_Chapter_AuthorTrabajoDS4A Corregido.docx'\n",
            " abril\n",
            "'Actacomite opcionde grado 23-07-2021.docx.pdf'\n",
            "'AFILIACIÓN COLPENSIONES.pdf'\n",
            "'ALGORITMOS UTB'\n",
            "'ARCHIVOS DESORDENADOS EN DRIVE'\n",
            "'Asus backup'\n",
            "'Captura de pantalla 2021-05-11 a la(s) 5.50.31 p. m..png'\n",
            "'CD - Web Scraping'\n",
            " Clases\n",
            " Classroom\n",
            " CMRC\n",
            "'Colab Notebooks'\n",
            "'Copia de FORMATO SIRIUS.xlsx'\n",
            "'Copia de Hotel Bahía Sardina San Andres Isla.gmap'\n",
            "'COPIA DE MATERNIDAD'\n",
            "'CORTE 1'\n",
            "'CURSO MERN'\n",
            "'CV Eugenia'\n",
            " DatosOrigen\n",
            " DeepData\n",
            " defensanacional\n",
            " Diplomado\n",
            "'diplomado ML'\n",
            "'docs descargados mydrive'\n",
            "'Documentos por Organizar'\n",
            " DS4A\n",
            " Enero\n",
            " ESVIDA\n",
            "'EUGENIA TRABAJO'\n",
            " febrero\n",
            "'Formato experiencia ingeniero datos 26-5-21.xlsx'\n",
            " FOTOS\n",
            " fundamentos\n",
            " HOARARIO.xlsx\n",
            "'IMAGENES CELULAR'\n",
            "'Informe de investigaciones'\n",
            "'Ingeniería Eugenia'\n",
            " INSTALADORES\n",
            "'inteligencia artificial'\n",
            " INVESTIGACIONES\n",
            "'JOYERÍA ONLINE.gform'\n",
            " Julio-Agosto\n",
            " junio\n",
            "'LISTA OFICIAL DE INSTRUCTORES MACHINE LEARNING COHORTE 1.xlsx'\n",
            " MAESTRIA\n",
            " marzo\n",
            " mayo\n",
            " MERN\n",
            "'Muestra de pacientes 2015-2016'\n",
            " Notebooks\n",
            "'Parcial de algoritmos Primer corte.gform'\n",
            "'Parcial de algoritmos Primer corte (Responses).gsheet'\n",
            " personal\n",
            "'Personal 2021'\n",
            "'Plantilla de Datos.xlsx'\n",
            "'Proyecto convocatoria 841'\n",
            "'PROYECTO DELFIN-UNISINU'\n",
            "'Quiz lógica y algoritmos.gform'\n",
            "'Quiz lógica y algoritmos (Responses) (1).gsheet'\n",
            "'Quiz lógica y algoritmos (Responses).gsheet'\n",
            " ratings.csv\n",
            "'REGISTRO DE INFORMACIÓN DOCENTE.xlsx'\n",
            "'Renta 2020 Eugenia Arrieta.pdf'\n",
            " Repos.csv\n",
            "'R-FAC-031 INFORME DE GESTIÓN DOCENTE  EUGENIA ARRIETA.xlsx'\n",
            " SIMULACIÓN\n",
            " SYSNET\n",
            "'Taller Ingeniería'\n",
            "'Team25 - DS4A'\n",
            "'Team25 - DS4A (1)'\n",
            "'travel-p-a ABR0182 (1).pdf'\n",
            "'T-Shirt Sign Up.gform'\n",
            "'Universidad del Sinú 2021'\n",
            " UsersGH.csv\n",
            " Utb\n"
          ]
        }
      ]
    },
    {
      "cell_type": "code",
      "metadata": {
        "id": "G7NbsesC0KyB"
      },
      "source": [
        "from google.colab import files # Para manejar los archivos y, por ejemplo, exportar a su navegador\n",
        "import glob # Para manejar los archivos y, por ejemplo, exportar a su navegador\n",
        "from google.colab import drive # Montar tu Google drive"
      ],
      "execution_count": null,
      "outputs": []
    },
    {
      "cell_type": "markdown",
      "metadata": {
        "id": "cfJN_MGK0KyD"
      },
      "source": [
        "# Sistemas de recomendación\n",
        "### Carga de datos de Movie Lens"
      ]
    },
    {
      "cell_type": "code",
      "metadata": {
        "id": "12MuunEP0KyE"
      },
      "source": [
        "import pandas as pd"
      ],
      "execution_count": 2,
      "outputs": []
    },
    {
      "cell_type": "code",
      "metadata": {
        "id": "gKLdIwpr0KyF",
        "colab": {
          "base_uri": "https://localhost:8080/",
          "height": 370
        },
        "outputId": "a88d435c-db68-46ee-da60-282e42fa0b5a"
      },
      "source": [
        "df = pd.read_csv(\"/content/python-ml-course/datasets/ml-100k/u.data.csv\", sep=\"\\t\", header=None)"
      ],
      "execution_count": 3,
      "outputs": [
        {
          "output_type": "error",
          "ename": "FileNotFoundError",
          "evalue": "ignored",
          "traceback": [
            "\u001b[0;31m---------------------------------------------------------------------------\u001b[0m",
            "\u001b[0;31mFileNotFoundError\u001b[0m                         Traceback (most recent call last)",
            "\u001b[0;32m<ipython-input-3-1efaf9433b81>\u001b[0m in \u001b[0;36m<module>\u001b[0;34m()\u001b[0m\n\u001b[0;32m----> 1\u001b[0;31m \u001b[0mdf\u001b[0m \u001b[0;34m=\u001b[0m \u001b[0mpd\u001b[0m\u001b[0;34m.\u001b[0m\u001b[0mread_csv\u001b[0m\u001b[0;34m(\u001b[0m\u001b[0;34m\"/content/python-ml-course/datasets/ml-100k/u.data.csv\"\u001b[0m\u001b[0;34m,\u001b[0m \u001b[0msep\u001b[0m\u001b[0;34m=\u001b[0m\u001b[0;34m\"\\t\"\u001b[0m\u001b[0;34m,\u001b[0m \u001b[0mheader\u001b[0m\u001b[0;34m=\u001b[0m\u001b[0;32mNone\u001b[0m\u001b[0;34m)\u001b[0m\u001b[0;34m\u001b[0m\u001b[0;34m\u001b[0m\u001b[0m\n\u001b[0m",
            "\u001b[0;32m/usr/local/lib/python3.7/dist-packages/pandas/io/parsers.py\u001b[0m in \u001b[0;36mread_csv\u001b[0;34m(filepath_or_buffer, sep, delimiter, header, names, index_col, usecols, squeeze, prefix, mangle_dupe_cols, dtype, engine, converters, true_values, false_values, skipinitialspace, skiprows, skipfooter, nrows, na_values, keep_default_na, na_filter, verbose, skip_blank_lines, parse_dates, infer_datetime_format, keep_date_col, date_parser, dayfirst, cache_dates, iterator, chunksize, compression, thousands, decimal, lineterminator, quotechar, quoting, doublequote, escapechar, comment, encoding, dialect, error_bad_lines, warn_bad_lines, delim_whitespace, low_memory, memory_map, float_precision)\u001b[0m\n\u001b[1;32m    686\u001b[0m     )\n\u001b[1;32m    687\u001b[0m \u001b[0;34m\u001b[0m\u001b[0m\n\u001b[0;32m--> 688\u001b[0;31m     \u001b[0;32mreturn\u001b[0m \u001b[0m_read\u001b[0m\u001b[0;34m(\u001b[0m\u001b[0mfilepath_or_buffer\u001b[0m\u001b[0;34m,\u001b[0m \u001b[0mkwds\u001b[0m\u001b[0;34m)\u001b[0m\u001b[0;34m\u001b[0m\u001b[0;34m\u001b[0m\u001b[0m\n\u001b[0m\u001b[1;32m    689\u001b[0m \u001b[0;34m\u001b[0m\u001b[0m\n\u001b[1;32m    690\u001b[0m \u001b[0;34m\u001b[0m\u001b[0m\n",
            "\u001b[0;32m/usr/local/lib/python3.7/dist-packages/pandas/io/parsers.py\u001b[0m in \u001b[0;36m_read\u001b[0;34m(filepath_or_buffer, kwds)\u001b[0m\n\u001b[1;32m    452\u001b[0m \u001b[0;34m\u001b[0m\u001b[0m\n\u001b[1;32m    453\u001b[0m     \u001b[0;31m# Create the parser.\u001b[0m\u001b[0;34m\u001b[0m\u001b[0;34m\u001b[0m\u001b[0;34m\u001b[0m\u001b[0m\n\u001b[0;32m--> 454\u001b[0;31m     \u001b[0mparser\u001b[0m \u001b[0;34m=\u001b[0m \u001b[0mTextFileReader\u001b[0m\u001b[0;34m(\u001b[0m\u001b[0mfp_or_buf\u001b[0m\u001b[0;34m,\u001b[0m \u001b[0;34m**\u001b[0m\u001b[0mkwds\u001b[0m\u001b[0;34m)\u001b[0m\u001b[0;34m\u001b[0m\u001b[0;34m\u001b[0m\u001b[0m\n\u001b[0m\u001b[1;32m    455\u001b[0m \u001b[0;34m\u001b[0m\u001b[0m\n\u001b[1;32m    456\u001b[0m     \u001b[0;32mif\u001b[0m \u001b[0mchunksize\u001b[0m \u001b[0;32mor\u001b[0m \u001b[0miterator\u001b[0m\u001b[0;34m:\u001b[0m\u001b[0;34m\u001b[0m\u001b[0;34m\u001b[0m\u001b[0m\n",
            "\u001b[0;32m/usr/local/lib/python3.7/dist-packages/pandas/io/parsers.py\u001b[0m in \u001b[0;36m__init__\u001b[0;34m(self, f, engine, **kwds)\u001b[0m\n\u001b[1;32m    946\u001b[0m             \u001b[0mself\u001b[0m\u001b[0;34m.\u001b[0m\u001b[0moptions\u001b[0m\u001b[0;34m[\u001b[0m\u001b[0;34m\"has_index_names\"\u001b[0m\u001b[0;34m]\u001b[0m \u001b[0;34m=\u001b[0m \u001b[0mkwds\u001b[0m\u001b[0;34m[\u001b[0m\u001b[0;34m\"has_index_names\"\u001b[0m\u001b[0;34m]\u001b[0m\u001b[0;34m\u001b[0m\u001b[0;34m\u001b[0m\u001b[0m\n\u001b[1;32m    947\u001b[0m \u001b[0;34m\u001b[0m\u001b[0m\n\u001b[0;32m--> 948\u001b[0;31m         \u001b[0mself\u001b[0m\u001b[0;34m.\u001b[0m\u001b[0m_make_engine\u001b[0m\u001b[0;34m(\u001b[0m\u001b[0mself\u001b[0m\u001b[0;34m.\u001b[0m\u001b[0mengine\u001b[0m\u001b[0;34m)\u001b[0m\u001b[0;34m\u001b[0m\u001b[0;34m\u001b[0m\u001b[0m\n\u001b[0m\u001b[1;32m    949\u001b[0m \u001b[0;34m\u001b[0m\u001b[0m\n\u001b[1;32m    950\u001b[0m     \u001b[0;32mdef\u001b[0m \u001b[0mclose\u001b[0m\u001b[0;34m(\u001b[0m\u001b[0mself\u001b[0m\u001b[0;34m)\u001b[0m\u001b[0;34m:\u001b[0m\u001b[0;34m\u001b[0m\u001b[0;34m\u001b[0m\u001b[0m\n",
            "\u001b[0;32m/usr/local/lib/python3.7/dist-packages/pandas/io/parsers.py\u001b[0m in \u001b[0;36m_make_engine\u001b[0;34m(self, engine)\u001b[0m\n\u001b[1;32m   1178\u001b[0m     \u001b[0;32mdef\u001b[0m \u001b[0m_make_engine\u001b[0m\u001b[0;34m(\u001b[0m\u001b[0mself\u001b[0m\u001b[0;34m,\u001b[0m \u001b[0mengine\u001b[0m\u001b[0;34m=\u001b[0m\u001b[0;34m\"c\"\u001b[0m\u001b[0;34m)\u001b[0m\u001b[0;34m:\u001b[0m\u001b[0;34m\u001b[0m\u001b[0;34m\u001b[0m\u001b[0m\n\u001b[1;32m   1179\u001b[0m         \u001b[0;32mif\u001b[0m \u001b[0mengine\u001b[0m \u001b[0;34m==\u001b[0m \u001b[0;34m\"c\"\u001b[0m\u001b[0;34m:\u001b[0m\u001b[0;34m\u001b[0m\u001b[0;34m\u001b[0m\u001b[0m\n\u001b[0;32m-> 1180\u001b[0;31m             \u001b[0mself\u001b[0m\u001b[0;34m.\u001b[0m\u001b[0m_engine\u001b[0m \u001b[0;34m=\u001b[0m \u001b[0mCParserWrapper\u001b[0m\u001b[0;34m(\u001b[0m\u001b[0mself\u001b[0m\u001b[0;34m.\u001b[0m\u001b[0mf\u001b[0m\u001b[0;34m,\u001b[0m \u001b[0;34m**\u001b[0m\u001b[0mself\u001b[0m\u001b[0;34m.\u001b[0m\u001b[0moptions\u001b[0m\u001b[0;34m)\u001b[0m\u001b[0;34m\u001b[0m\u001b[0;34m\u001b[0m\u001b[0m\n\u001b[0m\u001b[1;32m   1181\u001b[0m         \u001b[0;32melse\u001b[0m\u001b[0;34m:\u001b[0m\u001b[0;34m\u001b[0m\u001b[0;34m\u001b[0m\u001b[0m\n\u001b[1;32m   1182\u001b[0m             \u001b[0;32mif\u001b[0m \u001b[0mengine\u001b[0m \u001b[0;34m==\u001b[0m \u001b[0;34m\"python\"\u001b[0m\u001b[0;34m:\u001b[0m\u001b[0;34m\u001b[0m\u001b[0;34m\u001b[0m\u001b[0m\n",
            "\u001b[0;32m/usr/local/lib/python3.7/dist-packages/pandas/io/parsers.py\u001b[0m in \u001b[0;36m__init__\u001b[0;34m(self, src, **kwds)\u001b[0m\n\u001b[1;32m   2008\u001b[0m         \u001b[0mkwds\u001b[0m\u001b[0;34m[\u001b[0m\u001b[0;34m\"usecols\"\u001b[0m\u001b[0;34m]\u001b[0m \u001b[0;34m=\u001b[0m \u001b[0mself\u001b[0m\u001b[0;34m.\u001b[0m\u001b[0musecols\u001b[0m\u001b[0;34m\u001b[0m\u001b[0;34m\u001b[0m\u001b[0m\n\u001b[1;32m   2009\u001b[0m \u001b[0;34m\u001b[0m\u001b[0m\n\u001b[0;32m-> 2010\u001b[0;31m         \u001b[0mself\u001b[0m\u001b[0;34m.\u001b[0m\u001b[0m_reader\u001b[0m \u001b[0;34m=\u001b[0m \u001b[0mparsers\u001b[0m\u001b[0;34m.\u001b[0m\u001b[0mTextReader\u001b[0m\u001b[0;34m(\u001b[0m\u001b[0msrc\u001b[0m\u001b[0;34m,\u001b[0m \u001b[0;34m**\u001b[0m\u001b[0mkwds\u001b[0m\u001b[0;34m)\u001b[0m\u001b[0;34m\u001b[0m\u001b[0;34m\u001b[0m\u001b[0m\n\u001b[0m\u001b[1;32m   2011\u001b[0m         \u001b[0mself\u001b[0m\u001b[0;34m.\u001b[0m\u001b[0munnamed_cols\u001b[0m \u001b[0;34m=\u001b[0m \u001b[0mself\u001b[0m\u001b[0;34m.\u001b[0m\u001b[0m_reader\u001b[0m\u001b[0;34m.\u001b[0m\u001b[0munnamed_cols\u001b[0m\u001b[0;34m\u001b[0m\u001b[0;34m\u001b[0m\u001b[0m\n\u001b[1;32m   2012\u001b[0m \u001b[0;34m\u001b[0m\u001b[0m\n",
            "\u001b[0;32mpandas/_libs/parsers.pyx\u001b[0m in \u001b[0;36mpandas._libs.parsers.TextReader.__cinit__\u001b[0;34m()\u001b[0m\n",
            "\u001b[0;32mpandas/_libs/parsers.pyx\u001b[0m in \u001b[0;36mpandas._libs.parsers.TextReader._setup_parser_source\u001b[0;34m()\u001b[0m\n",
            "\u001b[0;31mFileNotFoundError\u001b[0m: [Errno 2] No such file or directory: '/content/python-ml-course/datasets/ml-100k/u.data.csv'"
          ]
        }
      ]
    },
    {
      "cell_type": "code",
      "metadata": {
        "colab": {
          "base_uri": "https://localhost:8080/"
        },
        "id": "36te4qct0KyH",
        "outputId": "e0d3f7cc-9a16-4b7f-9982-031b77adc22c"
      },
      "source": [
        "type(df)"
      ],
      "execution_count": null,
      "outputs": [
        {
          "output_type": "execute_result",
          "data": {
            "text/plain": [
              "pandas.core.frame.DataFrame"
            ]
          },
          "metadata": {},
          "execution_count": 7
        }
      ]
    },
    {
      "cell_type": "code",
      "metadata": {
        "colab": {
          "base_uri": "https://localhost:8080/",
          "height": 203
        },
        "id": "gAw1l4bT0KyJ",
        "outputId": "bd7d9a5d-c288-4d7d-93b1-20439aa5469b"
      },
      "source": [
        "df.head()"
      ],
      "execution_count": null,
      "outputs": [
        {
          "output_type": "execute_result",
          "data": {
            "text/html": [
              "<div>\n",
              "<style scoped>\n",
              "    .dataframe tbody tr th:only-of-type {\n",
              "        vertical-align: middle;\n",
              "    }\n",
              "\n",
              "    .dataframe tbody tr th {\n",
              "        vertical-align: top;\n",
              "    }\n",
              "\n",
              "    .dataframe thead th {\n",
              "        text-align: right;\n",
              "    }\n",
              "</style>\n",
              "<table border=\"1\" class=\"dataframe\">\n",
              "  <thead>\n",
              "    <tr style=\"text-align: right;\">\n",
              "      <th></th>\n",
              "      <th>0</th>\n",
              "      <th>1</th>\n",
              "      <th>2</th>\n",
              "      <th>3</th>\n",
              "    </tr>\n",
              "  </thead>\n",
              "  <tbody>\n",
              "    <tr>\n",
              "      <th>0</th>\n",
              "      <td>196</td>\n",
              "      <td>242</td>\n",
              "      <td>3</td>\n",
              "      <td>881250949</td>\n",
              "    </tr>\n",
              "    <tr>\n",
              "      <th>1</th>\n",
              "      <td>186</td>\n",
              "      <td>302</td>\n",
              "      <td>3</td>\n",
              "      <td>891717742</td>\n",
              "    </tr>\n",
              "    <tr>\n",
              "      <th>2</th>\n",
              "      <td>22</td>\n",
              "      <td>377</td>\n",
              "      <td>1</td>\n",
              "      <td>878887116</td>\n",
              "    </tr>\n",
              "    <tr>\n",
              "      <th>3</th>\n",
              "      <td>244</td>\n",
              "      <td>51</td>\n",
              "      <td>2</td>\n",
              "      <td>880606923</td>\n",
              "    </tr>\n",
              "    <tr>\n",
              "      <th>4</th>\n",
              "      <td>166</td>\n",
              "      <td>346</td>\n",
              "      <td>1</td>\n",
              "      <td>886397596</td>\n",
              "    </tr>\n",
              "  </tbody>\n",
              "</table>\n",
              "</div>"
            ],
            "text/plain": [
              "     0    1  2          3\n",
              "0  196  242  3  881250949\n",
              "1  186  302  3  891717742\n",
              "2   22  377  1  878887116\n",
              "3  244   51  2  880606923\n",
              "4  166  346  1  886397596"
            ]
          },
          "metadata": {},
          "execution_count": 8
        }
      ]
    },
    {
      "cell_type": "code",
      "metadata": {
        "colab": {
          "base_uri": "https://localhost:8080/"
        },
        "id": "1t6cHJq00KyK",
        "outputId": "d38d41ec-b6fc-4118-f648-620f8ea6129d"
      },
      "source": [
        "df.shape"
      ],
      "execution_count": null,
      "outputs": [
        {
          "output_type": "execute_result",
          "data": {
            "text/plain": [
              "(100000, 4)"
            ]
          },
          "metadata": {},
          "execution_count": 9
        }
      ]
    },
    {
      "cell_type": "code",
      "metadata": {
        "id": "DNn38JIN0KyL"
      },
      "source": [
        "df.columns = [\"UserID\", \"ItemID\", \"Rating\", \"TimeStamp\"]"
      ],
      "execution_count": null,
      "outputs": []
    },
    {
      "cell_type": "code",
      "metadata": {
        "colab": {
          "base_uri": "https://localhost:8080/",
          "height": 203
        },
        "id": "ZH5hjIsX0KyM",
        "outputId": "235e8bc7-4b81-47d5-9cea-8bcdc65a6566"
      },
      "source": [
        "df.head()"
      ],
      "execution_count": null,
      "outputs": [
        {
          "output_type": "execute_result",
          "data": {
            "text/html": [
              "<div>\n",
              "<style scoped>\n",
              "    .dataframe tbody tr th:only-of-type {\n",
              "        vertical-align: middle;\n",
              "    }\n",
              "\n",
              "    .dataframe tbody tr th {\n",
              "        vertical-align: top;\n",
              "    }\n",
              "\n",
              "    .dataframe thead th {\n",
              "        text-align: right;\n",
              "    }\n",
              "</style>\n",
              "<table border=\"1\" class=\"dataframe\">\n",
              "  <thead>\n",
              "    <tr style=\"text-align: right;\">\n",
              "      <th></th>\n",
              "      <th>UserID</th>\n",
              "      <th>ItemID</th>\n",
              "      <th>Rating</th>\n",
              "      <th>TimeStamp</th>\n",
              "    </tr>\n",
              "  </thead>\n",
              "  <tbody>\n",
              "    <tr>\n",
              "      <th>0</th>\n",
              "      <td>196</td>\n",
              "      <td>242</td>\n",
              "      <td>3</td>\n",
              "      <td>881250949</td>\n",
              "    </tr>\n",
              "    <tr>\n",
              "      <th>1</th>\n",
              "      <td>186</td>\n",
              "      <td>302</td>\n",
              "      <td>3</td>\n",
              "      <td>891717742</td>\n",
              "    </tr>\n",
              "    <tr>\n",
              "      <th>2</th>\n",
              "      <td>22</td>\n",
              "      <td>377</td>\n",
              "      <td>1</td>\n",
              "      <td>878887116</td>\n",
              "    </tr>\n",
              "    <tr>\n",
              "      <th>3</th>\n",
              "      <td>244</td>\n",
              "      <td>51</td>\n",
              "      <td>2</td>\n",
              "      <td>880606923</td>\n",
              "    </tr>\n",
              "    <tr>\n",
              "      <th>4</th>\n",
              "      <td>166</td>\n",
              "      <td>346</td>\n",
              "      <td>1</td>\n",
              "      <td>886397596</td>\n",
              "    </tr>\n",
              "  </tbody>\n",
              "</table>\n",
              "</div>"
            ],
            "text/plain": [
              "   UserID  ItemID  Rating  TimeStamp\n",
              "0     196     242       3  881250949\n",
              "1     186     302       3  891717742\n",
              "2      22     377       1  878887116\n",
              "3     244      51       2  880606923\n",
              "4     166     346       1  886397596"
            ]
          },
          "metadata": {},
          "execution_count": 11
        }
      ]
    },
    {
      "cell_type": "markdown",
      "metadata": {
        "id": "WLHowqGO0KyN"
      },
      "source": [
        "### Análisis exploratorio de los ítems"
      ]
    },
    {
      "cell_type": "code",
      "metadata": {
        "id": "NGiZ0Ypl0KyO"
      },
      "source": [
        "import matplotlib.pyplot as plt"
      ],
      "execution_count": null,
      "outputs": []
    },
    {
      "cell_type": "code",
      "metadata": {
        "colab": {
          "base_uri": "https://localhost:8080/",
          "height": 332
        },
        "id": "uK7UykSf0KyO",
        "outputId": "d4a45090-dffb-4653-9239-480f973b1c3c"
      },
      "source": [
        "plt.hist(df.Rating)"
      ],
      "execution_count": null,
      "outputs": [
        {
          "output_type": "execute_result",
          "data": {
            "text/plain": [
              "(array([ 6110.,     0., 11370.,     0.,     0., 27145.,     0., 34174.,\n",
              "            0., 21201.]),\n",
              " array([1. , 1.4, 1.8, 2.2, 2.6, 3. , 3.4, 3.8, 4.2, 4.6, 5. ]),\n",
              " <a list of 10 Patch objects>)"
            ]
          },
          "metadata": {},
          "execution_count": 13
        },
        {
          "output_type": "display_data",
          "data": {
            "image/png": "[encoded data removed]",
            "text/plain": [
              "<Figure size 432x288 with 1 Axes>"
            ]
          },
          "metadata": {
            "needs_background": "light"
          }
        }
      ]
    },
    {
      "cell_type": "code",
      "metadata": {
        "id": "_ARJhdX80KyP",
        "outputId": "374545f4-6b0a-46f4-eeef-3423315f14c4"
      },
      "source": [
        "plt.hist(df.TimeStamp)"
      ],
      "execution_count": null,
      "outputs": [
        {
          "data": {
            "text/plain": [
              "(array([11459.,  5724., 19359.,  9315.,  9396., 10083.,  6175.,  9603.,\n",
              "        10048.,  8838.]),\n",
              " array([8.74724710e+08, 8.76580903e+08, 8.78437096e+08, 8.80293288e+08,\n",
              "        8.82149481e+08, 8.84005674e+08, 8.85861867e+08, 8.87718060e+08,\n",
              "        8.89574252e+08, 8.91430445e+08, 8.93286638e+08]),\n",
              " <a list of 10 Patch objects>)"
            ]
          },
          "execution_count": 10,
          "metadata": {},
          "output_type": "execute_result"
        },
        {
          "data": {
            "image/png": "[encoded data removed]",
            "text/plain": [
              "<Figure size 432x288 with 1 Axes>"
            ]
          },
          "metadata": {
            "needs_background": "light"
          },
          "output_type": "display_data"
        }
      ]
    },
    {
      "cell_type": "code",
      "metadata": {
        "id": "UxBtRmfk0KyP",
        "outputId": "fce52463-b11a-4e4c-e682-e6497eaa80c5"
      },
      "source": [
        "df.groupby([\"Rating\"])[\"UserID\"].count()"
      ],
      "execution_count": null,
      "outputs": [
        {
          "data": {
            "text/plain": [
              "Rating\n",
              "1     6110\n",
              "2    11370\n",
              "3    27145\n",
              "4    34174\n",
              "5    21201\n",
              "Name: UserID, dtype: int64"
            ]
          },
          "execution_count": 11,
          "metadata": {},
          "output_type": "execute_result"
        }
      ]
    },
    {
      "cell_type": "code",
      "metadata": {
        "id": "SPOFAmpJ0KyQ",
        "outputId": "0867a7ac-22e3-4662-a4d2-db2af6705ad8"
      },
      "source": [
        "plt.hist(df.groupby([\"ItemID\"])[\"ItemID\"].count())"
      ],
      "execution_count": null,
      "outputs": [
        {
          "data": {
            "text/plain": [
              "(array([1.146e+03, 2.490e+02, 1.390e+02, 6.700e+01, 3.800e+01, 2.400e+01,\n",
              "        7.000e+00, 5.000e+00, 6.000e+00, 1.000e+00]),\n",
              " array([  1. ,  59.2, 117.4, 175.6, 233.8, 292. , 350.2, 408.4, 466.6,\n",
              "        524.8, 583. ]),\n",
              " <a list of 10 Patch objects>)"
            ]
          },
          "execution_count": 12,
          "metadata": {},
          "output_type": "execute_result"
        },
        {
          "data": {
            "image/png": "[encoded data removed]",
            "text/plain": [
              "<Figure size 432x288 with 1 Axes>"
            ]
          },
          "metadata": {
            "needs_background": "light"
          },
          "output_type": "display_data"
        }
      ]
    },
    {
      "cell_type": "markdown",
      "metadata": {
        "id": "Fxk9q9Rm0KyR"
      },
      "source": [
        "### Representación en forma matricial"
      ]
    },
    {
      "cell_type": "code",
      "metadata": {
        "id": "7PcojSpl0KyS"
      },
      "source": [
        "import numpy as np"
      ],
      "execution_count": null,
      "outputs": []
    },
    {
      "cell_type": "code",
      "metadata": {
        "colab": {
          "base_uri": "https://localhost:8080/"
        },
        "id": "7ZG_yV_X0KyS",
        "outputId": "cb51516a-ca64-4dd2-faac-3b01561d662e"
      },
      "source": [
        "n_users = df.UserID.unique().shape[0]\n",
        "n_users"
      ],
      "execution_count": null,
      "outputs": [
        {
          "output_type": "execute_result",
          "data": {
            "text/plain": [
              "943"
            ]
          },
          "metadata": {},
          "execution_count": 15
        }
      ]
    },
    {
      "cell_type": "code",
      "metadata": {
        "colab": {
          "base_uri": "https://localhost:8080/"
        },
        "id": "EzmdZf_M0KyT",
        "outputId": "54196963-4c72-4550-9091-42243923d4ef"
      },
      "source": [
        "n_items = df.ItemID.unique().shape[0]\n",
        "n_items"
      ],
      "execution_count": null,
      "outputs": [
        {
          "output_type": "execute_result",
          "data": {
            "text/plain": [
              "1682"
            ]
          },
          "metadata": {},
          "execution_count": 16
        }
      ]
    },
    {
      "cell_type": "code",
      "metadata": {
        "id": "wTVkdIkc0KyU"
      },
      "source": [
        "ratings = np.zeros((n_users, n_items))"
      ],
      "execution_count": null,
      "outputs": []
    },
    {
      "cell_type": "code",
      "metadata": {
        "id": "vOXgiHYX0KyV"
      },
      "source": [
        "for row in df.itertuples():\n",
        "    ratings[row[1]-1, row[2]-1] = row[3]"
      ],
      "execution_count": null,
      "outputs": []
    },
    {
      "cell_type": "code",
      "metadata": {
        "colab": {
          "base_uri": "https://localhost:8080/"
        },
        "id": "lnrTmVYE0KyV",
        "outputId": "cf33f788-5c87-4262-ae2e-291e1ffa5a18"
      },
      "source": [
        "type(ratings)"
      ],
      "execution_count": null,
      "outputs": [
        {
          "output_type": "execute_result",
          "data": {
            "text/plain": [
              "numpy.ndarray"
            ]
          },
          "metadata": {},
          "execution_count": 19
        }
      ]
    },
    {
      "cell_type": "code",
      "metadata": {
        "colab": {
          "base_uri": "https://localhost:8080/"
        },
        "id": "xfjd3Srl0KyW",
        "outputId": "c6622101-030b-4b95-921b-a536d054796b"
      },
      "source": [
        "ratings.shape"
      ],
      "execution_count": null,
      "outputs": [
        {
          "output_type": "execute_result",
          "data": {
            "text/plain": [
              "(943, 1682)"
            ]
          },
          "metadata": {},
          "execution_count": 20
        }
      ]
    },
    {
      "cell_type": "code",
      "metadata": {
        "colab": {
          "base_uri": "https://localhost:8080/"
        },
        "id": "B2-LaCcz0KyW",
        "outputId": "dbec949e-0586-423f-fa2d-cf00739d4359"
      },
      "source": [
        "ratings"
      ],
      "execution_count": null,
      "outputs": [
        {
          "output_type": "execute_result",
          "data": {
            "text/plain": [
              "array([[5., 3., 4., ..., 0., 0., 0.],\n",
              "       [4., 0., 0., ..., 0., 0., 0.],\n",
              "       [0., 0., 0., ..., 0., 0., 0.],\n",
              "       ...,\n",
              "       [5., 0., 0., ..., 0., 0., 0.],\n",
              "       [0., 0., 0., ..., 0., 0., 0.],\n",
              "       [0., 5., 0., ..., 0., 0., 0.]])"
            ]
          },
          "metadata": {},
          "execution_count": 21
        }
      ]
    },
    {
      "cell_type": "code",
      "metadata": {
        "colab": {
          "base_uri": "https://localhost:8080/"
        },
        "id": "EXlqNmm80KyX",
        "outputId": "0fb518d2-8169-472d-c6c9-9507d04704c4"
      },
      "source": [
        "sparsity = float(len(ratings.nonzero()[0]))\n",
        "sparsity /= (ratings.shape[0]*ratings.shape[1])\n",
        "sparsity *= 100\n",
        "print(\"Coeficiente de sparseidad: {:4.2f}%\".format(sparsity))"
      ],
      "execution_count": null,
      "outputs": [
        {
          "output_type": "stream",
          "name": "stdout",
          "text": [
            "Coeficiente de sparseidad: 6.30%\n"
          ]
        }
      ]
    },
    {
      "cell_type": "markdown",
      "metadata": {
        "id": "EvQ_EhRi0KyY"
      },
      "source": [
        "### Crear conjuntos de entrenamiento y validación"
      ]
    },
    {
      "cell_type": "code",
      "metadata": {
        "id": "cafaP6MG0KyY"
      },
      "source": [
        "from sklearn.model_selection import train_test_split"
      ],
      "execution_count": null,
      "outputs": []
    },
    {
      "cell_type": "code",
      "metadata": {
        "id": "ucvbTz8f0KyY"
      },
      "source": [
        "ratings_train, ratings_test = train_test_split(ratings, test_size = 0.3, random_state=42)"
      ],
      "execution_count": null,
      "outputs": []
    },
    {
      "cell_type": "code",
      "metadata": {
        "id": "BOE9oKpF0KyZ",
        "outputId": "7a6f9eb1-5d60-4a81-dd55-5e0010b72022"
      },
      "source": [
        "ratings_train.shape"
      ],
      "execution_count": null,
      "outputs": [
        {
          "data": {
            "text/plain": [
              "(660, 1682)"
            ]
          },
          "execution_count": 25,
          "metadata": {},
          "output_type": "execute_result"
        }
      ]
    },
    {
      "cell_type": "code",
      "metadata": {
        "id": "oy81EPoZ0Kya",
        "outputId": "df34c192-0bb2-4306-c3fc-859622ee5a63"
      },
      "source": [
        "ratings_test.shape"
      ],
      "execution_count": null,
      "outputs": [
        {
          "data": {
            "text/plain": [
              "(283, 1682)"
            ]
          },
          "execution_count": 26,
          "metadata": {},
          "output_type": "execute_result"
        }
      ]
    },
    {
      "cell_type": "markdown",
      "metadata": {
        "id": "pWgWNTE10Kya"
      },
      "source": [
        "## Filtro colaborativo basado en Usuarios\n",
        "* Matriz de similaridad entre los usuarios (distancia del coseno).\n",
        "* Predecir la valoración desconocida de un ítem *i* para un usuario activo *u* basandonos en la suma ponderada de todas las valoraciones del resto de usuarios para dicho ítem.\n",
        "* Recomendaremos los nuevos ítems a los usuarios según lo establecido en los pasos anteriores."
      ]
    },
    {
      "cell_type": "code",
      "metadata": {
        "id": "vq9dZgFz0Kya"
      },
      "source": [
        "import numpy as np\n",
        "import sklearn"
      ],
      "execution_count": null,
      "outputs": []
    },
    {
      "cell_type": "code",
      "metadata": {
        "id": "WWRtQI8M0Kya"
      },
      "source": [
        "sim_matrix = 1 - sklearn.metrics.pairwise.cosine_distances(ratings_train)"
      ],
      "execution_count": null,
      "outputs": []
    },
    {
      "cell_type": "code",
      "metadata": {
        "id": "s6Y7ir7Q0Kya",
        "outputId": "21f7fccd-dd64-42bf-e902-6c983b053564"
      },
      "source": [
        "type(sim_matrix)"
      ],
      "execution_count": null,
      "outputs": [
        {
          "data": {
            "text/plain": [
              "numpy.ndarray"
            ]
          },
          "execution_count": 29,
          "metadata": {},
          "output_type": "execute_result"
        }
      ]
    },
    {
      "cell_type": "code",
      "metadata": {
        "id": "bMO9hemZ0Kyb",
        "outputId": "31e68f27-b6c7-4cb7-b0ae-11947ae2fc6a"
      },
      "source": [
        "sim_matrix.shape"
      ],
      "execution_count": null,
      "outputs": [
        {
          "data": {
            "text/plain": [
              "(660, 660)"
            ]
          },
          "execution_count": 30,
          "metadata": {},
          "output_type": "execute_result"
        }
      ]
    },
    {
      "cell_type": "code",
      "metadata": {
        "id": "Ow36kRIy0Kyb",
        "outputId": "7f7871b0-b3ed-4a41-9b87-4cf67b36b785"
      },
      "source": [
        "sim_matrix"
      ],
      "execution_count": null,
      "outputs": [
        {
          "data": {
            "text/plain": [
              "array([[1.        , 0.17448349, 0.18009754, ..., 0.13331459, 0.17695593,\n",
              "        0.21882481],\n",
              "       [0.17448349, 1.        , 0.07993097, ..., 0.07175808, 0.09552622,\n",
              "        0.05512655],\n",
              "       [0.18009754, 0.07993097, 1.        , ..., 0.0191736 , 0.02233385,\n",
              "        0.10310785],\n",
              "       ...,\n",
              "       [0.13331459, 0.07175808, 0.0191736 , ..., 1.        , 0.04853428,\n",
              "        0.05142508],\n",
              "       [0.17695593, 0.09552622, 0.02233385, ..., 0.04853428, 1.        ,\n",
              "        0.1198022 ],\n",
              "       [0.21882481, 0.05512655, 0.10310785, ..., 0.05142508, 0.1198022 ,\n",
              "        1.        ]])"
            ]
          },
          "execution_count": 31,
          "metadata": {},
          "output_type": "execute_result"
        }
      ]
    },
    {
      "cell_type": "code",
      "metadata": {
        "id": "Bmh6mURx0Kyb"
      },
      "source": [
        "users_predictions = sim_matrix.dot(ratings_train) / np.array([np.abs(sim_matrix).sum(axis=1)]).T"
      ],
      "execution_count": null,
      "outputs": []
    },
    {
      "cell_type": "code",
      "metadata": {
        "id": "blqzJQeZ0Kyb",
        "outputId": "3d4f3425-8820-4848-a54e-fdd6f30c78bb"
      },
      "source": [
        "users_predictions"
      ],
      "execution_count": null,
      "outputs": [
        {
          "data": {
            "text/plain": [
              "array([[2.10259747e+00, 5.86975978e-01, 3.40264192e-01, ...,\n",
              "        0.00000000e+00, 7.33611460e-03, 6.04379414e-03],\n",
              "       [1.40999723e+00, 2.91863934e-01, 2.68085289e-01, ...,\n",
              "        0.00000000e+00, 3.50378592e-03, 2.32963985e-03],\n",
              "       [1.69014833e+00, 3.13648440e-01, 3.26127887e-01, ...,\n",
              "        0.00000000e+00, 3.25391767e-03, 1.77210119e-03],\n",
              "       ...,\n",
              "       [1.73393747e+00, 4.06719333e-01, 3.21166908e-01, ...,\n",
              "        0.00000000e+00, 2.71269625e-03, 9.00511411e-03],\n",
              "       [2.34361031e+00, 8.10544770e-01, 4.73941025e-01, ...,\n",
              "        0.00000000e+00, 1.01130066e-02, 9.66427605e-03],\n",
              "       [2.36796969e+00, 5.98146138e-01, 3.85569804e-01, ...,\n",
              "        0.00000000e+00, 6.39996638e-03, 5.37442746e-03]])"
            ]
          },
          "execution_count": 33,
          "metadata": {},
          "output_type": "execute_result"
        }
      ]
    },
    {
      "cell_type": "code",
      "metadata": {
        "id": "j625jlWc0Kyc"
      },
      "source": [
        "from sklearn.metrics import mean_squared_error"
      ],
      "execution_count": null,
      "outputs": []
    },
    {
      "cell_type": "code",
      "metadata": {
        "id": "U4UmYcZd0Kyc"
      },
      "source": [
        "def get_mse(preds, actuals):\n",
        "    if preds.shape[0] != actuals.shape[0]:\n",
        "        actuals = actuals.T\n",
        "    preds = preds[actuals.nonzero()].flatten()\n",
        "    actuals = actuals[actuals.nonzero()].flatten()\n",
        "    return mean_squared_error(preds, actuals)"
      ],
      "execution_count": null,
      "outputs": []
    },
    {
      "cell_type": "code",
      "metadata": {
        "id": "LwjL6v7U0Kyc",
        "outputId": "9432d3f9-5af5-4143-d335-a4ffbf42951f"
      },
      "source": [
        "get_mse(users_predictions, ratings_train)"
      ],
      "execution_count": null,
      "outputs": [
        {
          "data": {
            "text/plain": [
              "7.878218313143215"
            ]
          },
          "execution_count": 38,
          "metadata": {},
          "output_type": "execute_result"
        }
      ]
    },
    {
      "cell_type": "code",
      "metadata": {
        "id": "gk-PEi0B0Kyd",
        "outputId": "37ce35e5-041c-4827-84d0-464d2ef87726"
      },
      "source": [
        "sim_matrix = 1 - sklearn.metrics.pairwise.cosine_distances(ratings_test)\n",
        "users_predictions = sim_matrix.dot(ratings_test) / np.array([np.abs(sim_matrix).sum(axis=1)]).T\n",
        "get_mse(users_predictions, ratings_test)"
      ],
      "execution_count": null,
      "outputs": [
        {
          "data": {
            "text/plain": [
              "7.51355110112698"
            ]
          },
          "execution_count": 39,
          "metadata": {},
          "output_type": "execute_result"
        }
      ]
    },
    {
      "cell_type": "markdown",
      "metadata": {
        "id": "V1J5qD7i0Kyd"
      },
      "source": [
        "## Filtro colaborativo basado en los KNN"
      ]
    },
    {
      "cell_type": "code",
      "metadata": {
        "id": "4FCAQc6z0Kyd"
      },
      "source": [
        "from sklearn.neighbors import NearestNeighbors"
      ],
      "execution_count": null,
      "outputs": []
    },
    {
      "cell_type": "code",
      "metadata": {
        "id": "yY93Iazf0Kyd"
      },
      "source": [
        "k = 5"
      ],
      "execution_count": null,
      "outputs": []
    },
    {
      "cell_type": "code",
      "metadata": {
        "id": "tuWh4tcN0Kye"
      },
      "source": [
        "neighbors = NearestNeighbors(k, 'cosine')"
      ],
      "execution_count": null,
      "outputs": []
    },
    {
      "cell_type": "code",
      "metadata": {
        "id": "JNyC8wlp0Kye",
        "outputId": "64c7ef8e-2a50-445b-b037-2e322c0fed10"
      },
      "source": [
        "neighbors.fit(ratings_train)"
      ],
      "execution_count": null,
      "outputs": [
        {
          "data": {
            "text/plain": [
              "NearestNeighbors(algorithm='auto', leaf_size=30, metric='minkowski',\n",
              "                 metric_params=None, n_jobs=None, n_neighbors=5, p=2,\n",
              "                 radius='cosine')"
            ]
          },
          "execution_count": 43,
          "metadata": {},
          "output_type": "execute_result"
        }
      ]
    },
    {
      "cell_type": "code",
      "metadata": {
        "id": "S_9I7bqY0Kye"
      },
      "source": [
        "top_k_distances, top_k_users = neighbors.kneighbors(ratings_train, return_distance=True)"
      ],
      "execution_count": null,
      "outputs": []
    },
    {
      "cell_type": "code",
      "metadata": {
        "id": "X8mJeEAv0Kyf",
        "outputId": "6e386c0a-4d49-482f-d778-ac8b6033e081"
      },
      "source": [
        "top_k_distances.shape"
      ],
      "execution_count": null,
      "outputs": [
        {
          "data": {
            "text/plain": [
              "(660, 5)"
            ]
          },
          "execution_count": 45,
          "metadata": {},
          "output_type": "execute_result"
        }
      ]
    },
    {
      "cell_type": "code",
      "metadata": {
        "id": "_vueQ2dV0Kyf",
        "outputId": "329ee3c8-6f0b-4d18-822c-6269fd506100"
      },
      "source": [
        "top_k_distances[0]"
      ],
      "execution_count": null,
      "outputs": [
        {
          "data": {
            "text/plain": [
              "array([ 0.        , 41.71330723, 43.3474336 , 45.04442252, 45.04442252])"
            ]
          },
          "execution_count": 46,
          "metadata": {},
          "output_type": "execute_result"
        }
      ]
    },
    {
      "cell_type": "code",
      "metadata": {
        "id": "sW51dNpY0Kyf",
        "outputId": "49f190bd-2fdc-4b4c-9500-1dcc13934a1a"
      },
      "source": [
        "top_k_users.shape"
      ],
      "execution_count": null,
      "outputs": [
        {
          "data": {
            "text/plain": [
              "(660, 5)"
            ]
          },
          "execution_count": 47,
          "metadata": {},
          "output_type": "execute_result"
        }
      ]
    },
    {
      "cell_type": "code",
      "metadata": {
        "id": "DH4GyXK50Kyf",
        "outputId": "17782da0-db5b-48d8-b17a-2beb6ca9ace8"
      },
      "source": [
        "top_k_users[0]"
      ],
      "execution_count": null,
      "outputs": [
        {
          "data": {
            "text/plain": [
              "array([  0, 211,  16, 583, 428])"
            ]
          },
          "execution_count": 48,
          "metadata": {},
          "output_type": "execute_result"
        }
      ]
    },
    {
      "cell_type": "code",
      "metadata": {
        "id": "qXilCNu80Kyg"
      },
      "source": [
        "users_predicts_k = np.zeros(ratings_train.shape)\n",
        "for i in range(ratings_train.shape[0]):# para cada usuario del conjunto de entrenamiento\n",
        "    users_predicts_k[i,:] = top_k_distances[i].T.dot(ratings_train[top_k_users][i]) / np.array([np.abs(top_k_distances[i].T).sum(axis=0)]).T"
      ],
      "execution_count": null,
      "outputs": []
    },
    {
      "cell_type": "code",
      "metadata": {
        "id": "A3gbxQqg0Kyg",
        "outputId": "fb9159f3-7739-4f9e-cbd4-2392711cd08e"
      },
      "source": [
        "users_predicts_k.shape"
      ],
      "execution_count": null,
      "outputs": [
        {
          "data": {
            "text/plain": [
              "(660, 1682)"
            ]
          },
          "execution_count": 50,
          "metadata": {},
          "output_type": "execute_result"
        }
      ]
    },
    {
      "cell_type": "code",
      "metadata": {
        "id": "9Z1utpXc0Kyg",
        "outputId": "d3c6d6a4-dfb6-4807-8134-46d1f87a8203"
      },
      "source": [
        "users_predicts_k"
      ],
      "execution_count": null,
      "outputs": [
        {
          "data": {
            "text/plain": [
              "array([[0.        , 0.        , 0.        , ..., 0.        , 0.        ,\n",
              "        0.        ],\n",
              "       [0.        , 0.        , 0.        , ..., 0.        , 0.        ,\n",
              "        0.        ],\n",
              "       [0.        , 0.        , 0.        , ..., 0.        , 0.        ,\n",
              "        0.        ],\n",
              "       ...,\n",
              "       [0.        , 0.        , 0.        , ..., 0.        , 0.        ,\n",
              "        0.        ],\n",
              "       [0.74469557, 0.        , 0.        , ..., 0.        , 0.        ,\n",
              "        0.        ],\n",
              "       [1.9753676 , 0.        , 0.        , ..., 0.        , 0.        ,\n",
              "        0.        ]])"
            ]
          },
          "execution_count": 51,
          "metadata": {},
          "output_type": "execute_result"
        }
      ]
    },
    {
      "cell_type": "code",
      "metadata": {
        "id": "8UKZ2WIE0Kyh",
        "outputId": "855410dc-3207-4298-e569-c62a977a016a"
      },
      "source": [
        "get_mse(users_predicts_k, ratings_train)"
      ],
      "execution_count": null,
      "outputs": [
        {
          "data": {
            "text/plain": [
              "8.180803170774984"
            ]
          },
          "execution_count": 52,
          "metadata": {},
          "output_type": "execute_result"
        }
      ]
    },
    {
      "cell_type": "code",
      "metadata": {
        "id": "drPqkPin0Kyh",
        "outputId": "262e98f0-485d-4fa2-d108-5ad0c1f8889f"
      },
      "source": [
        "users_predicts_k = np.zeros(ratings_test.shape)\n",
        "for i in range(ratings_test.shape[0]):# para cada usuario del conjunto de test\n",
        "    users_predicts_k[i,:] = top_k_distances[i].T.dot(ratings_test[top_k_users][i]) / np.array([np.abs(top_k_distances[i].T).sum(axis=0)]).T\n",
        "get_mse(users_predicts_k, ratings_test)"
      ],
      "execution_count": null,
      "outputs": [
        {
          "ename": "IndexError",
          "evalue": "index 583 is out of bounds for axis 0 with size 283",
          "output_type": "error",
          "traceback": [
            "\u001b[0;31m---------------------------------------------------------------------------\u001b[0m",
            "\u001b[0;31mIndexError\u001b[0m                                Traceback (most recent call last)",
            "\u001b[0;32m<ipython-input-54-7df8ee7c964c>\u001b[0m in \u001b[0;36m<module>\u001b[0;34m\u001b[0m\n\u001b[1;32m      1\u001b[0m \u001b[0musers_predicts_k\u001b[0m \u001b[0;34m=\u001b[0m \u001b[0mnp\u001b[0m\u001b[0;34m.\u001b[0m\u001b[0mzeros\u001b[0m\u001b[0;34m(\u001b[0m\u001b[0mratings_test\u001b[0m\u001b[0;34m.\u001b[0m\u001b[0mshape\u001b[0m\u001b[0;34m)\u001b[0m\u001b[0;34m\u001b[0m\u001b[0;34m\u001b[0m\u001b[0m\n\u001b[1;32m      2\u001b[0m \u001b[0;32mfor\u001b[0m \u001b[0mi\u001b[0m \u001b[0;32min\u001b[0m \u001b[0mrange\u001b[0m\u001b[0;34m(\u001b[0m\u001b[0mratings_test\u001b[0m\u001b[0;34m.\u001b[0m\u001b[0mshape\u001b[0m\u001b[0;34m[\u001b[0m\u001b[0;36m0\u001b[0m\u001b[0;34m]\u001b[0m\u001b[0;34m)\u001b[0m\u001b[0;34m:\u001b[0m\u001b[0;31m# para cada usuario del conjunto de entrenamiento\u001b[0m\u001b[0;34m\u001b[0m\u001b[0;34m\u001b[0m\u001b[0m\n\u001b[0;32m----> 3\u001b[0;31m     \u001b[0musers_predicts_k\u001b[0m\u001b[0;34m[\u001b[0m\u001b[0mi\u001b[0m\u001b[0;34m,\u001b[0m\u001b[0;34m:\u001b[0m\u001b[0;34m]\u001b[0m \u001b[0;34m=\u001b[0m \u001b[0mtop_k_distances\u001b[0m\u001b[0;34m[\u001b[0m\u001b[0mi\u001b[0m\u001b[0;34m]\u001b[0m\u001b[0;34m.\u001b[0m\u001b[0mT\u001b[0m\u001b[0;34m.\u001b[0m\u001b[0mdot\u001b[0m\u001b[0;34m(\u001b[0m\u001b[0mratings_test\u001b[0m\u001b[0;34m[\u001b[0m\u001b[0mtop_k_users\u001b[0m\u001b[0;34m]\u001b[0m\u001b[0;34m[\u001b[0m\u001b[0mi\u001b[0m\u001b[0;34m]\u001b[0m\u001b[0;34m)\u001b[0m \u001b[0;34m/\u001b[0m \u001b[0mnp\u001b[0m\u001b[0;34m.\u001b[0m\u001b[0marray\u001b[0m\u001b[0;34m(\u001b[0m\u001b[0;34m[\u001b[0m\u001b[0mnp\u001b[0m\u001b[0;34m.\u001b[0m\u001b[0mabs\u001b[0m\u001b[0;34m(\u001b[0m\u001b[0mtop_k_distances\u001b[0m\u001b[0;34m[\u001b[0m\u001b[0mi\u001b[0m\u001b[0;34m]\u001b[0m\u001b[0;34m.\u001b[0m\u001b[0mT\u001b[0m\u001b[0;34m)\u001b[0m\u001b[0;34m.\u001b[0m\u001b[0msum\u001b[0m\u001b[0;34m(\u001b[0m\u001b[0maxis\u001b[0m\u001b[0;34m=\u001b[0m\u001b[0;36m0\u001b[0m\u001b[0;34m)\u001b[0m\u001b[0;34m]\u001b[0m\u001b[0;34m)\u001b[0m\u001b[0;34m.\u001b[0m\u001b[0mT\u001b[0m\u001b[0;34m\u001b[0m\u001b[0;34m\u001b[0m\u001b[0m\n\u001b[0m\u001b[1;32m      4\u001b[0m \u001b[0mget_mse\u001b[0m\u001b[0;34m(\u001b[0m\u001b[0musers_predicts_k\u001b[0m\u001b[0;34m,\u001b[0m \u001b[0mratings_test\u001b[0m\u001b[0;34m)\u001b[0m\u001b[0;34m\u001b[0m\u001b[0;34m\u001b[0m\u001b[0m\n",
            "\u001b[0;31mIndexError\u001b[0m: index 583 is out of bounds for axis 0 with size 283"
          ]
        }
      ]
    },
    {
      "cell_type": "code",
      "metadata": {
        "id": "_RgA8ufi0Kyh",
        "outputId": "ebcc7a2c-c063-4c2e-d07e-d83bb3f7f5cb"
      },
      "source": [
        "ratings_test"
      ],
      "execution_count": null,
      "outputs": [
        {
          "data": {
            "text/plain": [
              "array([[4., 0., 0., ..., 0., 0., 0.],\n",
              "       [0., 0., 0., ..., 0., 0., 0.],\n",
              "       [0., 0., 0., ..., 0., 0., 0.],\n",
              "       ...,\n",
              "       [2., 4., 0., ..., 0., 0., 0.],\n",
              "       [0., 0., 0., ..., 0., 0., 0.],\n",
              "       [0., 0., 0., ..., 0., 0., 0.]])"
            ]
          },
          "execution_count": 55,
          "metadata": {},
          "output_type": "execute_result"
        }
      ]
    },
    {
      "cell_type": "markdown",
      "metadata": {
        "id": "VGnMLITZ0Kyi"
      },
      "source": [
        "## Filtro colaborativo basado en Items"
      ]
    },
    {
      "cell_type": "code",
      "metadata": {
        "id": "mZBlSBwZ0Kyi",
        "outputId": "cf8a1bff-dfa0-4f22-a4be-47a325657329"
      },
      "source": [
        "n_movies = ratings_train.shape[1]\n",
        "n_movies"
      ],
      "execution_count": null,
      "outputs": [
        {
          "data": {
            "text/plain": [
              "1682"
            ]
          },
          "execution_count": 100,
          "metadata": {},
          "output_type": "execute_result"
        }
      ]
    },
    {
      "cell_type": "code",
      "metadata": {
        "id": "zq1yxyZu0Kyi"
      },
      "source": [
        "neighbors = NearestNeighbors(n_movies, 'cosine')"
      ],
      "execution_count": null,
      "outputs": []
    },
    {
      "cell_type": "code",
      "metadata": {
        "id": "1etnxrHJ0Kyi",
        "outputId": "d035018d-41a5-46f7-a6ad-f7928a0508b0"
      },
      "source": [
        "neighbors.fit(ratings_train.T)"
      ],
      "execution_count": null,
      "outputs": [
        {
          "data": {
            "text/plain": [
              "NearestNeighbors(algorithm='auto', leaf_size=30, metric='minkowski',\n",
              "         metric_params=None, n_jobs=1, n_neighbors=1682, p=2,\n",
              "         radius='cosine')"
            ]
          },
          "execution_count": 102,
          "metadata": {},
          "output_type": "execute_result"
        }
      ]
    },
    {
      "cell_type": "code",
      "metadata": {
        "id": "-yeHOdnj0Kyj"
      },
      "source": [
        "top_k_distances, top_k_items = neighbors.kneighbors(ratings_train.T, return_distance=True)"
      ],
      "execution_count": null,
      "outputs": []
    },
    {
      "cell_type": "code",
      "metadata": {
        "id": "0TWjoR6u0Kyj",
        "outputId": "795146c6-c08e-4b51-d432-c6af2e542c27"
      },
      "source": [
        "top_k_distances.shape"
      ],
      "execution_count": null,
      "outputs": [
        {
          "data": {
            "text/plain": [
              "(1682, 1682)"
            ]
          },
          "execution_count": 104,
          "metadata": {},
          "output_type": "execute_result"
        }
      ]
    },
    {
      "cell_type": "code",
      "metadata": {
        "id": "Llpu7G8H0Kyk",
        "outputId": "1ab4a514-cbec-4380-cfb3-b3ebc42733c2"
      },
      "source": [
        "top_k_distances"
      ],
      "execution_count": null,
      "outputs": [
        {
          "data": {
            "text/plain": [
              "array([[ 0.        , 53.12249994, 54.38749856, ..., 77.08436936,\n",
              "        77.39509028, 79.3473377 ],\n",
              "       [ 0.        , 27.        , 27.29468813, ..., 72.18032973,\n",
              "        75.65712128, 80.0874522 ],\n",
              "       [ 0.        , 24.77902339, 25.05992817, ..., 72.09022125,\n",
              "        75.27283707, 83.11437902],\n",
              "       ...,\n",
              "       [ 0.        ,  0.        ,  0.        , ..., 77.12976079,\n",
              "        80.79603951, 88.63407922],\n",
              "       [ 0.        ,  1.        ,  3.        , ..., 76.99350622,\n",
              "        80.7403245 , 88.51553536],\n",
              "       [ 0.        ,  1.        ,  3.        , ..., 77.03246069,\n",
              "        80.66597796, 88.51553536]])"
            ]
          },
          "execution_count": 119,
          "metadata": {},
          "output_type": "execute_result"
        }
      ]
    },
    {
      "cell_type": "code",
      "metadata": {
        "id": "A_uWxMah0Kyk",
        "outputId": "4c06c588-940a-4f94-e0d1-06196053d300"
      },
      "source": [
        "top_k_items.shape"
      ],
      "execution_count": null,
      "outputs": [
        {
          "data": {
            "text/plain": [
              "(1682, 1682)"
            ]
          },
          "execution_count": 108,
          "metadata": {},
          "output_type": "execute_result"
        }
      ]
    },
    {
      "cell_type": "code",
      "metadata": {
        "id": "WD1Mkrtc0Kyk",
        "outputId": "8618992b-6ee6-43e8-e7ea-a8162e51a898"
      },
      "source": [
        "top_k_items"
      ],
      "execution_count": null,
      "outputs": [
        {
          "data": {
            "text/plain": [
              "array([[   0,  120,  404, ...,  285,  312,  301],\n",
              "       [   1,  575,  232, ...,  257,   99,   49],\n",
              "       [   2,  742, 1094, ...,  180,   99,   49],\n",
              "       ...,\n",
              "       [1565, 1571, 1570, ...,  180,   99,   49],\n",
              "       [1680, 1671, 1582, ...,  180,   99,   49],\n",
              "       [1681, 1596, 1592, ...,  180,   99,   49]])"
            ]
          },
          "execution_count": 114,
          "metadata": {},
          "output_type": "execute_result"
        }
      ]
    },
    {
      "cell_type": "code",
      "metadata": {
        "id": "T7bIyWWW0Kyk"
      },
      "source": [
        "item_preds = ratings_train.dot(top_k_distances) / np.array([np.abs(top_k_distances).sum(axis=1)])"
      ],
      "execution_count": null,
      "outputs": []
    },
    {
      "cell_type": "code",
      "metadata": {
        "id": "lBz-oHZq0Kyl",
        "outputId": "3650de5d-5a92-4684-80d9-b7133011ee9f"
      },
      "source": [
        "item_preds.shape"
      ],
      "execution_count": null,
      "outputs": [
        {
          "data": {
            "text/plain": [
              "(660, 1682)"
            ]
          },
          "execution_count": 110,
          "metadata": {},
          "output_type": "execute_result"
        }
      ]
    },
    {
      "cell_type": "code",
      "metadata": {
        "id": "062UhUSP0Kyl",
        "outputId": "b165301c-ac82-485b-cdf1-86d78b8c0d25"
      },
      "source": [
        "item_preds"
      ],
      "execution_count": null,
      "outputs": [
        {
          "data": {
            "text/plain": [
              "array([[0.        , 0.31842643, 0.37009323, ..., 1.44850442, 1.4566397 ,\n",
              "        1.54530823],\n",
              "       [0.        , 0.0545379 , 0.06227954, ..., 0.20078701, 0.20112087,\n",
              "        0.21332472],\n",
              "       [0.        , 0.03522479, 0.04073126, ..., 0.18456903, 0.18654661,\n",
              "        0.20076303],\n",
              "       ...,\n",
              "       [0.        , 0.08968346, 0.10313623, ..., 0.42050197, 0.4196067 ,\n",
              "        0.45863507],\n",
              "       [0.        , 0.25835756, 0.29918119, ..., 1.31043371, 1.32278067,\n",
              "        1.41390683],\n",
              "       [0.        , 0.07174777, 0.08538024, ..., 0.25535196, 0.25259645,\n",
              "        0.26199652]])"
            ]
          },
          "execution_count": 111,
          "metadata": {},
          "output_type": "execute_result"
        }
      ]
    },
    {
      "cell_type": "code",
      "metadata": {
        "id": "bpVjNvHl0Kyl",
        "outputId": "142e0d68-40d3-4239-c2a0-0065ada47264"
      },
      "source": [
        "get_mse(item_preds, ratings_train)"
      ],
      "execution_count": null,
      "outputs": [
        {
          "data": {
            "text/plain": [
              "11.172565375125632"
            ]
          },
          "execution_count": 112,
          "metadata": {},
          "output_type": "execute_result"
        }
      ]
    },
    {
      "cell_type": "code",
      "metadata": {
        "id": "r_Ll1RwP0Kym",
        "outputId": "f387ebf7-401b-4f2a-f7a9-8e08280bd0df"
      },
      "source": [
        "get_mse(item_preds, ratings_test)"
      ],
      "execution_count": null,
      "outputs": [
        {
          "data": {
            "text/plain": [
              "11.876775601508902"
            ]
          },
          "execution_count": 113,
          "metadata": {},
          "output_type": "execute_result"
        }
      ]
    },
    {
      "cell_type": "markdown",
      "metadata": {
        "id": "vwmeZynO0Kym"
      },
      "source": [
        "### Filtrado colaborativo basado en KNN"
      ]
    },
    {
      "cell_type": "code",
      "metadata": {
        "id": "273YpCv70Kym"
      },
      "source": [
        "k = 30\n",
        "neighbors = NearestNeighbors(k, 'cosine')\n",
        "neighbors.fit(ratings_train.T)\n",
        "top_k_distances, top_k_items = neighbors.kneighbors(ratings_train.T, return_distance=True)"
      ],
      "execution_count": null,
      "outputs": []
    },
    {
      "cell_type": "code",
      "metadata": {
        "id": "iTDt6c5d0Kym",
        "outputId": "77d002ef-d69a-432e-e227-13a5d4f89e40"
      },
      "source": [
        "top_k_distances.shape"
      ],
      "execution_count": null,
      "outputs": [
        {
          "data": {
            "text/plain": [
              "(1682, 30)"
            ]
          },
          "execution_count": 121,
          "metadata": {},
          "output_type": "execute_result"
        }
      ]
    },
    {
      "cell_type": "code",
      "metadata": {
        "id": "lsn0Z1zF0Kyn",
        "outputId": "abfbc17b-d62f-4947-cca1-8b9c764d86c8"
      },
      "source": [
        "top_k_items[0]"
      ],
      "execution_count": null,
      "outputs": [
        {
          "data": {
            "text/plain": [
              "array([  0, 120, 404, 116, 221, 150, 117, 180,   6, 741,  27,  94, 256,\n",
              "       236, 124,  81,  24, 587, 227, 110, 234,  78, 203, 545,  70,  14,\n",
              "        68, 596,  49, 143])"
            ]
          },
          "execution_count": 122,
          "metadata": {},
          "output_type": "execute_result"
        }
      ]
    },
    {
      "cell_type": "code",
      "metadata": {
        "id": "YX3z8cI90Kyn",
        "outputId": "d22d8f10-85a2-42ba-9ccf-a4eee546bd9c"
      },
      "source": [
        "top_k_distances[0]"
      ],
      "execution_count": null,
      "outputs": [
        {
          "data": {
            "text/plain": [
              "array([ 0.        , 53.12249994, 54.38749856, 55.50675635, 56.49778757,\n",
              "       56.9473441 , 57.21013896, 57.81003373, 58.10335619, 58.16356248,\n",
              "       58.19793811, 58.37807808, 58.70264049, 58.83876273, 58.97457079,\n",
              "       59.52310476, 59.61543424, 59.84981203, 59.89156869, 59.94163828,\n",
              "       60.15812497, 60.35726965, 60.37383539, 60.63002556, 60.86049622,\n",
              "       61.11464636, 61.31883887, 61.37589103, 61.57109712, 61.80614856])"
            ]
          },
          "execution_count": 123,
          "metadata": {},
          "output_type": "execute_result"
        }
      ]
    },
    {
      "cell_type": "code",
      "metadata": {
        "id": "Ezr21dkG0Kyn",
        "outputId": "3e3cc9d8-5b50-4bf5-cd49-7a5938f2fa3f"
      },
      "source": [
        "preds = np.zeros(ratings_train.T.shape)\n",
        "for i in range(ratings_train.T.shape[0]):\n",
        "    if(i%50==0):\n",
        "        print(\"iter \"+str(i))\n",
        "    den = 1\n",
        "    if (np.abs(top_k_distances[i]).sum(axis=0)>0):\n",
        "        den = np.abs(top_k_distances[i]).sum(axis=0)\n",
        "    preds[i, :] = top_k_distances[i].dot(ratings_train.T[top_k_items][i])/np.array([den]).T"
      ],
      "execution_count": null,
      "outputs": [
        {
          "name": "stdout",
          "output_type": "stream",
          "text": [
            "iter0\n",
            "iter50\n",
            "iter100\n",
            "iter150\n",
            "iter200\n",
            "iter250\n",
            "iter300\n",
            "iter350\n",
            "iter400\n",
            "iter450\n",
            "iter500\n",
            "iter550\n",
            "iter600\n",
            "iter650\n",
            "iter700\n",
            "iter750\n",
            "iter800\n",
            "iter850\n",
            "iter900\n",
            "iter950\n",
            "iter1000\n",
            "iter1050\n",
            "iter1100\n",
            "iter1150\n",
            "iter1200\n",
            "iter1250\n",
            "iter1300\n",
            "iter1350\n",
            "iter1400\n",
            "iter1450\n",
            "iter1500\n",
            "iter1550\n",
            "iter1600\n",
            "iter1650\n"
          ]
        }
      ]
    },
    {
      "cell_type": "code",
      "metadata": {
        "id": "d8z-f4iv0Kyo",
        "outputId": "9bd1a2e4-5b7f-4c39-9418-8ae0154c9b82"
      },
      "source": [
        "get_mse(preds, ratings_train)"
      ],
      "execution_count": null,
      "outputs": [
        {
          "data": {
            "text/plain": [
              "8.732017359673444"
            ]
          },
          "execution_count": 158,
          "metadata": {},
          "output_type": "execute_result"
        }
      ]
    },
    {
      "cell_type": "code",
      "metadata": {
        "id": "Sn4A5lRJ0Kyo",
        "outputId": "0b61e4c4-14e8-448f-9939-8762df327bde"
      },
      "source": [
        "get_mse(preds, ratings_test)"
      ],
      "execution_count": null,
      "outputs": [
        {
          "data": {
            "text/plain": [
              "11.569842429886506"
            ]
          },
          "execution_count": 159,
          "metadata": {},
          "output_type": "execute_result"
        }
      ]
    },
    {
      "cell_type": "code",
      "metadata": {
        "id": "3O0pcQCX0Kyo",
        "outputId": "a902e9b1-fd73-406a-b4bf-fbaa0b6e58c9"
      },
      "source": [
        "preds.shape"
      ],
      "execution_count": null,
      "outputs": [
        {
          "data": {
            "text/plain": [
              "(1682, 660)"
            ]
          },
          "execution_count": 152,
          "metadata": {},
          "output_type": "execute_result"
        }
      ]
    },
    {
      "cell_type": "code",
      "metadata": {
        "id": "kZf4vvtU0Kyo",
        "outputId": "c6b492a6-e56a-45e7-de62-35d54eac91ff"
      },
      "source": [
        "ratings_train.shape"
      ],
      "execution_count": null,
      "outputs": [
        {
          "data": {
            "text/plain": [
              "(660, 1682)"
            ]
          },
          "execution_count": 153,
          "metadata": {},
          "output_type": "execute_result"
        }
      ]
    },
    {
      "cell_type": "code",
      "metadata": {
        "id": "4PXnbB3d0Kyp",
        "outputId": "ab6d6c00-7e65-4cef-d776-267001222707"
      },
      "source": [
        "ratings_test.shape"
      ],
      "execution_count": null,
      "outputs": [
        {
          "data": {
            "text/plain": [
              "(283, 1682)"
            ]
          },
          "execution_count": 154,
          "metadata": {},
          "output_type": "execute_result"
        }
      ]
    },
    {
      "cell_type": "code",
      "metadata": {
        "id": "7CFONQso0Kyp"
      },
      "source": [
        ""
      ],
      "execution_count": null,
      "outputs": []
    }
  ]
}