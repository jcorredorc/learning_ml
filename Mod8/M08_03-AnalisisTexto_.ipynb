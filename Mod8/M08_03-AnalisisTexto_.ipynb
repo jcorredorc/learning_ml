{
 "cells": [
  {
   "cell_type": "markdown",
   "metadata": {},
   "source": [
    "# Anállisis de texto con libreria **SPACY**"
   ]
  },
  {
   "cell_type": "code",
   "execution_count": 1,
   "metadata": {},
   "outputs": [],
   "source": [
    "# instalar\n",
    "#!pip install deplacy\n",
    "#!python -m spacy download es_core_news_sm"
   ]
  },
  {
   "cell_type": "code",
   "execution_count": 2,
   "metadata": {},
   "outputs": [
    {
     "name": "stderr",
     "output_type": "stream",
     "text": [
      "2021-10-13 17:02:35.070334: W tensorflow/stream_executor/platform/default/dso_loader.cc:64] Could not load dynamic library 'libcudart.so.11.0'; dlerror: libcudart.so.11.0: cannot open shared object file: No such file or directory; LD_LIBRARY_PATH: /home/javier/catkin_ws/devel/lib:/opt/ros/noetic/lib\n",
      "2021-10-13 17:02:35.070382: I tensorflow/stream_executor/cuda/cudart_stub.cc:29] Ignore above cudart dlerror if you do not have a GPU set up on your machine.\n"
     ]
    }
   ],
   "source": [
    "import spacy\n",
    "import pkg_resources, imp\n",
    "imp.reload(pkg_resources) \n",
    "nlp = spacy.load('en_core_web_sm')\n"
   ]
  },
  {
   "cell_type": "code",
   "execution_count": 3,
   "metadata": {},
   "outputs": [],
   "source": [
    "texto = \"Finished with my woman cause She couldnt help me with my mind. People think I'm insane because I am frowning all the time, All day long I think of things; But nothing seems to satisfy. Think I'll lose my mind If I don't find something to pacify. Can you help me, Occupy my brain?\" \n",
    "doc =nlp(texto)\n"
   ]
  },
  {
   "cell_type": "code",
   "execution_count": 4,
   "metadata": {},
   "outputs": [
    {
     "name": "stdout",
     "output_type": "stream",
     "text": [
      "VERB       Finished\n",
      "ADP        with\n",
      "PRON       my\n",
      "NOUN       woman\n",
      "SCONJ      cause\n",
      "PRON       She\n",
      "AUX        could\n",
      "PART       nt\n",
      "VERB       help\n",
      "PRON       me\n",
      "ADP        with\n",
      "PRON       my\n",
      "NOUN       mind\n",
      "PUNCT      .\n",
      "NOUN       People\n",
      "VERB       think\n",
      "PRON       I\n",
      "VERB       'm\n",
      "ADJ        insane\n",
      "SCONJ      because\n",
      "PRON       I\n",
      "AUX        am\n",
      "VERB       frowning\n",
      "DET        all\n",
      "DET        the\n",
      "NOUN       time\n",
      "PUNCT      ,\n",
      "DET        All\n",
      "NOUN       day\n",
      "ADV        long\n",
      "PRON       I\n",
      "VERB       think\n",
      "ADP        of\n",
      "NOUN       things\n",
      "PUNCT      ;\n",
      "CCONJ      But\n",
      "PRON       nothing\n",
      "VERB       seems\n",
      "PART       to\n",
      "VERB       satisfy\n",
      "PUNCT      .\n",
      "VERB       Think\n",
      "PRON       I\n",
      "AUX        'll\n",
      "VERB       lose\n",
      "PRON       my\n",
      "NOUN       mind\n",
      "SCONJ      If\n",
      "PRON       I\n",
      "AUX        do\n",
      "PART       n't\n",
      "VERB       find\n",
      "PRON       something\n",
      "PART       to\n",
      "VERB       pacify\n",
      "PUNCT      .\n",
      "AUX        Can\n",
      "PRON       you\n",
      "VERB       help\n",
      "PRON       me\n",
      "PUNCT      ,\n",
      "VERB       Occupy\n",
      "PRON       my\n",
      "NOUN       brain\n",
      "PUNCT      ?\n"
     ]
    }
   ],
   "source": [
    "for palabra in doc:\n",
    "     # print(f'{palabra} {palabra.pos_}')\n",
    "    print(f'{palabra.pos_:{10}} {palabra}')\n"
   ]
  },
  {
   "cell_type": "code",
   "execution_count": 5,
   "metadata": {},
   "outputs": [
    {
     "name": "stdout",
     "output_type": "stream",
     "text": [
      "Finished with my woman cause She couldnt help me with my mind.\n",
      "People think I'm insane because I am frowning all the time, All day long I think of things; But nothing seems to satisfy.\n",
      "Think I'll lose my mind If I don't find something to pacify.\n",
      "Can you help me, Occupy my brain?\n"
     ]
    }
   ],
   "source": [
    "for frase in doc.sents:\n",
    "    print(f'{frase}')"
   ]
  },
  {
   "cell_type": "code",
   "execution_count": 6,
   "metadata": {},
   "outputs": [
    {
     "name": "stdout",
     "output_type": "stream",
     "text": [
      "my woman\n",
      "She\n",
      "me\n",
      "my mind\n",
      "People\n",
      "I\n",
      "I\n",
      "all the time\n",
      "I\n",
      "things\n",
      "nothing\n",
      "I\n",
      "my mind\n",
      "I\n",
      "something\n",
      "you\n",
      "me\n",
      "my brain\n"
     ]
    }
   ],
   "source": [
    "for componente in doc.noun_chunks:\n",
    "    print(componente)"
   ]
  },
  {
   "cell_type": "code",
   "execution_count": 7,
   "metadata": {},
   "outputs": [],
   "source": [
    "# visualizacion\n",
    "doc2 = nlp('Nobody wants him, He just stares at the world. Planning his vengeance,that he will soon unfurl')\n"
   ]
  },
  {
   "cell_type": "code",
   "execution_count": 8,
   "metadata": {},
   "outputs": [
    {
     "data": {
      "text/html": [
       "<span class=\"tex2jax_ignore\"><svg xmlns=\"http://www.w3.org/2000/svg\" xmlns:xlink=\"http://www.w3.org/1999/xlink\" xml:lang=\"en\" id=\"36a8edc11d744cf797d65c5172df7726-0\" class=\"displacy\" width=\"1750\" height=\"387.0\" direction=\"ltr\" style=\"max-width: none; height: 387.0px; color: #000000; background: #ffffff; font-family: Arial; direction: ltr\">\n",
       "<text class=\"displacy-token\" fill=\"currentColor\" text-anchor=\"middle\" y=\"297.0\">\n",
       "    <tspan class=\"displacy-word\" fill=\"currentColor\" x=\"50\">Nobody</tspan>\n",
       "    <tspan class=\"displacy-tag\" dy=\"2em\" fill=\"currentColor\" x=\"50\">PRON</tspan>\n",
       "</text>\n",
       "\n",
       "<text class=\"displacy-token\" fill=\"currentColor\" text-anchor=\"middle\" y=\"297.0\">\n",
       "    <tspan class=\"displacy-word\" fill=\"currentColor\" x=\"150\">wants</tspan>\n",
       "    <tspan class=\"displacy-tag\" dy=\"2em\" fill=\"currentColor\" x=\"150\">VERB</tspan>\n",
       "</text>\n",
       "\n",
       "<text class=\"displacy-token\" fill=\"currentColor\" text-anchor=\"middle\" y=\"297.0\">\n",
       "    <tspan class=\"displacy-word\" fill=\"currentColor\" x=\"250\">him,</tspan>\n",
       "    <tspan class=\"displacy-tag\" dy=\"2em\" fill=\"currentColor\" x=\"250\">PRON</tspan>\n",
       "</text>\n",
       "\n",
       "<text class=\"displacy-token\" fill=\"currentColor\" text-anchor=\"middle\" y=\"297.0\">\n",
       "    <tspan class=\"displacy-word\" fill=\"currentColor\" x=\"350\">He</tspan>\n",
       "    <tspan class=\"displacy-tag\" dy=\"2em\" fill=\"currentColor\" x=\"350\">PRON</tspan>\n",
       "</text>\n",
       "\n",
       "<text class=\"displacy-token\" fill=\"currentColor\" text-anchor=\"middle\" y=\"297.0\">\n",
       "    <tspan class=\"displacy-word\" fill=\"currentColor\" x=\"450\">just</tspan>\n",
       "    <tspan class=\"displacy-tag\" dy=\"2em\" fill=\"currentColor\" x=\"450\">ADV</tspan>\n",
       "</text>\n",
       "\n",
       "<text class=\"displacy-token\" fill=\"currentColor\" text-anchor=\"middle\" y=\"297.0\">\n",
       "    <tspan class=\"displacy-word\" fill=\"currentColor\" x=\"550\">stares</tspan>\n",
       "    <tspan class=\"displacy-tag\" dy=\"2em\" fill=\"currentColor\" x=\"550\">VERB</tspan>\n",
       "</text>\n",
       "\n",
       "<text class=\"displacy-token\" fill=\"currentColor\" text-anchor=\"middle\" y=\"297.0\">\n",
       "    <tspan class=\"displacy-word\" fill=\"currentColor\" x=\"650\">at</tspan>\n",
       "    <tspan class=\"displacy-tag\" dy=\"2em\" fill=\"currentColor\" x=\"650\">ADP</tspan>\n",
       "</text>\n",
       "\n",
       "<text class=\"displacy-token\" fill=\"currentColor\" text-anchor=\"middle\" y=\"297.0\">\n",
       "    <tspan class=\"displacy-word\" fill=\"currentColor\" x=\"750\">the</tspan>\n",
       "    <tspan class=\"displacy-tag\" dy=\"2em\" fill=\"currentColor\" x=\"750\">DET</tspan>\n",
       "</text>\n",
       "\n",
       "<text class=\"displacy-token\" fill=\"currentColor\" text-anchor=\"middle\" y=\"297.0\">\n",
       "    <tspan class=\"displacy-word\" fill=\"currentColor\" x=\"850\">world.</tspan>\n",
       "    <tspan class=\"displacy-tag\" dy=\"2em\" fill=\"currentColor\" x=\"850\">NOUN</tspan>\n",
       "</text>\n",
       "\n",
       "<text class=\"displacy-token\" fill=\"currentColor\" text-anchor=\"middle\" y=\"297.0\">\n",
       "    <tspan class=\"displacy-word\" fill=\"currentColor\" x=\"950\">Planning</tspan>\n",
       "    <tspan class=\"displacy-tag\" dy=\"2em\" fill=\"currentColor\" x=\"950\">VERB</tspan>\n",
       "</text>\n",
       "\n",
       "<text class=\"displacy-token\" fill=\"currentColor\" text-anchor=\"middle\" y=\"297.0\">\n",
       "    <tspan class=\"displacy-word\" fill=\"currentColor\" x=\"1050\">his</tspan>\n",
       "    <tspan class=\"displacy-tag\" dy=\"2em\" fill=\"currentColor\" x=\"1050\">PRON</tspan>\n",
       "</text>\n",
       "\n",
       "<text class=\"displacy-token\" fill=\"currentColor\" text-anchor=\"middle\" y=\"297.0\">\n",
       "    <tspan class=\"displacy-word\" fill=\"currentColor\" x=\"1150\">vengeance,</tspan>\n",
       "    <tspan class=\"displacy-tag\" dy=\"2em\" fill=\"currentColor\" x=\"1150\">NOUN</tspan>\n",
       "</text>\n",
       "\n",
       "<text class=\"displacy-token\" fill=\"currentColor\" text-anchor=\"middle\" y=\"297.0\">\n",
       "    <tspan class=\"displacy-word\" fill=\"currentColor\" x=\"1250\">that</tspan>\n",
       "    <tspan class=\"displacy-tag\" dy=\"2em\" fill=\"currentColor\" x=\"1250\">SCONJ</tspan>\n",
       "</text>\n",
       "\n",
       "<text class=\"displacy-token\" fill=\"currentColor\" text-anchor=\"middle\" y=\"297.0\">\n",
       "    <tspan class=\"displacy-word\" fill=\"currentColor\" x=\"1350\">he</tspan>\n",
       "    <tspan class=\"displacy-tag\" dy=\"2em\" fill=\"currentColor\" x=\"1350\">PRON</tspan>\n",
       "</text>\n",
       "\n",
       "<text class=\"displacy-token\" fill=\"currentColor\" text-anchor=\"middle\" y=\"297.0\">\n",
       "    <tspan class=\"displacy-word\" fill=\"currentColor\" x=\"1450\">will</tspan>\n",
       "    <tspan class=\"displacy-tag\" dy=\"2em\" fill=\"currentColor\" x=\"1450\">AUX</tspan>\n",
       "</text>\n",
       "\n",
       "<text class=\"displacy-token\" fill=\"currentColor\" text-anchor=\"middle\" y=\"297.0\">\n",
       "    <tspan class=\"displacy-word\" fill=\"currentColor\" x=\"1550\">soon</tspan>\n",
       "    <tspan class=\"displacy-tag\" dy=\"2em\" fill=\"currentColor\" x=\"1550\">ADV</tspan>\n",
       "</text>\n",
       "\n",
       "<text class=\"displacy-token\" fill=\"currentColor\" text-anchor=\"middle\" y=\"297.0\">\n",
       "    <tspan class=\"displacy-word\" fill=\"currentColor\" x=\"1650\">unfurl</tspan>\n",
       "    <tspan class=\"displacy-tag\" dy=\"2em\" fill=\"currentColor\" x=\"1650\">ADJ</tspan>\n",
       "</text>\n",
       "\n",
       "<g class=\"displacy-arrow\">\n",
       "    <path class=\"displacy-arc\" id=\"arrow-36a8edc11d744cf797d65c5172df7726-0-0\" stroke-width=\"2px\" d=\"M70,252.0 C70,202.0 130.0,202.0 130.0,252.0\" fill=\"none\" stroke=\"currentColor\"/>\n",
       "    <text dy=\"1.25em\" style=\"font-size: 0.8em; letter-spacing: 1px\">\n",
       "        <textPath xlink:href=\"#arrow-36a8edc11d744cf797d65c5172df7726-0-0\" class=\"displacy-label\" startOffset=\"50%\" side=\"left\" fill=\"currentColor\" text-anchor=\"middle\">nsubj</textPath>\n",
       "    </text>\n",
       "    <path class=\"displacy-arrowhead\" d=\"M70,254.0 L62,242.0 78,242.0\" fill=\"currentColor\"/>\n",
       "</g>\n",
       "\n",
       "<g class=\"displacy-arrow\">\n",
       "    <path class=\"displacy-arc\" id=\"arrow-36a8edc11d744cf797d65c5172df7726-0-1\" stroke-width=\"2px\" d=\"M170,252.0 C170,52.0 545.0,52.0 545.0,252.0\" fill=\"none\" stroke=\"currentColor\"/>\n",
       "    <text dy=\"1.25em\" style=\"font-size: 0.8em; letter-spacing: 1px\">\n",
       "        <textPath xlink:href=\"#arrow-36a8edc11d744cf797d65c5172df7726-0-1\" class=\"displacy-label\" startOffset=\"50%\" side=\"left\" fill=\"currentColor\" text-anchor=\"middle\">ccomp</textPath>\n",
       "    </text>\n",
       "    <path class=\"displacy-arrowhead\" d=\"M170,254.0 L162,242.0 178,242.0\" fill=\"currentColor\"/>\n",
       "</g>\n",
       "\n",
       "<g class=\"displacy-arrow\">\n",
       "    <path class=\"displacy-arc\" id=\"arrow-36a8edc11d744cf797d65c5172df7726-0-2\" stroke-width=\"2px\" d=\"M170,252.0 C170,202.0 230.0,202.0 230.0,252.0\" fill=\"none\" stroke=\"currentColor\"/>\n",
       "    <text dy=\"1.25em\" style=\"font-size: 0.8em; letter-spacing: 1px\">\n",
       "        <textPath xlink:href=\"#arrow-36a8edc11d744cf797d65c5172df7726-0-2\" class=\"displacy-label\" startOffset=\"50%\" side=\"left\" fill=\"currentColor\" text-anchor=\"middle\">dobj</textPath>\n",
       "    </text>\n",
       "    <path class=\"displacy-arrowhead\" d=\"M230.0,254.0 L238.0,242.0 222.0,242.0\" fill=\"currentColor\"/>\n",
       "</g>\n",
       "\n",
       "<g class=\"displacy-arrow\">\n",
       "    <path class=\"displacy-arc\" id=\"arrow-36a8edc11d744cf797d65c5172df7726-0-3\" stroke-width=\"2px\" d=\"M370,252.0 C370,152.0 535.0,152.0 535.0,252.0\" fill=\"none\" stroke=\"currentColor\"/>\n",
       "    <text dy=\"1.25em\" style=\"font-size: 0.8em; letter-spacing: 1px\">\n",
       "        <textPath xlink:href=\"#arrow-36a8edc11d744cf797d65c5172df7726-0-3\" class=\"displacy-label\" startOffset=\"50%\" side=\"left\" fill=\"currentColor\" text-anchor=\"middle\">nsubj</textPath>\n",
       "    </text>\n",
       "    <path class=\"displacy-arrowhead\" d=\"M370,254.0 L362,242.0 378,242.0\" fill=\"currentColor\"/>\n",
       "</g>\n",
       "\n",
       "<g class=\"displacy-arrow\">\n",
       "    <path class=\"displacy-arc\" id=\"arrow-36a8edc11d744cf797d65c5172df7726-0-4\" stroke-width=\"2px\" d=\"M470,252.0 C470,202.0 530.0,202.0 530.0,252.0\" fill=\"none\" stroke=\"currentColor\"/>\n",
       "    <text dy=\"1.25em\" style=\"font-size: 0.8em; letter-spacing: 1px\">\n",
       "        <textPath xlink:href=\"#arrow-36a8edc11d744cf797d65c5172df7726-0-4\" class=\"displacy-label\" startOffset=\"50%\" side=\"left\" fill=\"currentColor\" text-anchor=\"middle\">advmod</textPath>\n",
       "    </text>\n",
       "    <path class=\"displacy-arrowhead\" d=\"M470,254.0 L462,242.0 478,242.0\" fill=\"currentColor\"/>\n",
       "</g>\n",
       "\n",
       "<g class=\"displacy-arrow\">\n",
       "    <path class=\"displacy-arc\" id=\"arrow-36a8edc11d744cf797d65c5172df7726-0-5\" stroke-width=\"2px\" d=\"M570,252.0 C570,202.0 630.0,202.0 630.0,252.0\" fill=\"none\" stroke=\"currentColor\"/>\n",
       "    <text dy=\"1.25em\" style=\"font-size: 0.8em; letter-spacing: 1px\">\n",
       "        <textPath xlink:href=\"#arrow-36a8edc11d744cf797d65c5172df7726-0-5\" class=\"displacy-label\" startOffset=\"50%\" side=\"left\" fill=\"currentColor\" text-anchor=\"middle\">prep</textPath>\n",
       "    </text>\n",
       "    <path class=\"displacy-arrowhead\" d=\"M630.0,254.0 L638.0,242.0 622.0,242.0\" fill=\"currentColor\"/>\n",
       "</g>\n",
       "\n",
       "<g class=\"displacy-arrow\">\n",
       "    <path class=\"displacy-arc\" id=\"arrow-36a8edc11d744cf797d65c5172df7726-0-6\" stroke-width=\"2px\" d=\"M770,252.0 C770,202.0 830.0,202.0 830.0,252.0\" fill=\"none\" stroke=\"currentColor\"/>\n",
       "    <text dy=\"1.25em\" style=\"font-size: 0.8em; letter-spacing: 1px\">\n",
       "        <textPath xlink:href=\"#arrow-36a8edc11d744cf797d65c5172df7726-0-6\" class=\"displacy-label\" startOffset=\"50%\" side=\"left\" fill=\"currentColor\" text-anchor=\"middle\">det</textPath>\n",
       "    </text>\n",
       "    <path class=\"displacy-arrowhead\" d=\"M770,254.0 L762,242.0 778,242.0\" fill=\"currentColor\"/>\n",
       "</g>\n",
       "\n",
       "<g class=\"displacy-arrow\">\n",
       "    <path class=\"displacy-arc\" id=\"arrow-36a8edc11d744cf797d65c5172df7726-0-7\" stroke-width=\"2px\" d=\"M670,252.0 C670,152.0 835.0,152.0 835.0,252.0\" fill=\"none\" stroke=\"currentColor\"/>\n",
       "    <text dy=\"1.25em\" style=\"font-size: 0.8em; letter-spacing: 1px\">\n",
       "        <textPath xlink:href=\"#arrow-36a8edc11d744cf797d65c5172df7726-0-7\" class=\"displacy-label\" startOffset=\"50%\" side=\"left\" fill=\"currentColor\" text-anchor=\"middle\">pobj</textPath>\n",
       "    </text>\n",
       "    <path class=\"displacy-arrowhead\" d=\"M835.0,254.0 L843.0,242.0 827.0,242.0\" fill=\"currentColor\"/>\n",
       "</g>\n",
       "\n",
       "<g class=\"displacy-arrow\">\n",
       "    <path class=\"displacy-arc\" id=\"arrow-36a8edc11d744cf797d65c5172df7726-0-8\" stroke-width=\"2px\" d=\"M970,252.0 C970,2.0 1650.0,2.0 1650.0,252.0\" fill=\"none\" stroke=\"currentColor\"/>\n",
       "    <text dy=\"1.25em\" style=\"font-size: 0.8em; letter-spacing: 1px\">\n",
       "        <textPath xlink:href=\"#arrow-36a8edc11d744cf797d65c5172df7726-0-8\" class=\"displacy-label\" startOffset=\"50%\" side=\"left\" fill=\"currentColor\" text-anchor=\"middle\">advcl</textPath>\n",
       "    </text>\n",
       "    <path class=\"displacy-arrowhead\" d=\"M970,254.0 L962,242.0 978,242.0\" fill=\"currentColor\"/>\n",
       "</g>\n",
       "\n",
       "<g class=\"displacy-arrow\">\n",
       "    <path class=\"displacy-arc\" id=\"arrow-36a8edc11d744cf797d65c5172df7726-0-9\" stroke-width=\"2px\" d=\"M1070,252.0 C1070,202.0 1130.0,202.0 1130.0,252.0\" fill=\"none\" stroke=\"currentColor\"/>\n",
       "    <text dy=\"1.25em\" style=\"font-size: 0.8em; letter-spacing: 1px\">\n",
       "        <textPath xlink:href=\"#arrow-36a8edc11d744cf797d65c5172df7726-0-9\" class=\"displacy-label\" startOffset=\"50%\" side=\"left\" fill=\"currentColor\" text-anchor=\"middle\">poss</textPath>\n",
       "    </text>\n",
       "    <path class=\"displacy-arrowhead\" d=\"M1070,254.0 L1062,242.0 1078,242.0\" fill=\"currentColor\"/>\n",
       "</g>\n",
       "\n",
       "<g class=\"displacy-arrow\">\n",
       "    <path class=\"displacy-arc\" id=\"arrow-36a8edc11d744cf797d65c5172df7726-0-10\" stroke-width=\"2px\" d=\"M970,252.0 C970,152.0 1135.0,152.0 1135.0,252.0\" fill=\"none\" stroke=\"currentColor\"/>\n",
       "    <text dy=\"1.25em\" style=\"font-size: 0.8em; letter-spacing: 1px\">\n",
       "        <textPath xlink:href=\"#arrow-36a8edc11d744cf797d65c5172df7726-0-10\" class=\"displacy-label\" startOffset=\"50%\" side=\"left\" fill=\"currentColor\" text-anchor=\"middle\">dobj</textPath>\n",
       "    </text>\n",
       "    <path class=\"displacy-arrowhead\" d=\"M1135.0,254.0 L1143.0,242.0 1127.0,242.0\" fill=\"currentColor\"/>\n",
       "</g>\n",
       "\n",
       "<g class=\"displacy-arrow\">\n",
       "    <path class=\"displacy-arc\" id=\"arrow-36a8edc11d744cf797d65c5172df7726-0-11\" stroke-width=\"2px\" d=\"M1270,252.0 C1270,52.0 1645.0,52.0 1645.0,252.0\" fill=\"none\" stroke=\"currentColor\"/>\n",
       "    <text dy=\"1.25em\" style=\"font-size: 0.8em; letter-spacing: 1px\">\n",
       "        <textPath xlink:href=\"#arrow-36a8edc11d744cf797d65c5172df7726-0-11\" class=\"displacy-label\" startOffset=\"50%\" side=\"left\" fill=\"currentColor\" text-anchor=\"middle\">mark</textPath>\n",
       "    </text>\n",
       "    <path class=\"displacy-arrowhead\" d=\"M1270,254.0 L1262,242.0 1278,242.0\" fill=\"currentColor\"/>\n",
       "</g>\n",
       "\n",
       "<g class=\"displacy-arrow\">\n",
       "    <path class=\"displacy-arc\" id=\"arrow-36a8edc11d744cf797d65c5172df7726-0-12\" stroke-width=\"2px\" d=\"M1370,252.0 C1370,102.0 1640.0,102.0 1640.0,252.0\" fill=\"none\" stroke=\"currentColor\"/>\n",
       "    <text dy=\"1.25em\" style=\"font-size: 0.8em; letter-spacing: 1px\">\n",
       "        <textPath xlink:href=\"#arrow-36a8edc11d744cf797d65c5172df7726-0-12\" class=\"displacy-label\" startOffset=\"50%\" side=\"left\" fill=\"currentColor\" text-anchor=\"middle\">nsubj</textPath>\n",
       "    </text>\n",
       "    <path class=\"displacy-arrowhead\" d=\"M1370,254.0 L1362,242.0 1378,242.0\" fill=\"currentColor\"/>\n",
       "</g>\n",
       "\n",
       "<g class=\"displacy-arrow\">\n",
       "    <path class=\"displacy-arc\" id=\"arrow-36a8edc11d744cf797d65c5172df7726-0-13\" stroke-width=\"2px\" d=\"M1470,252.0 C1470,152.0 1635.0,152.0 1635.0,252.0\" fill=\"none\" stroke=\"currentColor\"/>\n",
       "    <text dy=\"1.25em\" style=\"font-size: 0.8em; letter-spacing: 1px\">\n",
       "        <textPath xlink:href=\"#arrow-36a8edc11d744cf797d65c5172df7726-0-13\" class=\"displacy-label\" startOffset=\"50%\" side=\"left\" fill=\"currentColor\" text-anchor=\"middle\">aux</textPath>\n",
       "    </text>\n",
       "    <path class=\"displacy-arrowhead\" d=\"M1470,254.0 L1462,242.0 1478,242.0\" fill=\"currentColor\"/>\n",
       "</g>\n",
       "\n",
       "<g class=\"displacy-arrow\">\n",
       "    <path class=\"displacy-arc\" id=\"arrow-36a8edc11d744cf797d65c5172df7726-0-14\" stroke-width=\"2px\" d=\"M1570,252.0 C1570,202.0 1630.0,202.0 1630.0,252.0\" fill=\"none\" stroke=\"currentColor\"/>\n",
       "    <text dy=\"1.25em\" style=\"font-size: 0.8em; letter-spacing: 1px\">\n",
       "        <textPath xlink:href=\"#arrow-36a8edc11d744cf797d65c5172df7726-0-14\" class=\"displacy-label\" startOffset=\"50%\" side=\"left\" fill=\"currentColor\" text-anchor=\"middle\">advmod</textPath>\n",
       "    </text>\n",
       "    <path class=\"displacy-arrowhead\" d=\"M1570,254.0 L1562,242.0 1578,242.0\" fill=\"currentColor\"/>\n",
       "</g>\n",
       "</svg></span>"
      ],
      "text/plain": [
       "<IPython.core.display.HTML object>"
      ]
     },
     "metadata": {},
     "output_type": "display_data"
    }
   ],
   "source": [
    "from spacy import displacy\n",
    "displacy.render(doc2, style='dep', options={'distance':100})"
   ]
  },
  {
   "cell_type": "code",
   "execution_count": 9,
   "metadata": {},
   "outputs": [
    {
     "name": "stdout",
     "output_type": "stream",
     "text": [
      "{'ten', 'all', 'throughout', 'get', 'there', 'other', 'please', 'upon', 'yourselves', '‘ll', 'somehow', 'we', 'an', 'most', 'too', 'sometime', 'became', 'part', \"'d\", 'beforehand', 'so', 'therein', 'eleven', 'whence', 'five', 'himself', 'will', 'were', 'twenty', 'fifteen', 'within', 'nowhere', 'thereafter', 'i', 'really', 'he', 'two', 'last', 'amongst', 'been', 'these', 'hers', 'wherever', '’re', 'together', 'nor', 'hereafter', 'call', 'off', 'my', 'well', 'no', 'was', 'not', 'made', 'indeed', '‘d', 'used', 'latter', 'give', 'may', 'who', 'ours', 'n’t', 'another', 'above', 'though', 'only', 'empty', 'seem', '’ll', 'bottom', 'whose', 'after', 'put', 'also', 'very', 'forty', 'eight', 'less', 'how', '‘s', 'along', 'below', 'already', 'four', 'ca', 'that', 'however', 'else', 'become', 'therefore', \"'re\", 'you', 'because', 'more', 'themselves', 'thereby', \"'ve\", 'mine', 'three', 'whatever', 'had', 'meanwhile', 'using', 'could', 'mostly', 'their', 'rather', 'several', 'such', 'around', 'where', 'this', 'noone', 'whole', 'without', 'afterwards', 'his', 'our', 'move', 'myself', 'for', 'six', 'and', 'can', 'has', 'nothing', 'becoming', 'she', 'anyone', 'each', 'show', 'whoever', \"'s\", 'whither', 'amount', 'across', 'nine', 'except', 'elsewhere', 'down', 'top', 'them', 'via', 'alone', 'next', 'which', 'among', 'again', \"'m\", 'us', 'beyond', 'first', 'full', 'whereas', \"n't\", 'one', 'hereby', 'per', 'did', 'it', 'are', 'everything', 'neither', 'much', 'side', 'since', 'whereupon', '‘ve', 'whether', 'your', 'being', 'then', 'me', 'everyone', 'against', 'does', 'still', '‘re', 'some', 'at', 'make', 'out', 'her', 'something', 'when', 'whereafter', '’d', 'done', 'nevertheless', 'enough', 'to', 'until', 'seems', 'any', 'but', 'now', 'someone', 'is', 'am', 'none', 'its', 'same', 'never', 'cannot', 'of', 'during', 'serious', 'many', 'they', 'due', 'be', 'latterly', 'as', 'take', 'unless', 'behind', 'toward', 'say', 'a', 'ourselves', 'name', 'yours', 'perhaps', 'just', 'into', 'wherein', 'almost', 'further', 'sometimes', 'moreover', 'anywhere', 'about', 'those', 'besides', 'ever', 'itself', 'anyway', 'both', 'whenever', 'by', 'herself', 're', 'somewhere', 'hundred', 'everywhere', 'would', 'hence', 'always', 'must', 'third', 'might', 'while', 'onto', 'otherwise', 'few', 'thus', 'towards', 'former', 'anything', 'see', 'what', 'thence', 'although', 'nobody', 'beside', 'n‘t', 'or', 'yet', 'back', '’m', 'namely', 'often', 'should', 'keep', 'regarding', 'why', 'hereupon', '‘m', 'various', 'here', 'others', 'the', 'whereby', 'front', 'anyhow', 'doing', 'with', 'thru', 'on', 'thereupon', 'have', 'seemed', '’ve', 'fifty', 'do', 'yourself', 'him', \"'ll\", 'under', 'than', 'in', 'whom', 'once', '’s', 'seeming', 'through', 'before', 'up', 'herein', 'sixty', 'over', 'becomes', 'if', 'either', 'every', 'own', 'least', 'formerly', 'go', 'from', 'twelve', 'even', 'between', 'quite'}\n"
     ]
    }
   ],
   "source": [
    "# Palabras que no tienen significado\n",
    "print(nlp.Defaults.stop_words)"
   ]
  },
  {
   "cell_type": "code",
   "execution_count": 10,
   "metadata": {},
   "outputs": [
    {
     "data": {
      "text/plain": [
       "326"
      ]
     },
     "execution_count": 10,
     "metadata": {},
     "output_type": "execute_result"
    }
   ],
   "source": [
    "len(nlp.Defaults.stop_words) # numero de palabras del diccionario consideradas stop_words"
   ]
  },
  {
   "cell_type": "code",
   "execution_count": 11,
   "metadata": {},
   "outputs": [
    {
     "data": {
      "text/plain": [
       "True"
      ]
     },
     "execution_count": 11,
     "metadata": {},
     "output_type": "execute_result"
    }
   ],
   "source": [
    "nlp.vocab['none'].is_stop## saber si una palabra esta en stop_words"
   ]
  },
  {
   "cell_type": "code",
   "execution_count": 12,
   "metadata": {},
   "outputs": [],
   "source": [
    "# agregar una palabra como stop_word\n",
    "#nlp.Defaults.stop_words.add('any')\n",
    "#nlp.vocab['none'].is_stop=True"
   ]
  },
  {
   "cell_type": "code",
   "execution_count": 13,
   "metadata": {},
   "outputs": [],
   "source": [
    "# emparejamiento\n",
    "from spacy.matcher import Matcher\n",
    "#crear objeto y el vocabulario\n",
    "matchers = Matcher(nlp.vocab) # \n"
   ]
  },
  {
   "cell_type": "code",
   "execution_count": 14,
   "metadata": {},
   "outputs": [],
   "source": [
    "patron = [{'LOWER':'his'}] # encontrar en minusculas la palabra his"
   ]
  },
  {
   "cell_type": "code",
   "execution_count": 15,
   "metadata": {},
   "outputs": [
    {
     "ename": "TypeError",
     "evalue": "add() takes exactly 2 positional arguments (3 given)",
     "output_type": "error",
     "traceback": [
      "\u001b[0;31m---------------------------------------------------------------------------\u001b[0m",
      "\u001b[0;31mTypeError\u001b[0m                                 Traceback (most recent call last)",
      "\u001b[0;32m/tmp/ipykernel_6285/2971561390.py\u001b[0m in \u001b[0;36m<module>\u001b[0;34m\u001b[0m\n\u001b[0;32m----> 1\u001b[0;31m \u001b[0mmatchers\u001b[0m\u001b[0;34m.\u001b[0m\u001b[0madd\u001b[0m\u001b[0;34m(\u001b[0m\u001b[0;34m'id_his'\u001b[0m\u001b[0;34m,\u001b[0m \u001b[0;32mNone\u001b[0m \u001b[0;34m,\u001b[0m\u001b[0mpatron\u001b[0m\u001b[0;34m)\u001b[0m \u001b[0;31m# crear el patron de busqueda\u001b[0m\u001b[0;34m\u001b[0m\u001b[0;34m\u001b[0m\u001b[0m\n\u001b[0m",
      "\u001b[0;32m~/.local/lib/python3.8/site-packages/spacy/matcher/matcher.pyx\u001b[0m in \u001b[0;36mspacy.matcher.matcher.Matcher.add\u001b[0;34m()\u001b[0m\n",
      "\u001b[0;31mTypeError\u001b[0m: add() takes exactly 2 positional arguments (3 given)"
     ]
    }
   ],
   "source": [
    "matchers.add('id_his', None ,patron) # crear el patron de busqueda"
   ]
  },
  {
   "cell_type": "code",
   "execution_count": 16,
   "metadata": {},
   "outputs": [
    {
     "name": "stderr",
     "output_type": "stream",
     "text": [
      "/tmp/ipykernel_6285/1263352101.py:2: UserWarning: [W036] The component 'matcher' does not have any patterns defined.\n",
      "  coincidencias = matchers(doc2)\n"
     ]
    },
    {
     "data": {
      "text/plain": [
       "[]"
      ]
     },
     "execution_count": 16,
     "metadata": {},
     "output_type": "execute_result"
    }
   ],
   "source": [
    "# encontrar coincidencias\n",
    "coincidencias = matchers(doc2)\n",
    "coincidencias"
   ]
  },
  {
   "cell_type": "code",
   "execution_count": 17,
   "metadata": {},
   "outputs": [
    {
     "ename": "SyntaxError",
     "evalue": "invalid syntax (<fstring>, line 1)",
     "output_type": "error",
     "traceback": [
      "\u001b[0;36m  File \u001b[0;32m\"<fstring>\"\u001b[0;36m, line \u001b[0;32m1\u001b[0m\n\u001b[0;31m    (id_str{5})\u001b[0m\n\u001b[0m           ^\u001b[0m\n\u001b[0;31mSyntaxError\u001b[0m\u001b[0;31m:\u001b[0m invalid syntax\n"
     ]
    }
   ],
   "source": [
    "for id, inicio, fin in coincidencias:\n",
    "    id_str = nlp.vocab.strings[id]\n",
    "    palabra = doc2[inicio:fin]\n",
    "    print(f'{id_str{5}} {palabra} {inicio} {fin}')"
   ]
  },
  {
   "cell_type": "code",
   "execution_count": 18,
   "metadata": {},
   "outputs": [],
   "source": [
    "# \n",
    "#from google.colab import drive\n",
    "#drive.mount('/content/drive')"
   ]
  },
  {
   "cell_type": "markdown",
   "metadata": {},
   "source": [
    "# ver información de las palabras"
   ]
  },
  {
   "cell_type": "code",
   "execution_count": 153,
   "metadata": {},
   "outputs": [
    {
     "data": {
      "text/plain": [
       "'wants'"
      ]
     },
     "execution_count": 153,
     "metadata": {},
     "output_type": "execute_result"
    }
   ],
   "source": [
    "doc2[1].text"
   ]
  },
  {
   "cell_type": "code",
   "execution_count": 154,
   "metadata": {},
   "outputs": [
    {
     "data": {
      "text/plain": [
       "'VERB'"
      ]
     },
     "execution_count": 154,
     "metadata": {},
     "output_type": "execute_result"
    }
   ],
   "source": [
    "doc2[1].pos_"
   ]
  },
  {
   "cell_type": "code",
   "execution_count": 155,
   "metadata": {},
   "outputs": [
    {
     "data": {
      "text/plain": [
       "'VBZ'"
      ]
     },
     "execution_count": 155,
     "metadata": {},
     "output_type": "execute_result"
    }
   ],
   "source": [
    "doc2[1].tag_"
   ]
  },
  {
   "cell_type": "code",
   "execution_count": 161,
   "metadata": {},
   "outputs": [
    {
     "name": "stdout",
     "output_type": "stream",
     "text": [
      "Nobody     PRON       NN\n",
      "wants      VERB       VBZ\n",
      "him        PRON       PRP\n",
      ",          PUNCT      ,\n",
      "He         PRON       PRP\n",
      "just       ADV        RB\n",
      "stares     VERB       VBZ\n",
      "at         ADP        IN\n",
      "the        DET        DT\n",
      "world      NOUN       NN\n",
      ".          PUNCT      .\n",
      "Planning   VERB       VBG\n",
      "his        PRON       PRP$\n",
      "vengeance  NOUN       NN\n",
      ",          PUNCT      ,\n",
      "that       SCONJ      IN\n",
      "he         PRON       PRP\n",
      "will       AUX        MD\n",
      "soon       ADV        RB\n",
      "unfurl     ADJ        JJ\n"
     ]
    }
   ],
   "source": [
    "for word in doc2:\n",
    "    print(f'{word.text:{10}} {word.pos_:{10}} {word.tag_}')\n"
   ]
  },
  {
   "cell_type": "code",
   "execution_count": 162,
   "metadata": {},
   "outputs": [
    {
     "data": {
      "text/plain": [
       "{95: 5, 100: 3, 97: 3, 86: 2, 85: 1, 90: 1, 92: 2, 98: 1, 87: 1, 84: 1}"
      ]
     },
     "execution_count": 162,
     "metadata": {},
     "output_type": "execute_result"
    }
   ],
   "source": [
    "# contador \n",
    "contador = doc2.count_by(spacy.attrs.POS)\n",
    "contador\n",
    "# {95: 5} el primer número es la posición del diccionario de spacy,  \n",
    "# y la segunda es el numero total de ese tipo de palabra, por ejemplo PRON pronombre"
   ]
  },
  {
   "cell_type": "code",
   "execution_count": 164,
   "metadata": {},
   "outputs": [
    {
     "data": {
      "text/plain": [
       "'PRON'"
      ]
     },
     "execution_count": 164,
     "metadata": {},
     "output_type": "execute_result"
    }
   ],
   "source": [
    "doc.vocab[95].text"
   ]
  },
  {
   "cell_type": "code",
   "execution_count": 172,
   "metadata": {},
   "outputs": [
    {
     "name": "stdout",
     "output_type": "stream",
     "text": [
      "        84 ADJ        1\n",
      "        85 ADP        1\n",
      "        86 ADV        2\n",
      "        87 AUX        1\n",
      "        90 DET        1\n",
      "        92 NOUN       2\n",
      "        95 PRON       5\n",
      "        97 PUNCT      3\n",
      "        98 SCONJ      1\n",
      "       100 VERB       3\n"
     ]
    }
   ],
   "source": [
    "# Recorrer diccionario en python\n",
    "for clave, valor in sorted(contador.items()):\n",
    "    print(f'{clave:{10}} {doc.vocab[clave].text:{10}} {valor}')"
   ]
  },
  {
   "cell_type": "markdown",
   "metadata": {},
   "source": [
    "## identificar las identidades\n",
    "\n",
    "empresas, instituciones, etc"
   ]
  },
  {
   "cell_type": "code",
   "execution_count": 174,
   "metadata": {},
   "outputs": [
    {
     "ename": "TypeError",
     "evalue": "load() missing 1 required positional argument: 'name'",
     "output_type": "error",
     "traceback": [
      "\u001b[0;31m---------------------------------------------------------------------------\u001b[0m",
      "\u001b[0;31mTypeError\u001b[0m                                 Traceback (most recent call last)",
      "\u001b[0;32m/tmp/ipykernel_6474/1970673222.py\u001b[0m in \u001b[0;36m<module>\u001b[0;34m\u001b[0m\n\u001b[0;32m----> 1\u001b[0;31m \u001b[0mpln\u001b[0m\u001b[0;34m=\u001b[0m \u001b[0mspacy\u001b[0m\u001b[0;34m.\u001b[0m\u001b[0mload\u001b[0m\u001b[0;34m(\u001b[0m\u001b[0;34m)\u001b[0m\u001b[0;34m\u001b[0m\u001b[0;34m\u001b[0m\u001b[0m\n\u001b[0m",
      "\u001b[0;31mTypeError\u001b[0m: load() missing 1 required positional argument: 'name'"
     ]
    }
   ],
   "source": [
    "##pln= spacy.load()\n"
   ]
  },
  {
   "cell_type": "code",
   "execution_count": null,
   "metadata": {},
   "outputs": [],
   "source": [
    "def mostrar_entidades(doc):\n",
    "    if doc.ents:\n",
    "        for entidad in  doc.ents:\n",
    "            print(f'{entidad.text:{10}} {entidad.label:{10}} {str{spacy.explain(entidad.label)}}')\n",
    "            else:\n",
    "                print('no se encuentrar entidades')\n",
    "mostrar_entidades(doc2)\n"
   ]
  },
  {
   "cell_type": "code",
   "execution_count": null,
   "metadata": {},
   "outputs": [],
   "source": [
    "from spacy.tokens import Span\n",
    "ORG = doc2.vocab.strings['ORG']\n",
    "nueva_entidad = Span(doc2, posicion donde esta la institucion (8,9), label=ORG)"
   ]
  },
  {
   "cell_type": "code",
   "execution_count": null,
   "metadata": {},
   "outputs": [],
   "source": [
    "doc2.ents=list(doc2.ents)+"
   ]
  },
  {
   "cell_type": "markdown",
   "metadata": {},
   "source": [
    "## Cargar un documento"
   ]
  },
  {
   "cell_type": "code",
   "execution_count": 139,
   "metadata": {},
   "outputs": [],
   "source": [
    "with open('Data/frases.txt') as fichero:\n",
    "  datos_fichero = fichero.read()\n",
    "  doc = nlp(datos_fichero)\n"
   ]
  },
  {
   "cell_type": "code",
   "execution_count": 140,
   "metadata": {},
   "outputs": [
    {
     "data": {
      "text/plain": [
       "Cualquier tecnología suficientemente avanzada es equivalente a la magia.\n",
       "Que algo no haya salido como hayas querido no significa que sea inútil.\n",
       "Si tu negocio no está en Internet, tu negocio no existe.\n",
       "La tecnología es una palabra que describe algo que no funciona todavía.\n",
       "El gran mito de nuestro tiempo es que la tecnología es comunicación.\n",
       "El espíritu humano debe prevalecer sobre la tecnología\n",
       "El coche eléctrico es el futuro y permitirá reducir la contaminación de las ciudades.\n",
       "El verdadero peligro no es que los ordenadores empiecen a pensar como los hombres, sino que los hombres empiecen a pensar como los ordenadores.\n",
       "La tecnología hizo posible las grandes poblaciones; ahora las grandes poblaciones hacen que la tecnología sea indispensable.\n",
       "Internet es positivo porque nos une, nos conecta. Incluso a las personas mayores. El estar conectado nos prolonga la vida y no solamente añade años a la vida, sino vida a los años.\n",
       "Internet es mucho más que una tecnología. Es un medio de comunicación, de interacción y de organización social."
      ]
     },
     "execution_count": 140,
     "metadata": {},
     "output_type": "execute_result"
    }
   ],
   "source": [
    "doc"
   ]
  },
  {
   "cell_type": "code",
   "execution_count": 141,
   "metadata": {},
   "outputs": [
    {
     "ename": "ImportError",
     "evalue": "cannot import name 'mtch' from 'spacy.matcher' (/home/javier/.local/lib/python3.8/site-packages/spacy/matcher/__init__.py)",
     "output_type": "error",
     "traceback": [
      "\u001b[0;31m---------------------------------------------------------------------------\u001b[0m",
      "\u001b[0;31mImportError\u001b[0m                               Traceback (most recent call last)",
      "\u001b[0;32m/tmp/ipykernel_6474/761496627.py\u001b[0m in \u001b[0;36m<module>\u001b[0;34m\u001b[0m\n\u001b[1;32m      1\u001b[0m \u001b[0;31m# emparejamiento\u001b[0m\u001b[0;34m\u001b[0m\u001b[0;34m\u001b[0m\u001b[0;34m\u001b[0m\u001b[0m\n\u001b[0;32m----> 2\u001b[0;31m \u001b[0;32mfrom\u001b[0m \u001b[0mspacy\u001b[0m\u001b[0;34m.\u001b[0m\u001b[0mmatcher\u001b[0m \u001b[0;32mimport\u001b[0m \u001b[0mmtch\u001b[0m\u001b[0;34m\u001b[0m\u001b[0;34m\u001b[0m\u001b[0m\n\u001b[0m\u001b[1;32m      3\u001b[0m \u001b[0;31m#crear objeto y el vocabulario\u001b[0m\u001b[0;34m\u001b[0m\u001b[0;34m\u001b[0m\u001b[0;34m\u001b[0m\u001b[0m\n\u001b[1;32m      4\u001b[0m \u001b[0mmatchers\u001b[0m \u001b[0;34m=\u001b[0m \u001b[0mmtch\u001b[0m\u001b[0;34m(\u001b[0m\u001b[0mnlp\u001b[0m\u001b[0;34m.\u001b[0m\u001b[0mvocab\u001b[0m\u001b[0;34m)\u001b[0m\u001b[0;34m\u001b[0m\u001b[0;34m\u001b[0m\u001b[0m\n",
      "\u001b[0;31mImportError\u001b[0m: cannot import name 'mtch' from 'spacy.matcher' (/home/javier/.local/lib/python3.8/site-packages/spacy/matcher/__init__.py)"
     ]
    }
   ],
   "source": [
    "# emparejamiento\n",
    "from spacy.matcher import mtch\n",
    "#crear objeto y el vocabulario\n",
    "matchers = mtch(nlp.vocab)\n"
   ]
  }
 ],
 "metadata": {
  "interpreter": {
   "hash": "31f2aee4e71d21fbe5cf8b01ff0e069b9275f58929596ceb00d14d90e3e16cd6"
  },
  "kernelspec": {
   "display_name": "Python 3.8.10 64-bit",
   "name": "python3"
  },
  "language_info": {
   "codemirror_mode": {
    "name": "ipython",
    "version": 3
   },
   "file_extension": ".py",
   "mimetype": "text/x-python",
   "name": "python",
   "nbconvert_exporter": "python",
   "pygments_lexer": "ipython3",
   "version": "3.8.10"
  },
  "orig_nbformat": 4
 },
 "nbformat": 4,
 "nbformat_minor": 2
}
