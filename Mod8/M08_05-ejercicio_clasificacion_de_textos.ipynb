{
  "cells": [
    {
      "cell_type": "code",
      "execution_count": 1,
      "metadata": {
        "id": "UhWCMt5R9-qm"
      },
      "outputs": [],
      "source": [
        "#clasificación de textos\n",
        "import numpy as np\n",
        "import pandas as pd\n"
      ]
    },
    {
      "cell_type": "code",
      "execution_count": null,
      "metadata": {
        "colab": {
          "base_uri": "https://localhost:8080/"
        },
        "id": "w7XmWbnt-D3q",
        "outputId": "41d889dd-6a42-4c34-f2b7-67e545b61e3c"
      },
      "outputs": [],
      "source": [
        "#habilitamos el drive con Colab\n",
        "#from google.colab import drive\n",
        "#drive.mount('/content/drive')"
      ]
    },
    {
      "cell_type": "code",
      "execution_count": 2,
      "metadata": {
        "id": "hsBbpnyLBiMS"
      },
      "outputs": [],
      "source": [
        "datos=pd.read_csv('Data/peliculas.tsv', sep='\\t')"
      ]
    },
    {
      "cell_type": "code",
      "execution_count": 3,
      "metadata": {
        "colab": {
          "base_uri": "https://localhost:8080/",
          "height": 206
        },
        "id": "cRaTIYREBwCC",
        "outputId": "9fc26715-0003-4cf6-fa9e-ba6dbc110ad5"
      },
      "outputs": [
        {
          "data": {
            "text/html": [
              "<div>\n",
              "<style scoped>\n",
              "    .dataframe tbody tr th:only-of-type {\n",
              "        vertical-align: middle;\n",
              "    }\n",
              "\n",
              "    .dataframe tbody tr th {\n",
              "        vertical-align: top;\n",
              "    }\n",
              "\n",
              "    .dataframe thead th {\n",
              "        text-align: right;\n",
              "    }\n",
              "</style>\n",
              "<table border=\"1\" class=\"dataframe\">\n",
              "  <thead>\n",
              "    <tr style=\"text-align: right;\">\n",
              "      <th></th>\n",
              "      <th>etiqueta</th>\n",
              "      <th>revision</th>\n",
              "    </tr>\n",
              "  </thead>\n",
              "  <tbody>\n",
              "    <tr>\n",
              "      <th>0</th>\n",
              "      <td>pos</td>\n",
              "      <td>the happy bastard's 30-second review \\r\\nbig d...</td>\n",
              "    </tr>\n",
              "    <tr>\n",
              "      <th>1</th>\n",
              "      <td>neg</td>\n",
              "      <td>hollywood never fails to astound me . \\r\\never...</td>\n",
              "    </tr>\n",
              "    <tr>\n",
              "      <th>2</th>\n",
              "      <td>neg</td>\n",
              "      <td>this is your definitive \" hollywood \" movie , ...</td>\n",
              "    </tr>\n",
              "    <tr>\n",
              "      <th>3</th>\n",
              "      <td>pos</td>\n",
              "      <td>for those of us who weren't yet born when the ...</td>\n",
              "    </tr>\n",
              "    <tr>\n",
              "      <th>4</th>\n",
              "      <td>pos</td>\n",
              "      <td>NaN</td>\n",
              "    </tr>\n",
              "  </tbody>\n",
              "</table>\n",
              "</div>"
            ],
            "text/plain": [
              "  etiqueta                                           revision\n",
              "0      pos  the happy bastard's 30-second review \\r\\nbig d...\n",
              "1      neg  hollywood never fails to astound me . \\r\\never...\n",
              "2      neg  this is your definitive \" hollywood \" movie , ...\n",
              "3      pos  for those of us who weren't yet born when the ...\n",
              "4      pos                                                NaN"
            ]
          },
          "execution_count": 3,
          "metadata": {},
          "output_type": "execute_result"
        }
      ],
      "source": [
        "datos.head()"
      ]
    },
    {
      "cell_type": "code",
      "execution_count": 4,
      "metadata": {
        "colab": {
          "base_uri": "https://localhost:8080/"
        },
        "id": "cKTv4UXxCank",
        "outputId": "7e35a3f6-b620-47a8-d73d-340e4034e62c"
      },
      "outputs": [
        {
          "name": "stdout",
          "output_type": "stream",
          "text": [
            "the happy bastard's 30-second review \n",
            "big daddy \n",
            "happy gilmore as a father ? \n",
            "of course ! \n",
            "that's the latest scenario presented by adam sandler in the new movie big daddy , a movie that's passable but isn't really considered some of sandler's best work . \n",
            "he doesn't actually play happy gilmore in the movie , but a variation of him . \n",
            "he's sonny coufax , a man who's living off a settlement he got for a cab running over his foot and his one-day-a-week gig as a tollbooth man ( tollbooth willie ? ) . \n",
            "his girlfriend ( kristy swanson ) is fed up with his lifestyle and demands a change before she leaves him . \n",
            "enter a 5-year old kid , who's mysteriously dropped at his doorstep and intended for his preppy roommate ( jon stewart ) , who's off in china on a business trip . \n",
            "from there , coufax basically acts as the kid's father , teaching him different things like peeing on the side of a building and tripping up skateboarders with sticks . \n",
            "he even manages to use the kid in a sort of con game to get the attention of a beautiful law office worker ( joey lauren adams ) , but , somehow , he also garners the attention of social services , who aren't particularly pleased with coufax's actions , as he pretends to be his roommate to keep the kid . \n",
            "the reason i say it's not really sandler's best work is because it gets really sappy towards the end of a movie , showing some odd feelings that somehow didn't really belong in a sandler vehicle . \n",
            "i mean , it fits the movie's tone and everything , and sandler handles it well , but it's just oddly placed , that's all . \n",
            "fortunately , it doesn't destroy the goofy glee path it's been following and it still makes you feel good . \n",
            "sandler does a good job here , as he does in most of his movies . \n",
            "rob schneider , however , is irritating as his friend , an immigrant delivery boy who can't read . \n",
            "stewart , in his minor time on screen , is great , and adams remains a joy to watch . \n",
            "look for steve buscemi as well as a homeless bum . \n",
            "he's a hoot . \n",
            "directed by dennis dugan ( director of happy gilmore ) , the movie remains a good couple of hours to pass the time with . \n",
            "again , there are faults , but , hey , everyone needs to get emotional sometimes . \n",
            "\n"
          ]
        }
      ],
      "source": [
        "print(datos['revision'][0])"
      ]
    },
    {
      "cell_type": "code",
      "execution_count": 5,
      "metadata": {
        "colab": {
          "base_uri": "https://localhost:8080/"
        },
        "id": "yyo52S6mCi9P",
        "outputId": "c50c95a0-f201-42bf-b056-e2581887f43e"
      },
      "outputs": [
        {
          "data": {
            "text/plain": [
              "etiqueta     0\n",
              "revision    29\n",
              "dtype: int64"
            ]
          },
          "execution_count": 5,
          "metadata": {},
          "output_type": "execute_result"
        }
      ],
      "source": [
        "datos.isnull().sum()"
      ]
    },
    {
      "cell_type": "code",
      "execution_count": 6,
      "metadata": {
        "id": "WFnlGhBWCuEf"
      },
      "outputs": [],
      "source": [
        "datos.dropna(inplace=True)"
      ]
    },
    {
      "cell_type": "code",
      "execution_count": 7,
      "metadata": {
        "colab": {
          "base_uri": "https://localhost:8080/"
        },
        "id": "R6dmdhD4EQrV",
        "outputId": "ec51fdcf-c156-4911-91e9-5b6a699d42c9"
      },
      "outputs": [
        {
          "data": {
            "text/plain": [
              "etiqueta    0\n",
              "revision    0\n",
              "dtype: int64"
            ]
          },
          "execution_count": 7,
          "metadata": {},
          "output_type": "execute_result"
        }
      ],
      "source": [
        "datos.isnull().sum()"
      ]
    },
    {
      "cell_type": "code",
      "execution_count": 8,
      "metadata": {
        "id": "l9AhrLLwEgaf"
      },
      "outputs": [],
      "source": [
        "blancos =[]\n",
        "for i,label, revision in datos.itertuples():\n",
        "  if revision.isspace():\n",
        "    blancos.append(i)"
      ]
    },
    {
      "cell_type": "code",
      "execution_count": 9,
      "metadata": {
        "id": "uugxjPqDJaR5"
      },
      "outputs": [],
      "source": [
        "from sklearn.model_selection import train_test_split"
      ]
    },
    {
      "cell_type": "code",
      "execution_count": 10,
      "metadata": {
        "id": "DxQJ89jhJ46z"
      },
      "outputs": [],
      "source": [
        "x=datos['revision']\n",
        "y=datos['etiqueta']"
      ]
    },
    {
      "cell_type": "code",
      "execution_count": 12,
      "metadata": {
        "id": "uxWh41tZKBgD"
      },
      "outputs": [],
      "source": [
        "x_train, x_test, y_train, y_test=train_test_split(x,y,test_size=0.3)"
      ]
    },
    {
      "cell_type": "code",
      "execution_count": 13,
      "metadata": {
        "id": "XtJz2p60KYzr"
      },
      "outputs": [],
      "source": [
        "from sklearn.pipeline import Pipeline\n",
        "from sklearn.feature_extraction.text import TfidfVectorizer\n",
        "from sklearn.svm import LinearSVC"
      ]
    },
    {
      "cell_type": "code",
      "execution_count": 14,
      "metadata": {
        "id": "7IXY20lFKuzM"
      },
      "outputs": [],
      "source": [
        "modelo=Pipeline([\n",
        "                 ('vectorizador', TfidfVectorizer()),\n",
        "                 ('clasificacion',LinearSVC())\n",
        "])"
      ]
    },
    {
      "cell_type": "code",
      "execution_count": 15,
      "metadata": {
        "colab": {
          "base_uri": "https://localhost:8080/"
        },
        "id": "5Sn4_zvnLjTt",
        "outputId": "ad8d57ae-696a-4b6b-9063-04de2112f2c2"
      },
      "outputs": [
        {
          "data": {
            "text/plain": [
              "Pipeline(steps=[('vectorizador', TfidfVectorizer()),\n",
              "                ('clasificacion', LinearSVC())])"
            ]
          },
          "execution_count": 15,
          "metadata": {},
          "output_type": "execute_result"
        }
      ],
      "source": [
        "modelo.fit(x_train, y_train)"
      ]
    },
    {
      "cell_type": "code",
      "execution_count": 16,
      "metadata": {
        "id": "6onkNSHBMPaj"
      },
      "outputs": [],
      "source": [
        "predicciones=modelo.predict(x_test)"
      ]
    },
    {
      "cell_type": "code",
      "execution_count": 17,
      "metadata": {
        "id": "z2WTHTgWLucn"
      },
      "outputs": [],
      "source": [
        "from sklearn.metrics import confusion_matrix, classification_report"
      ]
    },
    {
      "cell_type": "code",
      "execution_count": 18,
      "metadata": {
        "colab": {
          "base_uri": "https://localhost:8080/"
        },
        "id": "OuUUi9MWMJPC",
        "outputId": "ce12cf71-6930-4911-8e3e-bffab9c05f33"
      },
      "outputs": [
        {
          "name": "stdout",
          "output_type": "stream",
          "text": [
            "[[187  34]\n",
            " [ 29 184]]\n"
          ]
        }
      ],
      "source": [
        "print(confusion_matrix(y_test,predicciones))"
      ]
    },
    {
      "cell_type": "code",
      "execution_count": 19,
      "metadata": {
        "colab": {
          "base_uri": "https://localhost:8080/"
        },
        "id": "TiAT4n91MWpB",
        "outputId": "b8ecc8e1-cee6-47e1-c6d3-a3298f096522"
      },
      "outputs": [
        {
          "name": "stdout",
          "output_type": "stream",
          "text": [
            "              precision    recall  f1-score   support\n",
            "\n",
            "         neg       0.87      0.85      0.86       221\n",
            "         pos       0.84      0.86      0.85       213\n",
            "\n",
            "    accuracy                           0.85       434\n",
            "   macro avg       0.85      0.86      0.85       434\n",
            "weighted avg       0.86      0.85      0.85       434\n",
            "\n"
          ]
        }
      ],
      "source": [
        "print(classification_report(y_test, predicciones))"
      ]
    }
  ],
  "metadata": {
    "colab": {
      "name": "ejercicio clasificacion de textos.ipynb",
      "provenance": []
    },
    "interpreter": {
      "hash": "916dbcbb3f70747c44a77c7bcd40155683ae19c65e1c03b4aa3499c5328201f1"
    },
    "kernelspec": {
      "display_name": "Python 3.8.10 64-bit",
      "name": "python3"
    },
    "language_info": {
      "codemirror_mode": {
        "name": "ipython",
        "version": 3
      },
      "file_extension": ".py",
      "mimetype": "text/x-python",
      "name": "python",
      "nbconvert_exporter": "python",
      "pygments_lexer": "ipython3",
      "version": "3.8.10"
    }
  },
  "nbformat": 4,
  "nbformat_minor": 0
}
