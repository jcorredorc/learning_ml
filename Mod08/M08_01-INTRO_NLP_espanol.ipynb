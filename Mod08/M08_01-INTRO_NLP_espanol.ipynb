{
  "cells": [
    {
      "cell_type": "markdown",
      "metadata": {
        "id": "lVxkMkT2e8tL"
      },
      "source": [
        "# Intro\n",
        "\n",
        "Los datos vienen en muchas formas diferentes: marcas de tiempo, lecturas de sensores, imágenes, etiquetas categóricas y mucho más. Pero el texto sigue siendo uno de los datos más valiosos que existen para quienes saben cómo usarlo.\n",
        "\n",
        "En este curso sobre **Procesamiento del lenguaje natural (PNL)**, utilizará la biblioteca líder de PNL (spaCy) para realizar algunas de las tareas más importantes al trabajar con texto.\n",
        "\n",
        "Al final, podrá utilizar spaCy para:\n",
        "\n",
        "Procesamiento de texto básico y coincidencia de patrones\n",
        "Creación de modelos de aprendizaje automático con texto\n",
        "Representar texto con incrustaciones de palabras que capturan numéricamente el significado de palabras y documentos"
      ]
    },
    {
      "cell_type": "markdown",
      "metadata": {
        "id": "31GziW8Me8tN"
      },
      "source": [
        "Para aprovechar al máximo este curso, necesitará algo de experiencia con el aprendizaje automático. Si no tiene experiencia con scikit-learn, consulte [Introducción al aprendizaje automático](https://www.kaggle.com/learn/intro-to-machine-learning) y [Aprendizaje automático intermedio](https://www.kaggle.com/learn/intermediate-machine-learning) para aprender los fundamentos."
      ]
    },
    {
      "cell_type": "markdown",
      "metadata": {
        "id": "ONn60-GSe8tO"
      },
      "source": [
        "## NLP with spaCy\n",
        "\n",
        "spaCy es la biblioteca líder para NLP y rápidamente se ha convertido en uno de los frameworks de Python más populares. La mayoría de la gente lo encuentra intuitivo y tiene una excelente [documentación](https://spacy.io/usage).\n",
        "\n",
        "spaCy se basa en ** modelos ** que son específicos del idioma y vienen en diferentes tamaños. Puede cargar un modelo spaCy con `spacy.load`.\n",
        "\n",
        "Por ejemplo, así es como cargaría el modelo de idioma inglés."
      ]
    },
    {
      "cell_type": "code",
      "execution_count": null,
      "metadata": {},
      "outputs": [],
      "source": [
        "# Instalar la libreria y el diccionario en espanol\n",
        "#!pip install deplacy\n",
        "#!python - m spacy download es_core_news_sm"
      ]
    },
    {
      "cell_type": "code",
      "execution_count": 1,
      "metadata": {
        "id": "I2ayxd5be8tO"
      },
      "outputs": [
        {
          "name": "stderr",
          "output_type": "stream",
          "text": [
            "2021-10-13 17:09:56.785862: W tensorflow/stream_executor/platform/default/dso_loader.cc:64] Could not load dynamic library 'libcudart.so.11.0'; dlerror: libcudart.so.11.0: cannot open shared object file: No such file or directory; LD_LIBRARY_PATH: /home/javier/catkin_ws/devel/lib:/opt/ros/noetic/lib\n",
            "2021-10-13 17:09:56.785895: I tensorflow/stream_executor/cuda/cudart_stub.cc:29] Ignore above cudart dlerror if you do not have a GPU set up on your machine.\n"
          ]
        }
      ],
      "source": [
        "# install this line --> ##python3 -m spacy download en_core_web_sm\n",
        "\n",
        "import spacy\n",
        "nlp = spacy.load('en_core_web_sm')\n"
      ]
    },
    {
      "cell_type": "code",
      "execution_count": 19,
      "metadata": {},
      "outputs": [
        {
          "name": "stdout",
          "output_type": "stream",
          "text": [
            "{'and', 'are', 'amongst', 'ten', 'up', 'now', 'were', \"'m\", 'these', 'noone', 'once', 'well', 'call', 'beyond', '‘ll', 'thus', 'onto', 'nobody', 'top', 'mine', 'six', 'made', 'could', 'again', 'next', 'serious', 'several', 'then', 'elsewhere', 'nor', 'yet', 'anything', 'thereby', 'few', 'us', 'until', 'move', 'someone', 'get', 'others', 'just', 'afterwards', 'i', 'so', 'same', 'to', 'name', 'at', 'be', 'whenever', 'ca', 'whole', 'doing', 'itself', 'cannot', 'thereupon', 'behind', 'through', 'herein', 'within', 'using', 'eleven', 'no', '’d', 'somehow', 'throughout', 'side', '’m', 'its', 'first', 'regarding', 'fifty', 'not', 'take', 'off', '’re', 'anyway', 'whither', 'why', 'for', 'toward', 'about', 'it', 'whereby', 'wherein', 'anyhow', 'himself', 'ourselves', 'before', 'his', 'indeed', 'full', 'a', 'keep', 'perhaps', 'only', 'ever', 'too', 'hereupon', '‘m', 'five', 'than', 'some', '‘re', 'seems', 'except', 'somewhere', '‘s', 'them', 'alone', 'own', 'two', 'also', 'give', 'one', 'else', 'whereas', 'do', 'much', 'never', 'our', 'out', 'nevertheless', 'always', 'used', 'thereafter', 'enough', 'even', 'will', 'upon', 'sixty', 'done', 'twelve', 'have', '‘d', 'each', 'while', 'myself', 'across', 'in', 'former', 'had', 'really', 'together', 'beforehand', 'all', 'often', 'yours', 'whatever', 'any', 'show', 'namely', 'anywhere', 'various', 'here', 'with', 'less', 'since', 'beside', 'further', 'those', 'over', 'into', 'everyone', 'such', 'mostly', 'third', 'on', 'under', 'although', 'hence', 'please', 'make', 'twenty', 'of', 'this', 'along', 'say', 'there', 'because', 'bottom', 'empty', 'must', 'was', 'thence', 'can', 'me', 'the', 'unless', 'when', 'see', 'n‘t', 'latterly', 'however', 'whereupon', 'am', 'otherwise', 'we', 'neither', 'as', 'who', 'among', 'therein', 'whoever', 'where', 'rather', 'did', 'without', 'becomes', 'eight', 'your', 'another', 'yourselves', 'almost', 'back', 'per', '’ll', 'become', 'forty', 'least', 'by', 'been', 'hers', 'should', 'would', 'whereafter', 'formerly', 'he', 'whose', 'you', 'n’t', 'or', 'became', 'anyone', 'becoming', 'hundred', 'three', 'many', 'due', 'ours', 'none', 'how', 'quite', \"'s\", 're', 'hereafter', 'what', 'everywhere', 'yourself', 'between', 'thru', 'below', 'part', \"'ve\", 'is', 'around', 'other', 'does', 'during', 'still', '’ve', 'front', '‘ve', 'herself', 'above', 'nowhere', 'may', 'go', 'him', 'nine', 'everything', 'her', 'something', 'fifteen', \"'d\", 'but', 'down', 'therefore', 'my', 'from', 'amount', 'both', 'via', 'very', 'has', 'four', 'nothing', 'being', 'though', 'whether', '’s', 'whence', 'after', \"n't\", \"'re\", 'besides', 'towards', 'which', 'they', 'already', 'hereby', 'moreover', 'she', 'put', 'either', 'sometime', 'themselves', 'seem', 'whom', 'that', 'last', 'their', 'against', 'meanwhile', 'more', 'most', 'might', 'every', 'wherever', 'sometimes', 'latter', 'an', 'if', \"'ll\", 'seeming', 'seemed'}\n"
          ]
        }
      ],
      "source": [
        "print(nlp.Defaults.stop_words)"
      ]
    },
    {
      "cell_type": "code",
      "execution_count": 20,
      "metadata": {},
      "outputs": [
        {
          "data": {
            "text/plain": [
              "326"
            ]
          },
          "execution_count": 20,
          "metadata": {},
          "output_type": "execute_result"
        }
      ],
      "source": [
        "len(nlp.Defaults.stop_words)\n"
      ]
    },
    {
      "cell_type": "code",
      "execution_count": 22,
      "metadata": {},
      "outputs": [
        {
          "data": {
            "text/plain": [
              "False"
            ]
          },
          "execution_count": 22,
          "metadata": {},
          "output_type": "execute_result"
        }
      ],
      "source": [
        "nlp.vocab['form'].is_stop\n"
      ]
    },
    {
      "cell_type": "code",
      "execution_count": null,
      "metadata": {},
      "outputs": [],
      "source": [
        "# Agregar una palabra a stop_words\n",
        "#nlp.Defaults.stop_words.add('form')\n",
        "# nlp.vocab['forma'].is_stop = True\n",
        "# nlp.vocab['forma'].is_stop\n",
        "# len(nlp.Defaults.stop_words)\n",
        "#"
      ]
    },
    {
      "cell_type": "markdown",
      "metadata": {
        "id": "gq_XV8lOe8tP"
      },
      "source": [
        "\n",
        "Con el modelo cargado, puede procesar texto como este:"
      ]
    },
    {
      "cell_type": "code",
      "execution_count": 6,
      "metadata": {
        "id": "I4iCePqye8tP"
      },
      "outputs": [
        {
          "data": {
            "text/plain": [
              "Tea is healthy and calming, don't you think?. It isn't"
            ]
          },
          "execution_count": 6,
          "metadata": {},
          "output_type": "execute_result"
        }
      ],
      "source": [
        "doc = nlp(\"Tea is healthy and calming, don't you think?. It isn't\")\n",
        "doc"
      ]
    },
    {
      "cell_type": "markdown",
      "metadata": {
        "id": "A8Q1Qz_We8tP"
      },
      "source": [
        "Hay muchas cosas que puede hacer con el objeto `doc` que acaba de crear.\n",
        "\n",
        "# Tokenización\n",
        "\n",
        "Esto devuelve un objeto de documento que contiene ** tokens **. Un token es una unidad de texto en el documento, como palabras individuales y puntuación. SpaCy divide contracciones como \"no\" en dos símbolos, \"no\" y \"no\". Puede ver los tokens iterando a través del documento."
      ]
    },
    {
      "cell_type": "code",
      "execution_count": 7,
      "metadata": {
        "colab": {
          "base_uri": "https://localhost:8080/"
        },
        "id": "IFWVe4Ywe8tQ",
        "outputId": "8bfc3c89-dea8-4b1c-ac30-a869023ae284"
      },
      "outputs": [
        {
          "name": "stdout",
          "output_type": "stream",
          "text": [
            "Tea\n",
            "is\n",
            "healthy\n",
            "and\n",
            "calming\n",
            ",\n",
            "do\n",
            "n't\n",
            "you\n",
            "think\n",
            "?\n",
            ".\n",
            "It\n",
            "is\n",
            "n't\n"
          ]
        }
      ],
      "source": [
        "for token in doc:\n",
        "    print(token)"
      ]
    },
    {
      "cell_type": "markdown",
      "metadata": {},
      "source": []
    },
    {
      "cell_type": "code",
      "execution_count": 8,
      "metadata": {},
      "outputs": [
        {
          "name": "stdout",
          "output_type": "stream",
          "text": [
            "NOUN       Tea\n",
            "AUX        is\n",
            "ADJ        healthy\n",
            "CCONJ      and\n",
            "VERB       calming\n",
            "PUNCT      ,\n",
            "AUX        do\n",
            "PART       n't\n",
            "PRON       you\n",
            "VERB       think\n",
            "PUNCT      ?\n",
            "PUNCT      .\n",
            "PRON       It\n",
            "AUX        is\n",
            "PART       n't\n"
          ]
        }
      ],
      "source": [
        "for token in doc:\n",
        "  print(f'{token.pos_:{10}} {token}')\n"
      ]
    },
    {
      "cell_type": "code",
      "execution_count": 9,
      "metadata": {},
      "outputs": [
        {
          "name": "stdout",
          "output_type": "stream",
          "text": [
            "Tea is healthy and calming, don't you think?.\n",
            "It isn't\n"
          ]
        }
      ],
      "source": [
        "for frase in doc.sents:\n",
        "  print(f'{frase}')"
      ]
    },
    {
      "cell_type": "code",
      "execution_count": 17,
      "metadata": {},
      "outputs": [
        {
          "name": "stdout",
          "output_type": "stream",
          "text": [
            "Tea\n",
            "you\n",
            "It\n"
          ]
        }
      ],
      "source": [
        "for componente in doc.noun_chunks:\n",
        "  print(componente)\n"
      ]
    },
    {
      "cell_type": "code",
      "execution_count": 18,
      "metadata": {},
      "outputs": [
        {
          "data": {
            "text/html": [
              "<span class=\"tex2jax_ignore\"><svg xmlns=\"http://www.w3.org/2000/svg\" xmlns:xlink=\"http://www.w3.org/1999/xlink\" xml:lang=\"en\" id=\"2892518aac114cc7a5db7e55840d885a-0\" class=\"displacy\" width=\"1250\" height=\"337.0\" direction=\"ltr\" style=\"max-width: none; height: 337.0px; color: #000000; background: #ffffff; font-family: Arial; direction: ltr\">\n",
              "<text class=\"displacy-token\" fill=\"currentColor\" text-anchor=\"middle\" y=\"247.0\">\n",
              "    <tspan class=\"displacy-word\" fill=\"currentColor\" x=\"50\">Tea</tspan>\n",
              "    <tspan class=\"displacy-tag\" dy=\"2em\" fill=\"currentColor\" x=\"50\">NOUN</tspan>\n",
              "</text>\n",
              "\n",
              "<text class=\"displacy-token\" fill=\"currentColor\" text-anchor=\"middle\" y=\"247.0\">\n",
              "    <tspan class=\"displacy-word\" fill=\"currentColor\" x=\"150\">is</tspan>\n",
              "    <tspan class=\"displacy-tag\" dy=\"2em\" fill=\"currentColor\" x=\"150\">AUX</tspan>\n",
              "</text>\n",
              "\n",
              "<text class=\"displacy-token\" fill=\"currentColor\" text-anchor=\"middle\" y=\"247.0\">\n",
              "    <tspan class=\"displacy-word\" fill=\"currentColor\" x=\"250\">healthy</tspan>\n",
              "    <tspan class=\"displacy-tag\" dy=\"2em\" fill=\"currentColor\" x=\"250\">ADJ</tspan>\n",
              "</text>\n",
              "\n",
              "<text class=\"displacy-token\" fill=\"currentColor\" text-anchor=\"middle\" y=\"247.0\">\n",
              "    <tspan class=\"displacy-word\" fill=\"currentColor\" x=\"350\">and</tspan>\n",
              "    <tspan class=\"displacy-tag\" dy=\"2em\" fill=\"currentColor\" x=\"350\">CCONJ</tspan>\n",
              "</text>\n",
              "\n",
              "<text class=\"displacy-token\" fill=\"currentColor\" text-anchor=\"middle\" y=\"247.0\">\n",
              "    <tspan class=\"displacy-word\" fill=\"currentColor\" x=\"450\">calming,</tspan>\n",
              "    <tspan class=\"displacy-tag\" dy=\"2em\" fill=\"currentColor\" x=\"450\">VERB</tspan>\n",
              "</text>\n",
              "\n",
              "<text class=\"displacy-token\" fill=\"currentColor\" text-anchor=\"middle\" y=\"247.0\">\n",
              "    <tspan class=\"displacy-word\" fill=\"currentColor\" x=\"550\">do</tspan>\n",
              "    <tspan class=\"displacy-tag\" dy=\"2em\" fill=\"currentColor\" x=\"550\">AUX</tspan>\n",
              "</text>\n",
              "\n",
              "<text class=\"displacy-token\" fill=\"currentColor\" text-anchor=\"middle\" y=\"247.0\">\n",
              "    <tspan class=\"displacy-word\" fill=\"currentColor\" x=\"650\">n't</tspan>\n",
              "    <tspan class=\"displacy-tag\" dy=\"2em\" fill=\"currentColor\" x=\"650\">PART</tspan>\n",
              "</text>\n",
              "\n",
              "<text class=\"displacy-token\" fill=\"currentColor\" text-anchor=\"middle\" y=\"247.0\">\n",
              "    <tspan class=\"displacy-word\" fill=\"currentColor\" x=\"750\">you</tspan>\n",
              "    <tspan class=\"displacy-tag\" dy=\"2em\" fill=\"currentColor\" x=\"750\">PRON</tspan>\n",
              "</text>\n",
              "\n",
              "<text class=\"displacy-token\" fill=\"currentColor\" text-anchor=\"middle\" y=\"247.0\">\n",
              "    <tspan class=\"displacy-word\" fill=\"currentColor\" x=\"850\">think?.</tspan>\n",
              "    <tspan class=\"displacy-tag\" dy=\"2em\" fill=\"currentColor\" x=\"850\">VERB</tspan>\n",
              "</text>\n",
              "\n",
              "<text class=\"displacy-token\" fill=\"currentColor\" text-anchor=\"middle\" y=\"247.0\">\n",
              "    <tspan class=\"displacy-word\" fill=\"currentColor\" x=\"950\">It</tspan>\n",
              "    <tspan class=\"displacy-tag\" dy=\"2em\" fill=\"currentColor\" x=\"950\">PRON</tspan>\n",
              "</text>\n",
              "\n",
              "<text class=\"displacy-token\" fill=\"currentColor\" text-anchor=\"middle\" y=\"247.0\">\n",
              "    <tspan class=\"displacy-word\" fill=\"currentColor\" x=\"1050\">is</tspan>\n",
              "    <tspan class=\"displacy-tag\" dy=\"2em\" fill=\"currentColor\" x=\"1050\">AUX</tspan>\n",
              "</text>\n",
              "\n",
              "<text class=\"displacy-token\" fill=\"currentColor\" text-anchor=\"middle\" y=\"247.0\">\n",
              "    <tspan class=\"displacy-word\" fill=\"currentColor\" x=\"1150\">n't</tspan>\n",
              "    <tspan class=\"displacy-tag\" dy=\"2em\" fill=\"currentColor\" x=\"1150\">PART</tspan>\n",
              "</text>\n",
              "\n",
              "<g class=\"displacy-arrow\">\n",
              "    <path class=\"displacy-arc\" id=\"arrow-2892518aac114cc7a5db7e55840d885a-0-0\" stroke-width=\"2px\" d=\"M70,202.0 C70,152.0 135.0,152.0 135.0,202.0\" fill=\"none\" stroke=\"currentColor\"/>\n",
              "    <text dy=\"1.25em\" style=\"font-size: 0.8em; letter-spacing: 1px\">\n",
              "        <textPath xlink:href=\"#arrow-2892518aac114cc7a5db7e55840d885a-0-0\" class=\"displacy-label\" startOffset=\"50%\" side=\"left\" fill=\"currentColor\" text-anchor=\"middle\">nsubj</textPath>\n",
              "    </text>\n",
              "    <path class=\"displacy-arrowhead\" d=\"M70,204.0 L62,192.0 78,192.0\" fill=\"currentColor\"/>\n",
              "</g>\n",
              "\n",
              "<g class=\"displacy-arrow\">\n",
              "    <path class=\"displacy-arc\" id=\"arrow-2892518aac114cc7a5db7e55840d885a-0-1\" stroke-width=\"2px\" d=\"M170,202.0 C170,2.0 850.0,2.0 850.0,202.0\" fill=\"none\" stroke=\"currentColor\"/>\n",
              "    <text dy=\"1.25em\" style=\"font-size: 0.8em; letter-spacing: 1px\">\n",
              "        <textPath xlink:href=\"#arrow-2892518aac114cc7a5db7e55840d885a-0-1\" class=\"displacy-label\" startOffset=\"50%\" side=\"left\" fill=\"currentColor\" text-anchor=\"middle\">ccomp</textPath>\n",
              "    </text>\n",
              "    <path class=\"displacy-arrowhead\" d=\"M170,204.0 L162,192.0 178,192.0\" fill=\"currentColor\"/>\n",
              "</g>\n",
              "\n",
              "<g class=\"displacy-arrow\">\n",
              "    <path class=\"displacy-arc\" id=\"arrow-2892518aac114cc7a5db7e55840d885a-0-2\" stroke-width=\"2px\" d=\"M170,202.0 C170,152.0 235.0,152.0 235.0,202.0\" fill=\"none\" stroke=\"currentColor\"/>\n",
              "    <text dy=\"1.25em\" style=\"font-size: 0.8em; letter-spacing: 1px\">\n",
              "        <textPath xlink:href=\"#arrow-2892518aac114cc7a5db7e55840d885a-0-2\" class=\"displacy-label\" startOffset=\"50%\" side=\"left\" fill=\"currentColor\" text-anchor=\"middle\">acomp</textPath>\n",
              "    </text>\n",
              "    <path class=\"displacy-arrowhead\" d=\"M235.0,204.0 L243.0,192.0 227.0,192.0\" fill=\"currentColor\"/>\n",
              "</g>\n",
              "\n",
              "<g class=\"displacy-arrow\">\n",
              "    <path class=\"displacy-arc\" id=\"arrow-2892518aac114cc7a5db7e55840d885a-0-3\" stroke-width=\"2px\" d=\"M270,202.0 C270,152.0 335.0,152.0 335.0,202.0\" fill=\"none\" stroke=\"currentColor\"/>\n",
              "    <text dy=\"1.25em\" style=\"font-size: 0.8em; letter-spacing: 1px\">\n",
              "        <textPath xlink:href=\"#arrow-2892518aac114cc7a5db7e55840d885a-0-3\" class=\"displacy-label\" startOffset=\"50%\" side=\"left\" fill=\"currentColor\" text-anchor=\"middle\">cc</textPath>\n",
              "    </text>\n",
              "    <path class=\"displacy-arrowhead\" d=\"M335.0,204.0 L343.0,192.0 327.0,192.0\" fill=\"currentColor\"/>\n",
              "</g>\n",
              "\n",
              "<g class=\"displacy-arrow\">\n",
              "    <path class=\"displacy-arc\" id=\"arrow-2892518aac114cc7a5db7e55840d885a-0-4\" stroke-width=\"2px\" d=\"M270,202.0 C270,102.0 440.0,102.0 440.0,202.0\" fill=\"none\" stroke=\"currentColor\"/>\n",
              "    <text dy=\"1.25em\" style=\"font-size: 0.8em; letter-spacing: 1px\">\n",
              "        <textPath xlink:href=\"#arrow-2892518aac114cc7a5db7e55840d885a-0-4\" class=\"displacy-label\" startOffset=\"50%\" side=\"left\" fill=\"currentColor\" text-anchor=\"middle\">conj</textPath>\n",
              "    </text>\n",
              "    <path class=\"displacy-arrowhead\" d=\"M440.0,204.0 L448.0,192.0 432.0,192.0\" fill=\"currentColor\"/>\n",
              "</g>\n",
              "\n",
              "<g class=\"displacy-arrow\">\n",
              "    <path class=\"displacy-arc\" id=\"arrow-2892518aac114cc7a5db7e55840d885a-0-5\" stroke-width=\"2px\" d=\"M570,202.0 C570,52.0 845.0,52.0 845.0,202.0\" fill=\"none\" stroke=\"currentColor\"/>\n",
              "    <text dy=\"1.25em\" style=\"font-size: 0.8em; letter-spacing: 1px\">\n",
              "        <textPath xlink:href=\"#arrow-2892518aac114cc7a5db7e55840d885a-0-5\" class=\"displacy-label\" startOffset=\"50%\" side=\"left\" fill=\"currentColor\" text-anchor=\"middle\">aux</textPath>\n",
              "    </text>\n",
              "    <path class=\"displacy-arrowhead\" d=\"M570,204.0 L562,192.0 578,192.0\" fill=\"currentColor\"/>\n",
              "</g>\n",
              "\n",
              "<g class=\"displacy-arrow\">\n",
              "    <path class=\"displacy-arc\" id=\"arrow-2892518aac114cc7a5db7e55840d885a-0-6\" stroke-width=\"2px\" d=\"M670,202.0 C670,102.0 840.0,102.0 840.0,202.0\" fill=\"none\" stroke=\"currentColor\"/>\n",
              "    <text dy=\"1.25em\" style=\"font-size: 0.8em; letter-spacing: 1px\">\n",
              "        <textPath xlink:href=\"#arrow-2892518aac114cc7a5db7e55840d885a-0-6\" class=\"displacy-label\" startOffset=\"50%\" side=\"left\" fill=\"currentColor\" text-anchor=\"middle\">neg</textPath>\n",
              "    </text>\n",
              "    <path class=\"displacy-arrowhead\" d=\"M670,204.0 L662,192.0 678,192.0\" fill=\"currentColor\"/>\n",
              "</g>\n",
              "\n",
              "<g class=\"displacy-arrow\">\n",
              "    <path class=\"displacy-arc\" id=\"arrow-2892518aac114cc7a5db7e55840d885a-0-7\" stroke-width=\"2px\" d=\"M770,202.0 C770,152.0 835.0,152.0 835.0,202.0\" fill=\"none\" stroke=\"currentColor\"/>\n",
              "    <text dy=\"1.25em\" style=\"font-size: 0.8em; letter-spacing: 1px\">\n",
              "        <textPath xlink:href=\"#arrow-2892518aac114cc7a5db7e55840d885a-0-7\" class=\"displacy-label\" startOffset=\"50%\" side=\"left\" fill=\"currentColor\" text-anchor=\"middle\">nsubj</textPath>\n",
              "    </text>\n",
              "    <path class=\"displacy-arrowhead\" d=\"M770,204.0 L762,192.0 778,192.0\" fill=\"currentColor\"/>\n",
              "</g>\n",
              "\n",
              "<g class=\"displacy-arrow\">\n",
              "    <path class=\"displacy-arc\" id=\"arrow-2892518aac114cc7a5db7e55840d885a-0-8\" stroke-width=\"2px\" d=\"M970,202.0 C970,152.0 1035.0,152.0 1035.0,202.0\" fill=\"none\" stroke=\"currentColor\"/>\n",
              "    <text dy=\"1.25em\" style=\"font-size: 0.8em; letter-spacing: 1px\">\n",
              "        <textPath xlink:href=\"#arrow-2892518aac114cc7a5db7e55840d885a-0-8\" class=\"displacy-label\" startOffset=\"50%\" side=\"left\" fill=\"currentColor\" text-anchor=\"middle\">nsubj</textPath>\n",
              "    </text>\n",
              "    <path class=\"displacy-arrowhead\" d=\"M970,204.0 L962,192.0 978,192.0\" fill=\"currentColor\"/>\n",
              "</g>\n",
              "\n",
              "<g class=\"displacy-arrow\">\n",
              "    <path class=\"displacy-arc\" id=\"arrow-2892518aac114cc7a5db7e55840d885a-0-9\" stroke-width=\"2px\" d=\"M1070,202.0 C1070,152.0 1135.0,152.0 1135.0,202.0\" fill=\"none\" stroke=\"currentColor\"/>\n",
              "    <text dy=\"1.25em\" style=\"font-size: 0.8em; letter-spacing: 1px\">\n",
              "        <textPath xlink:href=\"#arrow-2892518aac114cc7a5db7e55840d885a-0-9\" class=\"displacy-label\" startOffset=\"50%\" side=\"left\" fill=\"currentColor\" text-anchor=\"middle\">neg</textPath>\n",
              "    </text>\n",
              "    <path class=\"displacy-arrowhead\" d=\"M1135.0,204.0 L1143.0,192.0 1127.0,192.0\" fill=\"currentColor\"/>\n",
              "</g>\n",
              "</svg></span>"
            ],
            "text/plain": [
              "<IPython.core.display.HTML object>"
            ]
          },
          "metadata": {},
          "output_type": "display_data"
        }
      ],
      "source": [
        "from spacy import displacy\n",
        "displacy.render(doc, style='dep', options={'distance': 100})"
      ]
    },
    {
      "cell_type": "markdown",
      "metadata": {
        "id": "RP743O7ve8tQ"
      },
      "source": [
        "La iteración a través de un documento le proporciona objetos token. Cada uno de estos tokens viene con información adicional. En la mayoría de los casos, los importantes son `token.lemma_` y` token.is_stop`.\n",
        "\n",
        "# Procesamiento previo de texto\n",
        "\n",
        "Hay algunos tipos de preprocesamiento para mejorar la forma en que modelamos con palabras. El primero es \"lematizar\".\n",
        "El \"lema\" de una palabra es su forma básica. Por ejemplo, \"caminar\" es el lema de la palabra \"caminar\". Entonces, cuando lematices la palabra caminar, la convertirías en caminar.\n",
        "\n",
        "También es común eliminar las palabras vacías. Las palabras vacías son palabras que aparecen con frecuencia en el idioma y no contienen mucha información. Las palabras vacías en inglés incluyen \"the\", \"is\", \"and\", \"but\", \"not\".\n",
        "\n",
        "Con un token spaCy, `token.lemma_` devuelve el lema, mientras que` token.is_stop` devuelve un booleano `True` si el token es una palabra no válida (y` False` en caso contrario)."
      ]
    },
    {
      "cell_type": "code",
      "execution_count": 23,
      "metadata": {
        "colab": {
          "base_uri": "https://localhost:8080/"
        },
        "id": "VGVuTUJje8tR",
        "outputId": "59f92f13-022c-4985-bd24-475fda417c11"
      },
      "outputs": [
        {
          "name": "stdout",
          "output_type": "stream",
          "text": [
            "Token \t\tLemma \t\tStopword\n",
            "----------------------------------------\n",
            "Tea\t\ttea\t\tFalse\n",
            "is\t\tbe\t\tTrue\n",
            "healthy\t\thealthy\t\tFalse\n",
            "and\t\tand\t\tTrue\n",
            "calming\t\tcalm\t\tFalse\n",
            ",\t\t,\t\tFalse\n",
            "do\t\tdo\t\tTrue\n",
            "n't\t\tn't\t\tTrue\n",
            "you\t\tyou\t\tTrue\n",
            "think\t\tthink\t\tFalse\n",
            "?\t\t?\t\tFalse\n",
            ".\t\t.\t\tFalse\n",
            "It\t\tit\t\tTrue\n",
            "is\t\tbe\t\tTrue\n",
            "n't\t\tn't\t\tTrue\n"
          ]
        }
      ],
      "source": [
        "print(f\"Token \\t\\tLemma \\t\\tStopword\".format('Token', 'Lemma', 'Stopword'))\n",
        "print(\"-\"*40)\n",
        "for token in doc:\n",
        "    print(f\"{str(token)}\\t\\t{token.lemma_}\\t\\t{token.is_stop}\")\n",
        "\n",
        "    ## Stopword --> palabra vacia"
      ]
    },
    {
      "cell_type": "markdown",
      "metadata": {
        "id": "QNcMrYlWe8tR"
      },
      "source": [
        "¿Por qué son importantes los lemas y la identificación de palabras vacías? Los datos de idiomas tienen mucho ruido mezclado con contenido informativo. En la oración anterior, las palabras importantes son té, saludable y calmante. Eliminar las palabras vacías podría ayudar al modelo predictivo a centrarse en palabras relevantes. Lematizar también ayuda al combinar múltiples formas de la misma palabra en una forma básica (\"calmar\", \"calma\", \"calmado\" cambiarían a \"calmado\").\n",
        "\n",
        "Sin embargo, lematizar y eliminar palabras vacías puede hacer que sus modelos tengan un peor rendimiento. Por lo tanto, debe tratar este procesamiento previo como parte de su proceso de optimización de hiperparámetros."
      ]
    },
    {
      "cell_type": "markdown",
      "metadata": {
        "id": "Qlte99bLe8tR"
      },
      "source": [
        "# Pattern Matching\n",
        "Otra tarea común de PNL es hacer coincidir tokens o frases dentro de fragmentos de texto o documentos completos. Puede hacer coincidir patrones con expresiones regulares, pero las capacidades de coincidencia de spaCy tienden a ser más fáciles de usar.\n",
        "\n",
        "Para hacer coincidir tokens individuales, crea un Matcher. Cuando desea hacer coincidir una lista de términos, es más fácil y eficiente usar PhraseMatcher. Por ejemplo, si desea encontrar dónde aparecen los diferentes modelos de teléfonos inteligentes en algún texto, puede crear patrones para los nombres de modelos que le interesen. Primero crea el propio PhraseMatcher."
      ]
    },
    {
      "cell_type": "code",
      "execution_count": 24,
      "metadata": {
        "id": "VWOW9Nige8tS"
      },
      "outputs": [],
      "source": [
        "from spacy.matcher import PhraseMatcher\n",
        "matcher = PhraseMatcher(nlp.vocab, attr='LOWER')\n",
        "## diccionario nlp.vocab, minusculas LOWER"
      ]
    },
    {
      "cell_type": "markdown",
      "metadata": {
        "id": "QYZkbCyoe8tS"
      },
      "source": [
        "El comparador se crea utilizando el vocabulario de su modelo. Aquí estamos usando el modelo en inglés pequeño que cargó anteriormente. La configuración de attr = 'LOWER' coincidirá con las frases en el texto en minúsculas. Esto proporciona una coincidencia que no distingue entre mayúsculas y minúsculas.\n",
        "\n",
        "A continuación, crea una lista de términos para que coincidan en el texto. El comparador de frases necesita los patrones como objetos de documento. La forma más fácil de obtenerlos es con una lista de comprensión utilizando el modelo nlp."
      ]
    },
    {
      "cell_type": "code",
      "execution_count": 25,
      "metadata": {
        "id": "a131UZKZe8tT"
      },
      "outputs": [],
      "source": [
        "terms = ['Galaxy Note', 'iPhone 11', 'iPhone XS', 'Google Pixel']\n",
        "patterns = [nlp(text) for text in terms]\n",
        "##creamos lista de compresnción patterns"
      ]
    },
    {
      "cell_type": "code",
      "execution_count": 26,
      "metadata": {
        "colab": {
          "base_uri": "https://localhost:8080/"
        },
        "id": "y6-BueNOmsdi",
        "outputId": "da3c0ca4-9ea7-4a06-ab06-e9c788ce365c"
      },
      "outputs": [
        {
          "data": {
            "text/plain": [
              "[Galaxy Note, iPhone 11, iPhone XS, Google Pixel]"
            ]
          },
          "execution_count": 26,
          "metadata": {},
          "output_type": "execute_result"
        }
      ],
      "source": [
        "patterns"
      ]
    },
    {
      "cell_type": "code",
      "execution_count": 28,
      "metadata": {
        "id": "DFMcsWYLmv4X"
      },
      "outputs": [],
      "source": [
        "matcher.add(\"TerminologyList\", patterns)"
      ]
    },
    {
      "cell_type": "markdown",
      "metadata": {
        "id": "4fJrpNw_e8tU"
      },
      "source": [
        "Luego, crea un documento a partir del texto para buscar y usa el comparador de frases para encontrar dónde ocurren los términos en el texto."
      ]
    },
    {
      "cell_type": "code",
      "execution_count": 14,
      "metadata": {
        "colab": {
          "base_uri": "https://localhost:8080/"
        },
        "id": "ok9Jjbdse8tU",
        "outputId": "61fefe74-bd73-4191-dc05-9f26aa43d416"
      },
      "outputs": [
        {
          "name": "stdout",
          "output_type": "stream",
          "text": [
            "[(3766102292120407359, 17, 19), (3766102292120407359, 22, 24), (3766102292120407359, 30, 32), (3766102292120407359, 33, 35)]\n"
          ]
        }
      ],
      "source": [
        "# Borrowed from https://daringfireball.net/linked/2019/09/21/patel-11-pro\n",
        "text_doc = nlp(\"Glowing review overall, and some really interesting side-by-side \"\n",
        "               \"photography tests pitting the iPhone 11 Pro against the \"\n",
        "               \"Galaxy Note 10 Plus and last year’s iPhone XS and Google Pixel 3.\") \n",
        "matches = matcher(text_doc)\n",
        "print(matches)"
      ]
    },
    {
      "cell_type": "markdown",
      "metadata": {
        "id": "tIU7gl0he8tU"
      },
      "source": [
        "Las coincidencias aquí son una tupla de la identificación de coincidencia y las posiciones del inicio y el final de la frase."
      ]
    },
    {
      "cell_type": "code",
      "execution_count": 15,
      "metadata": {
        "colab": {
          "base_uri": "https://localhost:8080/"
        },
        "id": "hrUJBMs4e8tV",
        "outputId": "373ce87b-246a-4d59-8ebe-352d4f916653"
      },
      "outputs": [
        {
          "name": "stdout",
          "output_type": "stream",
          "text": [
            "TerminologyList iPhone 11\n"
          ]
        }
      ],
      "source": [
        "match_id, start, end = matches[0]\n",
        "print(nlp.vocab.strings[match_id], text_doc[start:end])"
      ]
    },
    {
      "cell_type": "code",
      "execution_count": 16,
      "metadata": {
        "id": "fjCGlZ0BrFpb"
      },
      "outputs": [
        {
          "name": "stdout",
          "output_type": "stream",
          "text": [
            "TerminologyList Google Pixel\n"
          ]
        }
      ],
      "source": [
        "#probar con las otras posiciones de la lista\n",
        "match_id, start, end = matches[3]\n",
        "print(nlp.vocab.strings[match_id], text_doc[start:end])\n"
      ]
    },
    {
      "cell_type": "markdown",
      "metadata": {
        "id": "csCyjuRTe8tV"
      },
      "source": [
        "# Your Turn\n",
        "Ahora que ha visto algunos usos de SpaCy para PNL, es su turno de probarlo **[analyze Yelp reviews](https://www.kaggle.com/kernels/fork/6061023)**."
      ]
    },
    {
      "cell_type": "markdown",
      "metadata": {
        "id": "HALf-Thoe8tV"
      },
      "source": [
        "---\n",
        "\n",
        "\n",
        "\n",
        "\n",
        "*Have questions or comments? Visit the [Learn Discussion forum](https://www.kaggle.com/learn-forum/161466) to chat with other Learners.*"
      ]
    },
    {
      "cell_type": "code",
      "execution_count": null,
      "metadata": {},
      "outputs": [],
      "source": []
    }
  ],
  "metadata": {
    "colab": {
      "name": "1.1 INTRO NLP-español.ipynb",
      "provenance": []
    },
    "interpreter": {
      "hash": "31f2aee4e71d21fbe5cf8b01ff0e069b9275f58929596ceb00d14d90e3e16cd6"
    },
    "kernelspec": {
      "display_name": "Python 3.8.10 64-bit",
      "name": "python3"
    },
    "language_info": {
      "codemirror_mode": {
        "name": "ipython",
        "version": 3
      },
      "file_extension": ".py",
      "mimetype": "text/x-python",
      "name": "python",
      "nbconvert_exporter": "python",
      "pygments_lexer": "ipython3",
      "version": "3.8.10"
    }
  },
  "nbformat": 4,
  "nbformat_minor": 2
}
