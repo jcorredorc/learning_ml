{
 "cells": [
  {
   "cell_type": "code",
   "execution_count": 3,
   "id": "f542904a-9bc7-40f0-8536-64217db6b703",
   "metadata": {},
   "outputs": [],
   "source": [
    "import pandas as pd\n",
    "import numpy as np\n",
    "import seaborn as sns\n",
    "import matplotlib.pyplot as plt\n",
    "from sklearn.linear_model import LinearRegression, LogisticRegression\n",
    "from sklearn.model_selection import train_test_split\n",
    "from sklearn.metrics import r2_score, mean_squared_error, confusion_matrix, accuracy_score, precision_score, recall_score, roc_auc_score, roc_curve, RocCurveDisplay\n",
    "from mlxtend.plotting import plot_confusion_matrix"
   ]
  },
  {
   "cell_type": "code",
   "execution_count": 4,
   "id": "2935d58c-75ed-46be-998d-639ff9d9bd49",
   "metadata": {},
   "outputs": [],
   "source": [
    "df = pd.read_csv('C:/Users/jacos/Downloads/car_ad.csv', header = 0)"
   ]
  },
  {
   "cell_type": "code",
   "execution_count": 5,
   "id": "caed09af-4cc0-4554-8733-bb87bc52322e",
   "metadata": {},
   "outputs": [
    {
     "data": {
      "text/html": [
       "<div>\n",
       "<style scoped>\n",
       "    .dataframe tbody tr th:only-of-type {\n",
       "        vertical-align: middle;\n",
       "    }\n",
       "\n",
       "    .dataframe tbody tr th {\n",
       "        vertical-align: top;\n",
       "    }\n",
       "\n",
       "    .dataframe thead th {\n",
       "        text-align: right;\n",
       "    }\n",
       "</style>\n",
       "<table border=\"1\" class=\"dataframe\">\n",
       "  <thead>\n",
       "    <tr style=\"text-align: right;\">\n",
       "      <th></th>\n",
       "      <th>car</th>\n",
       "      <th>price</th>\n",
       "      <th>body</th>\n",
       "      <th>mileage</th>\n",
       "      <th>engV</th>\n",
       "      <th>engType</th>\n",
       "      <th>registration</th>\n",
       "      <th>year</th>\n",
       "      <th>model</th>\n",
       "      <th>drive</th>\n",
       "    </tr>\n",
       "  </thead>\n",
       "  <tbody>\n",
       "    <tr>\n",
       "      <th>0</th>\n",
       "      <td>Ford</td>\n",
       "      <td>15500.000</td>\n",
       "      <td>crossover</td>\n",
       "      <td>68</td>\n",
       "      <td>2.5</td>\n",
       "      <td>Gas</td>\n",
       "      <td>yes</td>\n",
       "      <td>2010</td>\n",
       "      <td>Kuga</td>\n",
       "      <td>full</td>\n",
       "    </tr>\n",
       "    <tr>\n",
       "      <th>1</th>\n",
       "      <td>Mercedes-Benz</td>\n",
       "      <td>20500.000</td>\n",
       "      <td>sedan</td>\n",
       "      <td>173</td>\n",
       "      <td>1.8</td>\n",
       "      <td>Gas</td>\n",
       "      <td>yes</td>\n",
       "      <td>2011</td>\n",
       "      <td>E-Class</td>\n",
       "      <td>rear</td>\n",
       "    </tr>\n",
       "    <tr>\n",
       "      <th>2</th>\n",
       "      <td>Mercedes-Benz</td>\n",
       "      <td>35000.000</td>\n",
       "      <td>other</td>\n",
       "      <td>135</td>\n",
       "      <td>5.5</td>\n",
       "      <td>Petrol</td>\n",
       "      <td>yes</td>\n",
       "      <td>2008</td>\n",
       "      <td>CL 550</td>\n",
       "      <td>rear</td>\n",
       "    </tr>\n",
       "    <tr>\n",
       "      <th>3</th>\n",
       "      <td>Mercedes-Benz</td>\n",
       "      <td>17800.000</td>\n",
       "      <td>van</td>\n",
       "      <td>162</td>\n",
       "      <td>1.8</td>\n",
       "      <td>Diesel</td>\n",
       "      <td>yes</td>\n",
       "      <td>2012</td>\n",
       "      <td>B 180</td>\n",
       "      <td>front</td>\n",
       "    </tr>\n",
       "    <tr>\n",
       "      <th>4</th>\n",
       "      <td>Mercedes-Benz</td>\n",
       "      <td>33000.000</td>\n",
       "      <td>vagon</td>\n",
       "      <td>91</td>\n",
       "      <td>NaN</td>\n",
       "      <td>Other</td>\n",
       "      <td>yes</td>\n",
       "      <td>2013</td>\n",
       "      <td>E-Class</td>\n",
       "      <td>NaN</td>\n",
       "    </tr>\n",
       "    <tr>\n",
       "      <th>5</th>\n",
       "      <td>Nissan</td>\n",
       "      <td>16600.000</td>\n",
       "      <td>crossover</td>\n",
       "      <td>83</td>\n",
       "      <td>2.0</td>\n",
       "      <td>Petrol</td>\n",
       "      <td>yes</td>\n",
       "      <td>2013</td>\n",
       "      <td>X-Trail</td>\n",
       "      <td>full</td>\n",
       "    </tr>\n",
       "    <tr>\n",
       "      <th>6</th>\n",
       "      <td>Honda</td>\n",
       "      <td>6500.000</td>\n",
       "      <td>sedan</td>\n",
       "      <td>199</td>\n",
       "      <td>2.0</td>\n",
       "      <td>Petrol</td>\n",
       "      <td>yes</td>\n",
       "      <td>2003</td>\n",
       "      <td>Accord</td>\n",
       "      <td>front</td>\n",
       "    </tr>\n",
       "    <tr>\n",
       "      <th>7</th>\n",
       "      <td>Renault</td>\n",
       "      <td>10500.000</td>\n",
       "      <td>vagon</td>\n",
       "      <td>185</td>\n",
       "      <td>1.5</td>\n",
       "      <td>Diesel</td>\n",
       "      <td>yes</td>\n",
       "      <td>2011</td>\n",
       "      <td>Megane</td>\n",
       "      <td>front</td>\n",
       "    </tr>\n",
       "    <tr>\n",
       "      <th>8</th>\n",
       "      <td>Mercedes-Benz</td>\n",
       "      <td>21500.000</td>\n",
       "      <td>sedan</td>\n",
       "      <td>146</td>\n",
       "      <td>1.8</td>\n",
       "      <td>Gas</td>\n",
       "      <td>yes</td>\n",
       "      <td>2012</td>\n",
       "      <td>E-Class</td>\n",
       "      <td>rear</td>\n",
       "    </tr>\n",
       "    <tr>\n",
       "      <th>9</th>\n",
       "      <td>Mercedes-Benz</td>\n",
       "      <td>22700.000</td>\n",
       "      <td>sedan</td>\n",
       "      <td>125</td>\n",
       "      <td>2.2</td>\n",
       "      <td>Diesel</td>\n",
       "      <td>yes</td>\n",
       "      <td>2010</td>\n",
       "      <td>E-Class</td>\n",
       "      <td>rear</td>\n",
       "    </tr>\n",
       "    <tr>\n",
       "      <th>10</th>\n",
       "      <td>Nissan</td>\n",
       "      <td>20447.154</td>\n",
       "      <td>crossover</td>\n",
       "      <td>0</td>\n",
       "      <td>1.2</td>\n",
       "      <td>Petrol</td>\n",
       "      <td>yes</td>\n",
       "      <td>2016</td>\n",
       "      <td>Qashqai</td>\n",
       "      <td>front</td>\n",
       "    </tr>\n",
       "    <tr>\n",
       "      <th>11</th>\n",
       "      <td>Mercedes-Benz</td>\n",
       "      <td>20400.000</td>\n",
       "      <td>sedan</td>\n",
       "      <td>190</td>\n",
       "      <td>1.8</td>\n",
       "      <td>Gas</td>\n",
       "      <td>yes</td>\n",
       "      <td>2011</td>\n",
       "      <td>E-Class</td>\n",
       "      <td>rear</td>\n",
       "    </tr>\n",
       "    <tr>\n",
       "      <th>12</th>\n",
       "      <td>Mercedes-Benz</td>\n",
       "      <td>22500.000</td>\n",
       "      <td>sedan</td>\n",
       "      <td>164</td>\n",
       "      <td>1.8</td>\n",
       "      <td>Gas</td>\n",
       "      <td>yes</td>\n",
       "      <td>2012</td>\n",
       "      <td>E-Class</td>\n",
       "      <td>rear</td>\n",
       "    </tr>\n",
       "    <tr>\n",
       "      <th>13</th>\n",
       "      <td>BMW</td>\n",
       "      <td>4700.000</td>\n",
       "      <td>sedan</td>\n",
       "      <td>200</td>\n",
       "      <td>NaN</td>\n",
       "      <td>Petrol</td>\n",
       "      <td>yes</td>\n",
       "      <td>1996</td>\n",
       "      <td>316</td>\n",
       "      <td>rear</td>\n",
       "    </tr>\n",
       "    <tr>\n",
       "      <th>14</th>\n",
       "      <td>Mercedes-Benz</td>\n",
       "      <td>21500.000</td>\n",
       "      <td>sedan</td>\n",
       "      <td>159</td>\n",
       "      <td>1.8</td>\n",
       "      <td>Gas</td>\n",
       "      <td>yes</td>\n",
       "      <td>2012</td>\n",
       "      <td>E-Class</td>\n",
       "      <td>rear</td>\n",
       "    </tr>\n",
       "    <tr>\n",
       "      <th>15</th>\n",
       "      <td>BMW</td>\n",
       "      <td>19999.000</td>\n",
       "      <td>sedan</td>\n",
       "      <td>290</td>\n",
       "      <td>4.8</td>\n",
       "      <td>Petrol</td>\n",
       "      <td>yes</td>\n",
       "      <td>2006</td>\n",
       "      <td>750</td>\n",
       "      <td>rear</td>\n",
       "    </tr>\n",
       "    <tr>\n",
       "      <th>16</th>\n",
       "      <td>BMW</td>\n",
       "      <td>129222.000</td>\n",
       "      <td>sedan</td>\n",
       "      <td>2</td>\n",
       "      <td>5.0</td>\n",
       "      <td>Petrol</td>\n",
       "      <td>yes</td>\n",
       "      <td>2016</td>\n",
       "      <td>750</td>\n",
       "      <td>full</td>\n",
       "    </tr>\n",
       "    <tr>\n",
       "      <th>17</th>\n",
       "      <td>Mercedes-Benz</td>\n",
       "      <td>99999.000</td>\n",
       "      <td>crossover</td>\n",
       "      <td>0</td>\n",
       "      <td>3.0</td>\n",
       "      <td>Petrol</td>\n",
       "      <td>yes</td>\n",
       "      <td>2016</td>\n",
       "      <td>GLE-Class</td>\n",
       "      <td>full</td>\n",
       "    </tr>\n",
       "    <tr>\n",
       "      <th>18</th>\n",
       "      <td>Nissan</td>\n",
       "      <td>16600.000</td>\n",
       "      <td>crossover</td>\n",
       "      <td>83</td>\n",
       "      <td>2.0</td>\n",
       "      <td>Petrol</td>\n",
       "      <td>yes</td>\n",
       "      <td>2013</td>\n",
       "      <td>X-Trail</td>\n",
       "      <td>full</td>\n",
       "    </tr>\n",
       "    <tr>\n",
       "      <th>19</th>\n",
       "      <td>BMW</td>\n",
       "      <td>73900.000</td>\n",
       "      <td>sedan</td>\n",
       "      <td>57</td>\n",
       "      <td>4.4</td>\n",
       "      <td>Petrol</td>\n",
       "      <td>yes</td>\n",
       "      <td>2013</td>\n",
       "      <td>M5</td>\n",
       "      <td>rear</td>\n",
       "    </tr>\n",
       "  </tbody>\n",
       "</table>\n",
       "</div>"
      ],
      "text/plain": [
       "              car       price       body  mileage  engV engType registration  \\\n",
       "0            Ford   15500.000  crossover       68   2.5     Gas          yes   \n",
       "1   Mercedes-Benz   20500.000      sedan      173   1.8     Gas          yes   \n",
       "2   Mercedes-Benz   35000.000      other      135   5.5  Petrol          yes   \n",
       "3   Mercedes-Benz   17800.000        van      162   1.8  Diesel          yes   \n",
       "4   Mercedes-Benz   33000.000      vagon       91   NaN   Other          yes   \n",
       "5          Nissan   16600.000  crossover       83   2.0  Petrol          yes   \n",
       "6           Honda    6500.000      sedan      199   2.0  Petrol          yes   \n",
       "7         Renault   10500.000      vagon      185   1.5  Diesel          yes   \n",
       "8   Mercedes-Benz   21500.000      sedan      146   1.8     Gas          yes   \n",
       "9   Mercedes-Benz   22700.000      sedan      125   2.2  Diesel          yes   \n",
       "10         Nissan   20447.154  crossover        0   1.2  Petrol          yes   \n",
       "11  Mercedes-Benz   20400.000      sedan      190   1.8     Gas          yes   \n",
       "12  Mercedes-Benz   22500.000      sedan      164   1.8     Gas          yes   \n",
       "13            BMW    4700.000      sedan      200   NaN  Petrol          yes   \n",
       "14  Mercedes-Benz   21500.000      sedan      159   1.8     Gas          yes   \n",
       "15            BMW   19999.000      sedan      290   4.8  Petrol          yes   \n",
       "16            BMW  129222.000      sedan        2   5.0  Petrol          yes   \n",
       "17  Mercedes-Benz   99999.000  crossover        0   3.0  Petrol          yes   \n",
       "18         Nissan   16600.000  crossover       83   2.0  Petrol          yes   \n",
       "19            BMW   73900.000      sedan       57   4.4  Petrol          yes   \n",
       "\n",
       "    year      model  drive  \n",
       "0   2010       Kuga   full  \n",
       "1   2011    E-Class   rear  \n",
       "2   2008     CL 550   rear  \n",
       "3   2012      B 180  front  \n",
       "4   2013    E-Class    NaN  \n",
       "5   2013    X-Trail   full  \n",
       "6   2003     Accord  front  \n",
       "7   2011     Megane  front  \n",
       "8   2012    E-Class   rear  \n",
       "9   2010    E-Class   rear  \n",
       "10  2016    Qashqai  front  \n",
       "11  2011    E-Class   rear  \n",
       "12  2012    E-Class   rear  \n",
       "13  1996        316   rear  \n",
       "14  2012    E-Class   rear  \n",
       "15  2006        750   rear  \n",
       "16  2016        750   full  \n",
       "17  2016  GLE-Class   full  \n",
       "18  2013    X-Trail   full  \n",
       "19  2013         M5   rear  "
      ]
     },
     "execution_count": 5,
     "metadata": {},
     "output_type": "execute_result"
    }
   ],
   "source": [
    "df.head(n=20)"
   ]
  },
  {
   "cell_type": "code",
   "execution_count": 6,
   "id": "38077e70-a79a-4b45-8a5b-af708afb3dad",
   "metadata": {},
   "outputs": [
    {
     "data": {
      "text/plain": [
       "(9576, 10)"
      ]
     },
     "execution_count": 6,
     "metadata": {},
     "output_type": "execute_result"
    }
   ],
   "source": [
    "df.shape"
   ]
  },
  {
   "cell_type": "code",
   "execution_count": 7,
   "id": "df79bc33-558f-4752-82c8-ae0a36c1dfb7",
   "metadata": {},
   "outputs": [
    {
     "name": "stdout",
     "output_type": "stream",
     "text": [
      "<class 'pandas.core.frame.DataFrame'>\n",
      "RangeIndex: 9576 entries, 0 to 9575\n",
      "Data columns (total 10 columns):\n",
      " #   Column        Non-Null Count  Dtype  \n",
      "---  ------        --------------  -----  \n",
      " 0   car           9576 non-null   object \n",
      " 1   price         9576 non-null   float64\n",
      " 2   body          9576 non-null   object \n",
      " 3   mileage       9576 non-null   int64  \n",
      " 4   engV          9142 non-null   float64\n",
      " 5   engType       9576 non-null   object \n",
      " 6   registration  9576 non-null   object \n",
      " 7   year          9576 non-null   int64  \n",
      " 8   model         9576 non-null   object \n",
      " 9   drive         7943 non-null   object \n",
      "dtypes: float64(2), int64(2), object(6)\n",
      "memory usage: 748.2+ KB\n"
     ]
    }
   ],
   "source": [
    "df.info()"
   ]
  },
  {
   "cell_type": "markdown",
   "id": "f79a7ceb-e3a2-4eb6-8f38-e43aeb86c67c",
   "metadata": {},
   "source": [
    "Observando la salida anterior se hace necesario realizar las siguientes acciones:\n",
    "\n",
    "* Imputar el atributo numérico engV de ser posible\n",
    "* Reemplazar los valores NA por una categoría en el atributo engV, si es pertinente, en caso de no serlo sería necesario en este paso eliminar todas estas instancias con valores nulos.\n",
    "* Crear las variables dummy para los valores categóricos.\n",
    "* Igualmente no se aconseja trabajar con el atributo 'year' en modelos que no son series de tiempo, se puede trabajar con un atributo derivado 'age'que represente la diferencia del año de creación del conjunto de datos y la fecha de dicho atributo."
   ]
  },
  {
   "cell_type": "code",
   "execution_count": 8,
   "id": "d7664c33-526a-4bba-b420-153d6669798c",
   "metadata": {},
   "outputs": [],
   "source": [
    "# Imputar valores\n",
    "df['engV'].fillna(value = df['engV'].mean(), inplace = True)"
   ]
  },
  {
   "cell_type": "code",
   "execution_count": 9,
   "id": "a3ae8794-8212-46cf-9911-e81991f43297",
   "metadata": {},
   "outputs": [],
   "source": [
    "# Se estima importante conocer el tipo de tracción por lo que se va\n",
    "# a eliminar las instancia que no tienen valores en este atributo\n",
    "df = df.dropna()"
   ]
  },
  {
   "cell_type": "code",
   "execution_count": 10,
   "id": "168dcb69-cd2c-4841-bdc1-a69695da9295",
   "metadata": {},
   "outputs": [],
   "source": [
    "df['Age'] = 2020 - df.year"
   ]
  },
  {
   "cell_type": "code",
   "execution_count": 11,
   "id": "9053609d-53a3-4930-94b0-f499df863ea6",
   "metadata": {},
   "outputs": [],
   "source": [
    "del df['year']"
   ]
  },
  {
   "cell_type": "code",
   "execution_count": 12,
   "id": "8944bcc8-f209-4964-a2e1-40bb7fb40392",
   "metadata": {},
   "outputs": [
    {
     "data": {
      "text/html": [
       "<div>\n",
       "<style scoped>\n",
       "    .dataframe tbody tr th:only-of-type {\n",
       "        vertical-align: middle;\n",
       "    }\n",
       "\n",
       "    .dataframe tbody tr th {\n",
       "        vertical-align: top;\n",
       "    }\n",
       "\n",
       "    .dataframe thead th {\n",
       "        text-align: right;\n",
       "    }\n",
       "</style>\n",
       "<table border=\"1\" class=\"dataframe\">\n",
       "  <thead>\n",
       "    <tr style=\"text-align: right;\">\n",
       "      <th></th>\n",
       "      <th>car</th>\n",
       "      <th>price</th>\n",
       "      <th>body</th>\n",
       "      <th>mileage</th>\n",
       "      <th>engV</th>\n",
       "      <th>engType</th>\n",
       "      <th>registration</th>\n",
       "      <th>model</th>\n",
       "      <th>drive</th>\n",
       "      <th>Age</th>\n",
       "    </tr>\n",
       "  </thead>\n",
       "  <tbody>\n",
       "    <tr>\n",
       "      <th>0</th>\n",
       "      <td>Ford</td>\n",
       "      <td>15500.0</td>\n",
       "      <td>crossover</td>\n",
       "      <td>68</td>\n",
       "      <td>2.5</td>\n",
       "      <td>Gas</td>\n",
       "      <td>yes</td>\n",
       "      <td>Kuga</td>\n",
       "      <td>full</td>\n",
       "      <td>10</td>\n",
       "    </tr>\n",
       "    <tr>\n",
       "      <th>1</th>\n",
       "      <td>Mercedes-Benz</td>\n",
       "      <td>20500.0</td>\n",
       "      <td>sedan</td>\n",
       "      <td>173</td>\n",
       "      <td>1.8</td>\n",
       "      <td>Gas</td>\n",
       "      <td>yes</td>\n",
       "      <td>E-Class</td>\n",
       "      <td>rear</td>\n",
       "      <td>9</td>\n",
       "    </tr>\n",
       "    <tr>\n",
       "      <th>2</th>\n",
       "      <td>Mercedes-Benz</td>\n",
       "      <td>35000.0</td>\n",
       "      <td>other</td>\n",
       "      <td>135</td>\n",
       "      <td>5.5</td>\n",
       "      <td>Petrol</td>\n",
       "      <td>yes</td>\n",
       "      <td>CL 550</td>\n",
       "      <td>rear</td>\n",
       "      <td>12</td>\n",
       "    </tr>\n",
       "    <tr>\n",
       "      <th>3</th>\n",
       "      <td>Mercedes-Benz</td>\n",
       "      <td>17800.0</td>\n",
       "      <td>van</td>\n",
       "      <td>162</td>\n",
       "      <td>1.8</td>\n",
       "      <td>Diesel</td>\n",
       "      <td>yes</td>\n",
       "      <td>B 180</td>\n",
       "      <td>front</td>\n",
       "      <td>8</td>\n",
       "    </tr>\n",
       "    <tr>\n",
       "      <th>5</th>\n",
       "      <td>Nissan</td>\n",
       "      <td>16600.0</td>\n",
       "      <td>crossover</td>\n",
       "      <td>83</td>\n",
       "      <td>2.0</td>\n",
       "      <td>Petrol</td>\n",
       "      <td>yes</td>\n",
       "      <td>X-Trail</td>\n",
       "      <td>full</td>\n",
       "      <td>7</td>\n",
       "    </tr>\n",
       "  </tbody>\n",
       "</table>\n",
       "</div>"
      ],
      "text/plain": [
       "             car    price       body  mileage  engV engType registration  \\\n",
       "0           Ford  15500.0  crossover       68   2.5     Gas          yes   \n",
       "1  Mercedes-Benz  20500.0      sedan      173   1.8     Gas          yes   \n",
       "2  Mercedes-Benz  35000.0      other      135   5.5  Petrol          yes   \n",
       "3  Mercedes-Benz  17800.0        van      162   1.8  Diesel          yes   \n",
       "5         Nissan  16600.0  crossover       83   2.0  Petrol          yes   \n",
       "\n",
       "     model  drive  Age  \n",
       "0     Kuga   full   10  \n",
       "1  E-Class   rear    9  \n",
       "2   CL 550   rear   12  \n",
       "3    B 180  front    8  \n",
       "5  X-Trail   full    7  "
      ]
     },
     "execution_count": 12,
     "metadata": {},
     "output_type": "execute_result"
    }
   ],
   "source": [
    "df.head()"
   ]
  },
  {
   "cell_type": "code",
   "execution_count": 13,
   "id": "51b7da8d-9e19-458b-be60-c87cd15088c1",
   "metadata": {},
   "outputs": [
    {
     "data": {
      "text/plain": [
       "(7943, 10)"
      ]
     },
     "execution_count": 13,
     "metadata": {},
     "output_type": "execute_result"
    }
   ],
   "source": [
    "df.shape"
   ]
  },
  {
   "cell_type": "code",
   "execution_count": 14,
   "id": "b1f78603-93b1-4d00-b96b-d381beb9d805",
   "metadata": {},
   "outputs": [],
   "source": [
    "# Crear las variables dummy\n",
    "dfdum = pd.get_dummies(df)"
   ]
  },
  {
   "cell_type": "code",
   "execution_count": 16,
   "id": "46722904-b11f-42a9-a310-22f370a34918",
   "metadata": {},
   "outputs": [
    {
     "data": {
      "text/html": [
       "<div>\n",
       "<style scoped>\n",
       "    .dataframe tbody tr th:only-of-type {\n",
       "        vertical-align: middle;\n",
       "    }\n",
       "\n",
       "    .dataframe tbody tr th {\n",
       "        vertical-align: top;\n",
       "    }\n",
       "\n",
       "    .dataframe thead th {\n",
       "        text-align: right;\n",
       "    }\n",
       "</style>\n",
       "<table border=\"1\" class=\"dataframe\">\n",
       "  <thead>\n",
       "    <tr style=\"text-align: right;\">\n",
       "      <th></th>\n",
       "      <th>price</th>\n",
       "      <th>mileage</th>\n",
       "      <th>engV</th>\n",
       "      <th>Age</th>\n",
       "      <th>car_Acura</th>\n",
       "      <th>car_Alfa Romeo</th>\n",
       "      <th>car_Aro</th>\n",
       "      <th>car_Aston Martin</th>\n",
       "      <th>car_Audi</th>\n",
       "      <th>car_BMW</th>\n",
       "      <th>...</th>\n",
       "      <th>model_ZDX</th>\n",
       "      <th>model_Zafira</th>\n",
       "      <th>model_i10</th>\n",
       "      <th>model_i20</th>\n",
       "      <th>model_i30</th>\n",
       "      <th>model_ix55 (Veracruz)</th>\n",
       "      <th>drive_front</th>\n",
       "      <th>drive_fu</th>\n",
       "      <th>drive_full</th>\n",
       "      <th>drive_rear</th>\n",
       "    </tr>\n",
       "  </thead>\n",
       "  <tbody>\n",
       "    <tr>\n",
       "      <th>0</th>\n",
       "      <td>15500.0</td>\n",
       "      <td>68</td>\n",
       "      <td>2.5</td>\n",
       "      <td>10</td>\n",
       "      <td>0</td>\n",
       "      <td>0</td>\n",
       "      <td>0</td>\n",
       "      <td>0</td>\n",
       "      <td>0</td>\n",
       "      <td>0</td>\n",
       "      <td>...</td>\n",
       "      <td>0</td>\n",
       "      <td>0</td>\n",
       "      <td>0</td>\n",
       "      <td>0</td>\n",
       "      <td>0</td>\n",
       "      <td>0</td>\n",
       "      <td>0</td>\n",
       "      <td>0</td>\n",
       "      <td>1</td>\n",
       "      <td>0</td>\n",
       "    </tr>\n",
       "    <tr>\n",
       "      <th>1</th>\n",
       "      <td>20500.0</td>\n",
       "      <td>173</td>\n",
       "      <td>1.8</td>\n",
       "      <td>9</td>\n",
       "      <td>0</td>\n",
       "      <td>0</td>\n",
       "      <td>0</td>\n",
       "      <td>0</td>\n",
       "      <td>0</td>\n",
       "      <td>0</td>\n",
       "      <td>...</td>\n",
       "      <td>0</td>\n",
       "      <td>0</td>\n",
       "      <td>0</td>\n",
       "      <td>0</td>\n",
       "      <td>0</td>\n",
       "      <td>0</td>\n",
       "      <td>0</td>\n",
       "      <td>0</td>\n",
       "      <td>0</td>\n",
       "      <td>1</td>\n",
       "    </tr>\n",
       "    <tr>\n",
       "      <th>2</th>\n",
       "      <td>35000.0</td>\n",
       "      <td>135</td>\n",
       "      <td>5.5</td>\n",
       "      <td>12</td>\n",
       "      <td>0</td>\n",
       "      <td>0</td>\n",
       "      <td>0</td>\n",
       "      <td>0</td>\n",
       "      <td>0</td>\n",
       "      <td>0</td>\n",
       "      <td>...</td>\n",
       "      <td>0</td>\n",
       "      <td>0</td>\n",
       "      <td>0</td>\n",
       "      <td>0</td>\n",
       "      <td>0</td>\n",
       "      <td>0</td>\n",
       "      <td>0</td>\n",
       "      <td>0</td>\n",
       "      <td>0</td>\n",
       "      <td>1</td>\n",
       "    </tr>\n",
       "    <tr>\n",
       "      <th>3</th>\n",
       "      <td>17800.0</td>\n",
       "      <td>162</td>\n",
       "      <td>1.8</td>\n",
       "      <td>8</td>\n",
       "      <td>0</td>\n",
       "      <td>0</td>\n",
       "      <td>0</td>\n",
       "      <td>0</td>\n",
       "      <td>0</td>\n",
       "      <td>0</td>\n",
       "      <td>...</td>\n",
       "      <td>0</td>\n",
       "      <td>0</td>\n",
       "      <td>0</td>\n",
       "      <td>0</td>\n",
       "      <td>0</td>\n",
       "      <td>0</td>\n",
       "      <td>1</td>\n",
       "      <td>0</td>\n",
       "      <td>0</td>\n",
       "      <td>0</td>\n",
       "    </tr>\n",
       "    <tr>\n",
       "      <th>5</th>\n",
       "      <td>16600.0</td>\n",
       "      <td>83</td>\n",
       "      <td>2.0</td>\n",
       "      <td>7</td>\n",
       "      <td>0</td>\n",
       "      <td>0</td>\n",
       "      <td>0</td>\n",
       "      <td>0</td>\n",
       "      <td>0</td>\n",
       "      <td>0</td>\n",
       "      <td>...</td>\n",
       "      <td>0</td>\n",
       "      <td>0</td>\n",
       "      <td>0</td>\n",
       "      <td>0</td>\n",
       "      <td>0</td>\n",
       "      <td>0</td>\n",
       "      <td>0</td>\n",
       "      <td>0</td>\n",
       "      <td>1</td>\n",
       "      <td>0</td>\n",
       "    </tr>\n",
       "  </tbody>\n",
       "</table>\n",
       "<p>5 rows × 875 columns</p>\n",
       "</div>"
      ],
      "text/plain": [
       "     price  mileage  engV  Age  car_Acura  car_Alfa Romeo  car_Aro  \\\n",
       "0  15500.0       68   2.5   10          0               0        0   \n",
       "1  20500.0      173   1.8    9          0               0        0   \n",
       "2  35000.0      135   5.5   12          0               0        0   \n",
       "3  17800.0      162   1.8    8          0               0        0   \n",
       "5  16600.0       83   2.0    7          0               0        0   \n",
       "\n",
       "   car_Aston Martin  car_Audi  car_BMW  ...  model_ZDX  model_Zafira  \\\n",
       "0                 0         0        0  ...          0             0   \n",
       "1                 0         0        0  ...          0             0   \n",
       "2                 0         0        0  ...          0             0   \n",
       "3                 0         0        0  ...          0             0   \n",
       "5                 0         0        0  ...          0             0   \n",
       "\n",
       "   model_i10  model_i20  model_i30  model_ix55 (Veracruz)  drive_front  \\\n",
       "0          0          0          0                      0            0   \n",
       "1          0          0          0                      0            0   \n",
       "2          0          0          0                      0            0   \n",
       "3          0          0          0                      0            1   \n",
       "5          0          0          0                      0            0   \n",
       "\n",
       "   drive_fu  drive_full  drive_rear  \n",
       "0         0           1           0  \n",
       "1         0           0           1  \n",
       "2         0           0           1  \n",
       "3         0           0           0  \n",
       "5         0           1           0  \n",
       "\n",
       "[5 rows x 875 columns]"
      ]
     },
     "execution_count": 16,
     "metadata": {},
     "output_type": "execute_result"
    }
   ],
   "source": [
    "dfdum.head()"
   ]
  },
  {
   "cell_type": "code",
   "execution_count": 17,
   "id": "04c3c12d-94f6-4626-8789-459444a82e67",
   "metadata": {},
   "outputs": [],
   "source": [
    "dfdum.to_csv('C:/Users/jacos/Downloads/car_ad_final.csv', header = True, index = False)"
   ]
  },
  {
   "cell_type": "markdown",
   "id": "a98f7ba0-1420-4f1f-92e0-36a08cd9e70a",
   "metadata": {},
   "source": [
    "Si se desea trabajar precio como clase, se puede establecer, por ejemplo, que los que estén por debajo de la media se les asigna el valor de 1 y los que estén por encima el valor de 2."
   ]
  },
  {
   "cell_type": "code",
   "execution_count": 18,
   "id": "ec6ce21d-d075-461b-9fd0-79da9d80e455",
   "metadata": {},
   "outputs": [],
   "source": [
    "dfclass = dfdum"
   ]
  },
  {
   "cell_type": "code",
   "execution_count": 19,
   "id": "4f9936e5-d6fa-4a92-a551-c52d21bd4b85",
   "metadata": {},
   "outputs": [],
   "source": [
    "dfclass.loc[dfclass['price'] < dfclass.price.mean(), 'price'] = 0 # dfclass.percentile([25])\n",
    "dfclass.loc[dfclass['price'] >= dfclass.price.mean(), 'price'] = 1"
   ]
  },
  {
   "cell_type": "code",
   "execution_count": 20,
   "id": "1b095138-acc3-4ba0-9f20-62acf3ddc73b",
   "metadata": {},
   "outputs": [
    {
     "data": {
      "text/html": [
       "<div>\n",
       "<style scoped>\n",
       "    .dataframe tbody tr th:only-of-type {\n",
       "        vertical-align: middle;\n",
       "    }\n",
       "\n",
       "    .dataframe tbody tr th {\n",
       "        vertical-align: top;\n",
       "    }\n",
       "\n",
       "    .dataframe thead th {\n",
       "        text-align: right;\n",
       "    }\n",
       "</style>\n",
       "<table border=\"1\" class=\"dataframe\">\n",
       "  <thead>\n",
       "    <tr style=\"text-align: right;\">\n",
       "      <th></th>\n",
       "      <th>price</th>\n",
       "      <th>mileage</th>\n",
       "      <th>engV</th>\n",
       "      <th>Age</th>\n",
       "      <th>car_Acura</th>\n",
       "      <th>car_Alfa Romeo</th>\n",
       "      <th>car_Aro</th>\n",
       "      <th>car_Aston Martin</th>\n",
       "      <th>car_Audi</th>\n",
       "      <th>car_BMW</th>\n",
       "      <th>...</th>\n",
       "      <th>model_ZDX</th>\n",
       "      <th>model_Zafira</th>\n",
       "      <th>model_i10</th>\n",
       "      <th>model_i20</th>\n",
       "      <th>model_i30</th>\n",
       "      <th>model_ix55 (Veracruz)</th>\n",
       "      <th>drive_front</th>\n",
       "      <th>drive_fu</th>\n",
       "      <th>drive_full</th>\n",
       "      <th>drive_rear</th>\n",
       "    </tr>\n",
       "  </thead>\n",
       "  <tbody>\n",
       "    <tr>\n",
       "      <th>0</th>\n",
       "      <td>0.0</td>\n",
       "      <td>68</td>\n",
       "      <td>2.5</td>\n",
       "      <td>10</td>\n",
       "      <td>0</td>\n",
       "      <td>0</td>\n",
       "      <td>0</td>\n",
       "      <td>0</td>\n",
       "      <td>0</td>\n",
       "      <td>0</td>\n",
       "      <td>...</td>\n",
       "      <td>0</td>\n",
       "      <td>0</td>\n",
       "      <td>0</td>\n",
       "      <td>0</td>\n",
       "      <td>0</td>\n",
       "      <td>0</td>\n",
       "      <td>0</td>\n",
       "      <td>0</td>\n",
       "      <td>1</td>\n",
       "      <td>0</td>\n",
       "    </tr>\n",
       "    <tr>\n",
       "      <th>1</th>\n",
       "      <td>1.0</td>\n",
       "      <td>173</td>\n",
       "      <td>1.8</td>\n",
       "      <td>9</td>\n",
       "      <td>0</td>\n",
       "      <td>0</td>\n",
       "      <td>0</td>\n",
       "      <td>0</td>\n",
       "      <td>0</td>\n",
       "      <td>0</td>\n",
       "      <td>...</td>\n",
       "      <td>0</td>\n",
       "      <td>0</td>\n",
       "      <td>0</td>\n",
       "      <td>0</td>\n",
       "      <td>0</td>\n",
       "      <td>0</td>\n",
       "      <td>0</td>\n",
       "      <td>0</td>\n",
       "      <td>0</td>\n",
       "      <td>1</td>\n",
       "    </tr>\n",
       "    <tr>\n",
       "      <th>2</th>\n",
       "      <td>1.0</td>\n",
       "      <td>135</td>\n",
       "      <td>5.5</td>\n",
       "      <td>12</td>\n",
       "      <td>0</td>\n",
       "      <td>0</td>\n",
       "      <td>0</td>\n",
       "      <td>0</td>\n",
       "      <td>0</td>\n",
       "      <td>0</td>\n",
       "      <td>...</td>\n",
       "      <td>0</td>\n",
       "      <td>0</td>\n",
       "      <td>0</td>\n",
       "      <td>0</td>\n",
       "      <td>0</td>\n",
       "      <td>0</td>\n",
       "      <td>0</td>\n",
       "      <td>0</td>\n",
       "      <td>0</td>\n",
       "      <td>1</td>\n",
       "    </tr>\n",
       "    <tr>\n",
       "      <th>3</th>\n",
       "      <td>1.0</td>\n",
       "      <td>162</td>\n",
       "      <td>1.8</td>\n",
       "      <td>8</td>\n",
       "      <td>0</td>\n",
       "      <td>0</td>\n",
       "      <td>0</td>\n",
       "      <td>0</td>\n",
       "      <td>0</td>\n",
       "      <td>0</td>\n",
       "      <td>...</td>\n",
       "      <td>0</td>\n",
       "      <td>0</td>\n",
       "      <td>0</td>\n",
       "      <td>0</td>\n",
       "      <td>0</td>\n",
       "      <td>0</td>\n",
       "      <td>1</td>\n",
       "      <td>0</td>\n",
       "      <td>0</td>\n",
       "      <td>0</td>\n",
       "    </tr>\n",
       "    <tr>\n",
       "      <th>5</th>\n",
       "      <td>0.0</td>\n",
       "      <td>83</td>\n",
       "      <td>2.0</td>\n",
       "      <td>7</td>\n",
       "      <td>0</td>\n",
       "      <td>0</td>\n",
       "      <td>0</td>\n",
       "      <td>0</td>\n",
       "      <td>0</td>\n",
       "      <td>0</td>\n",
       "      <td>...</td>\n",
       "      <td>0</td>\n",
       "      <td>0</td>\n",
       "      <td>0</td>\n",
       "      <td>0</td>\n",
       "      <td>0</td>\n",
       "      <td>0</td>\n",
       "      <td>0</td>\n",
       "      <td>0</td>\n",
       "      <td>1</td>\n",
       "      <td>0</td>\n",
       "    </tr>\n",
       "  </tbody>\n",
       "</table>\n",
       "<p>5 rows × 875 columns</p>\n",
       "</div>"
      ],
      "text/plain": [
       "   price  mileage  engV  Age  car_Acura  car_Alfa Romeo  car_Aro  \\\n",
       "0    0.0       68   2.5   10          0               0        0   \n",
       "1    1.0      173   1.8    9          0               0        0   \n",
       "2    1.0      135   5.5   12          0               0        0   \n",
       "3    1.0      162   1.8    8          0               0        0   \n",
       "5    0.0       83   2.0    7          0               0        0   \n",
       "\n",
       "   car_Aston Martin  car_Audi  car_BMW  ...  model_ZDX  model_Zafira  \\\n",
       "0                 0         0        0  ...          0             0   \n",
       "1                 0         0        0  ...          0             0   \n",
       "2                 0         0        0  ...          0             0   \n",
       "3                 0         0        0  ...          0             0   \n",
       "5                 0         0        0  ...          0             0   \n",
       "\n",
       "   model_i10  model_i20  model_i30  model_ix55 (Veracruz)  drive_front  \\\n",
       "0          0          0          0                      0            0   \n",
       "1          0          0          0                      0            0   \n",
       "2          0          0          0                      0            0   \n",
       "3          0          0          0                      0            1   \n",
       "5          0          0          0                      0            0   \n",
       "\n",
       "   drive_fu  drive_full  drive_rear  \n",
       "0         0           1           0  \n",
       "1         0           0           1  \n",
       "2         0           0           1  \n",
       "3         0           0           0  \n",
       "5         0           1           0  \n",
       "\n",
       "[5 rows x 875 columns]"
      ]
     },
     "execution_count": 20,
     "metadata": {},
     "output_type": "execute_result"
    }
   ],
   "source": [
    "dfclass.head()"
   ]
  },
  {
   "cell_type": "code",
   "execution_count": 21,
   "id": "c588343f-ea58-4c51-99ac-618fa464bc27",
   "metadata": {},
   "outputs": [
    {
     "data": {
      "text/plain": [
       "(7943, 875)"
      ]
     },
     "execution_count": 21,
     "metadata": {},
     "output_type": "execute_result"
    }
   ],
   "source": [
    "dfclass.shape"
   ]
  },
  {
   "cell_type": "code",
   "execution_count": 22,
   "id": "fa63acb0-ee0f-49f2-b11e-c6f7194e03ca",
   "metadata": {},
   "outputs": [],
   "source": [
    "# Guardar el dataframe para aprendizaje supervisado\n",
    "dfclass.to_csv('C:/Users/jacos/Downloads/car_ad_final_clas.csv', header = True, index = False)"
   ]
  },
  {
   "cell_type": "code",
   "execution_count": 23,
   "id": "a9356bc2-b026-4253-97a1-b664885ca28f",
   "metadata": {},
   "outputs": [],
   "source": [
    "X = dfdum.loc[:, dfdum.columns != 'price']"
   ]
  },
  {
   "cell_type": "code",
   "execution_count": 24,
   "id": "9f5448a8-b1ed-4413-8772-b289e845938a",
   "metadata": {},
   "outputs": [],
   "source": [
    "y = dfdum['price']"
   ]
  },
  {
   "cell_type": "code",
   "execution_count": 25,
   "id": "0b39eb61-3538-4ae8-9eee-c0144014afb3",
   "metadata": {},
   "outputs": [],
   "source": [
    "X_train, X_test, y_train, y_test = train_test_split(X, y, test_size = 0.2, random_state =123)"
   ]
  },
  {
   "cell_type": "code",
   "execution_count": 26,
   "id": "b529a0d1-2d79-4cf9-863b-e703d836dd5f",
   "metadata": {},
   "outputs": [],
   "source": [
    "mod_lin = LinearRegression()"
   ]
  },
  {
   "cell_type": "code",
   "execution_count": 27,
   "id": "eddf5396-68f1-48c6-8a21-3ac8ec2d6acf",
   "metadata": {},
   "outputs": [
    {
     "data": {
      "text/plain": [
       "LinearRegression()"
      ]
     },
     "execution_count": 27,
     "metadata": {},
     "output_type": "execute_result"
    }
   ],
   "source": [
    "mod_lin.fit(X, y)"
   ]
  },
  {
   "cell_type": "code",
   "execution_count": 28,
   "id": "c8440874-592b-4081-bdcf-a47ecfecfbf5",
   "metadata": {},
   "outputs": [],
   "source": [
    "y_test_pred = mod_lin.predict(X_test)"
   ]
  },
  {
   "cell_type": "code",
   "execution_count": 29,
   "id": "f8e0b90f-5673-4eea-87dc-3d4c29442985",
   "metadata": {},
   "outputs": [
    {
     "data": {
      "text/plain": [
       "array([ 0.29251575, -0.04590702,  0.70525265, ...,  0.02775192,\n",
       "        0.5684166 ,  0.77458763])"
      ]
     },
     "execution_count": 29,
     "metadata": {},
     "output_type": "execute_result"
    }
   ],
   "source": [
    "y_test_pred"
   ]
  },
  {
   "cell_type": "code",
   "execution_count": 30,
   "id": "5f2019bc-64df-4df6-8d8a-11532248bfc3",
   "metadata": {},
   "outputs": [],
   "source": [
    "y_train_pred = mod_lin.predict(X_train)"
   ]
  },
  {
   "cell_type": "code",
   "execution_count": 31,
   "id": "5ad0a39c-267d-4b2b-ba50-d43390869736",
   "metadata": {},
   "outputs": [
    {
     "data": {
      "text/plain": [
       "array([ 1.11101913, -0.10818291, -0.0026083 , ...,  0.07356548,\n",
       "        0.16804218,  0.70425224])"
      ]
     },
     "execution_count": 31,
     "metadata": {},
     "output_type": "execute_result"
    }
   ],
   "source": [
    "y_train_pred"
   ]
  },
  {
   "cell_type": "code",
   "execution_count": 32,
   "id": "d116e89e-78d0-4cbc-9497-0a9baa018b3f",
   "metadata": {},
   "outputs": [
    {
     "data": {
      "text/plain": [
       "-7087803876.921761"
      ]
     },
     "execution_count": 32,
     "metadata": {},
     "output_type": "execute_result"
    }
   ],
   "source": [
    "mod_lin.intercept_"
   ]
  },
  {
   "cell_type": "code",
   "execution_count": 33,
   "id": "dd7d95d4-bde4-4407-bc2d-f5954de1c66c",
   "metadata": {},
   "outputs": [
    {
     "data": {
      "text/plain": [
       "array([-4.99934865e-04, -5.68387560e-04, -2.52312112e-02, -1.80466290e+08,\n",
       "        1.08769623e+08, -4.51811560e+07,  1.99957751e+07,  4.85739597e+07,\n",
       "        1.08769623e+08,  1.18713747e+08,  7.60107326e+07,  1.12790455e+08,\n",
       "        1.31770332e+08,  3.68715050e+07,  1.14850750e+08,  1.06083698e+08,\n",
       "        7.05125372e+07,  9.28126547e+07,  1.08769623e+08,  1.07987090e+08,\n",
       "        7.42834054e+07,  7.47591795e+07,  5.50942332e+07,  9.98678605e+07,\n",
       "        1.68887861e+08,  9.04210327e+07,  8.04579508e+07,  1.08769624e+08,\n",
       "        5.41148435e+07,  8.86483128e+07,  1.15488695e+08,  1.07987090e+08,\n",
       "        5.60686590e+07,  1.08002908e+08,  9.15406450e+07,  9.02711555e+07,\n",
       "        1.33416632e+08,  1.00070973e+08, -4.03734234e+07,  4.85739586e+07,\n",
       "        6.53084670e+07,  9.98835833e+07,  1.03189397e+08, -1.26673983e+07,\n",
       "        1.04317612e+08,  1.08769623e+08,  1.11370069e+08,  1.08769622e+08,\n",
       "        1.00321706e+08,  1.08769622e+08,  8.49954357e+07,  2.96641703e+06,\n",
       "        1.08769623e+08,  1.08769623e+08,  7.17302565e+07,  8.34109395e+07,\n",
       "        1.00214945e+08,  8.36546568e+07,  1.08709455e+08,  9.48904083e+07,\n",
       "        1.06547187e+08,  7.64795969e+07,  1.08769623e+08,  7.70675961e+07,\n",
       "        1.08769623e+08,  1.46099221e+08,  7.01143252e+07,  2.03812976e+07,\n",
       "        4.91555915e+06,  7.74150750e+07,  1.73312076e+08,  1.16458012e+08,\n",
       "        8.47387527e+07,  1.88414540e+07,  9.52256532e+07,  2.55018150e+06,\n",
       "        1.84350975e+08,  1.33416632e+08,  7.23021246e+07,  1.12790455e+08,\n",
       "        1.04442381e+08,  1.09326435e+08,  5.13249406e+07,  7.42834052e+07,\n",
       "       -3.30082516e+07,  2.08394003e+07,  9.28845665e+08,  9.28845665e+08,\n",
       "        9.28845665e+08,  9.28845665e+08,  9.28845665e+08,  9.28845665e+08,\n",
       "        2.08666241e+09,  2.08666241e+09,  2.08666241e+09,  2.08666241e+09,\n",
       "        4.88308244e+09,  4.88308244e+09,  4.79656881e+07,  1.44471784e+08,\n",
       "        5.07166691e+07, -7.25655885e+06, -7.25655937e+06, -9.47899453e+06,\n",
       "        2.50072231e+07, -1.34998268e+07, -1.34998267e+07, -1.34998267e+07,\n",
       "       -9.47899419e+06, -9.47899434e+06, -9.47899459e+06,  8.86959598e+06,\n",
       "        7.84512278e+07,  7.84512281e+07, -9.47899467e+06, -9.47899452e+06,\n",
       "       -9.47899484e+06, -9.47899456e+06, -9.47899412e+06, -9.47899462e+06,\n",
       "       -9.47899423e+06, -7.25655872e+06, -7.25655880e+06, -7.25655914e+06,\n",
       "       -7.25655926e+06, -7.25655947e+06, -9.47899445e+06, -9.47899439e+06,\n",
       "       -1.34998261e+07, -1.34998260e+07, -1.34998260e+07, -1.34998265e+07,\n",
       "       -1.34998263e+07, -1.34998262e+07, -1.34998266e+07, -1.34998263e+07,\n",
       "       -1.34998264e+07, -1.34998266e+07, -1.34998266e+07, -1.34998266e+07,\n",
       "       -1.34998266e+07, -1.34998266e+07, -1.34998267e+07, -1.34998267e+07,\n",
       "       -1.34998267e+07, -1.34998266e+07, -1.34998266e+07, -9.24316466e+05,\n",
       "       -9.24316711e+05, -1.34998267e+07, -1.34998267e+07, -1.34998268e+07,\n",
       "       -9.47899449e+06, -9.47899417e+06, -9.47899486e+06, -1.00358064e+07,\n",
       "       -9.47899503e+06, -9.47899437e+06, -9.47899435e+06,  1.56359718e+07,\n",
       "        1.56359714e+07, -9.47899438e+06, -9.47899417e+06,  2.87780914e+07,\n",
       "        2.87780914e+07, -7.25655925e+06, -7.25655941e+06, -7.25655889e+06,\n",
       "       -7.25655907e+06, -7.25655925e+06, -9.47899530e+06, -9.47899549e+06,\n",
       "        2.69885033e+07,  2.69885038e+07,  2.69885033e+07, -9.47899415e+06,\n",
       "       -9.47899420e+06, -9.47899414e+06, -9.47899535e+06, -9.47899406e+06,\n",
       "       -9.47899392e+06, -9.47899383e+06, -9.47899401e+06, -9.47899435e+06,\n",
       "       -9.47899417e+06,  2.69885040e+07, -9.47899355e+06, -1.00358064e+07,\n",
       "       -9.47899414e+06, -9.41882559e+06,  2.69885035e+07, -9.47899390e+06,\n",
       "       -9.24315827e+05, -9.24316129e+05, -7.25655878e+06, -7.25655900e+06,\n",
       "       -7.25655910e+06, -9.24316212e+05, -9.47899377e+06, -6.95972322e+07,\n",
       "        2.69885040e+07, -4.40330565e+08, -3.41260030e+07, -9.47899442e+06,\n",
       "       -9.47899419e+06, -9.47899369e+06,  8.86959542e+06,  8.86959536e+06,\n",
       "       -7.25655926e+06, -7.25655904e+06, -9.47899400e+06, -9.47899405e+06,\n",
       "       -9.47899398e+06, -9.47899418e+06, -9.47899409e+06, -9.47899418e+06,\n",
       "       -9.47899393e+06, -9.47899414e+06, -9.47899348e+06, -9.47899385e+06,\n",
       "       -9.47899424e+06, -9.47899453e+06, -9.47899379e+06, -7.25655867e+06,\n",
       "       -7.25655905e+06, -9.47899404e+06, -9.47899410e+06, -9.47899378e+06,\n",
       "       -9.47899351e+06, -9.47899355e+06, -9.47899450e+06, -9.47899417e+06,\n",
       "       -9.47899404e+06, -9.47899425e+06, -9.47899422e+06, -9.47899432e+06,\n",
       "       -9.47899446e+06, -9.47899374e+06, -9.47899346e+06,  5.07166691e+07,\n",
       "       -1.00358066e+07, -9.47899439e+06,  2.91763033e+07,  5.07166690e+07,\n",
       "        2.28110321e+07,  2.50072241e+07,  2.50072234e+07,  7.84512282e+07,\n",
       "        7.84512282e+07, -9.47899447e+06, -9.47899467e+06, -9.47899435e+06,\n",
       "       -9.47899436e+06, -9.47899396e+06,  5.07166687e+07,  5.07166689e+07,\n",
       "        5.07166689e+07,  5.07166694e+07,  5.07166693e+07,  5.07166689e+07,\n",
       "        5.07166688e+07,  5.07166693e+07,  5.07166690e+07,  1.58796891e+07,\n",
       "        4.51757846e+07, -3.41260037e+07, -8.71227992e+06,  1.45518754e+07,\n",
       "        1.45518754e+07,  4.40022020e+06, -9.41882635e+06, -9.47899471e+06,\n",
       "        2.18755532e+07,  2.18755533e+07, -9.41882650e+06, -5.15175266e+06,\n",
       "        4.40022076e+06, -1.55601214e+07,  4.40021963e+06, -9.41882552e+06,\n",
       "        4.40022054e+06,  4.40022030e+06,  4.40022006e+06,  4.40021987e+06,\n",
       "        4.40021987e+06, -3.41260038e+07,  7.74998313e+06, -3.41260038e+07,\n",
       "        4.41963950e+07, -3.41260037e+07, -6.79306990e+06, -3.41260039e+07,\n",
       "       -9.47899464e+06, -9.47899400e+06, -9.47899469e+06, -9.47899394e+06,\n",
       "        1.88326772e+07, -8.69646145e+06, -1.55601216e+07, -5.15175290e+06,\n",
       "        2.32798960e+07, -3.89876848e+06, -9.41882578e+06, -5.15175296e+06,\n",
       "        8.86959591e+06, -9.47899419e+06,  6.47797331e+06,  1.88326774e+07,\n",
       "        6.47797335e+06,  6.47797343e+06,  6.47797337e+06, -1.61980668e+07,\n",
       "        6.47797346e+06,  6.47797342e+06,  6.47797372e+06,  1.06423154e+07,\n",
       "        1.06423153e+07,  1.06423155e+07, -9.47899417e+06, -9.47899423e+06,\n",
       "       -9.47899380e+06, -9.47899377e+06, -9.47899380e+06, -9.47899388e+06,\n",
       "       -9.47899392e+06, -9.47899379e+06, -9.47899384e+06, -9.47899441e+06,\n",
       "       -9.47899443e+06, -9.47899438e+06, -9.47899467e+06, -9.47899378e+06,\n",
       "       -9.47899453e+06, -9.47899438e+06, -9.47899426e+06, -9.47899403e+06,\n",
       "       -9.47899392e+06, -9.47899385e+06, -8.71227985e+06, -1.20794397e+07,\n",
       "       -9.47899377e+06, -9.47899455e+06, -9.47899432e+06, -1.71673838e+07,\n",
       "       -5.15175332e+06,  4.41963950e+07,  4.40022034e+06, -6.95972322e+07,\n",
       "       -6.79306924e+06, -3.41260036e+07, -6.79306967e+06, -9.47899430e+06,\n",
       "       -5.15175262e+06, -3.89876874e+06, -3.41260034e+07,  1.58796890e+07,\n",
       "       -3.89876865e+06,  2.28110321e+07,  2.28110322e+07, -3.89876875e+06,\n",
       "       -9.41882610e+06, -3.41260036e+07, -3.24797031e+07, -3.89876872e+06,\n",
       "       -5.92954847e+05,  8.86959592e+06, -1.71673836e+07, -8.71228011e+06,\n",
       "       -3.89876836e+06, -9.47899496e+06, -6.79306985e+06,  1.58796888e+07,\n",
       "       -5.92955164e+05,  2.32798965e+07,  1.42951929e+07,  1.42951925e+07,\n",
       "        2.18755534e+07, -3.41260037e+07, -3.41260037e+07,  4.40022004e+06,\n",
       "       -6.79306904e+06,  1.42951934e+07, -3.41260037e+07,  1.88326774e+07,\n",
       "       -5.15175318e+06, -1.55601213e+07,  2.87780912e+07, -8.71227943e+06,\n",
       "       -6.79307001e+06,  2.45314488e+07,  1.39664051e+08,  7.92948540e+07,\n",
       "        6.47797329e+06,  6.47797367e+06,  6.47797435e+06,  3.39821623e+07,\n",
       "       -9.47899386e+06, -9.47899435e+06, -9.47899400e+06,  8.86959559e+06,\n",
       "        4.41963952e+07, -9.47899479e+06, -9.47899428e+06,  7.89093307e+07,\n",
       "       -1.20794404e+07, -1.20794404e+07, -1.20794404e+07, -1.20794399e+07,\n",
       "       -7.80343817e+05, -1.55601214e+07,  1.58796889e+07, -3.41260036e+07,\n",
       "       -1.55601214e+07, -9.41882628e+06,  1.06423152e+07,  1.06423152e+07,\n",
       "        1.06423153e+07, -5.15175310e+06, -6.79306990e+06,  6.24191240e+07,\n",
       "        1.88326778e+07,  1.88326778e+07, -9.47899475e+06,  2.50072233e+07,\n",
       "       -6.79306980e+06,  1.88326782e+07,  1.88326783e+07, -1.94231187e+07,\n",
       "       -1.94231188e+07, -3.41260029e+07, -7.80343891e+05, -7.80344157e+05,\n",
       "       -7.80343838e+05, -7.80344130e+05, -7.40214476e+07, -7.40214473e+07,\n",
       "        1.88326774e+07, -9.47899506e+06,  2.32798966e+07,  1.88326774e+07,\n",
       "        1.88326777e+07,  8.04491744e+07, -1.71673835e+07, -3.41260039e+07,\n",
       "       -1.71673838e+07,  2.50072229e+07, -9.47899418e+06,  4.40022024e+06,\n",
       "        1.88326774e+07, -9.47899360e+06, -9.47899456e+06, -9.47899381e+06,\n",
       "       -9.47899380e+06, -9.47899393e+06, -7.80343720e+05, -7.80344678e+05,\n",
       "       -7.80343732e+05,  1.06423152e+07, -9.47899379e+06, -9.47899414e+06,\n",
       "       -9.47899376e+06, -9.47899381e+06, -9.47899387e+06, -9.47899437e+06,\n",
       "       -9.47899443e+06, -9.47899447e+06, -9.47899396e+06, -9.47899435e+06,\n",
       "       -9.47899439e+06, -9.47899465e+06, -9.47899405e+06, -1.20794399e+07,\n",
       "       -1.20794404e+07, -1.20794397e+07, -9.41882574e+06, -1.20794397e+07,\n",
       "        1.58796891e+07,  1.88326777e+07,  1.11958027e+08, -3.41260034e+07,\n",
       "       -3.41260039e+07,  2.50072227e+07, -3.41260037e+07, -9.47899430e+06,\n",
       "       -9.41882627e+06, -5.15175283e+06, -5.15175258e+06, -5.15175278e+06,\n",
       "       -5.15175288e+06, -5.15175316e+06, -5.15175314e+06, -5.15175320e+06,\n",
       "       -5.15175253e+06, -5.15175319e+06,  2.45314489e+07,  9.63242119e+07,\n",
       "        1.88326782e+07,  6.47797378e+06, -5.92954621e+05,  2.75603719e+07,\n",
       "       -9.47899506e+06,  4.06497499e+06,  2.87780912e+07,  8.86959548e+06,\n",
       "       -3.41260032e+07,  1.58796888e+07,  9.01947370e+06,  9.01947372e+06,\n",
       "       -8.71228024e+06, -3.41260031e+07, -3.41260032e+07, -1.61980666e+07,\n",
       "       -9.47899372e+06, -3.41260039e+07, -1.20794403e+07, -1.20794403e+07,\n",
       "       -1.20794404e+07, -3.41260031e+07,  2.18755532e+07,  4.06497531e+06,\n",
       "        8.04491743e+07,  8.04491750e+07, -8.71228032e+06,  4.40022030e+06,\n",
       "        4.41963954e+07,  5.07166693e+07, -1.55601215e+07, -8.71228033e+06,\n",
       "       -5.15175276e+06,  4.06497491e+06, -9.41882622e+06, -9.41882573e+06,\n",
       "        1.88326777e+07,  4.40022043e+06, -1.55601215e+07,  4.06497479e+06,\n",
       "       -9.47899513e+06,  1.45518757e+07, -3.89876853e+06, -9.41882640e+06,\n",
       "        1.88326778e+07,  1.45518755e+07,  1.58796890e+07,  2.87780914e+07,\n",
       "       -1.20794401e+07, -1.20794404e+07, -1.20794397e+07, -1.20794406e+07,\n",
       "       -1.20794396e+07, -1.20794398e+07, -6.79306989e+06, -9.47899484e+06,\n",
       "        1.58796888e+07,  1.58796889e+07,  1.58796887e+07,  1.58796887e+07,\n",
       "       -3.41260030e+07, -3.41260029e+07, -3.41260033e+07, -3.41260032e+07,\n",
       "       -3.41260034e+07, -3.41260030e+07,  1.32298880e+08,  2.50072229e+07,\n",
       "       -9.47899508e+06, -9.41882630e+06,  8.04491743e+07,  2.50072232e+07,\n",
       "       -8.71228002e+06,  2.18755534e+07,  8.86959542e+06, -3.41260033e+07,\n",
       "       -9.47899514e+06, -6.79306978e+06, -5.15175292e+06, -1.55601216e+07,\n",
       "       -7.80343612e+05, -7.80343834e+05, -9.47899368e+06,  2.79756919e+08,\n",
       "        1.06423153e+07,  1.06423152e+07,  1.06423153e+07, -1.03107672e+06,\n",
       "       -9.47899394e+06, -9.47899463e+06, -9.47899373e+06, -9.47899424e+06,\n",
       "       -9.47899397e+06, -9.47899431e+06, -9.47899450e+06, -9.47899375e+06,\n",
       "       -9.47899380e+06, -9.47899381e+06, -9.47899440e+06,  2.28110315e+07,\n",
       "       -3.89876863e+06, -6.79306901e+06,  4.40022049e+06, -4.68085930e+07,\n",
       "       -3.41260033e+07,  2.50072228e+07, -3.41260037e+07, -9.41882614e+06,\n",
       "       -9.47899500e+06, -9.41882659e+06, -8.50603458e+07, -8.50603459e+07,\n",
       "       -9.47899507e+06, -3.89876791e+06,  1.88326777e+07,  2.32798963e+07,\n",
       "       -5.15175253e+06, -9.41882616e+06,  1.88326778e+07,  1.88326780e+07,\n",
       "       -9.41882666e+06, -1.20794399e+07, -1.20794399e+07, -9.41882656e+06,\n",
       "       -1.03107733e+06,  4.41963955e+07, -5.15175270e+06,  2.50072229e+07,\n",
       "        4.41963950e+07, -6.79306996e+06, -9.41882653e+06,  2.50072231e+07,\n",
       "       -7.40214474e+07, -7.40214476e+07, -7.40214469e+07, -7.40214475e+07,\n",
       "       -7.40214475e+07,  4.40022024e+06,  1.42951926e+07, -3.89876861e+06,\n",
       "       -3.89876781e+06,  1.88326779e+07,  8.04491746e+07,  1.58796889e+07,\n",
       "        1.58796889e+07,  2.87780911e+07,  1.42951932e+07,  2.87780909e+07,\n",
       "        1.58796891e+07,  1.58796888e+07,  1.58796890e+07,  1.58796893e+07,\n",
       "        2.28110319e+07,  8.86959585e+06, -5.15175250e+06, -5.15175262e+06,\n",
       "       -5.15175272e+06, -5.15175290e+06, -5.15175313e+06, -5.15175257e+06,\n",
       "       -5.15175244e+06, -5.15175243e+06, -9.41882615e+06, -5.92955214e+05,\n",
       "       -9.41882587e+06, -5.15175251e+06,  2.22230325e+07, -5.02698324e+06,\n",
       "       -3.89876873e+06, -8.71227947e+06, -5.15175312e+06, -8.69646154e+06,\n",
       "       -5.15175326e+06, -3.41260033e+07, -8.71227972e+06, -9.47899423e+06,\n",
       "       -3.41260028e+07, -9.41882618e+06, -3.41260037e+07, -3.89876871e+06,\n",
       "        1.88326779e+07,  8.86959553e+06,  5.07166692e+07,  5.07166693e+07,\n",
       "       -7.80343893e+05,  5.07166693e+07, -7.80343888e+05, -1.55601215e+07,\n",
       "       -7.80343941e+05, -7.80343943e+05, -7.80343984e+05, -9.41882632e+06,\n",
       "       -9.41882663e+06, -9.47899375e+06,  5.07166694e+07,  4.41963954e+07,\n",
       "       -7.25655837e+06,  2.79756918e+08, -1.20794404e+07, -1.20794398e+07,\n",
       "       -1.20794405e+07, -1.20794406e+07, -1.20794398e+07, -1.20794401e+07,\n",
       "       -1.20794397e+07, -9.47899448e+06,  4.41963952e+07, -9.47899399e+06,\n",
       "       -9.47899382e+06, -9.47899394e+06,  1.88326777e+07, -7.40214475e+07,\n",
       "        7.92948539e+07, -3.41260035e+07,  4.40022047e+06,  1.45518754e+07,\n",
       "        1.45518755e+07,  1.45518763e+07, -3.89876879e+06, -1.71673837e+07,\n",
       "        1.45518754e+07, -7.40214476e+07, -9.47899432e+06, -9.47899391e+06,\n",
       "       -9.47899389e+06, -9.47899444e+06, -9.47899433e+06, -9.47899435e+06,\n",
       "       -9.47899441e+06, -9.47899426e+06, -9.47899442e+06, -9.47899411e+06,\n",
       "       -9.47899436e+06, -9.47899391e+06, -9.47899410e+06, -9.47899395e+06,\n",
       "       -9.47899377e+06, -9.47899437e+06,  3.39821614e+07, -8.71227926e+06,\n",
       "        5.07166688e+07, -1.00358069e+07,  5.07166694e+07, -1.94231187e+07,\n",
       "       -1.00358062e+07,  5.07166690e+07, -1.00358067e+07, -1.20794400e+07,\n",
       "       -9.47899363e+06, -9.47899384e+06, -9.47899424e+06, -9.47899375e+06,\n",
       "        9.43750692e+07,  6.24191242e+07,  4.06497490e+06,  4.51757849e+07,\n",
       "       -1.61980667e+07,  4.32219692e+07,  4.06497531e+06, -9.47899516e+06,\n",
       "       -9.47899532e+06, -3.41260034e+07,  4.51757856e+07, -9.47899493e+06,\n",
       "       -3.41260038e+07, -5.15175231e+06,  1.88326779e+07,  2.87780910e+07,\n",
       "        2.50072229e+07, -9.41882595e+06, -3.89876832e+06, -3.41260030e+07,\n",
       "       -5.15175283e+06, -3.89876846e+06, -8.69646146e+06, -3.41260036e+07,\n",
       "        1.88326779e+07, -9.47899458e+06, -3.41260040e+07, -9.47899502e+06,\n",
       "       -3.41260036e+07, -3.89876828e+06, -3.89876880e+06,  1.58796890e+07,\n",
       "        1.58796893e+07, -7.40214474e+07, -3.89876820e+06, -9.41882580e+06,\n",
       "        8.86959593e+06,  2.87780913e+07, -9.41882596e+06, -9.47899503e+06,\n",
       "       -7.40214474e+07,  4.06497501e+06, -9.47899501e+06, -5.15175308e+06,\n",
       "       -5.15175273e+06, -5.15175269e+06, -9.41882643e+06,  2.79756918e+08,\n",
       "        2.79756919e+08,  5.07166690e+07, -3.41260036e+07, -6.79306984e+06,\n",
       "        1.88326779e+07, -9.41882634e+06,  8.86959598e+06,  2.45314486e+07,\n",
       "       -3.41260035e+07, -9.41882630e+06, -5.02698318e+06, -1.55601216e+07,\n",
       "        4.40022035e+06, -5.15175262e+06,  8.86959578e+06,  2.18755535e+07,\n",
       "       -5.15175252e+06, -5.15175304e+06,  1.88326771e+07, -1.03107707e+06,\n",
       "        1.88326773e+07,  8.04491743e+07, -9.47899444e+06, -3.41260036e+07,\n",
       "       -3.41260031e+07,  8.86959608e+06, -5.15175336e+06, -9.47899448e+06,\n",
       "       -1.00358064e+07, -5.77232461e+05, -9.47899459e+06,  4.40022040e+06,\n",
       "        4.40022030e+06,  4.40022000e+06, -5.15175274e+06, -3.41260032e+07,\n",
       "        2.50072229e+07,  1.58796889e+07, -3.41260036e+07,  4.06497536e+06,\n",
       "       -6.79306909e+06,  2.87780912e+07, -5.92954469e+05, -9.41882617e+06,\n",
       "        3.39821612e+07, -9.47899375e+06, -9.47899376e+06, -9.47899388e+06,\n",
       "       -9.47899409e+06, -9.47899385e+06, -9.47899379e+06, -1.00358062e+07,\n",
       "       -1.00358064e+07, -1.00358064e+07,  3.39821619e+07,  3.39821620e+07,\n",
       "        3.39821621e+07,  8.04491741e+07,  6.47797371e+06, -9.47899410e+06,\n",
       "       -9.47899413e+06,  9.67404464e+07,  6.47797374e+06,  6.47797370e+06,\n",
       "       -3.41260038e+07, -7.40214475e+07, -9.47899421e+06, -9.47899384e+06,\n",
       "        2.79756919e+08,  4.40021995e+06, -3.41260038e+07, -3.41260036e+07,\n",
       "       -3.41260037e+07, -3.41260033e+07, -9.10077267e+08, -4.42758198e+08,\n",
       "       -9.10077267e+08, -9.10077267e+08])"
      ]
     },
     "execution_count": 33,
     "metadata": {},
     "output_type": "execute_result"
    }
   ],
   "source": [
    "mod_lin.coef_"
   ]
  },
  {
   "cell_type": "code",
   "execution_count": 34,
   "id": "0ffa9b00-1699-48ac-af64-946d74837274",
   "metadata": {},
   "outputs": [
    {
     "data": {
      "text/plain": [
       "0.6506306608503134"
      ]
     },
     "execution_count": 34,
     "metadata": {},
     "output_type": "execute_result"
    }
   ],
   "source": [
    "r2_score(y_train, y_train_pred)"
   ]
  },
  {
   "cell_type": "code",
   "execution_count": 35,
   "id": "f4e10e37-5f01-4ad7-94b0-3e4be1559c5f",
   "metadata": {},
   "outputs": [
    {
     "data": {
      "text/plain": [
       "0.666411684939676"
      ]
     },
     "execution_count": 35,
     "metadata": {},
     "output_type": "execute_result"
    }
   ],
   "source": [
    "r2_score(y_test, y_test_pred)"
   ]
  },
  {
   "cell_type": "code",
   "execution_count": 36,
   "id": "9609055d-3a4f-455b-aa0e-54cfa68c7c80",
   "metadata": {},
   "outputs": [],
   "source": [
    "mod_log = LogisticRegression(max_iter = 2000)"
   ]
  },
  {
   "cell_type": "code",
   "execution_count": 37,
   "id": "ce490830-b2e6-4bd5-a65f-ce4adcc5f822",
   "metadata": {},
   "outputs": [],
   "source": [
    "X_l = dfclass.loc[:, dfclass.columns != 'price']"
   ]
  },
  {
   "cell_type": "code",
   "execution_count": 38,
   "id": "3263505d-7f55-4497-87e3-2f06e7620b4b",
   "metadata": {},
   "outputs": [
    {
     "data": {
      "text/plain": [
       "0       0.0\n",
       "1       1.0\n",
       "2       1.0\n",
       "3       1.0\n",
       "5       0.0\n",
       "       ... \n",
       "9571    0.0\n",
       "9572    0.0\n",
       "9573    1.0\n",
       "9574    1.0\n",
       "9575    1.0\n",
       "Name: price, Length: 7943, dtype: float64"
      ]
     },
     "execution_count": 38,
     "metadata": {},
     "output_type": "execute_result"
    }
   ],
   "source": [
    "y_l = dfclass['price']\n",
    "y_l"
   ]
  },
  {
   "cell_type": "code",
   "execution_count": 42,
   "id": "698d449b-a1fc-4188-91c3-8cb2b9401fd2",
   "metadata": {},
   "outputs": [],
   "source": [
    "X_trainl, X_testl, y_trainl, y_testl = train_test_split(X_l, y_l, test_size = 0.2, random_state =123)"
   ]
  },
  {
   "cell_type": "code",
   "execution_count": 53,
   "id": "902931a3-feee-4674-90c5-95053dee84d1",
   "metadata": {},
   "outputs": [
    {
     "data": {
      "text/plain": [
       "LogisticRegression(max_iter=2000)"
      ]
     },
     "execution_count": 53,
     "metadata": {},
     "output_type": "execute_result"
    }
   ],
   "source": [
    "mod_log.fit(X_trainl, y_trainl)"
   ]
  },
  {
   "cell_type": "code",
   "execution_count": 63,
   "id": "223ad0aa-1b5c-4366-b3e1-71a307a03666",
   "metadata": {},
   "outputs": [
    {
     "data": {
      "text/plain": [
       "array([1.36350021])"
      ]
     },
     "execution_count": 63,
     "metadata": {},
     "output_type": "execute_result"
    }
   ],
   "source": [
    "mod_log.intercept_"
   ]
  },
  {
   "cell_type": "code",
   "execution_count": 64,
   "id": "857afad7-32e9-4dae-b559-a7bff5e7edd5",
   "metadata": {},
   "outputs": [
    {
     "data": {
      "text/plain": [
       "array([[ 4.90333894e-04, -3.40610860e-04, -4.33135275e-01,\n",
       "         2.53344023e-01,  4.29401623e-01, -4.96162829e-04,\n",
       "         8.59029324e-01,  2.16061611e+00,  1.49238159e+00,\n",
       "        -5.65781630e-01,  9.45053922e-01, -2.92313763e-01,\n",
       "        -3.29233680e-05,  9.18303882e-01, -1.32010746e+00,\n",
       "        -7.50077027e-01,  2.63380963e-01, -6.39037575e-02,\n",
       "        -2.28683027e-01, -1.61020623e-01, -1.65119839e+00,\n",
       "        -2.38820163e-01,  1.21845802e-02, -2.11049683e-01,\n",
       "         2.30975250e-01, -1.08459384e+00, -6.44789427e-01,\n",
       "        -3.77081752e-01,  1.91221437e-01, -1.83570334e+00,\n",
       "        -7.15333854e-01, -2.16061098e-01,  0.00000000e+00,\n",
       "         4.21006356e-01, -1.83290051e-01,  1.19838654e+00,\n",
       "        -4.36898509e-01,  1.55053824e+00,  0.00000000e+00,\n",
       "        -3.52805612e-01,  9.00754038e-01,  5.54436138e-01,\n",
       "        -4.58702886e-01,  4.91963932e-01, -1.93469403e-04,\n",
       "         1.09740377e+00,  1.89596415e+00, -3.05692699e-02,\n",
       "         9.25827531e-01, -6.96146831e-01,  1.20274269e+00,\n",
       "         9.52597144e-02, -2.55587227e-01,  1.34885327e+00,\n",
       "         0.00000000e+00, -3.36357364e-01, -3.10402717e-04,\n",
       "        -1.35362153e-01,  7.74500870e-02, -4.83749723e-01,\n",
       "        -5.25770993e-01,  1.17924102e+00, -1.53167422e+00,\n",
       "         2.50011565e-01,  1.38432396e-01,  0.00000000e+00,\n",
       "        -1.56739359e-03, -4.80235302e-02, -8.17099164e-03,\n",
       "        -4.24295854e-01, -2.55105205e-01, -1.36932748e+00,\n",
       "        -9.18592641e-01, -3.20803050e-01, -1.14281454e+00,\n",
       "        -5.30153919e-01,  9.76704572e-01,  1.50829130e+00,\n",
       "        -1.36309393e+00, -2.42544421e+00,  9.96292067e-01,\n",
       "         1.67479141e+00, -1.68157090e-05, -1.16532990e+00,\n",
       "        -1.44504780e-01, -6.89633654e-02,  6.93292035e-01,\n",
       "        -6.60316670e-01,  4.83004542e-01, -4.25713892e-02,\n",
       "        -3.93782880e-01,  1.89943635e-01, -3.47665184e-02,\n",
       "        -2.89919495e-01,  5.35852722e-01,  5.84025644e-02,\n",
       "        -1.57308207e+00,  1.84265135e+00, -1.68157090e-05,\n",
       "        -4.96162829e-04, -5.97967013e-03, -3.81972511e-05,\n",
       "        -5.64209346e-01,  1.32239765e-05, -5.79813917e-02,\n",
       "        -1.09839520e-02, -3.32462246e-02, -1.65342330e-02,\n",
       "        -3.97012849e-01, -4.24428534e-01, -2.06846685e-01,\n",
       "        -2.98507151e-05, -6.83614140e-02,  0.00000000e+00,\n",
       "        -2.89218593e-03, -3.31653912e-04, -1.94074615e-01,\n",
       "        -5.59536872e-05, -2.17657150e-03, -4.47008906e-02,\n",
       "        -8.04847145e-03,  4.45933530e-02, -5.45594900e-06,\n",
       "        -9.81221987e-02, -2.16320752e-01, -6.62836683e-01,\n",
       "        -1.35257730e-04, -5.65126959e-02,  1.07520408e-04,\n",
       "         9.64033243e-06,  8.08970136e-06, -2.74754140e-02,\n",
       "        -2.71808035e-03, -2.70893254e-03, -3.51777397e-01,\n",
       "        -6.97464155e-04, -1.02101411e-02, -1.88328571e-02,\n",
       "        -5.64336341e-02, -3.77545798e-01, -5.00791192e-02,\n",
       "        -1.58183755e-02, -5.44073276e-02, -1.25055000e-01,\n",
       "        -1.43324942e-01, -1.20632619e+00, -3.95587739e-03,\n",
       "        -3.17372248e-06, -1.45672328e-04, -1.30924441e-01,\n",
       "        -3.18471372e-02, -4.69806913e-02, -3.18589013e-03,\n",
       "        -1.80897594e-03, -8.91519712e-07, -1.54544128e-04,\n",
       "        -2.55498190e-04, -2.86495390e-05, -5.03503829e-03,\n",
       "        -7.00369468e-05, -1.35292116e-01,  1.91226337e-01,\n",
       "        -2.41473953e-04,  5.85342330e-01,  0.00000000e+00,\n",
       "        -6.49910682e-01, -5.73849415e-01, -7.13535473e-05,\n",
       "         7.49301712e-01,  1.94707850e-01, -5.27693035e-03,\n",
       "        -3.71418577e-01, -6.05707476e-01, -5.83896769e-04,\n",
       "         0.00000000e+00, -1.69008041e-01, -8.97643132e-01,\n",
       "        -2.64776324e-01,  0.00000000e+00, -4.23845503e-02,\n",
       "        -2.94211818e-04,  6.31113037e-01,  1.28238694e-01,\n",
       "        -3.02662633e-05, -5.61851645e-02,  8.31795434e-06,\n",
       "         2.87322759e-01, -2.45612201e-04, -1.56323957e-01,\n",
       "         4.87782435e-01, -8.60264591e-02,  5.53679033e-02,\n",
       "        -1.14986717e-05, -1.25042506e-07,  0.00000000e+00,\n",
       "        -4.27124605e-03, -8.57635444e-02, -1.49932952e-04,\n",
       "         2.69085440e-02,  0.00000000e+00, -6.70811815e-01,\n",
       "         2.74035376e-05,  1.35956410e-01, -9.41261268e-02,\n",
       "        -4.86279239e-02,  9.70164729e-02, -1.86996249e-01,\n",
       "        -2.50943607e-01, -4.05934829e-02,  3.58164192e-01,\n",
       "         8.51953900e-02, -3.60760634e-01, -2.80577385e-04,\n",
       "        -8.77238116e-01,  1.83291352e-01,  2.74094035e-01,\n",
       "         3.07687778e-01, -2.55611405e-02,  5.63115560e-01,\n",
       "         8.10373026e-02,  1.15210369e+00, -4.03968805e-01,\n",
       "         2.71191224e-02, -4.62121336e-05, -7.80084586e-02,\n",
       "        -1.06506385e-03, -2.43376668e-01,  1.96492979e-01,\n",
       "         5.45497705e-01,  0.00000000e+00,  9.74144219e-07,\n",
       "        -1.37960527e-02,  1.02924455e-01, -1.91741628e-01,\n",
       "        -2.03726887e-01, -3.54066496e-01, -2.24994212e-03,\n",
       "         7.91084189e-01,  3.06125295e-01, -9.62628206e-03,\n",
       "        -1.10408882e-03, -1.18669840e-05, -1.56739359e-03,\n",
       "        -9.76363963e-05,  6.79671728e-01, -9.08009823e-06,\n",
       "        -1.53896485e-04, -2.28520738e-04, -3.73430606e-04,\n",
       "        -1.65724554e-02, -2.46649072e-02,  0.00000000e+00,\n",
       "        -1.19237496e-03,  0.00000000e+00, -2.85330346e-03,\n",
       "        -1.50747489e-01, -1.16886079e-01,  2.88119334e-01,\n",
       "         8.59896961e-01, -2.39872024e-01, -1.25637125e+00,\n",
       "         1.26557794e-01,  1.27590525e-01,  2.61077971e-01,\n",
       "        -2.31165287e-01, -1.34269737e+00,  1.03665134e+00,\n",
       "        -2.11985059e-01,  0.00000000e+00, -8.02883522e-04,\n",
       "        -4.54402816e-01, -7.82918625e-01,  0.00000000e+00,\n",
       "        -1.99630633e-02, -7.43102455e-02, -8.62684466e-01,\n",
       "         7.43501728e-01, -1.92379179e-01, -5.89221511e-01,\n",
       "         1.30836023e+00, -7.07848063e-06, -5.09267963e-04,\n",
       "        -2.13836847e-01, -7.09547057e-01, -5.96637150e-01,\n",
       "        -7.46015049e-01, -1.83290051e-01, -1.55146769e-01,\n",
       "        -8.45662808e-02, -4.25174001e-01, -8.50322783e-01,\n",
       "        -3.85583588e-01, -3.95958994e-02,  1.02934849e+00,\n",
       "        -3.55276595e-01,  3.61841551e-01, -1.76082711e-01,\n",
       "         0.00000000e+00, -8.24323460e-02, -2.35832768e-03,\n",
       "        -7.75315079e-01, -3.54388527e-03, -2.72585963e-05,\n",
       "        -4.54565373e-02,  0.00000000e+00,  1.58311378e-01,\n",
       "        -2.16773998e-01, -1.14913105e-01, -5.52716447e-01,\n",
       "        -1.45008350e-01, -5.57052240e-02, -1.95872772e-01,\n",
       "        -5.70840270e-01, -8.94881818e-02, -7.28492937e-03,\n",
       "        -1.26551608e-01, -1.02791862e-01,  0.00000000e+00,\n",
       "        -1.37619698e-04,  1.28212631e-01,  2.52677000e-01,\n",
       "         2.49009888e-01,  6.11863634e-01,  4.88848126e-01,\n",
       "         0.00000000e+00,  0.00000000e+00,  1.92195643e-01,\n",
       "        -1.58920153e-03, -3.56507668e-03, -2.39338546e-03,\n",
       "        -2.36769982e-01,  3.28988433e-01, -2.11833201e-01,\n",
       "        -2.18973310e-03, -7.22487660e-01,  3.34485882e-02,\n",
       "         1.47451330e-01,  5.18041453e-02, -2.07166960e-01,\n",
       "         6.06035499e-01,  3.40023752e-01, -1.51862790e+00,\n",
       "         1.96615633e-01, -3.34892114e-02,  0.00000000e+00,\n",
       "        -8.30916645e-02, -7.09390811e-05,  2.30975250e-01,\n",
       "         3.08571330e-01, -4.51892121e-02,  2.38507858e-01,\n",
       "         8.17575974e-01,  7.69133796e-01, -3.42054152e-02,\n",
       "        -1.90351256e-03, -8.14070815e-03, -6.24407585e-02,\n",
       "         1.62092249e+00,  0.00000000e+00, -6.37192952e-01,\n",
       "        -3.21631973e-04, -2.91094343e-02, -3.29233680e-05,\n",
       "        -8.20681835e-01, -3.59482450e-01, -8.23976378e-05,\n",
       "        -4.73774845e-03, -6.01678670e-01, -1.64444027e-03,\n",
       "        -2.02062037e-01,  0.00000000e+00, -1.01448601e-01,\n",
       "        -2.37421466e-01,  1.52156131e+00,  5.67225919e-01,\n",
       "        -7.31121955e-02, -7.03132334e-02, -1.26392815e+00,\n",
       "        -1.68363910e-02, -2.71749818e-01,  7.70401030e-01,\n",
       "         6.81595322e-01, -1.19975199e-01, -6.80570524e-04,\n",
       "        -1.28292045e-01, -9.81450674e-03,  0.00000000e+00,\n",
       "         0.00000000e+00, -8.58683726e-01, -6.37943574e-04,\n",
       "         0.00000000e+00,  5.13072399e-01, -1.41120267e-01,\n",
       "         4.54727015e-01,  1.15159889e+00,  0.00000000e+00,\n",
       "         3.34997085e-02, -4.66112152e-01,  0.00000000e+00,\n",
       "        -2.12662569e-02, -1.15129090e-02,  1.41052631e-01,\n",
       "         2.60789231e-02, -4.80235302e-02, -4.03330535e-03,\n",
       "        -1.32686148e-01, -2.49514087e-02,  1.11407735e+00,\n",
       "         1.37315439e-01, -5.43108109e-02, -3.08047382e-03,\n",
       "         7.04384604e-02, -8.19459733e-03, -4.36041334e-03,\n",
       "        -4.98613072e-01, -2.78337347e-01, -1.54162828e-01,\n",
       "        -2.73517171e-01, -2.75207350e-01,  3.88220302e-01,\n",
       "        -1.18671915e-03,  0.00000000e+00, -1.31052108e-03,\n",
       "        -6.53316069e-04, -2.91687984e-02,  1.31353082e-01,\n",
       "         5.14571064e-01, -2.76272333e-01, -7.03016713e-02,\n",
       "         1.10932085e+00,  1.43800725e-01,  4.83642667e-03,\n",
       "         3.69256157e-01,  1.82762140e-01, -9.61966979e-01,\n",
       "        -1.59666980e-03, -1.06468339e+00,  1.39228439e-01,\n",
       "         1.98807691e-01, -5.49981074e-01,  4.93135154e-01,\n",
       "        -6.66038984e-01,  3.31896608e-01, -3.89205985e-01,\n",
       "        -1.64650469e+00, -1.72654900e-01, -2.19346701e-02,\n",
       "        -1.47449128e-03, -1.85868330e-01,  7.32794719e-01,\n",
       "        -2.12896039e+00,  2.03044620e+00,  4.34059754e-01,\n",
       "         6.95582951e-01,  3.61243671e-01, -9.32035926e-01,\n",
       "         3.94978569e-01, -1.17448761e-01,  1.00443287e+00,\n",
       "        -9.74340708e-01,  3.64896781e-01,  6.74876449e-01,\n",
       "         2.45826529e-01,  1.53774651e-01,  1.77661818e-02,\n",
       "        -2.66100816e+00,  5.77832220e-02, -2.21342714e+00,\n",
       "        -8.50330099e-01, -1.64628606e+00,  4.75721689e-02,\n",
       "         3.09000587e-02, -1.12990291e+00,  1.01146261e+00,\n",
       "         2.81576089e-01,  1.20296261e+00, -1.57314645e-01,\n",
       "        -1.00471892e-03,  4.91963932e-01, -2.41922320e-04,\n",
       "        -5.21398505e-01, -2.30346324e-01, -1.95921393e-01,\n",
       "         6.27065196e-01, -7.63015413e-03,  2.25731434e-01,\n",
       "        -2.59247429e-04, -4.28401311e-03, -3.18651313e-02,\n",
       "        -3.46176150e-01, -3.81778927e-01, -9.34482430e-01,\n",
       "         7.47493955e-01, -4.30462489e-01, -6.68125148e-04,\n",
       "         9.52597144e-02, -3.07108921e-06,  1.18983924e-01,\n",
       "         9.79006671e-01,  0.00000000e+00, -3.30267733e-01,\n",
       "        -5.88419901e-01, -6.44198003e-03, -7.82208617e-02,\n",
       "         1.09075915e+00, -3.21863388e-02,  7.41856977e-01,\n",
       "         4.56529565e-01, -2.05898646e-01,  7.46527135e-01,\n",
       "         5.38199444e-01, -3.87736813e-01,  1.69995665e-01,\n",
       "        -1.30073092e-01, -1.07833895e-01, -5.47114015e-01,\n",
       "        -1.17777288e+00,  1.67779696e+00, -3.86101856e-01,\n",
       "        -9.14163577e-04,  3.25666246e-02,  1.45883855e+00,\n",
       "        -3.03311897e-01,  1.75671662e+00,  0.00000000e+00,\n",
       "        -3.52805612e-01, -2.83559286e-02, -4.90700173e-01,\n",
       "         2.40430798e-02, -6.10072872e-02, -5.85451335e-01,\n",
       "         1.07058283e-01, -1.25183214e-04, -2.85089322e-05,\n",
       "        -4.95563820e-02, -1.81270569e-01, -5.89288192e-01,\n",
       "        -2.03038874e-01,  3.73064906e-02,  0.00000000e+00,\n",
       "         7.39749678e-02, -2.78657315e-01, -3.80488030e-01,\n",
       "        -1.24755582e-04,  0.00000000e+00, -1.04212065e-01,\n",
       "         1.29153523e+00, -8.65812820e-01,  1.51013594e+00,\n",
       "         2.51744266e-01, -7.00395914e-01, -1.08462327e-01,\n",
       "        -4.83636926e-01,  1.24244846e-01, -9.14663231e-01,\n",
       "        -2.60749683e-02,  2.07218574e+00,  4.90992723e-01,\n",
       "        -7.12862510e-01,  5.06270096e-02,  8.84873238e-01,\n",
       "         1.67532675e+00, -1.44504780e-01, -7.75798417e-01,\n",
       "        -3.49980265e-02, -4.80370437e-02, -1.03271021e+00,\n",
       "        -2.94964263e-04, -1.27001860e-01,  3.16177770e-01,\n",
       "        -2.59437644e-01, -7.03294440e-05, -7.84669639e-01,\n",
       "        -3.04832161e-01, -2.26228438e-03, -3.80872038e-02,\n",
       "         5.27395043e-01,  8.65399573e-02,  1.41450402e+00,\n",
       "         9.61851740e-02, -1.95095910e-01, -3.62701952e-01,\n",
       "         0.00000000e+00,  3.66254063e-01,  1.41556174e-01,\n",
       "        -4.78544855e-01,  0.00000000e+00,  3.47429287e-01,\n",
       "         1.04633120e+00,  7.18217654e-02, -3.25475712e-02,\n",
       "         8.12514652e-01,  2.08405314e-01,  2.92386153e-01,\n",
       "        -4.78020118e-03, -8.85556969e-01, -2.96317836e-01,\n",
       "         0.00000000e+00,  0.00000000e+00,  0.00000000e+00,\n",
       "         0.00000000e+00, -3.40684824e-01, -5.36966208e-02,\n",
       "         6.77008128e-01, -2.91406136e-01, -8.77183330e-01,\n",
       "         9.34610737e-01,  4.20938352e-02,  0.00000000e+00,\n",
       "         3.85823156e-01,  1.10505834e+00,  0.00000000e+00,\n",
       "         1.44251452e+00,  4.76736647e-02, -3.13943474e-01,\n",
       "         8.39625471e-02, -3.85981158e-01,  2.33977768e-02,\n",
       "         2.12525486e-02, -2.44717959e-01, -1.10759708e-02,\n",
       "        -1.02662189e-04, -1.44333805e-02, -1.98110507e-01,\n",
       "         0.00000000e+00, -1.07551428e+00, -7.23840448e-01,\n",
       "        -4.01785534e-03, -2.39925783e-01, -1.31520762e+00,\n",
       "         2.32335504e+00,  2.89906349e-02, -4.01884428e-01,\n",
       "        -1.02278585e-01, -2.68572904e-02, -1.25259891e-02,\n",
       "         7.23177435e-01, -7.35185489e-05,  5.88190911e-01,\n",
       "        -4.55112470e-01, -2.05200158e-02, -4.16373546e-02,\n",
       "         5.38909300e-02, -1.84848644e-01, -4.09238990e-03,\n",
       "        -3.16225089e-02,  1.47761955e-01,  1.76817664e+00,\n",
       "        -2.35796233e-01, -2.01197392e-05, -6.01403348e-05,\n",
       "        -1.22875291e-03, -3.82464535e-03, -4.16704946e-01,\n",
       "        -1.47084031e+00,  1.38376545e+00,  4.58310099e-01,\n",
       "         1.43687744e+00, -6.55027383e-02, -3.76923714e-01,\n",
       "         1.60296973e+00,  9.64144202e-01,  2.50011565e-01,\n",
       "        -1.89591594e-04, -1.37788834e-01,  7.32902524e-01,\n",
       "         0.00000000e+00, -2.16061098e-01, -2.67616947e+00,\n",
       "        -9.47248958e-05, -1.27267999e-05, -3.25812886e-04,\n",
       "         8.17930017e-01, -1.05415087e-01, -2.50849653e-01,\n",
       "        -4.64962413e-02, -4.37572708e-05, -9.79501431e-03,\n",
       "         1.13840889e-01,  3.75752686e-01,  4.47841247e-02,\n",
       "         1.18857486e+00,  0.00000000e+00, -1.03007600e-01,\n",
       "         5.04461082e-02,  1.65518071e-01,  1.36977298e-02,\n",
       "        -8.52361696e-01, -5.45597090e-01,  3.62284310e-01,\n",
       "         5.18225948e-01,  1.91458097e-01,  1.10150893e+00,\n",
       "        -1.53713946e-01, -9.08538028e-01,  6.41281823e-02,\n",
       "        -9.54631154e-01, -9.61922242e-01,  1.16258877e+00,\n",
       "         1.34688653e-01,  0.00000000e+00, -3.72337056e-01,\n",
       "         0.00000000e+00,  1.82551064e-01,  7.68941119e-01,\n",
       "         7.40822809e-01, -1.21003437e-01, -1.71305086e-01,\n",
       "         3.45956925e-01, -1.12058655e+00,  0.00000000e+00,\n",
       "        -7.99170890e-02, -8.26712034e-01,  6.81717730e-01,\n",
       "        -1.31508228e+00, -1.64924355e-02,  0.00000000e+00,\n",
       "        -1.23990234e-02, -2.48262974e-02,  1.63501411e-01,\n",
       "        -9.21480037e-06, -1.04486727e-02,  2.56380442e-01,\n",
       "        -1.50263465e+00, -9.80967697e-01, -8.78524963e-03,\n",
       "        -7.04568682e-02,  7.94516774e-01,  0.00000000e+00,\n",
       "         1.53097810e+00, -1.13267130e-01,  5.81000443e-01,\n",
       "         2.05580869e-01, -4.81817512e-01, -8.29855365e-02,\n",
       "         5.87223421e-01, -3.24000996e-03, -1.53083020e-03,\n",
       "         1.04783787e-01, -2.19207625e-01,  5.74625099e-01,\n",
       "         1.39426906e-01, -2.21642161e-01,  3.90465531e-01,\n",
       "         6.67613081e-01,  1.92117733e-01,  8.74665778e-02,\n",
       "         5.69043726e-01, -8.17099164e-03,  5.30083581e-01,\n",
       "        -3.09817136e-01, -7.80680958e-03, -1.31724270e-01,\n",
       "         0.00000000e+00,  0.00000000e+00, -1.43295779e-01,\n",
       "         0.00000000e+00, -1.02465649e-01,  4.30193533e-01,\n",
       "        -1.57284315e-01, -6.08887915e-02,  1.06785806e+00,\n",
       "        -3.81303378e-03, -8.62188528e-02, -4.30901354e-01,\n",
       "         2.66950071e-01, -4.57483875e-03,  2.42465324e-01,\n",
       "         3.57123499e-01, -1.55559609e-03, -1.61020623e-01,\n",
       "        -4.63051880e-01, -2.47168674e-04, -6.06360927e-02,\n",
       "        -2.73914902e-01, -8.07682053e-03,  2.99395177e-01,\n",
       "         8.45004299e-01, -3.36163332e-01, -1.50172902e-02,\n",
       "         0.00000000e+00,  1.59778079e-01,  1.26019997e+00,\n",
       "         0.00000000e+00, -8.38542555e-05, -2.50098419e-04,\n",
       "        -1.57964062e-04, -2.35965259e-03,  1.08849315e+00,\n",
       "        -1.90119539e-01, -2.04635157e-01, -5.37289812e-02,\n",
       "        -3.10532931e-05, -3.07466506e-05,  2.39395703e-01,\n",
       "        -4.83131211e-02,  3.59185916e-01,  1.03520161e-01,\n",
       "        -3.97005318e-01, -8.10278508e-03, -4.47505975e-05,\n",
       "         2.63035402e-01, -9.60591562e-05, -2.37514094e-01,\n",
       "        -1.03503380e-03, -8.19515440e-02, -3.87780968e-06,\n",
       "        -7.53968905e-01, -3.61482449e-05, -2.46496965e-01,\n",
       "        -2.77622353e-01, -2.64095470e-01,  1.26518663e+00,\n",
       "        -5.82590591e-01, -2.94018415e-01,  5.70649440e-01,\n",
       "        -2.19128146e-01, -5.52646339e-01, -4.87857854e-02,\n",
       "        -9.99151302e-01,  4.19147016e-01,  4.30735597e-07,\n",
       "        -2.33572613e-01, -2.24064050e+00,  6.12173434e-01,\n",
       "        -2.11049683e-01, -2.30348555e-02, -7.93056331e-04,\n",
       "        -7.30793530e-03, -3.65726344e-01, -2.29828236e-03,\n",
       "        -1.37329516e-01, -6.04921454e-01, -4.22018020e-03,\n",
       "         0.00000000e+00,  1.88734056e-01,  2.03467055e+00,\n",
       "        -2.43968148e-03,  5.49257098e-01, -1.47109742e-01,\n",
       "        -3.81681633e-01,  5.27609914e-01,  7.33245989e-01,\n",
       "         6.91540810e-01, -1.61465213e+00,  4.00698347e-01,\n",
       "         1.95222809e-01,  3.89522924e-01, -1.01653304e-01,\n",
       "         4.24800497e-01,  8.45896453e-02,  8.71388122e-01,\n",
       "         4.09443440e-01, -1.49003606e-01, -1.39761269e-03,\n",
       "        -7.75220455e-04, -3.23727216e-04, -5.30153919e-01,\n",
       "        -9.71649080e-04, -7.90666099e-03, -9.10615615e-01,\n",
       "        -7.51436518e-01,  0.00000000e+00,  3.25378692e-01,\n",
       "         0.00000000e+00, -1.23940445e-01, -1.14093277e-01,\n",
       "         2.52712725e-01, -5.71201864e-01,  4.34051768e-01,\n",
       "        -1.08377240e+00,  2.74035376e-05,  4.85059179e-01,\n",
       "         8.68255091e-01]])"
      ]
     },
     "execution_count": 64,
     "metadata": {},
     "output_type": "execute_result"
    }
   ],
   "source": [
    "mod_log.coef_"
   ]
  },
  {
   "cell_type": "code",
   "execution_count": 54,
   "id": "bf22caa8-25e0-47a6-91d8-34c82bd571a5",
   "metadata": {},
   "outputs": [],
   "source": [
    "y_train_predl = mod_log.predict(X_trainl)"
   ]
  },
  {
   "cell_type": "code",
   "execution_count": 55,
   "id": "208ba565-1be9-4003-a91a-d3a821c586cb",
   "metadata": {},
   "outputs": [
    {
     "data": {
      "text/plain": [
       "array([0., 0., 1., ..., 0., 1., 1.])"
      ]
     },
     "execution_count": 55,
     "metadata": {},
     "output_type": "execute_result"
    }
   ],
   "source": [
    "y_test_predl = mod_log.predict(X_testl)\n",
    "y_test_predl"
   ]
  },
  {
   "cell_type": "code",
   "execution_count": 56,
   "id": "397bff76-de7a-4ef0-9a5f-392fda90f9ef",
   "metadata": {},
   "outputs": [
    {
     "data": {
      "image/png": "[encoded data removed]",
      "text/plain": [
       "<Figure size 432x432 with 1 Axes>"
      ]
     },
     "metadata": {
      "needs_background": "light"
     },
     "output_type": "display_data"
    }
   ],
   "source": [
    "plot_confusion_matrix(conf_mat=confusion_matrix(y_testl,y_test_predl), figsize=(6,6), show_normed=False)\n",
    "plt.tight_layout(pad = 10)"
   ]
  },
  {
   "cell_type": "code",
   "execution_count": 57,
   "id": "ba4fcf2f-366c-4fad-8ff9-c61ec6147df4",
   "metadata": {},
   "outputs": [
    {
     "data": {
      "text/plain": [
       "0.9238514789175583"
      ]
     },
     "execution_count": 57,
     "metadata": {},
     "output_type": "execute_result"
    }
   ],
   "source": [
    "accuracy_score(y_testl, y_test_predl)"
   ]
  },
  {
   "cell_type": "code",
   "execution_count": 58,
   "id": "106a3a8d-21cb-4f32-bfec-2342aba85697",
   "metadata": {},
   "outputs": [
    {
     "data": {
      "text/plain": [
       "0.8787185354691075"
      ]
     },
     "execution_count": 58,
     "metadata": {},
     "output_type": "execute_result"
    }
   ],
   "source": [
    "precision_score(y_testl, y_test_predl)"
   ]
  },
  {
   "cell_type": "code",
   "execution_count": 59,
   "id": "2a558ff0-7fee-4837-8a0c-bd11b032a185",
   "metadata": {},
   "outputs": [
    {
     "data": {
      "text/plain": [
       "0.8495575221238938"
      ]
     },
     "execution_count": 59,
     "metadata": {},
     "output_type": "execute_result"
    }
   ],
   "source": [
    "recall_score(y_testl, y_test_predl)"
   ]
  },
  {
   "cell_type": "code",
   "execution_count": 60,
   "id": "0ae5c6fe-4d8e-4ee4-8636-0c02a1d53ee1",
   "metadata": {},
   "outputs": [
    {
     "data": {
      "text/plain": [
       "0.9014718129528879"
      ]
     },
     "execution_count": 60,
     "metadata": {},
     "output_type": "execute_result"
    }
   ],
   "source": [
    "roc_auc_score(y_testl, y_test_predl)"
   ]
  },
  {
   "cell_type": "code",
   "execution_count": 61,
   "id": "1d7ff2bc-1652-45d6-99aa-a99a2a242db3",
   "metadata": {},
   "outputs": [
    {
     "data": {
      "text/plain": [
       "array([-1.09695195, -5.68096157,  1.33278065, ..., -6.60446276,\n",
       "        0.14945336,  1.6357033 ])"
      ]
     },
     "execution_count": 61,
     "metadata": {},
     "output_type": "execute_result"
    }
   ],
   "source": [
    "yl = mod_log.decision_function(X_testl)\n",
    "yl"
   ]
  },
  {
   "cell_type": "code",
   "execution_count": 62,
   "id": "39d57846-762f-4f74-ad30-bc2adcc7e4f7",
   "metadata": {},
   "outputs": [
    {
     "data": {
      "image/png": "[encoded data removed]",
      "text/plain": [
       "<Figure size 432x288 with 1 Axes>"
      ]
     },
     "metadata": {
      "needs_background": "light"
     },
     "output_type": "display_data"
    }
   ],
   "source": [
    "fpr, tpr, _ = roc_curve(y_testl, yl, pos_label = mod_log.classes_[1])\n",
    "roc_display = RocCurveDisplay(fpr=fpr, tpr=tpr).plot()"
   ]
  },
  {
   "cell_type": "code",
   "execution_count": null,
   "id": "6ede018e-c909-4bdb-853f-8abbf8e1639a",
   "metadata": {},
   "outputs": [],
   "source": []
  },
  {
   "cell_type": "code",
   "execution_count": null,
   "id": "a441f845-8157-4cef-ae3c-bdd0982b8d39",
   "metadata": {},
   "outputs": [],
   "source": []
  }
 ],
 "metadata": {
  "kernelspec": {
   "display_name": "Python 3",
   "language": "python",
   "name": "python3"
  },
  "language_info": {
   "codemirror_mode": {
    "name": "ipython",
    "version": 3
   },
   "file_extension": ".py",
   "mimetype": "text/x-python",
   "name": "python",
   "nbconvert_exporter": "python",
   "pygments_lexer": "ipython3",
   "version": "3.9.5"
  },
  "toc": {
   "base_numbering": 1,
   "nav_menu": {},
   "number_sections": true,
   "sideBar": true,
   "skip_h1_title": false,
   "title_cell": "Table of Contents",
   "title_sidebar": "Contents",
   "toc_cell": false,
   "toc_position": {},
   "toc_section_display": true,
   "toc_window_display": false
  },
  "varInspector": {
   "cols": {
    "lenName": 16,
    "lenType": 16,
    "lenVar": 40
   },
   "kernels_config": {
    "python": {
     "delete_cmd_postfix": "",
     "delete_cmd_prefix": "del ",
     "library": "var_list.py",
     "varRefreshCmd": "print(var_dic_list())"
    },
    "r": {
     "delete_cmd_postfix": ") ",
     "delete_cmd_prefix": "rm(",
     "library": "var_list.r",
     "varRefreshCmd": "cat(var_dic_list()) "
    }
   },
   "types_to_exclude": [
    "module",
    "function",
    "builtin_function_or_method",
    "instance",
    "_Feature"
   ],
   "window_display": false
  }
 },
 "nbformat": 4,
 "nbformat_minor": 5
}
