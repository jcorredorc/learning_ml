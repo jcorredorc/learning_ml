{
 "cells": [
  {
   "cell_type": "markdown",
   "source": [
    "# Modelo de rendimiento en las pruebas Saber 11 2017-2019"
   ],
   "metadata": {}
  },
  {
   "cell_type": "markdown",
   "source": [
    "## Cargar los modulos necesarios y los datos"
   ],
   "metadata": {}
  },
  {
   "cell_type": "code",
   "execution_count": null,
   "source": [
    "# Importar modulos para el tratamiento de los datos y visualizaciones\n",
    "import pandas as pd\n",
    "import numpy as np\n",
    "import seaborn as sns\n",
    "import matplotlib.pyplot as plt"
   ],
   "outputs": [],
   "metadata": {
    "ExecuteTime": {
     "end_time": "2021-08-07T21:30:51.366129Z",
     "start_time": "2021-08-07T21:30:50.301882Z"
    }
   }
  },
  {
   "cell_type": "code",
   "execution_count": null,
   "source": [
    "# Cargar los datos, se puede hacer desde una URL\n",
    "# url = 'https://gitlab.com/jairo.acosta/saber11/-/raw/main/IGAE.csv'\n",
    "df = pd.read_csv('C:/Users/jacos/Desktop/IGAE.csv', header=0)"
   ],
   "outputs": [],
   "metadata": {
    "ExecuteTime": {
     "end_time": "2021-08-07T21:30:51.884247Z",
     "start_time": "2021-08-07T21:30:51.367122Z"
    }
   }
  },
  {
   "cell_type": "markdown",
   "source": [
    "## Formatear los datos"
   ],
   "metadata": {}
  },
  {
   "cell_type": "code",
   "execution_count": null,
   "source": [
    "# Convertir la columna clase a valor numérico, observe que los valores antiguos\n",
    "# Tienen una comilla simple de origen\n",
    "df['RENDIMIENTO'] = df['RENDIMIENTO'].map(\n",
    "    {\"'Minimo o insuficiente'\": 0, \"'Satisfactorio o avanzado'\": 1})"
   ],
   "outputs": [],
   "metadata": {
    "ExecuteTime": {
     "end_time": "2021-08-07T21:30:51.916253Z",
     "start_time": "2021-08-07T21:30:51.885247Z"
    }
   }
  },
  {
   "cell_type": "code",
   "execution_count": null,
   "source": [
    "# Eliminar las comillas innecesarios en las otras columnas del dataframe\n",
    "df['FAMI_EDUCACIONMADRE'] = df['FAMI_EDUCACIONMADRE'].str.replace(\"'\",'')"
   ],
   "outputs": [],
   "metadata": {
    "ExecuteTime": {
     "end_time": "2021-08-07T21:30:51.988269Z",
     "start_time": "2021-08-07T21:30:51.917246Z"
    }
   }
  },
  {
   "cell_type": "code",
   "execution_count": null,
   "source": [
    "df['FAMI_EDUCACIONPADRE'] = df['FAMI_EDUCACIONPADRE'].str.replace(\"'\",'')"
   ],
   "outputs": [],
   "metadata": {
    "ExecuteTime": {
     "end_time": "2021-08-07T21:30:52.060287Z",
     "start_time": "2021-08-07T21:30:51.989262Z"
    }
   }
  },
  {
   "cell_type": "code",
   "execution_count": null,
   "source": [
    "df['COLE_DEPTO_UBICACION'] = df['COLE_DEPTO_UBICACION'].str.replace(\"'\",'')"
   ],
   "outputs": [],
   "metadata": {
    "ExecuteTime": {
     "end_time": "2021-08-07T21:30:52.126441Z",
     "start_time": "2021-08-07T21:30:52.061278Z"
    }
   }
  },
  {
   "cell_type": "code",
   "execution_count": null,
   "source": [
    "df['COLE_NATURALEZA'] = df['COLE_NATURALEZA'].str.replace(\"'\",'')"
   ],
   "outputs": [],
   "metadata": {
    "ExecuteTime": {
     "end_time": "2021-08-07T21:30:52.196308Z",
     "start_time": "2021-08-07T21:30:52.127294Z"
    }
   }
  },
  {
   "cell_type": "code",
   "execution_count": null,
   "source": [
    "df['FAMI_NUMLIBROS'] = df['FAMI_NUMLIBROS'].str.replace(\"'\",'')"
   ],
   "outputs": [],
   "metadata": {
    "ExecuteTime": {
     "end_time": "2021-08-07T21:30:52.283329Z",
     "start_time": "2021-08-07T21:30:52.198318Z"
    }
   }
  },
  {
   "cell_type": "code",
   "execution_count": null,
   "source": [
    "df['FAMI_COMELECHEDERIVADOS'] = df['FAMI_COMELECHEDERIVADOS'].str.replace(\"'\",'')"
   ],
   "outputs": [],
   "metadata": {
    "ExecuteTime": {
     "end_time": "2021-08-07T21:30:52.373356Z",
     "start_time": "2021-08-07T21:30:52.284330Z"
    }
   }
  },
  {
   "cell_type": "code",
   "execution_count": null,
   "source": [
    "df['FAMI_COMECARNEPESCADOHUEVO'] = df['FAMI_COMECARNEPESCADOHUEVO'].str.replace(\"'\",'')"
   ],
   "outputs": [],
   "metadata": {
    "ExecuteTime": {
     "end_time": "2021-08-07T21:30:52.462377Z",
     "start_time": "2021-08-07T21:30:52.374349Z"
    }
   }
  },
  {
   "cell_type": "code",
   "execution_count": null,
   "source": [
    "df['ESTU_DEDICACIONINTERNET'] = df['ESTU_DEDICACIONINTERNET'].str.replace(\"'\",'')"
   ],
   "outputs": [],
   "metadata": {
    "ExecuteTime": {
     "end_time": "2021-08-07T21:30:52.550388Z",
     "start_time": "2021-08-07T21:30:52.463370Z"
    }
   }
  },
  {
   "cell_type": "code",
   "execution_count": null,
   "source": [
    "df['FAMI_PERSONASHOGAR'] = df['FAMI_PERSONASHOGAR'].str.replace(\"'\",'')"
   ],
   "outputs": [],
   "metadata": {
    "ExecuteTime": {
     "end_time": "2021-08-07T21:30:52.633407Z",
     "start_time": "2021-08-07T21:30:52.551389Z"
    }
   }
  },
  {
   "cell_type": "code",
   "execution_count": null,
   "source": [
    "df['ESTU_DEDICACIONLECTURADIARIA'] = df['ESTU_DEDICACIONLECTURADIARIA'].str.replace(\"'\",'')"
   ],
   "outputs": [],
   "metadata": {
    "ExecuteTime": {
     "end_time": "2021-08-07T21:30:52.719434Z",
     "start_time": "2021-08-07T21:30:52.634408Z"
    }
   }
  },
  {
   "cell_type": "code",
   "execution_count": null,
   "source": [
    "df['EDAD'] = df['EDAD'].str.replace(\"'\",'')"
   ],
   "outputs": [],
   "metadata": {
    "ExecuteTime": {
     "end_time": "2021-08-07T21:30:52.812455Z",
     "start_time": "2021-08-07T21:30:52.720427Z"
    }
   }
  },
  {
   "cell_type": "code",
   "execution_count": null,
   "source": [
    "# Revisar los efectos del formateo de texto\n",
    "df.tail()"
   ],
   "outputs": [],
   "metadata": {
    "ExecuteTime": {
     "end_time": "2021-08-07T21:30:52.831461Z",
     "start_time": "2021-08-07T21:30:52.813449Z"
    },
    "scrolled": true
   }
  },
  {
   "cell_type": "code",
   "execution_count": null,
   "source": [
    "df.info()"
   ],
   "outputs": [],
   "metadata": {
    "ExecuteTime": {
     "end_time": "2021-08-07T21:30:52.940477Z",
     "start_time": "2021-08-07T21:30:52.832453Z"
    },
    "scrolled": true
   }
  },
  {
   "cell_type": "markdown",
   "source": [
    "## Crear las variables dummy"
   ],
   "metadata": {}
  },
  {
   "cell_type": "code",
   "execution_count": null,
   "source": [
    "df = pd.get_dummies(df)"
   ],
   "outputs": [],
   "metadata": {
    "ExecuteTime": {
     "end_time": "2021-08-07T21:30:53.241545Z",
     "start_time": "2021-08-07T21:30:52.941478Z"
    }
   }
  },
  {
   "cell_type": "code",
   "execution_count": null,
   "source": [
    "df.head()"
   ],
   "outputs": [],
   "metadata": {
    "ExecuteTime": {
     "end_time": "2021-08-07T21:30:53.254548Z",
     "start_time": "2021-08-07T21:30:53.242545Z"
    }
   }
  },
  {
   "cell_type": "code",
   "execution_count": null,
   "source": [
    "df.info()"
   ],
   "outputs": [],
   "metadata": {
    "ExecuteTime": {
     "end_time": "2021-08-07T21:30:53.291563Z",
     "start_time": "2021-08-07T21:30:53.255550Z"
    }
   }
  },
  {
   "cell_type": "code",
   "execution_count": null,
   "source": [
    "# Eliminar las variables que no generan información al modelo\n",
    "del df['FAMI_EDUCACIONMADRE_No aplica']"
   ],
   "outputs": [],
   "metadata": {
    "ExecuteTime": {
     "end_time": "2021-08-07T21:30:53.295559Z",
     "start_time": "2021-08-07T21:30:53.292556Z"
    }
   }
  },
  {
   "cell_type": "code",
   "execution_count": null,
   "source": [
    "del df['FAMI_EDUCACIONPADRE_No aplica']"
   ],
   "outputs": [],
   "metadata": {
    "ExecuteTime": {
     "end_time": "2021-08-07T21:30:53.323572Z",
     "start_time": "2021-08-07T21:30:53.296558Z"
    }
   }
  },
  {
   "cell_type": "markdown",
   "source": [
    "## Asignar valores de X e y"
   ],
   "metadata": {}
  },
  {
   "cell_type": "code",
   "execution_count": null,
   "source": [
    "X = df.loc[:, df.columns!= 'RENDIMIENTO']"
   ],
   "outputs": [],
   "metadata": {
    "ExecuteTime": {
     "end_time": "2021-08-07T21:30:53.342568Z",
     "start_time": "2021-08-07T21:30:53.324564Z"
    }
   }
  },
  {
   "cell_type": "code",
   "execution_count": null,
   "source": [
    "y = df['RENDIMIENTO']"
   ],
   "outputs": [],
   "metadata": {
    "ExecuteTime": {
     "end_time": "2021-08-07T21:30:53.347570Z",
     "start_time": "2021-08-07T21:30:53.343567Z"
    }
   }
  },
  {
   "cell_type": "markdown",
   "source": [
    "## Crear el conjunto de entrenamiento y validación"
   ],
   "metadata": {}
  },
  {
   "cell_type": "code",
   "execution_count": null,
   "source": [
    "# Cargar el modulo para dividir el conjunto de datos en conjunto de entrenamiento y validación\n",
    "from sklearn.model_selection import train_test_split"
   ],
   "outputs": [],
   "metadata": {
    "ExecuteTime": {
     "end_time": "2021-08-07T21:30:53.772664Z",
     "start_time": "2021-08-07T21:30:53.349572Z"
    }
   }
  },
  {
   "cell_type": "code",
   "execution_count": null,
   "source": [
    "X_train, X_test, y_train, y_test = train_test_split(X, y, test_size = 0.2, random_state = 0)"
   ],
   "outputs": [],
   "metadata": {
    "ExecuteTime": {
     "end_time": "2021-08-07T21:30:53.842688Z",
     "start_time": "2021-08-07T21:30:53.773665Z"
    }
   }
  },
  {
   "cell_type": "code",
   "execution_count": null,
   "source": [
    "X_train.shape, X_test.shape"
   ],
   "outputs": [],
   "metadata": {
    "ExecuteTime": {
     "end_time": "2021-08-07T21:30:53.850684Z",
     "start_time": "2021-08-07T21:30:53.845682Z"
    }
   }
  },
  {
   "cell_type": "markdown",
   "source": [
    "## Modelo de regresión logística"
   ],
   "metadata": {}
  },
  {
   "cell_type": "code",
   "execution_count": null,
   "source": [
    "from sklearn.linear_model import LogisticRegression"
   ],
   "outputs": [],
   "metadata": {
    "ExecuteTime": {
     "end_time": "2021-08-07T21:30:53.890700Z",
     "start_time": "2021-08-07T21:30:53.852683Z"
    }
   }
  },
  {
   "cell_type": "code",
   "execution_count": null,
   "source": [
    "logistica = LogisticRegression()"
   ],
   "outputs": [],
   "metadata": {
    "ExecuteTime": {
     "end_time": "2021-08-07T21:30:53.895695Z",
     "start_time": "2021-08-07T21:30:53.891701Z"
    }
   }
  },
  {
   "cell_type": "markdown",
   "source": [
    "### Ajustar el modelo a los datos"
   ],
   "metadata": {}
  },
  {
   "cell_type": "code",
   "execution_count": null,
   "source": [
    "logistica.fit(X_train, y_train)"
   ],
   "outputs": [],
   "metadata": {
    "ExecuteTime": {
     "end_time": "2021-08-07T21:30:56.273229Z",
     "start_time": "2021-08-07T21:30:53.897693Z"
    }
   }
  },
  {
   "cell_type": "markdown",
   "source": [
    "### Parámetros $\\theta$ del modelo"
   ],
   "metadata": {}
  },
  {
   "cell_type": "code",
   "execution_count": null,
   "source": [
    "logistica.intercept_"
   ],
   "outputs": [],
   "metadata": {
    "ExecuteTime": {
     "end_time": "2021-08-07T21:30:56.279230Z",
     "start_time": "2021-08-07T21:30:56.274230Z"
    }
   }
  },
  {
   "cell_type": "code",
   "execution_count": null,
   "source": [
    "logistica.coef_"
   ],
   "outputs": [],
   "metadata": {
    "ExecuteTime": {
     "end_time": "2021-08-07T21:30:56.285231Z",
     "start_time": "2021-08-07T21:30:56.280230Z"
    }
   }
  },
  {
   "cell_type": "markdown",
   "source": [
    "### Predicción en el conjunto de validación"
   ],
   "metadata": {}
  },
  {
   "cell_type": "code",
   "execution_count": null,
   "source": [
    "logistica_pred = logistica.predict(X_test)"
   ],
   "outputs": [],
   "metadata": {
    "ExecuteTime": {
     "end_time": "2021-08-07T21:30:56.299235Z",
     "start_time": "2021-08-07T21:30:56.286233Z"
    }
   }
  },
  {
   "cell_type": "code",
   "execution_count": null,
   "source": [
    "logistica_pred"
   ],
   "outputs": [],
   "metadata": {
    "ExecuteTime": {
     "end_time": "2021-08-07T21:30:56.305236Z",
     "start_time": "2021-08-07T21:30:56.300235Z"
    }
   }
  },
  {
   "cell_type": "markdown",
   "source": [
    "### Métricas del modelo"
   ],
   "metadata": {}
  },
  {
   "cell_type": "code",
   "execution_count": null,
   "source": [
    "from sklearn.metrics import confusion_matrix, accuracy_score, roc_auc_score"
   ],
   "outputs": [],
   "metadata": {
    "ExecuteTime": {
     "end_time": "2021-08-07T21:30:56.308237Z",
     "start_time": "2021-08-07T21:30:56.306235Z"
    }
   }
  },
  {
   "cell_type": "code",
   "execution_count": null,
   "source": [
    "confusion_matrix(y_test, logistica_pred)"
   ],
   "outputs": [],
   "metadata": {
    "ExecuteTime": {
     "end_time": "2021-08-07T21:30:56.343244Z",
     "start_time": "2021-08-07T21:30:56.310237Z"
    }
   }
  },
  {
   "cell_type": "code",
   "execution_count": null,
   "source": [
    "accuracy_score(y_test, logistica_pred)"
   ],
   "outputs": [],
   "metadata": {
    "ExecuteTime": {
     "end_time": "2021-08-07T21:30:56.352246Z",
     "start_time": "2021-08-07T21:30:56.344245Z"
    }
   }
  },
  {
   "cell_type": "code",
   "execution_count": null,
   "source": [
    "roc_auc_score(y_test, logistica_pred)"
   ],
   "outputs": [],
   "metadata": {
    "ExecuteTime": {
     "end_time": "2021-08-07T21:30:56.365251Z",
     "start_time": "2021-08-07T21:30:56.353246Z"
    }
   }
  },
  {
   "cell_type": "markdown",
   "source": [
    "## Modelo de árboles"
   ],
   "metadata": {}
  },
  {
   "cell_type": "code",
   "execution_count": null,
   "source": [
    "from sklearn import tree"
   ],
   "outputs": [],
   "metadata": {
    "ExecuteTime": {
     "end_time": "2021-08-07T21:30:56.406258Z",
     "start_time": "2021-08-07T21:30:56.366251Z"
    }
   }
  },
  {
   "cell_type": "code",
   "execution_count": null,
   "source": [
    "arbol = tree.DecisionTreeClassifier(max_depth = 4)"
   ],
   "outputs": [],
   "metadata": {
    "ExecuteTime": {
     "end_time": "2021-08-07T21:30:56.409260Z",
     "start_time": "2021-08-07T21:30:56.407259Z"
    }
   }
  },
  {
   "cell_type": "markdown",
   "source": [
    "### Ajustar el modelo a los datos"
   ],
   "metadata": {}
  },
  {
   "cell_type": "code",
   "execution_count": null,
   "source": [
    "arbol.fit(X_train, y_train)"
   ],
   "outputs": [],
   "metadata": {
    "ExecuteTime": {
     "end_time": "2021-08-07T21:30:56.979390Z",
     "start_time": "2021-08-07T21:30:56.410260Z"
    }
   }
  },
  {
   "cell_type": "markdown",
   "source": [
    "### Predicción en el conjunto de validación"
   ],
   "metadata": {}
  },
  {
   "cell_type": "code",
   "execution_count": null,
   "source": [
    "arbol_pred = arbol.predict(X_test)"
   ],
   "outputs": [],
   "metadata": {
    "ExecuteTime": {
     "end_time": "2021-08-07T21:30:56.992399Z",
     "start_time": "2021-08-07T21:30:56.980396Z"
    }
   }
  },
  {
   "cell_type": "code",
   "execution_count": null,
   "source": [
    "arbol_pred"
   ],
   "outputs": [],
   "metadata": {
    "ExecuteTime": {
     "end_time": "2021-08-07T21:30:56.996392Z",
     "start_time": "2021-08-07T21:30:56.993391Z"
    }
   }
  },
  {
   "cell_type": "markdown",
   "source": [
    "### Métricas del modelo"
   ],
   "metadata": {}
  },
  {
   "cell_type": "code",
   "execution_count": null,
   "source": [
    "confusion_matrix(y_test, arbol_pred)"
   ],
   "outputs": [],
   "metadata": {
    "ExecuteTime": {
     "end_time": "2021-08-07T21:30:57.027399Z",
     "start_time": "2021-08-07T21:30:56.998394Z"
    }
   }
  },
  {
   "cell_type": "code",
   "execution_count": null,
   "source": [
    "accuracy_score(y_test, arbol_pred)"
   ],
   "outputs": [],
   "metadata": {
    "ExecuteTime": {
     "end_time": "2021-08-07T21:30:57.035400Z",
     "start_time": "2021-08-07T21:30:57.028399Z"
    }
   }
  },
  {
   "cell_type": "code",
   "execution_count": null,
   "source": [
    "roc_auc_score(y_test, arbol_pred)"
   ],
   "outputs": [],
   "metadata": {
    "ExecuteTime": {
     "end_time": "2021-08-07T21:30:57.049403Z",
     "start_time": "2021-08-07T21:30:57.036402Z"
    }
   }
  },
  {
   "cell_type": "markdown",
   "source": [
    "### Gráfica del árbol"
   ],
   "metadata": {}
  },
  {
   "cell_type": "code",
   "execution_count": null,
   "source": [
    "datos_graf = tree.export_graphviz(arbol, out_file = None, feature_names = X_train.columns,\n",
    "                                  filled = True, class_names = ['Minimo o insuficiente','Satisfactorio o avanzado'])"
   ],
   "outputs": [],
   "metadata": {
    "ExecuteTime": {
     "end_time": "2021-08-07T21:30:57.056406Z",
     "start_time": "2021-08-07T21:30:57.050404Z"
    }
   }
  },
  {
   "cell_type": "code",
   "execution_count": null,
   "source": [
    "from IPython.display import Image\n",
    "import pydotplus"
   ],
   "outputs": [],
   "metadata": {
    "ExecuteTime": {
     "end_time": "2021-08-07T21:30:57.064407Z",
     "start_time": "2021-08-07T21:30:57.058406Z"
    }
   }
  },
  {
   "cell_type": "code",
   "execution_count": null,
   "source": [
    "graph = pydotplus.graph_from_dot_data(datos_graf)\n",
    "Image(graph.create_png())"
   ],
   "outputs": [],
   "metadata": {
    "ExecuteTime": {
     "end_time": "2021-08-07T21:30:57.374485Z",
     "start_time": "2021-08-07T21:30:57.065407Z"
    }
   }
  },
  {
   "cell_type": "code",
   "execution_count": null,
   "source": [
    "# Guardar como un archivo\n",
    "# graph.write_png('arboloriginalclass.png')"
   ],
   "outputs": [],
   "metadata": {
    "ExecuteTime": {
     "end_time": "2021-08-07T21:30:57.377485Z",
     "start_time": "2021-08-07T21:30:57.375477Z"
    }
   }
  },
  {
   "cell_type": "markdown",
   "source": [
    "## Modelo de Perceptrón Multicapa"
   ],
   "metadata": {}
  },
  {
   "cell_type": "code",
   "execution_count": null,
   "source": [
    "from sklearn.neural_network import MLPClassifier"
   ],
   "outputs": [],
   "metadata": {
    "ExecuteTime": {
     "end_time": "2021-08-07T21:30:57.386480Z",
     "start_time": "2021-08-07T21:30:57.379479Z"
    }
   }
  },
  {
   "cell_type": "code",
   "execution_count": null,
   "source": [
    "perceptron = MLPClassifier(solver='lbfgs', alpha=1e-3, hidden_layer_sizes=(5, 5), random_state=123, max_iter=10000, activation = 'logistic')"
   ],
   "outputs": [],
   "metadata": {
    "ExecuteTime": {
     "end_time": "2021-08-07T21:30:57.389481Z",
     "start_time": "2021-08-07T21:30:57.387480Z"
    }
   }
  },
  {
   "cell_type": "markdown",
   "source": [
    "### Transformación de los datos"
   ],
   "metadata": {}
  },
  {
   "cell_type": "code",
   "execution_count": null,
   "source": [
    "# Como es un modelo más complicado se escala el vector de características\n",
    "# para que el modelo se ajuste a los datos de forma más ágil\n",
    "from sklearn import preprocessing"
   ],
   "outputs": [],
   "metadata": {
    "ExecuteTime": {
     "end_time": "2021-08-07T21:30:57.394482Z",
     "start_time": "2021-08-07T21:30:57.390482Z"
    }
   }
  },
  {
   "cell_type": "code",
   "execution_count": null,
   "source": [
    "escala = preprocessing.StandardScaler().fit(X_train)"
   ],
   "outputs": [],
   "metadata": {
    "ExecuteTime": {
     "end_time": "2021-08-07T21:30:57.563520Z",
     "start_time": "2021-08-07T21:30:57.395482Z"
    }
   }
  },
  {
   "cell_type": "code",
   "execution_count": null,
   "source": [
    "X_esc = escala.transform(X_train)"
   ],
   "outputs": [],
   "metadata": {
    "ExecuteTime": {
     "end_time": "2021-08-07T21:30:57.615531Z",
     "start_time": "2021-08-07T21:30:57.564520Z"
    }
   }
  },
  {
   "cell_type": "code",
   "execution_count": null,
   "source": [
    "X_esc_test = escala.transform(X_test)"
   ],
   "outputs": [],
   "metadata": {
    "ExecuteTime": {
     "end_time": "2021-08-07T21:30:57.632535Z",
     "start_time": "2021-08-07T21:30:57.616532Z"
    }
   }
  },
  {
   "cell_type": "markdown",
   "source": [
    "### Ajustar el modelo a los datos"
   ],
   "metadata": {}
  },
  {
   "cell_type": "code",
   "execution_count": null,
   "source": [
    "perceptron.fit(X_esc, y_train)"
   ],
   "outputs": [],
   "metadata": {
    "ExecuteTime": {
     "end_time": "2021-08-07T21:31:23.406347Z",
     "start_time": "2021-08-07T21:30:57.633536Z"
    },
    "scrolled": true
   }
  },
  {
   "cell_type": "markdown",
   "source": [
    "### Predicción en el conjunto de validación"
   ],
   "metadata": {}
  },
  {
   "cell_type": "code",
   "execution_count": null,
   "source": [
    "perceptron_pred = perceptron.predict(X_esc_test)"
   ],
   "outputs": [],
   "metadata": {
    "ExecuteTime": {
     "end_time": "2021-08-07T21:31:23.424352Z",
     "start_time": "2021-08-07T21:31:23.407347Z"
    }
   }
  },
  {
   "cell_type": "code",
   "execution_count": null,
   "source": [
    "perceptron_pred"
   ],
   "outputs": [],
   "metadata": {
    "ExecuteTime": {
     "end_time": "2021-08-07T21:31:23.432356Z",
     "start_time": "2021-08-07T21:31:23.426352Z"
    }
   }
  },
  {
   "cell_type": "markdown",
   "source": [
    "### Métricas del modelo"
   ],
   "metadata": {}
  },
  {
   "cell_type": "code",
   "execution_count": null,
   "source": [
    "confusion_matrix(y_test, perceptron_pred)"
   ],
   "outputs": [],
   "metadata": {
    "ExecuteTime": {
     "end_time": "2021-08-07T21:31:23.462359Z",
     "start_time": "2021-08-07T21:31:23.434353Z"
    }
   }
  },
  {
   "cell_type": "code",
   "execution_count": null,
   "source": [
    "accuracy_score(y_test, perceptron_pred)"
   ],
   "outputs": [],
   "metadata": {
    "ExecuteTime": {
     "end_time": "2021-08-07T21:31:23.471361Z",
     "start_time": "2021-08-07T21:31:23.463359Z"
    }
   }
  },
  {
   "cell_type": "code",
   "execution_count": null,
   "source": [
    "roc_auc_score(y_test,perceptron_pred)"
   ],
   "outputs": [],
   "metadata": {
    "ExecuteTime": {
     "end_time": "2021-08-07T21:31:23.485364Z",
     "start_time": "2021-08-07T21:31:23.472361Z"
    }
   }
  }
 ],
 "metadata": {
  "kernelspec": {
   "display_name": "Python 3",
   "language": "python",
   "name": "python3"
  },
  "language_info": {
   "codemirror_mode": {
    "name": "ipython",
    "version": 3
   },
   "file_extension": ".py",
   "mimetype": "text/x-python",
   "name": "python",
   "nbconvert_exporter": "python",
   "pygments_lexer": "ipython3",
   "version": "3.9.5"
  },
  "toc": {
   "base_numbering": 1,
   "nav_menu": {},
   "number_sections": true,
   "sideBar": true,
   "skip_h1_title": false,
   "title_cell": "Table of Contents",
   "title_sidebar": "Contents",
   "toc_cell": false,
   "toc_position": {},
   "toc_section_display": true,
   "toc_window_display": true
  },
  "varInspector": {
   "cols": {
    "lenName": 16,
    "lenType": 16,
    "lenVar": 40
   },
   "kernels_config": {
    "python": {
     "delete_cmd_postfix": "",
     "delete_cmd_prefix": "del ",
     "library": "var_list.py",
     "varRefreshCmd": "print(var_dic_list())"
    },
    "r": {
     "delete_cmd_postfix": ") ",
     "delete_cmd_prefix": "rm(",
     "library": "var_list.r",
     "varRefreshCmd": "cat(var_dic_list()) "
    }
   },
   "types_to_exclude": [
    "module",
    "function",
    "builtin_function_or_method",
    "instance",
    "_Feature"
   ],
   "window_display": false
  }
 },
 "nbformat": 4,
 "nbformat_minor": 5
}