{
 "cells": [
  {
   "cell_type": "markdown",
   "metadata": {
    "id": "6RZ4F5NhMDSo"
   },
   "source": [
    "#Ejemplo basico con KMeans\n",
    "\n",
    "Cargamos las librerias requeridas"
   ]
  },
  {
   "cell_type": "code",
   "execution_count": null,
   "metadata": {
    "ExecuteTime": {
     "end_time": "2021-09-02T17:04:19.871258Z",
     "start_time": "2021-09-02T17:04:15.701640Z"
    },
    "id": "HRysFdDj2I9T"
   },
   "outputs": [],
   "source": [
    "import pandas as pd\n",
    "import numpy as np\n",
    "import matplotlib.pyplot as plt\n",
    "%matplotlib inline"
   ]
  },
  {
   "cell_type": "markdown",
   "metadata": {
    "id": "dOgAZA8iRVCP"
   },
   "source": [
    "La función sklearn Kmeans () realiza agrupaciones de K means. Comenzamos con un ejemplo simulado simple en el que realmente hay dos agrupaciones en los datos: las primeras 25 observaciones tienen un desplazamiento medio en relación con las siguientes 25 observaciones. \n",
    "\n",
    "En este primer paso generamos 50 datos al azar"
   ]
  },
  {
   "cell_type": "code",
   "execution_count": null,
   "metadata": {
    "ExecuteTime": {
     "end_time": "2021-09-02T17:05:36.038834Z",
     "start_time": "2021-09-02T17:05:35.499762Z"
    },
    "colab": {
     "base_uri": "https://localhost:8080/",
     "height": 351
    },
    "executionInfo": {
     "elapsed": 477,
     "status": "ok",
     "timestamp": 1630598162861,
     "user": {
      "displayName": "Luis Murillo",
      "photoUrl": "https://lh3.googleusercontent.com/a-/AOh14GhTia_N4pvVFVwKfexLt4pUXPBYDFGJl8pW23R-HLY=s64",
      "userId": "07787059827525871273"
     },
     "user_tz": 300
    },
    "id": "VVA25xJrOGql",
    "outputId": "325634b4-b48d-4af1-a48f-0fb8876e5b76"
   },
   "outputs": [],
   "source": [
    "np.random.seed(123)\n",
    "X = np.random.randn(50,2)\n",
    "\n",
    "f, ax = plt.subplots(figsize=(6, 5))\n",
    "ax.scatter(X[:,0], X[:,1], s=50) \n",
    "ax.set_xlabel('X0')\n",
    "ax.set_ylabel('X1')"
   ]
  },
  {
   "cell_type": "code",
   "execution_count": null,
   "metadata": {
    "ExecuteTime": {
     "end_time": "2021-09-02T17:09:36.109816Z",
     "start_time": "2021-09-02T17:09:36.104809Z"
    }
   },
   "outputs": [],
   "source": [
    "X"
   ]
  },
  {
   "cell_type": "markdown",
   "metadata": {
    "id": "siNbBryiRqVS"
   },
   "source": [
    "Ahora agregamos un offset a 25 datos y otro offset a 25 datos para crear dos agrupamientos claramente visibles"
   ]
  },
  {
   "cell_type": "code",
   "execution_count": null,
   "metadata": {
    "ExecuteTime": {
     "end_time": "2021-09-02T17:11:08.677490Z",
     "start_time": "2021-09-02T17:11:08.551462Z"
    },
    "colab": {
     "base_uri": "https://localhost:8080/",
     "height": 351
    },
    "executionInfo": {
     "elapsed": 254,
     "status": "ok",
     "timestamp": 1630598173035,
     "user": {
      "displayName": "Luis Murillo",
      "photoUrl": "https://lh3.googleusercontent.com/a-/AOh14GhTia_N4pvVFVwKfexLt4pUXPBYDFGJl8pW23R-HLY=s64",
      "userId": "07787059827525871273"
     },
     "user_tz": 300
    },
    "id": "qF513QsZOLZf",
    "outputId": "21189c20-efeb-48dc-af0d-acad32132e11"
   },
   "outputs": [],
   "source": [
    "X[0:25, 0] = X[0:25, 0] + 3\n",
    "X[0:25, 1] = X[0:25, 1] - 4\n",
    "\n",
    "f, ax = plt.subplots(figsize=(6, 5))\n",
    "ax.scatter(X[:,0], X[:,1], s=50) \n",
    "ax.set_xlabel('X0')\n",
    "ax.set_ylabel('X1')"
   ]
  },
  {
   "cell_type": "markdown",
   "metadata": {
    "id": "HaSanW2RMqWm"
   },
   "source": [
    "Ahora realizamos agrupaciones de K-medias con K = 2:"
   ]
  },
  {
   "cell_type": "code",
   "execution_count": null,
   "metadata": {
    "ExecuteTime": {
     "end_time": "2021-09-02T17:11:36.361636Z",
     "start_time": "2021-09-02T17:11:30.329681Z"
    },
    "id": "6T0-BFHR2UDO"
   },
   "outputs": [],
   "source": [
    "from sklearn.cluster import KMeans\n",
    "kmeans = KMeans(n_clusters = 2, random_state = 123).fit(X)"
   ]
  },
  {
   "cell_type": "markdown",
   "metadata": {
    "id": "u1BLQ0jaMuKK"
   },
   "source": [
    "Las asignaciones de grupos de las 50 observaciones están contenidas en kmeans.labels_:"
   ]
  },
  {
   "cell_type": "code",
   "execution_count": null,
   "metadata": {
    "ExecuteTime": {
     "end_time": "2021-09-02T17:11:38.799346Z",
     "start_time": "2021-09-02T17:11:38.784342Z"
    },
    "colab": {
     "base_uri": "https://localhost:8080/"
    },
    "executionInfo": {
     "elapsed": 193,
     "status": "ok",
     "timestamp": 1630598199852,
     "user": {
      "displayName": "Luis Murillo",
      "photoUrl": "https://lh3.googleusercontent.com/a-/AOh14GhTia_N4pvVFVwKfexLt4pUXPBYDFGJl8pW23R-HLY=s64",
      "userId": "07787059827525871273"
     },
     "user_tz": 300
    },
    "id": "NWBhkAgi2WcZ",
    "outputId": "bc7ec30c-fdb8-4e19-ea72-64a8ae1802dc"
   },
   "outputs": [],
   "source": [
    "print(kmeans.labels_)"
   ]
  },
  {
   "cell_type": "markdown",
   "metadata": {
    "id": "cgDTTMUmM7YL"
   },
   "source": [
    "El agrupamiento de K-means separó perfectamente las observaciones en dos grupos a pesar de que no proporcionamos ninguna información de grupo a Kmeans (). Podemos graficar los datos, con cada observación coloreada de acuerdo con su asignación de grupo:"
   ]
  },
  {
   "cell_type": "code",
   "execution_count": null,
   "metadata": {
    "ExecuteTime": {
     "end_time": "2021-09-02T17:16:37.811257Z",
     "start_time": "2021-09-02T17:16:37.604160Z"
    },
    "colab": {
     "base_uri": "https://localhost:8080/",
     "height": 351
    },
    "executionInfo": {
     "elapsed": 366,
     "status": "ok",
     "timestamp": 1630598266548,
     "user": {
      "displayName": "Luis Murillo",
      "photoUrl": "https://lh3.googleusercontent.com/a-/AOh14GhTia_N4pvVFVwKfexLt4pUXPBYDFGJl8pW23R-HLY=s64",
      "userId": "07787059827525871273"
     },
     "user_tz": 300
    },
    "id": "FtMBt4z42ZYl",
    "outputId": "4fe6ea85-5c6a-40d8-c018-f84fdf2a602e"
   },
   "outputs": [],
   "source": [
    "plt.figure(figsize=(6,5))\n",
    "plt.scatter(X[:,0], X[:,1], s = 50, c = kmeans.labels_, cmap = plt.cm.bwr) \n",
    "plt.scatter(kmeans.cluster_centers_[:, 0], \n",
    "            kmeans.cluster_centers_[:, 1], \n",
    "            marker = '*', \n",
    "            s = 150,\n",
    "            color = 'cyan', \n",
    "            label = 'Centros')\n",
    "plt.legend(loc = 'best')\n",
    "plt.xlabel('X0')\n",
    "plt.ylabel('X1')"
   ]
  },
  {
   "cell_type": "markdown",
   "metadata": {
    "id": "FYdJI-sfNHbV"
   },
   "source": [
    "Aquí las observaciones se pueden graficar fácilmente porque son bidimensionales. Si hubiera más de dos variables, entonces podríamos realizar PCA y graficar los dos primeros vectores de puntuación de los componentes principales.\n",
    "\n",
    "En este ejemplo, sabíamos que realmente había dos clústeres porque generamos los datos. Sin embargo, para los datos reales, en general, no conocemos el número real de conglomerados. En su lugar, podríamos haber realizado el agrupamiento de K-means en este ejemplo con K = 3. Si hacemos esto, el agrupamiento de K-means dividirá los dos grupos \"reales\", ya que no tiene información sobre ellos:"
   ]
  },
  {
   "cell_type": "code",
   "execution_count": null,
   "metadata": {
    "ExecuteTime": {
     "end_time": "2021-09-02T17:17:06.037202Z",
     "start_time": "2021-09-02T17:17:05.884247Z"
    },
    "colab": {
     "base_uri": "https://localhost:8080/",
     "height": 351
    },
    "executionInfo": {
     "elapsed": 479,
     "status": "ok",
     "timestamp": 1630598277876,
     "user": {
      "displayName": "Luis Murillo",
      "photoUrl": "https://lh3.googleusercontent.com/a-/AOh14GhTia_N4pvVFVwKfexLt4pUXPBYDFGJl8pW23R-HLY=s64",
      "userId": "07787059827525871273"
     },
     "user_tz": 300
    },
    "id": "Fn7Wnk132b_i",
    "outputId": "1993cbe4-f0d2-46f6-8731-f63ed7ee900d"
   },
   "outputs": [],
   "source": [
    "kmeans_3_clusters = KMeans(n_clusters = 3, random_state = 123)\n",
    "kmeans_3_clusters.fit(X)\n",
    "\n",
    "plt.figure(figsize=(6,5))\n",
    "plt.scatter(X[:,0], X[:,1], s=50, c=kmeans_3_clusters.labels_, cmap=plt.cm.prism) \n",
    "plt.scatter(kmeans_3_clusters.cluster_centers_[:, 0], kmeans_3_clusters.cluster_centers_[:, 1], marker='*', s=150,\n",
    "            color='blue', label='Centros')\n",
    "plt.legend(loc='best')\n",
    "plt.xlabel('X0')\n",
    "plt.ylabel('X1')"
   ]
  },
  {
   "cell_type": "markdown",
   "metadata": {
    "id": "Fc-02_FTNVji"
   },
   "source": [
    "Aquí las observaciones se pueden graficar fácilmente porque son bidimensionales. Si hubiera más de dos variables, entonces podríamos realizar PCA y graficar los dos primeros vectores de puntuación de los componentes principales.\n",
    "\n",
    "En este ejemplo, sabíamos que realmente había dos clústeres porque generamos los datos. Sin embargo, para los datos reales, en general, no conocemos el número real de conglomerados. En su lugar, podríamos haber realizado el agrupamiento de K-means en este ejemplo con K = 4. Si hacemos esto, el agrupamiento de K-means dividirá los dos grupos \"reales\", ya que no tiene información sobre ellos:"
   ]
  },
  {
   "cell_type": "code",
   "execution_count": null,
   "metadata": {
    "ExecuteTime": {
     "end_time": "2021-09-02T17:17:40.330152Z",
     "start_time": "2021-09-02T17:17:40.160115Z"
    },
    "colab": {
     "base_uri": "https://localhost:8080/",
     "height": 351
    },
    "executionInfo": {
     "elapsed": 502,
     "status": "ok",
     "timestamp": 1630598286282,
     "user": {
      "displayName": "Luis Murillo",
      "photoUrl": "https://lh3.googleusercontent.com/a-/AOh14GhTia_N4pvVFVwKfexLt4pUXPBYDFGJl8pW23R-HLY=s64",
      "userId": "07787059827525871273"
     },
     "user_tz": 300
    },
    "id": "eJBBR-yB3Wzm",
    "outputId": "e403af37-7aca-48e1-8eed-860b6ccac950"
   },
   "outputs": [],
   "source": [
    "kmeans_4_clusters = KMeans(n_clusters = 4, random_state = 123)\n",
    "kmeans_4_clusters.fit(X)\n",
    "\n",
    "plt.figure(figsize=(6,5))\n",
    "plt.scatter(X[:,0], X[:,1], s=50, c=kmeans_4_clusters.labels_, cmap=plt.cm.bwr) \n",
    "plt.scatter(kmeans_4_clusters.cluster_centers_[:, 0], kmeans_4_clusters.cluster_centers_[:, 1], marker='*', s=150,\n",
    "            color='green', label='Centros')\n",
    "plt.legend(loc='best')\n",
    "plt.xlabel('X0')\n",
    "plt.ylabel('X1')"
   ]
  },
  {
   "cell_type": "markdown",
   "metadata": {
    "id": "Yj9Rr77qNfvV"
   },
   "source": [
    "Para ejecutar la función Kmeans () en Python con múltiples asignaciones de clúster iniciales, usamos el argumento n_init (predeterminado: 10). Si se usa un valor de n_init mayor que uno, entonces el agrupamiento de K-medias se realizará usando múltiples asignaciones aleatorias, y la función Kmeans () reportará solo los mejores resultados. Aquí comparamos usando n_init = 1:"
   ]
  },
  {
   "cell_type": "code",
   "execution_count": null,
   "metadata": {
    "ExecuteTime": {
     "end_time": "2021-09-02T17:17:55.822857Z",
     "start_time": "2021-09-02T17:17:55.805861Z"
    },
    "colab": {
     "base_uri": "https://localhost:8080/"
    },
    "executionInfo": {
     "elapsed": 485,
     "status": "ok",
     "timestamp": 1630598303679,
     "user": {
      "displayName": "Luis Murillo",
      "photoUrl": "https://lh3.googleusercontent.com/a-/AOh14GhTia_N4pvVFVwKfexLt4pUXPBYDFGJl8pW23R-HLY=s64",
      "userId": "07787059827525871273"
     },
     "user_tz": 300
    },
    "id": "IxunHBnU2ebD",
    "outputId": "b39a16ad-144f-47ee-8a8f-2a11b82c2bec"
   },
   "outputs": [],
   "source": [
    "km_out_single_run = KMeans(n_clusters = 3, n_init = 1, random_state = 123).fit(X)\n",
    "km_out_single_run.inertia_"
   ]
  },
  {
   "cell_type": "markdown",
   "metadata": {
    "id": "lPdszuc9Ntp8"
   },
   "source": [
    "para n_init = 20:"
   ]
  },
  {
   "cell_type": "code",
   "execution_count": null,
   "metadata": {
    "ExecuteTime": {
     "end_time": "2021-09-02T17:18:00.155761Z",
     "start_time": "2021-09-02T17:18:00.126747Z"
    },
    "colab": {
     "base_uri": "https://localhost:8080/"
    },
    "executionInfo": {
     "elapsed": 282,
     "status": "ok",
     "timestamp": 1630598309481,
     "user": {
      "displayName": "Luis Murillo",
      "photoUrl": "https://lh3.googleusercontent.com/a-/AOh14GhTia_N4pvVFVwKfexLt4pUXPBYDFGJl8pW23R-HLY=s64",
      "userId": "07787059827525871273"
     },
     "user_tz": 300
    },
    "id": "x9W-asM-2fTC",
    "outputId": "cad760ee-c548-41b5-f0ac-6956494c5ae9"
   },
   "outputs": [],
   "source": [
    "km_out_single_run = KMeans(n_clusters = 3, n_init = 20, random_state = 123).fit(X)\n",
    "km_out_single_run.inertia_"
   ]
  },
  {
   "cell_type": "code",
   "execution_count": null,
   "metadata": {},
   "outputs": [],
   "source": []
  }
 ],
 "metadata": {
  "colab": {
   "authorship_tag": "ABX9TyPR7hgokdYlYwaIaCkLihe2",
   "name": "M06_3 K-means Clustering_smith.ipynb",
   "provenance": []
  },
  "kernelspec": {
   "display_name": "Python 3",
   "language": "python",
   "name": "python3"
  },
  "language_info": {
   "codemirror_mode": {
    "name": "ipython",
    "version": 3
   },
   "file_extension": ".py",
   "mimetype": "text/x-python",
   "name": "python",
   "nbconvert_exporter": "python",
   "pygments_lexer": "ipython3",
   "version": "3.9.5"
  },
  "nbTranslate": {
   "displayLangs": [
    "*"
   ],
   "hotkey": "alt-t",
   "langInMainMenu": true,
   "sourceLang": "en",
   "targetLang": "fr",
   "useGoogleTranslate": true
  },
  "toc": {
   "base_numbering": 1,
   "nav_menu": {},
   "number_sections": true,
   "sideBar": true,
   "skip_h1_title": false,
   "title_cell": "Table of Contents",
   "title_sidebar": "Contents",
   "toc_cell": false,
   "toc_position": {},
   "toc_section_display": true,
   "toc_window_display": false
  },
  "varInspector": {
   "cols": {
    "lenName": 16,
    "lenType": 16,
    "lenVar": 40
   },
   "kernels_config": {
    "python": {
     "delete_cmd_postfix": "",
     "delete_cmd_prefix": "del ",
     "library": "var_list.py",
     "varRefreshCmd": "print(var_dic_list())"
    },
    "r": {
     "delete_cmd_postfix": ") ",
     "delete_cmd_prefix": "rm(",
     "library": "var_list.r",
     "varRefreshCmd": "cat(var_dic_list()) "
    }
   },
   "types_to_exclude": [
    "module",
    "function",
    "builtin_function_or_method",
    "instance",
    "_Feature"
   ],
   "window_display": false
  }
 },
 "nbformat": 4,
 "nbformat_minor": 1
}
