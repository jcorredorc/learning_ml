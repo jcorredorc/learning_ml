{
  "nbformat": 4,
  "nbformat_minor": 2,
  "metadata": {
    "kernelspec": {
      "name": "python3",
      "display_name": "Python 3.8.10 64-bit"
    },
    "colab": {
      "name": "1. Ejercicio_Sistemas_Recomendacion.ipynb",
      "provenance": []
    },
    "language_info": {
      "name": "python",
      "version": "3.8.10",
      "mimetype": "text/x-python",
      "codemirror_mode": {
        "name": "ipython",
        "version": 3
      },
      "pygments_lexer": "ipython3",
      "nbconvert_exporter": "python",
      "file_extension": ".py"
    },
    "interpreter": {
      "hash": "31f2aee4e71d21fbe5cf8b01ff0e069b9275f58929596ceb00d14d90e3e16cd6"
    }
  },
  "cells": [
    {
      "cell_type": "markdown",
      "source": [
        "# Recommendation Engine / System\n",
        "## Proyecto: Recomendador de Repositorios de Github\n",
        "### Usaremos Collaborative Filtering\n",
        "Artículo completo en www.aprendemachinelearning.com"
      ],
      "metadata": {
        "id": "iqiQz0S_rdo6"
      }
    },
    {
      "cell_type": "code",
      "execution_count": 46,
      "source": [
        "import pandas as pd\n",
        "import numpy as np\n",
        "from sklearn.metrics import mean_squared_error\n",
        "from sklearn.model_selection import train_test_split\n",
        "from sklearn.neighbors import NearestNeighbors\n",
        "import matplotlib.pyplot as plt\n",
        "import sklearn"
      ],
      "outputs": [],
      "metadata": {
        "ExecuteTime": {
          "end_time": "2019-08-24T11:17:20.006503Z",
          "start_time": "2019-08-24T11:17:09.176829Z"
        },
        "id": "qSiO3_uArdpA"
      }
    },
    {
      "cell_type": "markdown",
      "source": [
        "Tenemos un archivo con la información de los usuarios y sus identificadores, un archivo con la información de los repositorios y finalmente el archivo “ratings” que contiene la valoración por usuario de los repositorios. Como no tenemos REALMENTE una valoración del 1 al 5 -como podríamos tener por ejemplo al valorar películas-, la columna rating es el número de usuarios que tienen ese mismo repositorio dentro de nuestra base de datos."
      ],
      "metadata": {}
    },
    {
      "cell_type": "code",
      "execution_count": 47,
      "source": [
        "df_users = pd.read_csv(\"Data/UsersGH.csv\", sep=\";\")\n",
        "df_repos = pd.read_csv(\"Data/Repos.csv\",sep=\";\")\n",
        "df_ratings = pd.read_csv(\"Data/ratings.csv\", sep=\";\")\n"
      ],
      "outputs": [],
      "metadata": {}
    },
    {
      "cell_type": "code",
      "execution_count": 48,
      "source": [
        "df_users.head()"
      ],
      "outputs": [
        {
          "output_type": "execute_result",
          "data": {
            "text/html": [
              "<div>\n",
              "<style scoped>\n",
              "    .dataframe tbody tr th:only-of-type {\n",
              "        vertical-align: middle;\n",
              "    }\n",
              "\n",
              "    .dataframe tbody tr th {\n",
              "        vertical-align: top;\n",
              "    }\n",
              "\n",
              "    .dataframe thead th {\n",
              "        text-align: right;\n",
              "    }\n",
              "</style>\n",
              "<table border=\"1\" class=\"dataframe\">\n",
              "  <thead>\n",
              "    <tr style=\"text-align: right;\">\n",
              "      <th></th>\n",
              "      <th>userId</th>\n",
              "      <th>username</th>\n",
              "      <th>name</th>\n",
              "    </tr>\n",
              "  </thead>\n",
              "  <tbody>\n",
              "    <tr>\n",
              "      <th>0</th>\n",
              "      <td>1</td>\n",
              "      <td>iris9112</td>\n",
              "      <td>Isabel Ruiz Buriticá</td>\n",
              "    </tr>\n",
              "    <tr>\n",
              "      <th>1</th>\n",
              "      <td>2</td>\n",
              "      <td>dianaclarke</td>\n",
              "      <td>Diana</td>\n",
              "    </tr>\n",
              "    <tr>\n",
              "      <th>2</th>\n",
              "      <td>3</td>\n",
              "      <td>nateprewitt</td>\n",
              "      <td>Nate Prewitt</td>\n",
              "    </tr>\n",
              "    <tr>\n",
              "      <th>3</th>\n",
              "      <td>4</td>\n",
              "      <td>oldani</td>\n",
              "      <td>Ordanis Sanchez</td>\n",
              "    </tr>\n",
              "    <tr>\n",
              "      <th>4</th>\n",
              "      <td>5</td>\n",
              "      <td>waflessnet</td>\n",
              "      <td>waflessnet</td>\n",
              "    </tr>\n",
              "  </tbody>\n",
              "</table>\n",
              "</div>"
            ],
            "text/plain": [
              "   userId     username                  name\n",
              "0       1     iris9112  Isabel Ruiz Buriticá\n",
              "1       2  dianaclarke                 Diana\n",
              "2       3  nateprewitt          Nate Prewitt\n",
              "3       4       oldani       Ordanis Sanchez\n",
              "4       5   waflessnet            waflessnet"
            ]
          },
          "metadata": {},
          "execution_count": 48
        }
      ],
      "metadata": {
        "ExecuteTime": {
          "end_time": "2019-08-24T11:17:20.039228Z",
          "start_time": "2019-08-24T11:17:20.026564Z"
        },
        "id": "JTkVXUq4rdpE",
        "outputId": "ece4c5a3-2523-433f-adce-34e29a9a6640"
      }
    },
    {
      "cell_type": "code",
      "execution_count": 49,
      "source": [
        "df_repos.head()"
      ],
      "outputs": [
        {
          "output_type": "execute_result",
          "data": {
            "text/html": [
              "<div>\n",
              "<style scoped>\n",
              "    .dataframe tbody tr th:only-of-type {\n",
              "        vertical-align: middle;\n",
              "    }\n",
              "\n",
              "    .dataframe tbody tr th {\n",
              "        vertical-align: top;\n",
              "    }\n",
              "\n",
              "    .dataframe thead th {\n",
              "        text-align: right;\n",
              "    }\n",
              "</style>\n",
              "<table border=\"1\" class=\"dataframe\">\n",
              "  <thead>\n",
              "    <tr style=\"text-align: right;\">\n",
              "      <th></th>\n",
              "      <th>repoId</th>\n",
              "      <th>title</th>\n",
              "      <th>categories</th>\n",
              "      <th>stars</th>\n",
              "    </tr>\n",
              "  </thead>\n",
              "  <tbody>\n",
              "    <tr>\n",
              "      <th>0</th>\n",
              "      <td>1</td>\n",
              "      <td>airbnb / javascript</td>\n",
              "      <td>completar</td>\n",
              "      <td>NaN</td>\n",
              "    </tr>\n",
              "    <tr>\n",
              "      <th>1</th>\n",
              "      <td>2</td>\n",
              "      <td>kamranahmedse / developer-roadmap</td>\n",
              "      <td>Roadmap to becoming a web developer in 2019</td>\n",
              "      <td>85800.0</td>\n",
              "    </tr>\n",
              "    <tr>\n",
              "      <th>2</th>\n",
              "      <td>3</td>\n",
              "      <td>microsoft / vscode</td>\n",
              "      <td>Visual Studio Code</td>\n",
              "      <td>80855.0</td>\n",
              "    </tr>\n",
              "    <tr>\n",
              "      <th>3</th>\n",
              "      <td>4</td>\n",
              "      <td>torvalds / linux</td>\n",
              "      <td>Linux kernel source tree</td>\n",
              "      <td>78761.0</td>\n",
              "    </tr>\n",
              "    <tr>\n",
              "      <th>4</th>\n",
              "      <td>5</td>\n",
              "      <td>ytdl-org / youtube-dl</td>\n",
              "      <td>Command-line program to download videos from Y...</td>\n",
              "      <td>53909.0</td>\n",
              "    </tr>\n",
              "  </tbody>\n",
              "</table>\n",
              "</div>"
            ],
            "text/plain": [
              "   repoId                              title  \\\n",
              "0       1                airbnb / javascript   \n",
              "1       2  kamranahmedse / developer-roadmap   \n",
              "2       3                 microsoft / vscode   \n",
              "3       4                   torvalds / linux   \n",
              "4       5              ytdl-org / youtube-dl   \n",
              "\n",
              "                                          categories    stars  \n",
              "0                                          completar      NaN  \n",
              "1        Roadmap to becoming a web developer in 2019  85800.0  \n",
              "2                                 Visual Studio Code  80855.0  \n",
              "3                           Linux kernel source tree  78761.0  \n",
              "4  Command-line program to download videos from Y...  53909.0  "
            ]
          },
          "metadata": {},
          "execution_count": 49
        }
      ],
      "metadata": {
        "ExecuteTime": {
          "end_time": "2019-08-24T11:17:20.051589Z",
          "start_time": "2019-08-24T11:17:20.041546Z"
        },
        "id": "6SgCzP3mrdpI",
        "outputId": "db8bbb36-096b-425f-a80c-efe62bd7142d"
      }
    },
    {
      "cell_type": "code",
      "execution_count": 50,
      "source": [
        "df_ratings.head()"
      ],
      "outputs": [
        {
          "output_type": "execute_result",
          "data": {
            "text/html": [
              "<div>\n",
              "<style scoped>\n",
              "    .dataframe tbody tr th:only-of-type {\n",
              "        vertical-align: middle;\n",
              "    }\n",
              "\n",
              "    .dataframe tbody tr th {\n",
              "        vertical-align: top;\n",
              "    }\n",
              "\n",
              "    .dataframe thead th {\n",
              "        text-align: right;\n",
              "    }\n",
              "</style>\n",
              "<table border=\"1\" class=\"dataframe\">\n",
              "  <thead>\n",
              "    <tr style=\"text-align: right;\">\n",
              "      <th></th>\n",
              "      <th>userId</th>\n",
              "      <th>repoId</th>\n",
              "      <th>rating</th>\n",
              "    </tr>\n",
              "  </thead>\n",
              "  <tbody>\n",
              "    <tr>\n",
              "      <th>0</th>\n",
              "      <td>1</td>\n",
              "      <td>1</td>\n",
              "      <td>2</td>\n",
              "    </tr>\n",
              "    <tr>\n",
              "      <th>1</th>\n",
              "      <td>1</td>\n",
              "      <td>2</td>\n",
              "      <td>3</td>\n",
              "    </tr>\n",
              "    <tr>\n",
              "      <th>2</th>\n",
              "      <td>1</td>\n",
              "      <td>3</td>\n",
              "      <td>4</td>\n",
              "    </tr>\n",
              "    <tr>\n",
              "      <th>3</th>\n",
              "      <td>1</td>\n",
              "      <td>4</td>\n",
              "      <td>5</td>\n",
              "    </tr>\n",
              "    <tr>\n",
              "      <th>4</th>\n",
              "      <td>1</td>\n",
              "      <td>5</td>\n",
              "      <td>3</td>\n",
              "    </tr>\n",
              "  </tbody>\n",
              "</table>\n",
              "</div>"
            ],
            "text/plain": [
              "   userId  repoId  rating\n",
              "0       1       1       2\n",
              "1       1       2       3\n",
              "2       1       3       4\n",
              "3       1       4       5\n",
              "4       1       5       3"
            ]
          },
          "metadata": {},
          "execution_count": 50
        }
      ],
      "metadata": {
        "ExecuteTime": {
          "end_time": "2019-08-24T11:17:20.063652Z",
          "start_time": "2019-08-24T11:17:20.054058Z"
        },
        "id": "NflsrciardpJ",
        "outputId": "c02c227e-b596-4c14-97f4-3bfd49b4c03b"
      }
    },
    {
      "cell_type": "code",
      "execution_count": 51,
      "source": [
        "n_users = df_ratings.userId.unique().shape[0]\n",
        "n_items = df_ratings.repoId.unique().shape[0]\n",
        "print (str(n_users) + ' users')\n",
        "print (str(n_items) + ' items')"
      ],
      "outputs": [
        {
          "output_type": "stream",
          "name": "stdout",
          "text": [
            "30 users\n",
            "167 items\n"
          ]
        }
      ],
      "metadata": {
        "ExecuteTime": {
          "end_time": "2019-08-24T11:17:20.071557Z",
          "start_time": "2019-08-24T11:17:20.065997Z"
        },
        "id": "4_bzJi-hrdpK",
        "outputId": "a87cfd7e-7d42-4eef-bd5f-5876b6d897b6"
      }
    },
    {
      "cell_type": "code",
      "execution_count": 52,
      "source": [
        "plt.hist(df_ratings.rating,bins=8)"
      ],
      "outputs": [
        {
          "output_type": "execute_result",
          "data": {
            "text/plain": [
              "(array([94., 62., 66., 28., 40., 12., 14.,  8.]),\n",
              " array([1.   , 1.875, 2.75 , 3.625, 4.5  , 5.375, 6.25 , 7.125, 8.   ]),\n",
              " <a list of 8 Patch objects>)"
            ]
          },
          "metadata": {},
          "execution_count": 52
        },
        {
          "output_type": "display_data",
          "data": {
            "image/png": "[encoded data removed]",
            "text/plain": [
              "<Figure size 1440x360 with 1 Axes>"
            ]
          },
          "metadata": {
            "needs_background": "light"
          }
        }
      ],
      "metadata": {
        "ExecuteTime": {
          "end_time": "2019-08-24T11:17:20.297814Z",
          "start_time": "2019-08-24T11:17:20.074222Z"
        },
        "id": "GsLfArWvrdpM",
        "outputId": "bf392aa7-e0b9-4b88-976b-dcbb3f25af43"
      }
    },
    {
      "cell_type": "markdown",
      "source": [
        "Tenemos más de 80 valoraciones con una puntuación de 1 y unas 40 con puntuación en 5. Veamos las cantidades exactas,"
      ],
      "metadata": {}
    },
    {
      "cell_type": "code",
      "execution_count": 53,
      "source": [
        "df_ratings.groupby([\"rating\"])[\"userId\"].count()"
      ],
      "outputs": [
        {
          "output_type": "execute_result",
          "data": {
            "text/plain": [
              "rating\n",
              "1    94\n",
              "2    62\n",
              "3    66\n",
              "4    28\n",
              "5    40\n",
              "6    12\n",
              "7    14\n",
              "8     8\n",
              "Name: userId, dtype: int64"
            ]
          },
          "metadata": {},
          "execution_count": 53
        }
      ],
      "metadata": {
        "ExecuteTime": {
          "end_time": "2019-08-24T11:17:20.309486Z",
          "start_time": "2019-08-24T11:17:20.300762Z"
        },
        "scrolled": true,
        "id": "TSEaudubrdpP",
        "outputId": "8f005105-63e4-4934-8eb2-33f4989cac82"
      }
    },
    {
      "cell_type": "code",
      "execution_count": 54,
      "source": [
        "plt.hist(df_ratings.groupby([\"repoId\"])[\"repoId\"].count(),bins=8)"
      ],
      "outputs": [
        {
          "output_type": "execute_result",
          "data": {
            "text/plain": [
              "(array([94., 31., 22.,  7.,  8.,  2.,  2.,  1.]),\n",
              " array([1.   , 1.875, 2.75 , 3.625, 4.5  , 5.375, 6.25 , 7.125, 8.   ]),\n",
              " <a list of 8 Patch objects>)"
            ]
          },
          "metadata": {},
          "execution_count": 54
        },
        {
          "output_type": "display_data",
          "data": {
            "image/png": "[encoded data removed]",
            "text/plain": [
              "<Figure size 1440x360 with 1 Axes>"
            ]
          },
          "metadata": {
            "needs_background": "light"
          }
        }
      ],
      "metadata": {
        "ExecuteTime": {
          "end_time": "2019-08-24T11:17:20.476113Z",
          "start_time": "2019-08-24T11:17:20.312575Z"
        },
        "scrolled": true,
        "id": "fvbE7z1frdpT",
        "outputId": "77164856-b69c-4d99-a8c1-05ddebf0b57c"
      }
    },
    {
      "cell_type": "markdown",
      "source": [
        "Aquí vemos la cantidad de repositorios y cuantos usuarios “los tienen”. La mayoría de repos los tiene 1 sólo usuario, y no los demás. Hay unos 30 que los tienen 2 usuarios y unos 20 que coinciden 3 usuarios. La suma total debe dar 167.\n"
      ],
      "metadata": {}
    },
    {
      "cell_type": "markdown",
      "source": [
        "# Método 1: User-Based"
      ],
      "metadata": {
        "id": "5avyj5Z_rdpV"
      }
    },
    {
      "cell_type": "markdown",
      "source": [
        "Collaborative Filtering intentará encontrar usuarios similares, para ofrecerle ítems “bien valorados” para ese perfil en concreto (lo que antes llamé “rellenar los huecos” en la matriz). Hay diversas maneras de medir ó calcular la similitud entre usuarios y de ello dependerá que se den buenas recomendaciones. Pero tengamos en cuenta que estamos hablando de buscar similitud entre “gustos” del usuario sobre esos ítems, me refiero a que no buscaremos perfiles similares por ser del mismo sexo, edad ó nivel educativo. Sólo nos valdremos de los ítems que ha experimentado, valorado (y podría ser su secuencia temporal) para agrupar usuarios “parecidos”.\n",
        "\n",
        "Una de las maneras de medir esa similitud se llama “distancia por coseno de los vectores“ y por simplificar el concepto, digamos que crea un espacio vectorial con $n$ dimensiones correspondientes a los $n$ items y sitúa los vectores siendo su medida el “valor rating” de cada usuario -a ese item-. Luego calcula el ángulo entre los vectores partiendo de la “coordenada cero”. A “poca distancia” entre ángulos, se corresponde con usuarios con mayor similitud."
      ],
      "metadata": {
        "id": "e99C3J_tBaCl"
      }
    },
    {
      "cell_type": "code",
      "execution_count": 55,
      "source": [
        "df_matrix = pd.pivot_table(df_ratings, values='rating', index='userId', columns='repoId').fillna(0)\n",
        "df_matrix"
      ],
      "outputs": [
        {
          "output_type": "execute_result",
          "data": {
            "text/html": [
              "<div>\n",
              "<style scoped>\n",
              "    .dataframe tbody tr th:only-of-type {\n",
              "        vertical-align: middle;\n",
              "    }\n",
              "\n",
              "    .dataframe tbody tr th {\n",
              "        vertical-align: top;\n",
              "    }\n",
              "\n",
              "    .dataframe thead th {\n",
              "        text-align: right;\n",
              "    }\n",
              "</style>\n",
              "<table border=\"1\" class=\"dataframe\">\n",
              "  <thead>\n",
              "    <tr style=\"text-align: right;\">\n",
              "      <th>repoId</th>\n",
              "      <th>1</th>\n",
              "      <th>2</th>\n",
              "      <th>3</th>\n",
              "      <th>4</th>\n",
              "      <th>5</th>\n",
              "      <th>6</th>\n",
              "      <th>7</th>\n",
              "      <th>8</th>\n",
              "      <th>9</th>\n",
              "      <th>10</th>\n",
              "      <th>...</th>\n",
              "      <th>158</th>\n",
              "      <th>159</th>\n",
              "      <th>160</th>\n",
              "      <th>161</th>\n",
              "      <th>162</th>\n",
              "      <th>163</th>\n",
              "      <th>164</th>\n",
              "      <th>165</th>\n",
              "      <th>166</th>\n",
              "      <th>167</th>\n",
              "    </tr>\n",
              "    <tr>\n",
              "      <th>userId</th>\n",
              "      <th></th>\n",
              "      <th></th>\n",
              "      <th></th>\n",
              "      <th></th>\n",
              "      <th></th>\n",
              "      <th></th>\n",
              "      <th></th>\n",
              "      <th></th>\n",
              "      <th></th>\n",
              "      <th></th>\n",
              "      <th></th>\n",
              "      <th></th>\n",
              "      <th></th>\n",
              "      <th></th>\n",
              "      <th></th>\n",
              "      <th></th>\n",
              "      <th></th>\n",
              "      <th></th>\n",
              "      <th></th>\n",
              "      <th></th>\n",
              "      <th></th>\n",
              "    </tr>\n",
              "  </thead>\n",
              "  <tbody>\n",
              "    <tr>\n",
              "      <th>1</th>\n",
              "      <td>2.0</td>\n",
              "      <td>3.0</td>\n",
              "      <td>4.0</td>\n",
              "      <td>5.0</td>\n",
              "      <td>3.0</td>\n",
              "      <td>1.0</td>\n",
              "      <td>5.0</td>\n",
              "      <td>1.0</td>\n",
              "      <td>0.0</td>\n",
              "      <td>4.0</td>\n",
              "      <td>...</td>\n",
              "      <td>0.0</td>\n",
              "      <td>0.0</td>\n",
              "      <td>0.0</td>\n",
              "      <td>0.0</td>\n",
              "      <td>0.0</td>\n",
              "      <td>0.0</td>\n",
              "      <td>0.0</td>\n",
              "      <td>0.0</td>\n",
              "      <td>0.0</td>\n",
              "      <td>0.0</td>\n",
              "    </tr>\n",
              "    <tr>\n",
              "      <th>2</th>\n",
              "      <td>0.0</td>\n",
              "      <td>0.0</td>\n",
              "      <td>0.0</td>\n",
              "      <td>0.0</td>\n",
              "      <td>0.0</td>\n",
              "      <td>0.0</td>\n",
              "      <td>0.0</td>\n",
              "      <td>0.0</td>\n",
              "      <td>0.0</td>\n",
              "      <td>0.0</td>\n",
              "      <td>...</td>\n",
              "      <td>0.0</td>\n",
              "      <td>0.0</td>\n",
              "      <td>0.0</td>\n",
              "      <td>0.0</td>\n",
              "      <td>0.0</td>\n",
              "      <td>0.0</td>\n",
              "      <td>0.0</td>\n",
              "      <td>0.0</td>\n",
              "      <td>0.0</td>\n",
              "      <td>0.0</td>\n",
              "    </tr>\n",
              "    <tr>\n",
              "      <th>3</th>\n",
              "      <td>0.0</td>\n",
              "      <td>0.0</td>\n",
              "      <td>0.0</td>\n",
              "      <td>0.0</td>\n",
              "      <td>0.0</td>\n",
              "      <td>0.0</td>\n",
              "      <td>5.0</td>\n",
              "      <td>0.0</td>\n",
              "      <td>0.0</td>\n",
              "      <td>0.0</td>\n",
              "      <td>...</td>\n",
              "      <td>0.0</td>\n",
              "      <td>0.0</td>\n",
              "      <td>0.0</td>\n",
              "      <td>0.0</td>\n",
              "      <td>0.0</td>\n",
              "      <td>0.0</td>\n",
              "      <td>0.0</td>\n",
              "      <td>0.0</td>\n",
              "      <td>0.0</td>\n",
              "      <td>0.0</td>\n",
              "    </tr>\n",
              "    <tr>\n",
              "      <th>4</th>\n",
              "      <td>0.0</td>\n",
              "      <td>0.0</td>\n",
              "      <td>0.0</td>\n",
              "      <td>0.0</td>\n",
              "      <td>0.0</td>\n",
              "      <td>0.0</td>\n",
              "      <td>5.0</td>\n",
              "      <td>0.0</td>\n",
              "      <td>0.0</td>\n",
              "      <td>0.0</td>\n",
              "      <td>...</td>\n",
              "      <td>0.0</td>\n",
              "      <td>0.0</td>\n",
              "      <td>0.0</td>\n",
              "      <td>0.0</td>\n",
              "      <td>0.0</td>\n",
              "      <td>0.0</td>\n",
              "      <td>0.0</td>\n",
              "      <td>0.0</td>\n",
              "      <td>0.0</td>\n",
              "      <td>0.0</td>\n",
              "    </tr>\n",
              "    <tr>\n",
              "      <th>5</th>\n",
              "      <td>0.0</td>\n",
              "      <td>0.0</td>\n",
              "      <td>0.0</td>\n",
              "      <td>5.0</td>\n",
              "      <td>0.0</td>\n",
              "      <td>0.0</td>\n",
              "      <td>0.0</td>\n",
              "      <td>0.0</td>\n",
              "      <td>0.0</td>\n",
              "      <td>0.0</td>\n",
              "      <td>...</td>\n",
              "      <td>0.0</td>\n",
              "      <td>0.0</td>\n",
              "      <td>0.0</td>\n",
              "      <td>0.0</td>\n",
              "      <td>0.0</td>\n",
              "      <td>0.0</td>\n",
              "      <td>0.0</td>\n",
              "      <td>0.0</td>\n",
              "      <td>0.0</td>\n",
              "      <td>0.0</td>\n",
              "    </tr>\n",
              "    <tr>\n",
              "      <th>6</th>\n",
              "      <td>0.0</td>\n",
              "      <td>0.0</td>\n",
              "      <td>0.0</td>\n",
              "      <td>0.0</td>\n",
              "      <td>0.0</td>\n",
              "      <td>0.0</td>\n",
              "      <td>0.0</td>\n",
              "      <td>0.0</td>\n",
              "      <td>0.0</td>\n",
              "      <td>0.0</td>\n",
              "      <td>...</td>\n",
              "      <td>0.0</td>\n",
              "      <td>0.0</td>\n",
              "      <td>0.0</td>\n",
              "      <td>0.0</td>\n",
              "      <td>0.0</td>\n",
              "      <td>0.0</td>\n",
              "      <td>0.0</td>\n",
              "      <td>0.0</td>\n",
              "      <td>0.0</td>\n",
              "      <td>0.0</td>\n",
              "    </tr>\n",
              "    <tr>\n",
              "      <th>7</th>\n",
              "      <td>0.0</td>\n",
              "      <td>0.0</td>\n",
              "      <td>0.0</td>\n",
              "      <td>0.0</td>\n",
              "      <td>0.0</td>\n",
              "      <td>0.0</td>\n",
              "      <td>0.0</td>\n",
              "      <td>0.0</td>\n",
              "      <td>0.0</td>\n",
              "      <td>0.0</td>\n",
              "      <td>...</td>\n",
              "      <td>0.0</td>\n",
              "      <td>0.0</td>\n",
              "      <td>0.0</td>\n",
              "      <td>0.0</td>\n",
              "      <td>0.0</td>\n",
              "      <td>0.0</td>\n",
              "      <td>0.0</td>\n",
              "      <td>0.0</td>\n",
              "      <td>0.0</td>\n",
              "      <td>0.0</td>\n",
              "    </tr>\n",
              "    <tr>\n",
              "      <th>8</th>\n",
              "      <td>0.0</td>\n",
              "      <td>0.0</td>\n",
              "      <td>0.0</td>\n",
              "      <td>0.0</td>\n",
              "      <td>0.0</td>\n",
              "      <td>0.0</td>\n",
              "      <td>0.0</td>\n",
              "      <td>0.0</td>\n",
              "      <td>0.0</td>\n",
              "      <td>0.0</td>\n",
              "      <td>...</td>\n",
              "      <td>0.0</td>\n",
              "      <td>0.0</td>\n",
              "      <td>0.0</td>\n",
              "      <td>0.0</td>\n",
              "      <td>0.0</td>\n",
              "      <td>0.0</td>\n",
              "      <td>0.0</td>\n",
              "      <td>0.0</td>\n",
              "      <td>0.0</td>\n",
              "      <td>0.0</td>\n",
              "    </tr>\n",
              "    <tr>\n",
              "      <th>9</th>\n",
              "      <td>0.0</td>\n",
              "      <td>0.0</td>\n",
              "      <td>0.0</td>\n",
              "      <td>0.0</td>\n",
              "      <td>0.0</td>\n",
              "      <td>0.0</td>\n",
              "      <td>0.0</td>\n",
              "      <td>0.0</td>\n",
              "      <td>0.0</td>\n",
              "      <td>0.0</td>\n",
              "      <td>...</td>\n",
              "      <td>0.0</td>\n",
              "      <td>0.0</td>\n",
              "      <td>0.0</td>\n",
              "      <td>0.0</td>\n",
              "      <td>0.0</td>\n",
              "      <td>0.0</td>\n",
              "      <td>0.0</td>\n",
              "      <td>0.0</td>\n",
              "      <td>0.0</td>\n",
              "      <td>0.0</td>\n",
              "    </tr>\n",
              "    <tr>\n",
              "      <th>10</th>\n",
              "      <td>0.0</td>\n",
              "      <td>0.0</td>\n",
              "      <td>0.0</td>\n",
              "      <td>5.0</td>\n",
              "      <td>0.0</td>\n",
              "      <td>0.0</td>\n",
              "      <td>0.0</td>\n",
              "      <td>0.0</td>\n",
              "      <td>0.0</td>\n",
              "      <td>0.0</td>\n",
              "      <td>...</td>\n",
              "      <td>0.0</td>\n",
              "      <td>0.0</td>\n",
              "      <td>0.0</td>\n",
              "      <td>0.0</td>\n",
              "      <td>0.0</td>\n",
              "      <td>0.0</td>\n",
              "      <td>0.0</td>\n",
              "      <td>0.0</td>\n",
              "      <td>0.0</td>\n",
              "      <td>0.0</td>\n",
              "    </tr>\n",
              "    <tr>\n",
              "      <th>11</th>\n",
              "      <td>0.0</td>\n",
              "      <td>0.0</td>\n",
              "      <td>0.0</td>\n",
              "      <td>0.0</td>\n",
              "      <td>0.0</td>\n",
              "      <td>0.0</td>\n",
              "      <td>0.0</td>\n",
              "      <td>0.0</td>\n",
              "      <td>0.0</td>\n",
              "      <td>0.0</td>\n",
              "      <td>...</td>\n",
              "      <td>0.0</td>\n",
              "      <td>0.0</td>\n",
              "      <td>0.0</td>\n",
              "      <td>0.0</td>\n",
              "      <td>0.0</td>\n",
              "      <td>0.0</td>\n",
              "      <td>0.0</td>\n",
              "      <td>0.0</td>\n",
              "      <td>0.0</td>\n",
              "      <td>0.0</td>\n",
              "    </tr>\n",
              "    <tr>\n",
              "      <th>12</th>\n",
              "      <td>0.0</td>\n",
              "      <td>0.0</td>\n",
              "      <td>0.0</td>\n",
              "      <td>0.0</td>\n",
              "      <td>3.0</td>\n",
              "      <td>0.0</td>\n",
              "      <td>0.0</td>\n",
              "      <td>0.0</td>\n",
              "      <td>0.0</td>\n",
              "      <td>0.0</td>\n",
              "      <td>...</td>\n",
              "      <td>0.0</td>\n",
              "      <td>0.0</td>\n",
              "      <td>0.0</td>\n",
              "      <td>0.0</td>\n",
              "      <td>0.0</td>\n",
              "      <td>0.0</td>\n",
              "      <td>0.0</td>\n",
              "      <td>0.0</td>\n",
              "      <td>0.0</td>\n",
              "      <td>0.0</td>\n",
              "    </tr>\n",
              "    <tr>\n",
              "      <th>13</th>\n",
              "      <td>0.0</td>\n",
              "      <td>0.0</td>\n",
              "      <td>0.0</td>\n",
              "      <td>0.0</td>\n",
              "      <td>0.0</td>\n",
              "      <td>0.0</td>\n",
              "      <td>0.0</td>\n",
              "      <td>0.0</td>\n",
              "      <td>0.0</td>\n",
              "      <td>0.0</td>\n",
              "      <td>...</td>\n",
              "      <td>0.0</td>\n",
              "      <td>0.0</td>\n",
              "      <td>0.0</td>\n",
              "      <td>0.0</td>\n",
              "      <td>0.0</td>\n",
              "      <td>0.0</td>\n",
              "      <td>0.0</td>\n",
              "      <td>0.0</td>\n",
              "      <td>0.0</td>\n",
              "      <td>0.0</td>\n",
              "    </tr>\n",
              "    <tr>\n",
              "      <th>14</th>\n",
              "      <td>0.0</td>\n",
              "      <td>0.0</td>\n",
              "      <td>0.0</td>\n",
              "      <td>0.0</td>\n",
              "      <td>0.0</td>\n",
              "      <td>0.0</td>\n",
              "      <td>0.0</td>\n",
              "      <td>0.0</td>\n",
              "      <td>0.0</td>\n",
              "      <td>0.0</td>\n",
              "      <td>...</td>\n",
              "      <td>0.0</td>\n",
              "      <td>0.0</td>\n",
              "      <td>0.0</td>\n",
              "      <td>0.0</td>\n",
              "      <td>0.0</td>\n",
              "      <td>0.0</td>\n",
              "      <td>0.0</td>\n",
              "      <td>0.0</td>\n",
              "      <td>0.0</td>\n",
              "      <td>0.0</td>\n",
              "    </tr>\n",
              "    <tr>\n",
              "      <th>15</th>\n",
              "      <td>0.0</td>\n",
              "      <td>0.0</td>\n",
              "      <td>0.0</td>\n",
              "      <td>0.0</td>\n",
              "      <td>0.0</td>\n",
              "      <td>0.0</td>\n",
              "      <td>0.0</td>\n",
              "      <td>0.0</td>\n",
              "      <td>0.0</td>\n",
              "      <td>0.0</td>\n",
              "      <td>...</td>\n",
              "      <td>0.0</td>\n",
              "      <td>0.0</td>\n",
              "      <td>0.0</td>\n",
              "      <td>0.0</td>\n",
              "      <td>0.0</td>\n",
              "      <td>0.0</td>\n",
              "      <td>0.0</td>\n",
              "      <td>0.0</td>\n",
              "      <td>0.0</td>\n",
              "      <td>0.0</td>\n",
              "    </tr>\n",
              "    <tr>\n",
              "      <th>16</th>\n",
              "      <td>0.0</td>\n",
              "      <td>0.0</td>\n",
              "      <td>0.0</td>\n",
              "      <td>0.0</td>\n",
              "      <td>0.0</td>\n",
              "      <td>0.0</td>\n",
              "      <td>0.0</td>\n",
              "      <td>0.0</td>\n",
              "      <td>0.0</td>\n",
              "      <td>0.0</td>\n",
              "      <td>...</td>\n",
              "      <td>0.0</td>\n",
              "      <td>0.0</td>\n",
              "      <td>0.0</td>\n",
              "      <td>0.0</td>\n",
              "      <td>0.0</td>\n",
              "      <td>0.0</td>\n",
              "      <td>0.0</td>\n",
              "      <td>0.0</td>\n",
              "      <td>0.0</td>\n",
              "      <td>0.0</td>\n",
              "    </tr>\n",
              "    <tr>\n",
              "      <th>17</th>\n",
              "      <td>0.0</td>\n",
              "      <td>0.0</td>\n",
              "      <td>0.0</td>\n",
              "      <td>0.0</td>\n",
              "      <td>0.0</td>\n",
              "      <td>0.0</td>\n",
              "      <td>0.0</td>\n",
              "      <td>0.0</td>\n",
              "      <td>0.0</td>\n",
              "      <td>0.0</td>\n",
              "      <td>...</td>\n",
              "      <td>0.0</td>\n",
              "      <td>0.0</td>\n",
              "      <td>0.0</td>\n",
              "      <td>0.0</td>\n",
              "      <td>0.0</td>\n",
              "      <td>0.0</td>\n",
              "      <td>0.0</td>\n",
              "      <td>0.0</td>\n",
              "      <td>0.0</td>\n",
              "      <td>0.0</td>\n",
              "    </tr>\n",
              "    <tr>\n",
              "      <th>18</th>\n",
              "      <td>0.0</td>\n",
              "      <td>0.0</td>\n",
              "      <td>0.0</td>\n",
              "      <td>0.0</td>\n",
              "      <td>0.0</td>\n",
              "      <td>0.0</td>\n",
              "      <td>0.0</td>\n",
              "      <td>0.0</td>\n",
              "      <td>0.0</td>\n",
              "      <td>0.0</td>\n",
              "      <td>...</td>\n",
              "      <td>0.0</td>\n",
              "      <td>0.0</td>\n",
              "      <td>0.0</td>\n",
              "      <td>0.0</td>\n",
              "      <td>0.0</td>\n",
              "      <td>0.0</td>\n",
              "      <td>0.0</td>\n",
              "      <td>0.0</td>\n",
              "      <td>0.0</td>\n",
              "      <td>0.0</td>\n",
              "    </tr>\n",
              "    <tr>\n",
              "      <th>19</th>\n",
              "      <td>0.0</td>\n",
              "      <td>0.0</td>\n",
              "      <td>0.0</td>\n",
              "      <td>0.0</td>\n",
              "      <td>0.0</td>\n",
              "      <td>0.0</td>\n",
              "      <td>0.0</td>\n",
              "      <td>0.0</td>\n",
              "      <td>0.0</td>\n",
              "      <td>0.0</td>\n",
              "      <td>...</td>\n",
              "      <td>0.0</td>\n",
              "      <td>0.0</td>\n",
              "      <td>0.0</td>\n",
              "      <td>0.0</td>\n",
              "      <td>0.0</td>\n",
              "      <td>0.0</td>\n",
              "      <td>0.0</td>\n",
              "      <td>0.0</td>\n",
              "      <td>0.0</td>\n",
              "      <td>0.0</td>\n",
              "    </tr>\n",
              "    <tr>\n",
              "      <th>20</th>\n",
              "      <td>0.0</td>\n",
              "      <td>3.0</td>\n",
              "      <td>0.0</td>\n",
              "      <td>0.0</td>\n",
              "      <td>0.0</td>\n",
              "      <td>0.0</td>\n",
              "      <td>0.0</td>\n",
              "      <td>0.0</td>\n",
              "      <td>0.0</td>\n",
              "      <td>0.0</td>\n",
              "      <td>...</td>\n",
              "      <td>0.0</td>\n",
              "      <td>0.0</td>\n",
              "      <td>0.0</td>\n",
              "      <td>0.0</td>\n",
              "      <td>0.0</td>\n",
              "      <td>0.0</td>\n",
              "      <td>0.0</td>\n",
              "      <td>0.0</td>\n",
              "      <td>0.0</td>\n",
              "      <td>0.0</td>\n",
              "    </tr>\n",
              "    <tr>\n",
              "      <th>21</th>\n",
              "      <td>2.0</td>\n",
              "      <td>0.0</td>\n",
              "      <td>4.0</td>\n",
              "      <td>5.0</td>\n",
              "      <td>0.0</td>\n",
              "      <td>0.0</td>\n",
              "      <td>5.0</td>\n",
              "      <td>0.0</td>\n",
              "      <td>1.0</td>\n",
              "      <td>0.0</td>\n",
              "      <td>...</td>\n",
              "      <td>0.0</td>\n",
              "      <td>0.0</td>\n",
              "      <td>0.0</td>\n",
              "      <td>0.0</td>\n",
              "      <td>0.0</td>\n",
              "      <td>0.0</td>\n",
              "      <td>0.0</td>\n",
              "      <td>0.0</td>\n",
              "      <td>0.0</td>\n",
              "      <td>0.0</td>\n",
              "    </tr>\n",
              "    <tr>\n",
              "      <th>22</th>\n",
              "      <td>0.0</td>\n",
              "      <td>3.0</td>\n",
              "      <td>0.0</td>\n",
              "      <td>0.0</td>\n",
              "      <td>0.0</td>\n",
              "      <td>0.0</td>\n",
              "      <td>0.0</td>\n",
              "      <td>0.0</td>\n",
              "      <td>0.0</td>\n",
              "      <td>0.0</td>\n",
              "      <td>...</td>\n",
              "      <td>0.0</td>\n",
              "      <td>0.0</td>\n",
              "      <td>0.0</td>\n",
              "      <td>0.0</td>\n",
              "      <td>0.0</td>\n",
              "      <td>0.0</td>\n",
              "      <td>0.0</td>\n",
              "      <td>0.0</td>\n",
              "      <td>0.0</td>\n",
              "      <td>0.0</td>\n",
              "    </tr>\n",
              "    <tr>\n",
              "      <th>23</th>\n",
              "      <td>0.0</td>\n",
              "      <td>0.0</td>\n",
              "      <td>0.0</td>\n",
              "      <td>0.0</td>\n",
              "      <td>0.0</td>\n",
              "      <td>0.0</td>\n",
              "      <td>0.0</td>\n",
              "      <td>0.0</td>\n",
              "      <td>0.0</td>\n",
              "      <td>0.0</td>\n",
              "      <td>...</td>\n",
              "      <td>1.0</td>\n",
              "      <td>0.0</td>\n",
              "      <td>0.0</td>\n",
              "      <td>0.0</td>\n",
              "      <td>0.0</td>\n",
              "      <td>0.0</td>\n",
              "      <td>0.0</td>\n",
              "      <td>0.0</td>\n",
              "      <td>0.0</td>\n",
              "      <td>0.0</td>\n",
              "    </tr>\n",
              "    <tr>\n",
              "      <th>24</th>\n",
              "      <td>0.0</td>\n",
              "      <td>0.0</td>\n",
              "      <td>0.0</td>\n",
              "      <td>0.0</td>\n",
              "      <td>0.0</td>\n",
              "      <td>0.0</td>\n",
              "      <td>0.0</td>\n",
              "      <td>0.0</td>\n",
              "      <td>0.0</td>\n",
              "      <td>4.0</td>\n",
              "      <td>...</td>\n",
              "      <td>0.0</td>\n",
              "      <td>1.0</td>\n",
              "      <td>3.0</td>\n",
              "      <td>1.0</td>\n",
              "      <td>0.0</td>\n",
              "      <td>0.0</td>\n",
              "      <td>0.0</td>\n",
              "      <td>0.0</td>\n",
              "      <td>0.0</td>\n",
              "      <td>0.0</td>\n",
              "    </tr>\n",
              "    <tr>\n",
              "      <th>25</th>\n",
              "      <td>0.0</td>\n",
              "      <td>0.0</td>\n",
              "      <td>0.0</td>\n",
              "      <td>0.0</td>\n",
              "      <td>3.0</td>\n",
              "      <td>0.0</td>\n",
              "      <td>0.0</td>\n",
              "      <td>0.0</td>\n",
              "      <td>0.0</td>\n",
              "      <td>0.0</td>\n",
              "      <td>...</td>\n",
              "      <td>0.0</td>\n",
              "      <td>0.0</td>\n",
              "      <td>3.0</td>\n",
              "      <td>0.0</td>\n",
              "      <td>0.0</td>\n",
              "      <td>0.0</td>\n",
              "      <td>0.0</td>\n",
              "      <td>0.0</td>\n",
              "      <td>0.0</td>\n",
              "      <td>0.0</td>\n",
              "    </tr>\n",
              "    <tr>\n",
              "      <th>26</th>\n",
              "      <td>0.0</td>\n",
              "      <td>0.0</td>\n",
              "      <td>0.0</td>\n",
              "      <td>0.0</td>\n",
              "      <td>0.0</td>\n",
              "      <td>0.0</td>\n",
              "      <td>0.0</td>\n",
              "      <td>0.0</td>\n",
              "      <td>0.0</td>\n",
              "      <td>0.0</td>\n",
              "      <td>...</td>\n",
              "      <td>0.0</td>\n",
              "      <td>0.0</td>\n",
              "      <td>0.0</td>\n",
              "      <td>0.0</td>\n",
              "      <td>2.0</td>\n",
              "      <td>1.0</td>\n",
              "      <td>0.0</td>\n",
              "      <td>0.0</td>\n",
              "      <td>0.0</td>\n",
              "      <td>0.0</td>\n",
              "    </tr>\n",
              "    <tr>\n",
              "      <th>27</th>\n",
              "      <td>0.0</td>\n",
              "      <td>0.0</td>\n",
              "      <td>4.0</td>\n",
              "      <td>0.0</td>\n",
              "      <td>0.0</td>\n",
              "      <td>0.0</td>\n",
              "      <td>0.0</td>\n",
              "      <td>0.0</td>\n",
              "      <td>0.0</td>\n",
              "      <td>0.0</td>\n",
              "      <td>...</td>\n",
              "      <td>0.0</td>\n",
              "      <td>0.0</td>\n",
              "      <td>0.0</td>\n",
              "      <td>0.0</td>\n",
              "      <td>0.0</td>\n",
              "      <td>0.0</td>\n",
              "      <td>0.0</td>\n",
              "      <td>0.0</td>\n",
              "      <td>0.0</td>\n",
              "      <td>0.0</td>\n",
              "    </tr>\n",
              "    <tr>\n",
              "      <th>28</th>\n",
              "      <td>0.0</td>\n",
              "      <td>0.0</td>\n",
              "      <td>0.0</td>\n",
              "      <td>0.0</td>\n",
              "      <td>0.0</td>\n",
              "      <td>0.0</td>\n",
              "      <td>0.0</td>\n",
              "      <td>0.0</td>\n",
              "      <td>0.0</td>\n",
              "      <td>0.0</td>\n",
              "      <td>...</td>\n",
              "      <td>0.0</td>\n",
              "      <td>0.0</td>\n",
              "      <td>3.0</td>\n",
              "      <td>0.0</td>\n",
              "      <td>0.0</td>\n",
              "      <td>0.0</td>\n",
              "      <td>1.0</td>\n",
              "      <td>0.0</td>\n",
              "      <td>0.0</td>\n",
              "      <td>0.0</td>\n",
              "    </tr>\n",
              "    <tr>\n",
              "      <th>29</th>\n",
              "      <td>0.0</td>\n",
              "      <td>0.0</td>\n",
              "      <td>0.0</td>\n",
              "      <td>0.0</td>\n",
              "      <td>0.0</td>\n",
              "      <td>0.0</td>\n",
              "      <td>0.0</td>\n",
              "      <td>0.0</td>\n",
              "      <td>0.0</td>\n",
              "      <td>4.0</td>\n",
              "      <td>...</td>\n",
              "      <td>0.0</td>\n",
              "      <td>0.0</td>\n",
              "      <td>0.0</td>\n",
              "      <td>0.0</td>\n",
              "      <td>0.0</td>\n",
              "      <td>0.0</td>\n",
              "      <td>0.0</td>\n",
              "      <td>1.0</td>\n",
              "      <td>1.0</td>\n",
              "      <td>0.0</td>\n",
              "    </tr>\n",
              "    <tr>\n",
              "      <th>30</th>\n",
              "      <td>0.0</td>\n",
              "      <td>0.0</td>\n",
              "      <td>4.0</td>\n",
              "      <td>5.0</td>\n",
              "      <td>0.0</td>\n",
              "      <td>0.0</td>\n",
              "      <td>5.0</td>\n",
              "      <td>0.0</td>\n",
              "      <td>0.0</td>\n",
              "      <td>4.0</td>\n",
              "      <td>...</td>\n",
              "      <td>0.0</td>\n",
              "      <td>0.0</td>\n",
              "      <td>0.0</td>\n",
              "      <td>0.0</td>\n",
              "      <td>2.0</td>\n",
              "      <td>0.0</td>\n",
              "      <td>0.0</td>\n",
              "      <td>0.0</td>\n",
              "      <td>0.0</td>\n",
              "      <td>1.0</td>\n",
              "    </tr>\n",
              "  </tbody>\n",
              "</table>\n",
              "<p>30 rows × 167 columns</p>\n",
              "</div>"
            ],
            "text/plain": [
              "repoId  1    2    3    4    5    6    7    8    9    10   ...  158  159  160  \\\n",
              "userId                                                    ...                  \n",
              "1       2.0  3.0  4.0  5.0  3.0  1.0  5.0  1.0  0.0  4.0  ...  0.0  0.0  0.0   \n",
              "2       0.0  0.0  0.0  0.0  0.0  0.0  0.0  0.0  0.0  0.0  ...  0.0  0.0  0.0   \n",
              "3       0.0  0.0  0.0  0.0  0.0  0.0  5.0  0.0  0.0  0.0  ...  0.0  0.0  0.0   \n",
              "4       0.0  0.0  0.0  0.0  0.0  0.0  5.0  0.0  0.0  0.0  ...  0.0  0.0  0.0   \n",
              "5       0.0  0.0  0.0  5.0  0.0  0.0  0.0  0.0  0.0  0.0  ...  0.0  0.0  0.0   \n",
              "6       0.0  0.0  0.0  0.0  0.0  0.0  0.0  0.0  0.0  0.0  ...  0.0  0.0  0.0   \n",
              "7       0.0  0.0  0.0  0.0  0.0  0.0  0.0  0.0  0.0  0.0  ...  0.0  0.0  0.0   \n",
              "8       0.0  0.0  0.0  0.0  0.0  0.0  0.0  0.0  0.0  0.0  ...  0.0  0.0  0.0   \n",
              "9       0.0  0.0  0.0  0.0  0.0  0.0  0.0  0.0  0.0  0.0  ...  0.0  0.0  0.0   \n",
              "10      0.0  0.0  0.0  5.0  0.0  0.0  0.0  0.0  0.0  0.0  ...  0.0  0.0  0.0   \n",
              "11      0.0  0.0  0.0  0.0  0.0  0.0  0.0  0.0  0.0  0.0  ...  0.0  0.0  0.0   \n",
              "12      0.0  0.0  0.0  0.0  3.0  0.0  0.0  0.0  0.0  0.0  ...  0.0  0.0  0.0   \n",
              "13      0.0  0.0  0.0  0.0  0.0  0.0  0.0  0.0  0.0  0.0  ...  0.0  0.0  0.0   \n",
              "14      0.0  0.0  0.0  0.0  0.0  0.0  0.0  0.0  0.0  0.0  ...  0.0  0.0  0.0   \n",
              "15      0.0  0.0  0.0  0.0  0.0  0.0  0.0  0.0  0.0  0.0  ...  0.0  0.0  0.0   \n",
              "16      0.0  0.0  0.0  0.0  0.0  0.0  0.0  0.0  0.0  0.0  ...  0.0  0.0  0.0   \n",
              "17      0.0  0.0  0.0  0.0  0.0  0.0  0.0  0.0  0.0  0.0  ...  0.0  0.0  0.0   \n",
              "18      0.0  0.0  0.0  0.0  0.0  0.0  0.0  0.0  0.0  0.0  ...  0.0  0.0  0.0   \n",
              "19      0.0  0.0  0.0  0.0  0.0  0.0  0.0  0.0  0.0  0.0  ...  0.0  0.0  0.0   \n",
              "20      0.0  3.0  0.0  0.0  0.0  0.0  0.0  0.0  0.0  0.0  ...  0.0  0.0  0.0   \n",
              "21      2.0  0.0  4.0  5.0  0.0  0.0  5.0  0.0  1.0  0.0  ...  0.0  0.0  0.0   \n",
              "22      0.0  3.0  0.0  0.0  0.0  0.0  0.0  0.0  0.0  0.0  ...  0.0  0.0  0.0   \n",
              "23      0.0  0.0  0.0  0.0  0.0  0.0  0.0  0.0  0.0  0.0  ...  1.0  0.0  0.0   \n",
              "24      0.0  0.0  0.0  0.0  0.0  0.0  0.0  0.0  0.0  4.0  ...  0.0  1.0  3.0   \n",
              "25      0.0  0.0  0.0  0.0  3.0  0.0  0.0  0.0  0.0  0.0  ...  0.0  0.0  3.0   \n",
              "26      0.0  0.0  0.0  0.0  0.0  0.0  0.0  0.0  0.0  0.0  ...  0.0  0.0  0.0   \n",
              "27      0.0  0.0  4.0  0.0  0.0  0.0  0.0  0.0  0.0  0.0  ...  0.0  0.0  0.0   \n",
              "28      0.0  0.0  0.0  0.0  0.0  0.0  0.0  0.0  0.0  0.0  ...  0.0  0.0  3.0   \n",
              "29      0.0  0.0  0.0  0.0  0.0  0.0  0.0  0.0  0.0  4.0  ...  0.0  0.0  0.0   \n",
              "30      0.0  0.0  4.0  5.0  0.0  0.0  5.0  0.0  0.0  4.0  ...  0.0  0.0  0.0   \n",
              "\n",
              "repoId  161  162  163  164  165  166  167  \n",
              "userId                                     \n",
              "1       0.0  0.0  0.0  0.0  0.0  0.0  0.0  \n",
              "2       0.0  0.0  0.0  0.0  0.0  0.0  0.0  \n",
              "3       0.0  0.0  0.0  0.0  0.0  0.0  0.0  \n",
              "4       0.0  0.0  0.0  0.0  0.0  0.0  0.0  \n",
              "5       0.0  0.0  0.0  0.0  0.0  0.0  0.0  \n",
              "6       0.0  0.0  0.0  0.0  0.0  0.0  0.0  \n",
              "7       0.0  0.0  0.0  0.0  0.0  0.0  0.0  \n",
              "8       0.0  0.0  0.0  0.0  0.0  0.0  0.0  \n",
              "9       0.0  0.0  0.0  0.0  0.0  0.0  0.0  \n",
              "10      0.0  0.0  0.0  0.0  0.0  0.0  0.0  \n",
              "11      0.0  0.0  0.0  0.0  0.0  0.0  0.0  \n",
              "12      0.0  0.0  0.0  0.0  0.0  0.0  0.0  \n",
              "13      0.0  0.0  0.0  0.0  0.0  0.0  0.0  \n",
              "14      0.0  0.0  0.0  0.0  0.0  0.0  0.0  \n",
              "15      0.0  0.0  0.0  0.0  0.0  0.0  0.0  \n",
              "16      0.0  0.0  0.0  0.0  0.0  0.0  0.0  \n",
              "17      0.0  0.0  0.0  0.0  0.0  0.0  0.0  \n",
              "18      0.0  0.0  0.0  0.0  0.0  0.0  0.0  \n",
              "19      0.0  0.0  0.0  0.0  0.0  0.0  0.0  \n",
              "20      0.0  0.0  0.0  0.0  0.0  0.0  0.0  \n",
              "21      0.0  0.0  0.0  0.0  0.0  0.0  0.0  \n",
              "22      0.0  0.0  0.0  0.0  0.0  0.0  0.0  \n",
              "23      0.0  0.0  0.0  0.0  0.0  0.0  0.0  \n",
              "24      1.0  0.0  0.0  0.0  0.0  0.0  0.0  \n",
              "25      0.0  0.0  0.0  0.0  0.0  0.0  0.0  \n",
              "26      0.0  2.0  1.0  0.0  0.0  0.0  0.0  \n",
              "27      0.0  0.0  0.0  0.0  0.0  0.0  0.0  \n",
              "28      0.0  0.0  0.0  1.0  0.0  0.0  0.0  \n",
              "29      0.0  0.0  0.0  0.0  1.0  1.0  0.0  \n",
              "30      0.0  2.0  0.0  0.0  0.0  0.0  1.0  \n",
              "\n",
              "[30 rows x 167 columns]"
            ]
          },
          "metadata": {},
          "execution_count": 55
        }
      ],
      "metadata": {
        "ExecuteTime": {
          "end_time": "2019-08-24T11:17:20.546851Z",
          "start_time": "2019-08-24T11:17:20.479056Z"
        },
        "id": "cVLsfskCrdpV",
        "outputId": "dfd4e8a6-103c-4856-ce6d-81bf15e0a81a"
      }
    },
    {
      "cell_type": "markdown",
      "source": [
        "Una vez que tenemos la matriz de similitud, nos valdremos de otra operación matemática para calcular las recomendaciones.\n",
        "\n",
        "\n",
        "[](https://www.aprendemachinelearning.com/wp-content/uploads/2019/08/rating_ponderado.png\n",
        ")\n",
        "\n",
        "$$R_u = \\frac{\\displaystyle\\sum_{u=1}^{n} R_u \\cdot Su}{\\displaystyle\\sum_{u=1}^n S_u}$$\n",
        "\n",
        "FORMULA para calcular los ratings faltantes: sería algo así como “Matriz de similitud PROD.VECTORIAL ratings / (sumatoria de cada fila de ratings) Transpuesta\n",
        "Lo haremos es: cada rating se multiplica por el factor de similitud de usuario que dio el rating. La predicción final por usuario será igual a la suma del peso de los ratings dividido por la “suma ponderada”."
      ],
      "metadata": {
        "id": "_g6bTMHaCbCR"
      }
    },
    {
      "cell_type": "code",
      "execution_count": 56,
      "source": [
        "ratings = df_matrix.values\n",
        "sparsity = float(len(ratings.nonzero()[0]))\n",
        "sparsity /= (ratings.shape[0] * ratings.shape[1])\n",
        "sparsity *= 100\n",
        "print('Sparsity: {:4.2f}%'.format(sparsity))"
      ],
      "outputs": [
        {
          "output_type": "stream",
          "name": "stdout",
          "text": [
            "Sparsity: 6.43%\n"
          ]
        }
      ],
      "metadata": {
        "ExecuteTime": {
          "end_time": "2019-08-24T11:17:20.556202Z",
          "start_time": "2019-08-24T11:17:20.549811Z"
        },
        "id": "BsP4e9CVrdpW",
        "outputId": "d62b2205-c80a-449b-a311-7b25e45195d4"
      }
    },
    {
      "cell_type": "code",
      "execution_count": 57,
      "source": [
        "ratings_train, ratings_test = train_test_split(ratings, test_size = 0.2, shuffle=False, random_state=42)"
      ],
      "outputs": [],
      "metadata": {
        "ExecuteTime": {
          "end_time": "2019-08-24T11:17:20.563450Z",
          "start_time": "2019-08-24T11:17:20.559194Z"
        },
        "id": "vkw0ypoGrdpY",
        "colab": {
          "base_uri": "https://localhost:8080/",
          "height": 162
        },
        "outputId": "34b591d0-28ab-4285-c417-e3f9064f73fe"
      }
    },
    {
      "cell_type": "code",
      "execution_count": 58,
      "source": [
        "ratings_train.shape"
      ],
      "outputs": [
        {
          "output_type": "execute_result",
          "data": {
            "text/plain": [
              "(24, 167)"
            ]
          },
          "metadata": {},
          "execution_count": 58
        }
      ],
      "metadata": {
        "ExecuteTime": {
          "end_time": "2019-08-24T11:17:20.572537Z",
          "start_time": "2019-08-24T11:17:20.566581Z"
        },
        "id": "DG2R55KrrdpZ",
        "outputId": "39a5b953-5d45-4ba6-c4a6-2492c8b441d0"
      }
    },
    {
      "cell_type": "code",
      "execution_count": 59,
      "source": [
        "ratings_test.shape"
      ],
      "outputs": [
        {
          "output_type": "execute_result",
          "data": {
            "text/plain": [
              "(6, 167)"
            ]
          },
          "metadata": {},
          "execution_count": 59
        }
      ],
      "metadata": {
        "ExecuteTime": {
          "end_time": "2019-08-24T11:17:20.581343Z",
          "start_time": "2019-08-24T11:17:20.575533Z"
        },
        "id": "mWa2gZ_crdpa",
        "outputId": "77ec0a2d-f338-4333-8eb2-976658d958b3"
      }
    },
    {
      "cell_type": "markdown",
      "source": [
        "<ul>\n",
        "<li>Matriz de similitud entre los usuarios (distancia del coseno -vectores-).</li>\n",
        "<li>Predecir la valoración desconocida de un ítem i para un usuario activo u basandonos en la suma ponderada de todas las valoraciones del resto de usuarios para dicho ítem.</li>\n",
        "<li>Recomendaremos los nuevos ítems a los usuarios según lo establecido en los pasos anteriores.</li>\n",
        "</ul>"
      ],
      "metadata": {
        "id": "m6zKcUuMrdpa"
      }
    },
    {
      "cell_type": "code",
      "execution_count": 60,
      "source": [
        "sim_matrix = 1 - sklearn.metrics.pairwise.cosine_distances(ratings)"
      ],
      "outputs": [],
      "metadata": {
        "ExecuteTime": {
          "end_time": "2019-08-24T11:17:20.590966Z",
          "start_time": "2019-08-24T11:17:20.584226Z"
        },
        "id": "OlC3IDu0rdpb"
      }
    },
    {
      "cell_type": "code",
      "execution_count": 61,
      "source": [
        "sim_matrix.shape"
      ],
      "outputs": [
        {
          "output_type": "execute_result",
          "data": {
            "text/plain": [
              "(30, 30)"
            ]
          },
          "metadata": {},
          "execution_count": 61
        }
      ],
      "metadata": {
        "ExecuteTime": {
          "end_time": "2019-08-24T11:17:20.606259Z",
          "start_time": "2019-08-24T11:17:20.594409Z"
        },
        "id": "5Asc7CFDrdpc",
        "outputId": "3655a1d1-75c8-4111-98c1-04931d26601b"
      }
    },
    {
      "cell_type": "code",
      "execution_count": 62,
      "source": [
        "# sim_matrix"
      ],
      "outputs": [],
      "metadata": {
        "ExecuteTime": {
          "end_time": "2019-08-24T11:17:20.619099Z",
          "start_time": "2019-08-24T11:17:20.610504Z"
        },
        "id": "JM7Z2GTZrdpc"
      }
    },
    {
      "cell_type": "code",
      "execution_count": 63,
      "source": [
        "plt.rcParams['figure.figsize'] = (20.0, 5.0)\n",
        "plt.imshow(sim_matrix);\n",
        "plt.colorbar()\n",
        "plt.show()"
      ],
      "outputs": [
        {
          "output_type": "display_data",
          "data": {
            "image/png": "[encoded data removed]",
            "text/plain": [
              "<Figure size 1440x360 with 2 Axes>"
            ]
          },
          "metadata": {
            "needs_background": "light"
          }
        }
      ],
      "metadata": {
        "ExecuteTime": {
          "end_time": "2019-08-24T11:17:20.961669Z",
          "start_time": "2019-08-24T11:17:20.626832Z"
        },
        "id": "Qq-LGwSUrdpd",
        "outputId": "9420c230-9057-4035-fdad-bd224820857c"
      }
    },
    {
      "cell_type": "markdown",
      "source": [
        "Cuanto más cercano a 1, mayor similitud entre esos usuarios."
      ],
      "metadata": {}
    },
    {
      "cell_type": "code",
      "execution_count": 64,
      "source": [
        "#separar las filas y columnas de train y test\n",
        "sim_matrix_train = sim_matrix[0:24,0:24]\n",
        "sim_matrix_test = sim_matrix[24:30,24:30]\n",
        "print(sim_matrix_train.shape)\n",
        "print(sim_matrix_test.shape)"
      ],
      "outputs": [
        {
          "output_type": "stream",
          "name": "stdout",
          "text": [
            "(24, 24)\n",
            "(6, 6)\n"
          ]
        }
      ],
      "metadata": {
        "ExecuteTime": {
          "end_time": "2019-08-24T11:17:20.973503Z",
          "start_time": "2019-08-24T11:17:20.967091Z"
        },
        "id": "q1AiZzuRrdpe",
        "outputId": "2f40eea4-d96f-4946-f678-ab598fd09b26"
      }
    },
    {
      "cell_type": "markdown",
      "source": [
        "## Predicciones (las recomendaciones!)"
      ],
      "metadata": {
        "id": "yt6n7GTSrdpf"
      }
    },
    {
      "cell_type": "code",
      "execution_count": 65,
      "source": [
        "users_predictions = sim_matrix_train.dot(ratings_train) / np.array([np.abs(sim_matrix_train).sum(axis=1)]).T"
      ],
      "outputs": [],
      "metadata": {
        "ExecuteTime": {
          "end_time": "2019-08-24T11:17:20.984488Z",
          "start_time": "2019-08-24T11:17:20.976334Z"
        },
        "id": "Hq_FqfyOrdpf"
      }
    },
    {
      "cell_type": "code",
      "execution_count": 69,
      "source": [
        "users_predictions.shape[0]"
      ],
      "outputs": [
        {
          "output_type": "execute_result",
          "data": {
            "text/plain": [
              "24"
            ]
          },
          "metadata": {},
          "execution_count": 69
        }
      ],
      "metadata": {
        "ExecuteTime": {
          "end_time": "2019-08-24T11:17:20.995708Z",
          "start_time": "2019-08-24T11:17:20.988423Z"
        },
        "id": "1foTbX08rdpg",
        "outputId": "7e7c6cd6-65bc-41f6-f8a7-db1372805938"
      }
    },
    {
      "cell_type": "code",
      "execution_count": null,
      "source": [
        "plt.rcParams['figure.figsize'] = (20.0, 5.0)\n",
        "plt.imshow(users_predictions);\n",
        "plt.colorbar()\n",
        "plt.show()"
      ],
      "outputs": [
        {
          "output_type": "display_data",
          "data": {
            "image/png": "[encoded data removed]",
            "text/plain": [
              "<Figure size 1440x360 with 2 Axes>"
            ]
          },
          "metadata": {}
        }
      ],
      "metadata": {
        "ExecuteTime": {
          "end_time": "2019-08-24T11:17:21.552006Z",
          "start_time": "2019-08-24T11:17:21.001562Z"
        },
        "id": "w8sSHPnNrdph",
        "outputId": "3daf9730-ade6-492f-f0e4-220a9fe6b015"
      }
    },
    {
      "cell_type": "markdown",
      "source": [
        "Vemos pocas recomendaciones que logren puntuar alto. La mayoría estará entre 1 y 2 puntos. Esto tiene que ver con nuestro dataset pequeño."
      ],
      "metadata": {}
    },
    {
      "cell_type": "markdown",
      "source": [
        "### Veamos un ejemplo"
      ],
      "metadata": {
        "id": "g2WuCQrprdph"
      }
    },
    {
      "cell_type": "code",
      "execution_count": null,
      "source": [
        "USUARIO_EJEMPLO = 'jbagnato' # debe existir en nuestro dataset de train!\n",
        "data = df_users[df_users['username'] == USUARIO_EJEMPLO]\n",
        "usuario_ver = data.iloc[0]['userId'] -1 # resta 1 para obtener el index de pandas\n",
        "user0=users_predictions.argsort()[usuario_ver]\n",
        "\n",
        "# Veamos los tres recomendados con mayor puntaje en la predic para este usuario\n",
        "for i, aRepo in enumerate(user0[-3:]):\n",
        "    selRepo = df_repos[df_repos['repoId']==(aRepo+1)]\n",
        "    print(selRepo['title'] , 'puntaje:', users_predictions[usuario_ver][aRepo])"
      ],
      "outputs": [
        {
          "output_type": "stream",
          "name": "stdout",
          "text": [
            "4    ytdl-org / youtube-dl\n",
            "Name: title, dtype: object puntaje: 2.061791042203265\n",
            "84    dipanjanS / practical-machine-learning-with-py...\n",
            "Name: title, dtype: object puntaje: 2.4496166855518746\n",
            "99    abhat222 / Data-Science--Cheat-Sheet\n",
            "Name: title, dtype: object puntaje: 3.362878201910944\n"
          ]
        }
      ],
      "metadata": {
        "ExecuteTime": {
          "end_time": "2019-08-24T11:17:21.573447Z",
          "start_time": "2019-08-24T11:17:21.555761Z"
        },
        "id": "i_cgix7vrdpi",
        "outputId": "5dc07f5c-0f37-40bd-d732-a57f2baf8cdb"
      }
    },
    {
      "cell_type": "markdown",
      "source": [
        "Vemos que los tres repositorios con mayor puntaje para sugerir a mi usuario son el de Data-Science–Cheat-Sheet con una puntuación de 3.36, practical-machine-learning-with-py con 2.44 y youtube-dl con 2.06. Lo cierto es que no son puntuaciones muy altas, pero tiene que ver con que la base de datos (nuestro csv) tiene muy pocos repositorios y usuarios cargados."
      ],
      "metadata": {}
    },
    {
      "cell_type": "markdown",
      "source": [
        "## Medir el Error"
      ],
      "metadata": {
        "id": "asAnKDIhrdpj"
      }
    },
    {
      "cell_type": "code",
      "execution_count": 70,
      "source": [
        "def get_mse(preds, actuals):\n",
        "    if preds.shape[1] != actuals.shape[1]:\n",
        "        actuals = actuals.T\n",
        "    preds = preds[actuals.nonzero()].flatten()\n",
        "    actuals = actuals[actuals.nonzero()].flatten()\n",
        "    return mean_squared_error(preds, actuals)\n"
      ],
      "outputs": [],
      "metadata": {
        "ExecuteTime": {
          "end_time": "2019-08-24T11:17:21.586593Z",
          "start_time": "2019-08-24T11:17:21.576948Z"
        },
        "id": "n8fqPbuzrdpk"
      }
    },
    {
      "cell_type": "code",
      "execution_count": 71,
      "source": [
        "get_mse(users_predictions, ratings_train)"
      ],
      "outputs": [
        {
          "output_type": "execute_result",
          "data": {
            "text/plain": [
              "3.3906497514974663"
            ]
          },
          "metadata": {},
          "execution_count": 71
        }
      ],
      "metadata": {
        "ExecuteTime": {
          "end_time": "2019-08-24T11:17:21.598997Z",
          "start_time": "2019-08-24T11:17:21.590908Z"
        },
        "id": "_wA9Yi0krdpk",
        "colab": {
          "base_uri": "https://localhost:8080/",
          "height": 162
        },
        "outputId": "f27b65b5-2d74-4305-e4a3-4ec19b8b5b72"
      }
    },
    {
      "cell_type": "code",
      "execution_count": 72,
      "source": [
        "# Realizo las predicciones para el test set\n",
        "users_predictions_test = sim_matrix.dot(ratings) / np.array([np.abs(sim_matrix).sum(axis=1)]).T\n",
        "users_predictions_test = users_predictions_test[24:30,:]\n",
        "\n",
        "get_mse(users_predictions_test, ratings_test)"
      ],
      "outputs": [
        {
          "output_type": "execute_result",
          "data": {
            "text/plain": [
              "4.722040854666231"
            ]
          },
          "metadata": {},
          "execution_count": 72
        }
      ],
      "metadata": {
        "ExecuteTime": {
          "end_time": "2019-08-24T11:17:21.617859Z",
          "start_time": "2019-08-24T11:17:21.602589Z"
        },
        "id": "RsHpBGuqrdpl"
      }
    },
    {
      "cell_type": "markdown",
      "source": [
        "Vemos que para el conjunto de train y test el MAE es bastante cercano. Un indicador de que no tiene buenas predicciones sería si el MAE en test fuera 2 veces más (ó la mitad) del valor del de train."
      ],
      "metadata": {}
    },
    {
      "cell_type": "markdown",
      "source": [
        "# Método 2: Usando Nearest Neighbors"
      ],
      "metadata": {
        "id": "4DBZgmykrdpm"
      }
    },
    {
      "cell_type": "code",
      "execution_count": 4,
      "source": [
        "k = 8\n",
        "neighbors = NearestNeighbors(k, 'cosine')\n",
        "neighbors.fit(ratings_train)"
      ],
      "outputs": [
        {
          "output_type": "error",
          "ename": "NameError",
          "evalue": "ignored",
          "traceback": [
            "\u001b[0;31m---------------------------------------------------------------------------\u001b[0m",
            "\u001b[0;31mNameError\u001b[0m                                 Traceback (most recent call last)",
            "\u001b[0;32m<ipython-input-4-3f258ff2c48b>\u001b[0m in \u001b[0;36m<module>\u001b[0;34m()\u001b[0m\n\u001b[1;32m      1\u001b[0m \u001b[0mk\u001b[0m \u001b[0;34m=\u001b[0m \u001b[0;36m8\u001b[0m\u001b[0;34m\u001b[0m\u001b[0;34m\u001b[0m\u001b[0m\n\u001b[0;32m----> 2\u001b[0;31m \u001b[0mneighbors\u001b[0m \u001b[0;34m=\u001b[0m \u001b[0mNearestNeighbors\u001b[0m\u001b[0;34m(\u001b[0m\u001b[0mk\u001b[0m\u001b[0;34m,\u001b[0m \u001b[0;34m'cosine'\u001b[0m\u001b[0;34m)\u001b[0m\u001b[0;34m\u001b[0m\u001b[0;34m\u001b[0m\u001b[0m\n\u001b[0m\u001b[1;32m      3\u001b[0m \u001b[0mneighbors\u001b[0m\u001b[0;34m.\u001b[0m\u001b[0mfit\u001b[0m\u001b[0;34m(\u001b[0m\u001b[0mratings_train\u001b[0m\u001b[0;34m)\u001b[0m\u001b[0;34m\u001b[0m\u001b[0;34m\u001b[0m\u001b[0m\n",
            "\u001b[0;31mNameError\u001b[0m: name 'NearestNeighbors' is not defined"
          ]
        }
      ],
      "metadata": {
        "ExecuteTime": {
          "end_time": "2019-08-24T11:17:21.636356Z",
          "start_time": "2019-08-24T11:17:21.621408Z"
        },
        "id": "4tjRrlA0rdpm",
        "colab": {
          "base_uri": "https://localhost:8080/",
          "height": 195
        },
        "outputId": "b0c93384-a2ba-418c-c039-45de8f43c982"
      }
    },
    {
      "cell_type": "code",
      "execution_count": null,
      "source": [
        "top_k_distances, top_k_users = neighbors.kneighbors(ratings_train, return_distance=True)\n",
        "top_k_distances.shape"
      ],
      "outputs": [
        {
          "output_type": "execute_result",
          "data": {
            "text/plain": [
              "(24, 8)"
            ]
          },
          "metadata": {},
          "execution_count": 29
        }
      ],
      "metadata": {
        "ExecuteTime": {
          "end_time": "2019-08-24T11:17:21.653412Z",
          "start_time": "2019-08-24T11:17:21.639928Z"
        },
        "id": "bVBHlj6grdpn",
        "outputId": "39d97a91-a12e-4072-ecd7-23e3986c893c"
      }
    },
    {
      "cell_type": "code",
      "execution_count": null,
      "source": [
        "top_k_distances[usuario_ver]"
      ],
      "outputs": [
        {
          "output_type": "execute_result",
          "data": {
            "text/plain": [
              "array([ 0.        ,  7.87400787,  8.66025404,  8.83176087,  9.2736185 ,\n",
              "       10.24695077, 10.63014581, 10.95445115])"
            ]
          },
          "metadata": {},
          "execution_count": 30
        }
      ],
      "metadata": {
        "ExecuteTime": {
          "end_time": "2019-08-24T11:17:21.664383Z",
          "start_time": "2019-08-24T11:17:21.656625Z"
        },
        "id": "j2BbBhAyrdpo",
        "outputId": "6a0b3761-c2f6-4ce1-ab67-96f817e14398"
      }
    },
    {
      "cell_type": "code",
      "execution_count": null,
      "source": [
        "top_k_users.shape"
      ],
      "outputs": [
        {
          "output_type": "execute_result",
          "data": {
            "text/plain": [
              "(24, 8)"
            ]
          },
          "metadata": {},
          "execution_count": 31
        }
      ],
      "metadata": {
        "ExecuteTime": {
          "end_time": "2019-08-24T11:17:21.678598Z",
          "start_time": "2019-08-24T11:17:21.668182Z"
        },
        "id": "DtXdzaQ-rdpo",
        "outputId": "647cb381-0041-442c-a8fb-c6584d2821ef"
      }
    },
    {
      "cell_type": "code",
      "execution_count": null,
      "source": [
        "res = top_k_users[usuario_ver]\n",
        "res"
      ],
      "outputs": [
        {
          "output_type": "execute_result",
          "data": {
            "text/plain": [
              "array([11,  8, 15, 12,  4,  5, 19,  1])"
            ]
          },
          "metadata": {},
          "execution_count": 32
        }
      ],
      "metadata": {
        "ExecuteTime": {
          "end_time": "2019-08-24T11:17:21.689376Z",
          "start_time": "2019-08-24T11:17:21.681953Z"
        },
        "id": "5e411Nyprdpq",
        "outputId": "fcd11e4e-9caa-470c-b4fb-3762aa5b80bb"
      }
    },
    {
      "cell_type": "code",
      "execution_count": null,
      "source": [
        "for a_index in res:\n",
        "    print(df_users[df_users['userId'] == (a_index+1)])"
      ],
      "outputs": [
        {
          "output_type": "stream",
          "name": "stdout",
          "text": [
            "    userId  username                  name\n",
            "11      12  jbagnato  Juan Ignacio Bagnato\n",
            "   userId      username         name\n",
            "8       9  camiloyate09  Camilo Yate\n",
            "    userId         username           name\n",
            "15      16  Armando115Tapia  Armando Tapia\n",
            "    userId         username                                name\n",
            "12      13  otromaximiliano  Lindolfo Maximiliano Ayala Aguirre\n",
            "   userId    username        name\n",
            "4       5  waflessnet  waflessnet\n",
            "   userId   username                name\n",
            "5       6  luisbalru  Luis Balderas Ruiz\n",
            "    userId    username               name\n",
            "19      20  diazandr3s  Andres Diaz-Pinto\n",
            "   userId     username   name\n",
            "1       2  dianaclarke  Diana\n"
          ]
        }
      ],
      "metadata": {
        "ExecuteTime": {
          "end_time": "2019-08-24T11:18:54.878119Z",
          "start_time": "2019-08-24T11:18:54.846499Z"
        },
        "id": "RDRmTfIhrdpr",
        "outputId": "d58159f6-d5a8-458c-cd62-92691db40bfb"
      }
    },
    {
      "cell_type": "code",
      "execution_count": null,
      "source": [
        "users_predicts_k = np.zeros(ratings_train.shape)\n",
        "for i in range(ratings_train.shape[0]):# para cada usuario del conjunto de entrenamiento\n",
        "    users_predicts_k[i,:] = top_k_distances[i].T.dot(ratings_train[top_k_users][i]) / np.array([np.abs(top_k_distances[i].T).sum(axis=0)]).T"
      ],
      "outputs": [],
      "metadata": {
        "ExecuteTime": {
          "end_time": "2019-08-24T11:17:21.775667Z",
          "start_time": "2019-08-24T11:17:21.766733Z"
        },
        "id": "qnbufzg1rdpr"
      }
    },
    {
      "cell_type": "code",
      "execution_count": null,
      "source": [
        "users_predicts_k.shape"
      ],
      "outputs": [
        {
          "output_type": "execute_result",
          "data": {
            "text/plain": [
              "(24, 167)"
            ]
          },
          "metadata": {},
          "execution_count": 36
        }
      ],
      "metadata": {
        "ExecuteTime": {
          "end_time": "2019-08-24T11:17:21.789460Z",
          "start_time": "2019-08-24T11:17:21.782373Z"
        },
        "id": "VzMMuQ7ardps",
        "outputId": "00b068fc-d5aa-4a94-d9a7-5147a0d25495"
      }
    },
    {
      "cell_type": "code",
      "execution_count": null,
      "source": [
        "plt.imshow(users_predicts_k);\n",
        "plt.colorbar()\n",
        "plt.show()"
      ],
      "outputs": [
        {
          "output_type": "display_data",
          "data": {
            "image/png": "[encoded data removed]",
            "text/plain": [
              "<Figure size 1440x360 with 2 Axes>"
            ]
          },
          "metadata": {}
        }
      ],
      "metadata": {
        "ExecuteTime": {
          "end_time": "2019-08-24T11:17:22.186864Z",
          "start_time": "2019-08-24T11:17:21.792814Z"
        },
        "id": "ySSfInDvrdps",
        "outputId": "cb3e90f2-c9a8-4cf1-c818-adc229b1d25b"
      }
    },
    {
      "cell_type": "code",
      "execution_count": null,
      "source": [
        "user0=users_predicts_k.argsort()[usuario_ver][-4:]\n",
        "# los tres con mayor puntaje en la predic para este usuario\n",
        "# agrego 4 puesto que uno es mi propio repositorio\n",
        "for aRepo in user0:\n",
        "    selRepo = df_repos[df_repos['repoId'] == (aRepo+1)]\n",
        "    print(selRepo['title'], 'puntaje:', users_predicts_k[usuario_ver][aRepo])"
      ],
      "outputs": [
        {
          "output_type": "stream",
          "name": "stdout",
          "text": [
            "3    torvalds / linux\n",
            "Name: title, dtype: object puntaje: 0.6975667679985449\n",
            "31    freeCodeCamp / freeCodeCamp\n",
            "Name: title, dtype: object puntaje: 0.9595266134630276\n",
            "61    jbagnato / machine-learning\n",
            "Name: title, dtype: object puntaje: 1.0790939117855096\n",
            "13    python / cpython\n",
            "Name: title, dtype: object puntaje: 1.3183999040179721\n"
          ]
        }
      ],
      "metadata": {
        "ExecuteTime": {
          "end_time": "2019-08-24T11:17:22.217999Z",
          "start_time": "2019-08-24T11:17:22.190216Z"
        },
        "id": "_TJ7sINerdpt",
        "outputId": "d2113159-bca5-4623-89d2-9360e322217c"
      }
    },
    {
      "cell_type": "code",
      "execution_count": null,
      "source": [
        "get_mse(users_predicts_k, ratings_train)"
      ],
      "outputs": [
        {
          "output_type": "execute_result",
          "data": {
            "text/plain": [
              "8.124686270208018"
            ]
          },
          "metadata": {},
          "execution_count": 39
        }
      ],
      "metadata": {
        "ExecuteTime": {
          "end_time": "2019-08-24T11:17:22.231642Z",
          "start_time": "2019-08-24T11:17:22.221631Z"
        },
        "id": "PwBKSEjUrdpu",
        "outputId": "dd1f06df-0364-43b0-d5cb-48e6d45bba07"
      }
    },
    {
      "cell_type": "code",
      "execution_count": null,
      "source": [
        "get_mse(users_predicts_k, ratings_test)"
      ],
      "outputs": [
        {
          "output_type": "execute_result",
          "data": {
            "text/plain": [
              "13.755121956634824"
            ]
          },
          "metadata": {},
          "execution_count": 40
        }
      ],
      "metadata": {
        "ExecuteTime": {
          "end_time": "2019-08-24T11:17:22.247970Z",
          "start_time": "2019-08-24T11:17:22.237464Z"
        },
        "id": "UGFFYs5Trdpv",
        "outputId": "51266390-cc11-41fd-e19f-a27a3a04c45d"
      }
    },
    {
      "cell_type": "markdown",
      "source": [
        "# Método 3: Collaborative Filtering Basado en Items"
      ],
      "metadata": {
        "id": "Yly-J8TVrdpw"
      }
    },
    {
      "cell_type": "code",
      "execution_count": null,
      "source": [
        "#basado en items\n",
        "n_repos = ratings_train.shape[1]\n",
        "n_repos"
      ],
      "outputs": [
        {
          "output_type": "execute_result",
          "data": {
            "text/plain": [
              "167"
            ]
          },
          "metadata": {},
          "execution_count": 41
        }
      ],
      "metadata": {
        "ExecuteTime": {
          "end_time": "2019-08-24T11:17:22.261199Z",
          "start_time": "2019-08-24T11:17:22.254134Z"
        },
        "id": "mNJchFknrdpx",
        "outputId": "ad7ce189-0c5d-4759-c39d-ca88aa011d52"
      }
    },
    {
      "cell_type": "code",
      "execution_count": null,
      "source": [
        "neighbors = NearestNeighbors(n_repos, 'cosine')\n",
        "neighbors.fit(ratings_train.T)"
      ],
      "outputs": [
        {
          "output_type": "execute_result",
          "data": {
            "text/plain": [
              "NearestNeighbors(algorithm='auto', leaf_size=30, metric='minkowski',\n",
              "                 metric_params=None, n_jobs=None, n_neighbors=167, p=2,\n",
              "                 radius='cosine')"
            ]
          },
          "metadata": {},
          "execution_count": 42
        }
      ],
      "metadata": {
        "ExecuteTime": {
          "end_time": "2019-08-24T11:17:22.275236Z",
          "start_time": "2019-08-24T11:17:22.265225Z"
        },
        "id": "GAkBsA90rdpx",
        "outputId": "9e1a5f48-1842-4bce-94fc-b5b7e6f682a0"
      }
    },
    {
      "cell_type": "code",
      "execution_count": null,
      "source": [
        "top_k_distances, top_k_items = neighbors.kneighbors(ratings_train.T, return_distance=True)\n",
        "top_k_distances.shape"
      ],
      "outputs": [
        {
          "output_type": "execute_result",
          "data": {
            "text/plain": [
              "(167, 167)"
            ]
          },
          "metadata": {},
          "execution_count": 43
        }
      ],
      "metadata": {
        "ExecuteTime": {
          "end_time": "2019-08-24T11:17:22.293004Z",
          "start_time": "2019-08-24T11:17:22.278397Z"
        },
        "id": "ylXQfK5urdpy",
        "outputId": "8abca2f7-44ea-4e28-af71-770c7831ebe5"
      }
    },
    {
      "cell_type": "code",
      "execution_count": null,
      "source": [
        "top_k_items"
      ],
      "outputs": [
        {
          "output_type": "execute_result",
          "data": {
            "text/plain": [
              "array([[  0,  15,  18, ...,  62,  13,  61],\n",
              "       [  1, 144, 151, ...,  62,  13,  61],\n",
              "       [  2,   0,  18, ...,  62,  13,  61],\n",
              "       ...,\n",
              "       [164, 163, 162, ...,  62,  61,  13],\n",
              "       [164, 163, 162, ...,  62,  61,  13],\n",
              "       [164, 163, 162, ...,  62,  61,  13]])"
            ]
          },
          "metadata": {},
          "execution_count": 44
        }
      ],
      "metadata": {
        "ExecuteTime": {
          "end_time": "2019-08-24T11:17:22.304552Z",
          "start_time": "2019-08-24T11:17:22.296780Z"
        },
        "id": "T1w0zoGnrdpz",
        "outputId": "79a51054-a8b9-4863-fb55-c3110631770c"
      }
    },
    {
      "cell_type": "code",
      "execution_count": null,
      "source": [
        "data = df_repos[df_repos['title'] == 'jbagnato / machine-learning']\n",
        "repo_ver = data.iloc[0]['repoId'] -1\n",
        "#print(repo_ver)"
      ],
      "outputs": [],
      "metadata": {
        "ExecuteTime": {
          "end_time": "2019-08-24T11:17:22.319143Z",
          "start_time": "2019-08-24T11:17:22.308189Z"
        },
        "id": "LKuNe_G_rdp0"
      }
    },
    {
      "cell_type": "code",
      "execution_count": null,
      "source": [
        "df_repos[df_repos['repoId'].isin([repo_ver+1])]"
      ],
      "outputs": [
        {
          "output_type": "execute_result",
          "data": {
            "text/html": [
              "<div>\n",
              "<style scoped>\n",
              "    .dataframe tbody tr th:only-of-type {\n",
              "        vertical-align: middle;\n",
              "    }\n",
              "\n",
              "    .dataframe tbody tr th {\n",
              "        vertical-align: top;\n",
              "    }\n",
              "\n",
              "    .dataframe thead th {\n",
              "        text-align: right;\n",
              "    }\n",
              "</style>\n",
              "<table border=\"1\" class=\"dataframe\">\n",
              "  <thead>\n",
              "    <tr style=\"text-align: right;\">\n",
              "      <th></th>\n",
              "      <th>repoId</th>\n",
              "      <th>title</th>\n",
              "      <th>categories</th>\n",
              "      <th>stars</th>\n",
              "    </tr>\n",
              "  </thead>\n",
              "  <tbody>\n",
              "    <tr>\n",
              "      <th>61</th>\n",
              "      <td>62</td>\n",
              "      <td>jbagnato / machine-learning</td>\n",
              "      <td>Código Python, Jupyter Notebooks, archivos csv...</td>\n",
              "      <td>48.0</td>\n",
              "    </tr>\n",
              "  </tbody>\n",
              "</table>\n",
              "</div>"
            ],
            "text/plain": [
              "    repoId                        title  \\\n",
              "61      62  jbagnato / machine-learning   \n",
              "\n",
              "                                           categories  stars  \n",
              "61  Código Python, Jupyter Notebooks, archivos csv...   48.0  "
            ]
          },
          "metadata": {},
          "execution_count": 46
        }
      ],
      "metadata": {
        "ExecuteTime": {
          "end_time": "2019-08-24T11:17:22.341692Z",
          "start_time": "2019-08-24T11:17:22.322893Z"
        },
        "id": "itvh1IBCrdp0",
        "outputId": "e08914b0-385a-45a0-fce1-cb355a213f80"
      }
    },
    {
      "cell_type": "code",
      "execution_count": null,
      "source": [
        "item_preds = ratings_train.dot(top_k_distances) / np.array([np.abs(top_k_distances).sum(axis=1)])"
      ],
      "outputs": [],
      "metadata": {
        "ExecuteTime": {
          "end_time": "2019-08-24T11:17:22.350637Z",
          "start_time": "2019-08-24T11:17:22.345468Z"
        },
        "id": "vjcbTqRsrdp1"
      }
    },
    {
      "cell_type": "code",
      "execution_count": null,
      "source": [
        "plt.imshow(item_preds);\n",
        "plt.colorbar()\n",
        "plt.show()"
      ],
      "outputs": [
        {
          "output_type": "display_data",
          "data": {
            "image/png": "[encoded data removed]",
            "text/plain": [
              "<Figure size 1440x360 with 2 Axes>"
            ]
          },
          "metadata": {}
        }
      ],
      "metadata": {
        "ExecuteTime": {
          "end_time": "2019-08-24T11:17:22.860116Z",
          "start_time": "2019-08-24T11:17:22.353627Z"
        },
        "id": "dDdWlamrrdp1",
        "outputId": "848e4078-5cb3-4ea6-a68e-0c67a883a74d"
      }
    },
    {
      "cell_type": "code",
      "execution_count": null,
      "source": [
        "user0=item_preds.argsort()[usuario_ver]\n",
        "user0\n",
        "\n",
        "# los tres con mayor puntaje en la predic para este usuario\n",
        "for aRepo in user0[-3:]:\n",
        "    selRepo = df_repos[df_repos['repoId']==(aRepo+1)]\n",
        "    print(selRepo['title'], 'puntaje:', item_preds[usuario_ver][aRepo])"
      ],
      "outputs": [
        {
          "output_type": "stream",
          "name": "stdout",
          "text": [
            "164    nodejs / node\n",
            "Name: title, dtype: object puntaje: 0.7915561710178032\n",
            "165    OWASP / CheatSheetSeries\n",
            "Name: title, dtype: object puntaje: 0.836463821866165\n",
            "166    explosion / spaCy\n",
            "Name: title, dtype: object puntaje: 0.8728575365246009\n"
          ]
        }
      ],
      "metadata": {
        "ExecuteTime": {
          "end_time": "2019-08-24T11:17:22.886744Z",
          "start_time": "2019-08-24T11:17:22.868897Z"
        },
        "id": "bLGjOC2rrdp2",
        "outputId": "b870a160-eb79-49f2-83be-52653bf7d164"
      }
    },
    {
      "cell_type": "code",
      "execution_count": null,
      "source": [
        "get_mse(item_preds, ratings_train)"
      ],
      "outputs": [
        {
          "output_type": "execute_result",
          "data": {
            "text/plain": [
              "10.03834337791184"
            ]
          },
          "metadata": {},
          "execution_count": 50
        }
      ],
      "metadata": {
        "ExecuteTime": {
          "end_time": "2019-08-24T11:17:22.903769Z",
          "start_time": "2019-08-24T11:17:22.893219Z"
        },
        "id": "J8V1D9RJrdp2",
        "outputId": "bc34cf34-10aa-4ef4-b194-619901e9e8ae"
      }
    },
    {
      "cell_type": "code",
      "execution_count": null,
      "source": [
        "get_mse(item_preds, ratings_test)"
      ],
      "outputs": [
        {
          "output_type": "execute_result",
          "data": {
            "text/plain": [
              "13.482774653471974"
            ]
          },
          "metadata": {},
          "execution_count": 51
        }
      ],
      "metadata": {
        "ExecuteTime": {
          "end_time": "2019-08-24T11:17:22.914196Z",
          "start_time": "2019-08-24T11:17:22.906636Z"
        },
        "id": "pPR_oHaJrdp3",
        "outputId": "554c9aee-ccc5-44e3-fa6e-d14e8f61dcb7"
      }
    },
    {
      "cell_type": "markdown",
      "source": [
        "# Método 4: recomendacion por Correlacion "
      ],
      "metadata": {
        "id": "O0tKDn7zrdp3"
      }
    },
    {
      "cell_type": "code",
      "execution_count": null,
      "source": [
        "average_rating = pd.DataFrame(df_ratings.groupby('repoId')['rating'].mean())\n",
        "average_rating['ratingCount'] = pd.DataFrame(df_ratings.groupby('repoId')['rating'].count())\n",
        "average_rating.sort_values('ratingCount', ascending=False).head()\n",
        "\n",
        "mi_repo_ratings = df_matrix[62]\n",
        "similar_to_mine = df_matrix.corrwith(mi_repo_ratings)\n",
        "corr_mine = pd.DataFrame(similar_to_mine, columns=['pearsonR'])\n",
        "corr_mine.dropna(inplace=True)\n",
        "corr_summary = corr_mine.join(average_rating['rating'])\n",
        "corr_summary[corr_summary['rating']>=1].sort_values('pearsonR', ascending=False).head(10)"
      ],
      "outputs": [
        {
          "output_type": "execute_result",
          "data": {
            "text/html": [
              "<div>\n",
              "<style scoped>\n",
              "    .dataframe tbody tr th:only-of-type {\n",
              "        vertical-align: middle;\n",
              "    }\n",
              "\n",
              "    .dataframe tbody tr th {\n",
              "        vertical-align: top;\n",
              "    }\n",
              "\n",
              "    .dataframe thead th {\n",
              "        text-align: right;\n",
              "    }\n",
              "</style>\n",
              "<table border=\"1\" class=\"dataframe\">\n",
              "  <thead>\n",
              "    <tr style=\"text-align: right;\">\n",
              "      <th></th>\n",
              "      <th>pearsonR</th>\n",
              "      <th>rating</th>\n",
              "    </tr>\n",
              "    <tr>\n",
              "      <th>repoId</th>\n",
              "      <th></th>\n",
              "      <th></th>\n",
              "    </tr>\n",
              "  </thead>\n",
              "  <tbody>\n",
              "    <tr>\n",
              "      <th>62</th>\n",
              "      <td>1.000000</td>\n",
              "      <td>7</td>\n",
              "    </tr>\n",
              "    <tr>\n",
              "      <th>87</th>\n",
              "      <td>0.341515</td>\n",
              "      <td>3</td>\n",
              "    </tr>\n",
              "    <tr>\n",
              "      <th>92</th>\n",
              "      <td>0.341515</td>\n",
              "      <td>3</td>\n",
              "    </tr>\n",
              "    <tr>\n",
              "      <th>95</th>\n",
              "      <td>0.341515</td>\n",
              "      <td>3</td>\n",
              "    </tr>\n",
              "    <tr>\n",
              "      <th>139</th>\n",
              "      <td>0.336601</td>\n",
              "      <td>1</td>\n",
              "    </tr>\n",
              "    <tr>\n",
              "      <th>138</th>\n",
              "      <td>0.336601</td>\n",
              "      <td>1</td>\n",
              "    </tr>\n",
              "    <tr>\n",
              "      <th>137</th>\n",
              "      <td>0.336601</td>\n",
              "      <td>1</td>\n",
              "    </tr>\n",
              "    <tr>\n",
              "      <th>140</th>\n",
              "      <td>0.336601</td>\n",
              "      <td>1</td>\n",
              "    </tr>\n",
              "    <tr>\n",
              "      <th>88</th>\n",
              "      <td>0.336601</td>\n",
              "      <td>1</td>\n",
              "    </tr>\n",
              "    <tr>\n",
              "      <th>67</th>\n",
              "      <td>0.336601</td>\n",
              "      <td>1</td>\n",
              "    </tr>\n",
              "  </tbody>\n",
              "</table>\n",
              "</div>"
            ],
            "text/plain": [
              "        pearsonR  rating\n",
              "repoId                  \n",
              "62      1.000000       7\n",
              "87      0.341515       3\n",
              "92      0.341515       3\n",
              "95      0.341515       3\n",
              "139     0.336601       1\n",
              "138     0.336601       1\n",
              "137     0.336601       1\n",
              "140     0.336601       1\n",
              "88      0.336601       1\n",
              "67      0.336601       1"
            ]
          },
          "metadata": {},
          "execution_count": 52
        }
      ],
      "metadata": {
        "ExecuteTime": {
          "end_time": "2019-08-24T11:17:23.018846Z",
          "start_time": "2019-08-24T11:17:22.917365Z"
        },
        "id": "JX_4av8brdp3",
        "outputId": "d35599b3-9827-4caa-c84a-395a5679263b"
      }
    },
    {
      "cell_type": "code",
      "execution_count": null,
      "source": [
        "# Veamos uno de los recomendados\n",
        "df_repos[df_repos['repoId'] == 92]"
      ],
      "outputs": [
        {
          "output_type": "execute_result",
          "data": {
            "text/html": [
              "<div>\n",
              "<style scoped>\n",
              "    .dataframe tbody tr th:only-of-type {\n",
              "        vertical-align: middle;\n",
              "    }\n",
              "\n",
              "    .dataframe tbody tr th {\n",
              "        vertical-align: top;\n",
              "    }\n",
              "\n",
              "    .dataframe thead th {\n",
              "        text-align: right;\n",
              "    }\n",
              "</style>\n",
              "<table border=\"1\" class=\"dataframe\">\n",
              "  <thead>\n",
              "    <tr style=\"text-align: right;\">\n",
              "      <th></th>\n",
              "      <th>repoId</th>\n",
              "      <th>title</th>\n",
              "      <th>categories</th>\n",
              "      <th>stars</th>\n",
              "    </tr>\n",
              "  </thead>\n",
              "  <tbody>\n",
              "    <tr>\n",
              "      <th>91</th>\n",
              "      <td>92</td>\n",
              "      <td>joanby / python-ml-course</td>\n",
              "      <td>Curso de Introducción a Machine Learning con P...</td>\n",
              "      <td>156.0</td>\n",
              "    </tr>\n",
              "  </tbody>\n",
              "</table>\n",
              "</div>"
            ],
            "text/plain": [
              "    repoId                      title  \\\n",
              "91      92  joanby / python-ml-course   \n",
              "\n",
              "                                           categories  stars  \n",
              "91  Curso de Introducción a Machine Learning con P...  156.0  "
            ]
          },
          "metadata": {},
          "execution_count": 53
        }
      ],
      "metadata": {
        "ExecuteTime": {
          "end_time": "2019-08-24T11:17:23.049417Z",
          "start_time": "2019-08-24T11:17:23.026199Z"
        },
        "id": "DFp08JHNrdp4",
        "outputId": "17b42319-fd26-462c-90ed-b2871928f711"
      }
    },
    {
      "cell_type": "markdown",
      "source": [
        "# Método 5: Repo mas popular -sin collaborative filtering-"
      ],
      "metadata": {
        "id": "BL7NIqT-rdp4"
      }
    },
    {
      "cell_type": "markdown",
      "source": [
        "Esta es la manera básica y sin uso de machine learning de ofrecer recomendaciones. <br>\n",
        "estas no serán personalizadas, serán iguales para cualquier usuario"
      ],
      "metadata": {
        "id": "DVH8BeT6rdp4"
      }
    },
    {
      "cell_type": "code",
      "execution_count": null,
      "source": [
        "popular_repo = df_repos[['title','stars']].groupby('stars').sum().reset_index()\n",
        "popular_repo_top_20 = popular_repo.sort_values('stars', ascending=False).head(n=10)\n",
        "\n",
        "plt.rcdefaults()\n",
        " \n",
        "objects = (list(popular_repo_top_20['title']))\n",
        "y_pos = np.arange(len(objects))\n",
        "performance = list(popular_repo_top_20['stars'])\n",
        " \n",
        "plt.bar(y_pos, performance, align='center', alpha=0.5)\n",
        "plt.xticks(y_pos, objects, rotation='vertical')\n",
        "plt.ylabel('Stars count')\n",
        "plt.title('Most popular repo')\n",
        " \n",
        "plt.show()"
      ],
      "outputs": [
        {
          "output_type": "display_data",
          "data": {
            "image/png": "[encoded data removed]",
            "text/plain": [
              "<Figure size 640x480 with 1 Axes>"
            ]
          },
          "metadata": {}
        }
      ],
      "metadata": {
        "ExecuteTime": {
          "end_time": "2019-08-24T11:17:23.407502Z",
          "start_time": "2019-08-24T11:17:23.052803Z"
        },
        "id": "qLIA-lfkrdp4",
        "outputId": "daed8d95-1fff-4f1c-cde5-50443738cff2"
      }
    },
    {
      "cell_type": "code",
      "execution_count": null,
      "source": [],
      "outputs": [],
      "metadata": {
        "id": "-u_hC5g7rdp5"
      }
    }
  ]
}